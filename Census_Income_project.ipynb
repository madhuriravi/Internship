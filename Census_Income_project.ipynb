{
 "cells": [
  {
   "cell_type": "markdown",
   "id": "5414f0b3",
   "metadata": {},
   "source": [
    "# CENSUS_INCOME_PROJECT"
   ]
  },
  {
   "cell_type": "code",
   "execution_count": 1,
   "id": "11402ec9",
   "metadata": {},
   "outputs": [],
   "source": [
    "import pandas as pd \n",
    "import numpy as np\n",
    "import matplotlib.pyplot as plt\n",
    "import seaborn as sns\n",
    "import warnings\n",
    "warnings.filterwarnings(\"ignore\")"
   ]
  },
  {
   "cell_type": "markdown",
   "id": "8a7a6734",
   "metadata": {},
   "source": [
    "Project Description:"
   ]
  },
  {
   "cell_type": "markdown",
   "id": "2569f735",
   "metadata": {},
   "source": [
    "This data was extracted from the 1994 Census bureau database by Ronny Kohavi and Barry Becker (Data Mining and Visualization, Silicon Graphics). A set of reasonably clean records was extracted using the following conditions: ((AAGE>16) && (AGI>100) && (AFNLWGT>1) && (HRSWK>0)). The prediction task is to determine whether a person makes over $50K a year."
   ]
  },
  {
   "cell_type": "markdown",
   "id": "e1b40493",
   "metadata": {},
   "source": [
    "Description of fnlwgt (final weight)\n",
    "\n",
    "The weights on the Current Population Survey (CPS) files are controlled to independent estimates of the civilian non-institutional population of the US. These are prepared monthly for us by Population Division here at the Census Bureau. We use 3 sets of controls. These are:\n",
    "\n",
    "1.A single cell estimate of the population 16+ for each state.\n",
    "\n",
    "2.Controls for Hispanic Origin by age and sex.\n",
    "\n",
    "3.Controls by Race, age and sex.\n",
    "\n",
    "We use all three sets of controls in our weighting program and \"rake\" through them 6 times so that by the end we come back to all the controls we used. The term estimate refers to population totals derived from CPS by creating \"weighted tallies\" of any specified socio-economic characteristics of the population. People with similar demographic characteristics should have similar weights. There is one important caveat to remember about this statement. That is that since the CPS sample is actually a collection of 51 state samples, each with its own probability of selection, the statement only applies within state.\n"
   ]
  },
  {
   "cell_type": "markdown",
   "id": "cb567bcb",
   "metadata": {},
   "source": [
    "Importing Dataset:"
   ]
  },
  {
   "cell_type": "code",
   "execution_count": 2,
   "id": "048b395a",
   "metadata": {},
   "outputs": [
    {
     "data": {
      "text/html": [
       "<div>\n",
       "<style scoped>\n",
       "    .dataframe tbody tr th:only-of-type {\n",
       "        vertical-align: middle;\n",
       "    }\n",
       "\n",
       "    .dataframe tbody tr th {\n",
       "        vertical-align: top;\n",
       "    }\n",
       "\n",
       "    .dataframe thead th {\n",
       "        text-align: right;\n",
       "    }\n",
       "</style>\n",
       "<table border=\"1\" class=\"dataframe\">\n",
       "  <thead>\n",
       "    <tr style=\"text-align: right;\">\n",
       "      <th></th>\n",
       "      <th>Age</th>\n",
       "      <th>Workclass</th>\n",
       "      <th>Fnlwgt</th>\n",
       "      <th>Education</th>\n",
       "      <th>Education_num</th>\n",
       "      <th>Marital_status</th>\n",
       "      <th>Occupation</th>\n",
       "      <th>Relationship</th>\n",
       "      <th>Race</th>\n",
       "      <th>Sex</th>\n",
       "      <th>Capital_gain</th>\n",
       "      <th>Capital_loss</th>\n",
       "      <th>Hours_per_week</th>\n",
       "      <th>Native_country</th>\n",
       "      <th>Income</th>\n",
       "    </tr>\n",
       "  </thead>\n",
       "  <tbody>\n",
       "    <tr>\n",
       "      <th>0</th>\n",
       "      <td>50</td>\n",
       "      <td>Self-emp-not-inc</td>\n",
       "      <td>83311</td>\n",
       "      <td>Bachelors</td>\n",
       "      <td>13</td>\n",
       "      <td>Married-civ-spouse</td>\n",
       "      <td>Exec-managerial</td>\n",
       "      <td>Husband</td>\n",
       "      <td>White</td>\n",
       "      <td>Male</td>\n",
       "      <td>0</td>\n",
       "      <td>0</td>\n",
       "      <td>13</td>\n",
       "      <td>United-States</td>\n",
       "      <td>&lt;=50K</td>\n",
       "    </tr>\n",
       "    <tr>\n",
       "      <th>1</th>\n",
       "      <td>38</td>\n",
       "      <td>Private</td>\n",
       "      <td>215646</td>\n",
       "      <td>HS-grad</td>\n",
       "      <td>9</td>\n",
       "      <td>Divorced</td>\n",
       "      <td>Handlers-cleaners</td>\n",
       "      <td>Not-in-family</td>\n",
       "      <td>White</td>\n",
       "      <td>Male</td>\n",
       "      <td>0</td>\n",
       "      <td>0</td>\n",
       "      <td>40</td>\n",
       "      <td>United-States</td>\n",
       "      <td>&lt;=50K</td>\n",
       "    </tr>\n",
       "    <tr>\n",
       "      <th>2</th>\n",
       "      <td>53</td>\n",
       "      <td>Private</td>\n",
       "      <td>234721</td>\n",
       "      <td>11th</td>\n",
       "      <td>7</td>\n",
       "      <td>Married-civ-spouse</td>\n",
       "      <td>Handlers-cleaners</td>\n",
       "      <td>Husband</td>\n",
       "      <td>Black</td>\n",
       "      <td>Male</td>\n",
       "      <td>0</td>\n",
       "      <td>0</td>\n",
       "      <td>40</td>\n",
       "      <td>United-States</td>\n",
       "      <td>&lt;=50K</td>\n",
       "    </tr>\n",
       "    <tr>\n",
       "      <th>3</th>\n",
       "      <td>28</td>\n",
       "      <td>Private</td>\n",
       "      <td>338409</td>\n",
       "      <td>Bachelors</td>\n",
       "      <td>13</td>\n",
       "      <td>Married-civ-spouse</td>\n",
       "      <td>Prof-specialty</td>\n",
       "      <td>Wife</td>\n",
       "      <td>Black</td>\n",
       "      <td>Female</td>\n",
       "      <td>0</td>\n",
       "      <td>0</td>\n",
       "      <td>40</td>\n",
       "      <td>Cuba</td>\n",
       "      <td>&lt;=50K</td>\n",
       "    </tr>\n",
       "    <tr>\n",
       "      <th>4</th>\n",
       "      <td>37</td>\n",
       "      <td>Private</td>\n",
       "      <td>284582</td>\n",
       "      <td>Masters</td>\n",
       "      <td>14</td>\n",
       "      <td>Married-civ-spouse</td>\n",
       "      <td>Exec-managerial</td>\n",
       "      <td>Wife</td>\n",
       "      <td>White</td>\n",
       "      <td>Female</td>\n",
       "      <td>0</td>\n",
       "      <td>0</td>\n",
       "      <td>40</td>\n",
       "      <td>United-States</td>\n",
       "      <td>&lt;=50K</td>\n",
       "    </tr>\n",
       "    <tr>\n",
       "      <th>...</th>\n",
       "      <td>...</td>\n",
       "      <td>...</td>\n",
       "      <td>...</td>\n",
       "      <td>...</td>\n",
       "      <td>...</td>\n",
       "      <td>...</td>\n",
       "      <td>...</td>\n",
       "      <td>...</td>\n",
       "      <td>...</td>\n",
       "      <td>...</td>\n",
       "      <td>...</td>\n",
       "      <td>...</td>\n",
       "      <td>...</td>\n",
       "      <td>...</td>\n",
       "      <td>...</td>\n",
       "    </tr>\n",
       "    <tr>\n",
       "      <th>32555</th>\n",
       "      <td>27</td>\n",
       "      <td>Private</td>\n",
       "      <td>257302</td>\n",
       "      <td>Assoc-acdm</td>\n",
       "      <td>12</td>\n",
       "      <td>Married-civ-spouse</td>\n",
       "      <td>Tech-support</td>\n",
       "      <td>Wife</td>\n",
       "      <td>White</td>\n",
       "      <td>Female</td>\n",
       "      <td>0</td>\n",
       "      <td>0</td>\n",
       "      <td>38</td>\n",
       "      <td>United-States</td>\n",
       "      <td>&lt;=50K</td>\n",
       "    </tr>\n",
       "    <tr>\n",
       "      <th>32556</th>\n",
       "      <td>40</td>\n",
       "      <td>Private</td>\n",
       "      <td>154374</td>\n",
       "      <td>HS-grad</td>\n",
       "      <td>9</td>\n",
       "      <td>Married-civ-spouse</td>\n",
       "      <td>Machine-op-inspct</td>\n",
       "      <td>Husband</td>\n",
       "      <td>White</td>\n",
       "      <td>Male</td>\n",
       "      <td>0</td>\n",
       "      <td>0</td>\n",
       "      <td>40</td>\n",
       "      <td>United-States</td>\n",
       "      <td>&gt;50K</td>\n",
       "    </tr>\n",
       "    <tr>\n",
       "      <th>32557</th>\n",
       "      <td>58</td>\n",
       "      <td>Private</td>\n",
       "      <td>151910</td>\n",
       "      <td>HS-grad</td>\n",
       "      <td>9</td>\n",
       "      <td>Widowed</td>\n",
       "      <td>Adm-clerical</td>\n",
       "      <td>Unmarried</td>\n",
       "      <td>White</td>\n",
       "      <td>Female</td>\n",
       "      <td>0</td>\n",
       "      <td>0</td>\n",
       "      <td>40</td>\n",
       "      <td>United-States</td>\n",
       "      <td>&lt;=50K</td>\n",
       "    </tr>\n",
       "    <tr>\n",
       "      <th>32558</th>\n",
       "      <td>22</td>\n",
       "      <td>Private</td>\n",
       "      <td>201490</td>\n",
       "      <td>HS-grad</td>\n",
       "      <td>9</td>\n",
       "      <td>Never-married</td>\n",
       "      <td>Adm-clerical</td>\n",
       "      <td>Own-child</td>\n",
       "      <td>White</td>\n",
       "      <td>Male</td>\n",
       "      <td>0</td>\n",
       "      <td>0</td>\n",
       "      <td>20</td>\n",
       "      <td>United-States</td>\n",
       "      <td>&lt;=50K</td>\n",
       "    </tr>\n",
       "    <tr>\n",
       "      <th>32559</th>\n",
       "      <td>52</td>\n",
       "      <td>Self-emp-inc</td>\n",
       "      <td>287927</td>\n",
       "      <td>HS-grad</td>\n",
       "      <td>9</td>\n",
       "      <td>Married-civ-spouse</td>\n",
       "      <td>Exec-managerial</td>\n",
       "      <td>Wife</td>\n",
       "      <td>White</td>\n",
       "      <td>Female</td>\n",
       "      <td>15024</td>\n",
       "      <td>0</td>\n",
       "      <td>40</td>\n",
       "      <td>United-States</td>\n",
       "      <td>&gt;50K</td>\n",
       "    </tr>\n",
       "  </tbody>\n",
       "</table>\n",
       "<p>32560 rows × 15 columns</p>\n",
       "</div>"
      ],
      "text/plain": [
       "       Age          Workclass  Fnlwgt    Education  Education_num  \\\n",
       "0       50   Self-emp-not-inc   83311    Bachelors             13   \n",
       "1       38            Private  215646      HS-grad              9   \n",
       "2       53            Private  234721         11th              7   \n",
       "3       28            Private  338409    Bachelors             13   \n",
       "4       37            Private  284582      Masters             14   \n",
       "...    ...                ...     ...          ...            ...   \n",
       "32555   27            Private  257302   Assoc-acdm             12   \n",
       "32556   40            Private  154374      HS-grad              9   \n",
       "32557   58            Private  151910      HS-grad              9   \n",
       "32558   22            Private  201490      HS-grad              9   \n",
       "32559   52       Self-emp-inc  287927      HS-grad              9   \n",
       "\n",
       "            Marital_status          Occupation    Relationship    Race  \\\n",
       "0       Married-civ-spouse     Exec-managerial         Husband   White   \n",
       "1                 Divorced   Handlers-cleaners   Not-in-family   White   \n",
       "2       Married-civ-spouse   Handlers-cleaners         Husband   Black   \n",
       "3       Married-civ-spouse      Prof-specialty            Wife   Black   \n",
       "4       Married-civ-spouse     Exec-managerial            Wife   White   \n",
       "...                    ...                 ...             ...     ...   \n",
       "32555   Married-civ-spouse        Tech-support            Wife   White   \n",
       "32556   Married-civ-spouse   Machine-op-inspct         Husband   White   \n",
       "32557              Widowed        Adm-clerical       Unmarried   White   \n",
       "32558        Never-married        Adm-clerical       Own-child   White   \n",
       "32559   Married-civ-spouse     Exec-managerial            Wife   White   \n",
       "\n",
       "           Sex  Capital_gain  Capital_loss  Hours_per_week  Native_country  \\\n",
       "0         Male             0             0              13   United-States   \n",
       "1         Male             0             0              40   United-States   \n",
       "2         Male             0             0              40   United-States   \n",
       "3       Female             0             0              40            Cuba   \n",
       "4       Female             0             0              40   United-States   \n",
       "...        ...           ...           ...             ...             ...   \n",
       "32555   Female             0             0              38   United-States   \n",
       "32556     Male             0             0              40   United-States   \n",
       "32557   Female             0             0              40   United-States   \n",
       "32558     Male             0             0              20   United-States   \n",
       "32559   Female         15024             0              40   United-States   \n",
       "\n",
       "       Income  \n",
       "0       <=50K  \n",
       "1       <=50K  \n",
       "2       <=50K  \n",
       "3       <=50K  \n",
       "4       <=50K  \n",
       "...       ...  \n",
       "32555   <=50K  \n",
       "32556    >50K  \n",
       "32557   <=50K  \n",
       "32558   <=50K  \n",
       "32559    >50K  \n",
       "\n",
       "[32560 rows x 15 columns]"
      ]
     },
     "execution_count": 2,
     "metadata": {},
     "output_type": "execute_result"
    }
   ],
   "source": [
    "df=pd.read_csv(\"https://raw.githubusercontent.com/dsrscientist/dataset1/master/census_income.csv\")\n",
    "df"
   ]
  },
  {
   "cell_type": "code",
   "execution_count": 4,
   "id": "babb5158",
   "metadata": {},
   "outputs": [
    {
     "data": {
      "text/html": [
       "<div>\n",
       "<style scoped>\n",
       "    .dataframe tbody tr th:only-of-type {\n",
       "        vertical-align: middle;\n",
       "    }\n",
       "\n",
       "    .dataframe tbody tr th {\n",
       "        vertical-align: top;\n",
       "    }\n",
       "\n",
       "    .dataframe thead th {\n",
       "        text-align: right;\n",
       "    }\n",
       "</style>\n",
       "<table border=\"1\" class=\"dataframe\">\n",
       "  <thead>\n",
       "    <tr style=\"text-align: right;\">\n",
       "      <th></th>\n",
       "      <th>Age</th>\n",
       "      <th>Workclass</th>\n",
       "      <th>Fnlwgt</th>\n",
       "      <th>Education</th>\n",
       "      <th>Education_num</th>\n",
       "      <th>Marital_status</th>\n",
       "      <th>Occupation</th>\n",
       "      <th>Relationship</th>\n",
       "      <th>Race</th>\n",
       "      <th>Sex</th>\n",
       "      <th>Capital_gain</th>\n",
       "      <th>Capital_loss</th>\n",
       "      <th>Hours_per_week</th>\n",
       "      <th>Native_country</th>\n",
       "      <th>Income</th>\n",
       "    </tr>\n",
       "  </thead>\n",
       "  <tbody>\n",
       "    <tr>\n",
       "      <th>0</th>\n",
       "      <td>50</td>\n",
       "      <td>Self-emp-not-inc</td>\n",
       "      <td>83311</td>\n",
       "      <td>Bachelors</td>\n",
       "      <td>13</td>\n",
       "      <td>Married-civ-spouse</td>\n",
       "      <td>Exec-managerial</td>\n",
       "      <td>Husband</td>\n",
       "      <td>White</td>\n",
       "      <td>Male</td>\n",
       "      <td>0</td>\n",
       "      <td>0</td>\n",
       "      <td>13</td>\n",
       "      <td>United-States</td>\n",
       "      <td>&lt;=50K</td>\n",
       "    </tr>\n",
       "    <tr>\n",
       "      <th>1</th>\n",
       "      <td>38</td>\n",
       "      <td>Private</td>\n",
       "      <td>215646</td>\n",
       "      <td>HS-grad</td>\n",
       "      <td>9</td>\n",
       "      <td>Divorced</td>\n",
       "      <td>Handlers-cleaners</td>\n",
       "      <td>Not-in-family</td>\n",
       "      <td>White</td>\n",
       "      <td>Male</td>\n",
       "      <td>0</td>\n",
       "      <td>0</td>\n",
       "      <td>40</td>\n",
       "      <td>United-States</td>\n",
       "      <td>&lt;=50K</td>\n",
       "    </tr>\n",
       "    <tr>\n",
       "      <th>2</th>\n",
       "      <td>53</td>\n",
       "      <td>Private</td>\n",
       "      <td>234721</td>\n",
       "      <td>11th</td>\n",
       "      <td>7</td>\n",
       "      <td>Married-civ-spouse</td>\n",
       "      <td>Handlers-cleaners</td>\n",
       "      <td>Husband</td>\n",
       "      <td>Black</td>\n",
       "      <td>Male</td>\n",
       "      <td>0</td>\n",
       "      <td>0</td>\n",
       "      <td>40</td>\n",
       "      <td>United-States</td>\n",
       "      <td>&lt;=50K</td>\n",
       "    </tr>\n",
       "    <tr>\n",
       "      <th>3</th>\n",
       "      <td>28</td>\n",
       "      <td>Private</td>\n",
       "      <td>338409</td>\n",
       "      <td>Bachelors</td>\n",
       "      <td>13</td>\n",
       "      <td>Married-civ-spouse</td>\n",
       "      <td>Prof-specialty</td>\n",
       "      <td>Wife</td>\n",
       "      <td>Black</td>\n",
       "      <td>Female</td>\n",
       "      <td>0</td>\n",
       "      <td>0</td>\n",
       "      <td>40</td>\n",
       "      <td>Cuba</td>\n",
       "      <td>&lt;=50K</td>\n",
       "    </tr>\n",
       "    <tr>\n",
       "      <th>4</th>\n",
       "      <td>37</td>\n",
       "      <td>Private</td>\n",
       "      <td>284582</td>\n",
       "      <td>Masters</td>\n",
       "      <td>14</td>\n",
       "      <td>Married-civ-spouse</td>\n",
       "      <td>Exec-managerial</td>\n",
       "      <td>Wife</td>\n",
       "      <td>White</td>\n",
       "      <td>Female</td>\n",
       "      <td>0</td>\n",
       "      <td>0</td>\n",
       "      <td>40</td>\n",
       "      <td>United-States</td>\n",
       "      <td>&lt;=50K</td>\n",
       "    </tr>\n",
       "  </tbody>\n",
       "</table>\n",
       "</div>"
      ],
      "text/plain": [
       "   Age          Workclass  Fnlwgt   Education  Education_num  \\\n",
       "0   50   Self-emp-not-inc   83311   Bachelors             13   \n",
       "1   38            Private  215646     HS-grad              9   \n",
       "2   53            Private  234721        11th              7   \n",
       "3   28            Private  338409   Bachelors             13   \n",
       "4   37            Private  284582     Masters             14   \n",
       "\n",
       "        Marital_status          Occupation    Relationship    Race      Sex  \\\n",
       "0   Married-civ-spouse     Exec-managerial         Husband   White     Male   \n",
       "1             Divorced   Handlers-cleaners   Not-in-family   White     Male   \n",
       "2   Married-civ-spouse   Handlers-cleaners         Husband   Black     Male   \n",
       "3   Married-civ-spouse      Prof-specialty            Wife   Black   Female   \n",
       "4   Married-civ-spouse     Exec-managerial            Wife   White   Female   \n",
       "\n",
       "   Capital_gain  Capital_loss  Hours_per_week  Native_country  Income  \n",
       "0             0             0              13   United-States   <=50K  \n",
       "1             0             0              40   United-States   <=50K  \n",
       "2             0             0              40   United-States   <=50K  \n",
       "3             0             0              40            Cuba   <=50K  \n",
       "4             0             0              40   United-States   <=50K  "
      ]
     },
     "execution_count": 4,
     "metadata": {},
     "output_type": "execute_result"
    }
   ],
   "source": [
    "df.head()"
   ]
  },
  {
   "cell_type": "code",
   "execution_count": 5,
   "id": "b3e329d8",
   "metadata": {},
   "outputs": [
    {
     "data": {
      "text/html": [
       "<div>\n",
       "<style scoped>\n",
       "    .dataframe tbody tr th:only-of-type {\n",
       "        vertical-align: middle;\n",
       "    }\n",
       "\n",
       "    .dataframe tbody tr th {\n",
       "        vertical-align: top;\n",
       "    }\n",
       "\n",
       "    .dataframe thead th {\n",
       "        text-align: right;\n",
       "    }\n",
       "</style>\n",
       "<table border=\"1\" class=\"dataframe\">\n",
       "  <thead>\n",
       "    <tr style=\"text-align: right;\">\n",
       "      <th></th>\n",
       "      <th>Age</th>\n",
       "      <th>Workclass</th>\n",
       "      <th>Fnlwgt</th>\n",
       "      <th>Education</th>\n",
       "      <th>Education_num</th>\n",
       "      <th>Marital_status</th>\n",
       "      <th>Occupation</th>\n",
       "      <th>Relationship</th>\n",
       "      <th>Race</th>\n",
       "      <th>Sex</th>\n",
       "      <th>Capital_gain</th>\n",
       "      <th>Capital_loss</th>\n",
       "      <th>Hours_per_week</th>\n",
       "      <th>Native_country</th>\n",
       "      <th>Income</th>\n",
       "    </tr>\n",
       "  </thead>\n",
       "  <tbody>\n",
       "    <tr>\n",
       "      <th>32555</th>\n",
       "      <td>27</td>\n",
       "      <td>Private</td>\n",
       "      <td>257302</td>\n",
       "      <td>Assoc-acdm</td>\n",
       "      <td>12</td>\n",
       "      <td>Married-civ-spouse</td>\n",
       "      <td>Tech-support</td>\n",
       "      <td>Wife</td>\n",
       "      <td>White</td>\n",
       "      <td>Female</td>\n",
       "      <td>0</td>\n",
       "      <td>0</td>\n",
       "      <td>38</td>\n",
       "      <td>United-States</td>\n",
       "      <td>&lt;=50K</td>\n",
       "    </tr>\n",
       "    <tr>\n",
       "      <th>32556</th>\n",
       "      <td>40</td>\n",
       "      <td>Private</td>\n",
       "      <td>154374</td>\n",
       "      <td>HS-grad</td>\n",
       "      <td>9</td>\n",
       "      <td>Married-civ-spouse</td>\n",
       "      <td>Machine-op-inspct</td>\n",
       "      <td>Husband</td>\n",
       "      <td>White</td>\n",
       "      <td>Male</td>\n",
       "      <td>0</td>\n",
       "      <td>0</td>\n",
       "      <td>40</td>\n",
       "      <td>United-States</td>\n",
       "      <td>&gt;50K</td>\n",
       "    </tr>\n",
       "    <tr>\n",
       "      <th>32557</th>\n",
       "      <td>58</td>\n",
       "      <td>Private</td>\n",
       "      <td>151910</td>\n",
       "      <td>HS-grad</td>\n",
       "      <td>9</td>\n",
       "      <td>Widowed</td>\n",
       "      <td>Adm-clerical</td>\n",
       "      <td>Unmarried</td>\n",
       "      <td>White</td>\n",
       "      <td>Female</td>\n",
       "      <td>0</td>\n",
       "      <td>0</td>\n",
       "      <td>40</td>\n",
       "      <td>United-States</td>\n",
       "      <td>&lt;=50K</td>\n",
       "    </tr>\n",
       "    <tr>\n",
       "      <th>32558</th>\n",
       "      <td>22</td>\n",
       "      <td>Private</td>\n",
       "      <td>201490</td>\n",
       "      <td>HS-grad</td>\n",
       "      <td>9</td>\n",
       "      <td>Never-married</td>\n",
       "      <td>Adm-clerical</td>\n",
       "      <td>Own-child</td>\n",
       "      <td>White</td>\n",
       "      <td>Male</td>\n",
       "      <td>0</td>\n",
       "      <td>0</td>\n",
       "      <td>20</td>\n",
       "      <td>United-States</td>\n",
       "      <td>&lt;=50K</td>\n",
       "    </tr>\n",
       "    <tr>\n",
       "      <th>32559</th>\n",
       "      <td>52</td>\n",
       "      <td>Self-emp-inc</td>\n",
       "      <td>287927</td>\n",
       "      <td>HS-grad</td>\n",
       "      <td>9</td>\n",
       "      <td>Married-civ-spouse</td>\n",
       "      <td>Exec-managerial</td>\n",
       "      <td>Wife</td>\n",
       "      <td>White</td>\n",
       "      <td>Female</td>\n",
       "      <td>15024</td>\n",
       "      <td>0</td>\n",
       "      <td>40</td>\n",
       "      <td>United-States</td>\n",
       "      <td>&gt;50K</td>\n",
       "    </tr>\n",
       "  </tbody>\n",
       "</table>\n",
       "</div>"
      ],
      "text/plain": [
       "       Age      Workclass  Fnlwgt    Education  Education_num  \\\n",
       "32555   27        Private  257302   Assoc-acdm             12   \n",
       "32556   40        Private  154374      HS-grad              9   \n",
       "32557   58        Private  151910      HS-grad              9   \n",
       "32558   22        Private  201490      HS-grad              9   \n",
       "32559   52   Self-emp-inc  287927      HS-grad              9   \n",
       "\n",
       "            Marital_status          Occupation Relationship    Race      Sex  \\\n",
       "32555   Married-civ-spouse        Tech-support         Wife   White   Female   \n",
       "32556   Married-civ-spouse   Machine-op-inspct      Husband   White     Male   \n",
       "32557              Widowed        Adm-clerical    Unmarried   White   Female   \n",
       "32558        Never-married        Adm-clerical    Own-child   White     Male   \n",
       "32559   Married-civ-spouse     Exec-managerial         Wife   White   Female   \n",
       "\n",
       "       Capital_gain  Capital_loss  Hours_per_week  Native_country  Income  \n",
       "32555             0             0              38   United-States   <=50K  \n",
       "32556             0             0              40   United-States    >50K  \n",
       "32557             0             0              40   United-States   <=50K  \n",
       "32558             0             0              20   United-States   <=50K  \n",
       "32559         15024             0              40   United-States    >50K  "
      ]
     },
     "execution_count": 5,
     "metadata": {},
     "output_type": "execute_result"
    }
   ],
   "source": [
    "df.tail()"
   ]
  },
  {
   "cell_type": "markdown",
   "id": "7288a4b2",
   "metadata": {},
   "source": [
    "Exploratory Data Analysis:"
   ]
  },
  {
   "cell_type": "code",
   "execution_count": 6,
   "id": "5367e353",
   "metadata": {},
   "outputs": [
    {
     "data": {
      "text/plain": [
       "(32560, 15)"
      ]
     },
     "execution_count": 6,
     "metadata": {},
     "output_type": "execute_result"
    }
   ],
   "source": [
    "df.shape"
   ]
  },
  {
   "cell_type": "markdown",
   "id": "3f186a8a",
   "metadata": {},
   "source": [
    "There  are 32560 rows and 15 columns present in the dataset."
   ]
  },
  {
   "cell_type": "code",
   "execution_count": 7,
   "id": "3978e555",
   "metadata": {},
   "outputs": [
    {
     "data": {
      "text/plain": [
       "Index(['Age', 'Workclass', 'Fnlwgt', 'Education', 'Education_num',\n",
       "       'Marital_status', 'Occupation', 'Relationship', 'Race', 'Sex',\n",
       "       'Capital_gain', 'Capital_loss', 'Hours_per_week', 'Native_country',\n",
       "       'Income'],\n",
       "      dtype='object')"
      ]
     },
     "execution_count": 7,
     "metadata": {},
     "output_type": "execute_result"
    }
   ],
   "source": [
    "df.columns"
   ]
  },
  {
   "cell_type": "markdown",
   "id": "3d293caa",
   "metadata": {},
   "source": [
    "These are the columns present in the dataset."
   ]
  },
  {
   "cell_type": "code",
   "execution_count": 3,
   "id": "cfc11ce4",
   "metadata": {},
   "outputs": [
    {
     "data": {
      "text/plain": [
       "0        False\n",
       "1        False\n",
       "2        False\n",
       "3        False\n",
       "4        False\n",
       "         ...  \n",
       "32555    False\n",
       "32556    False\n",
       "32557    False\n",
       "32558    False\n",
       "32559    False\n",
       "Length: 32560, dtype: bool"
      ]
     },
     "execution_count": 3,
     "metadata": {},
     "output_type": "execute_result"
    }
   ],
   "source": [
    "df.duplicated()"
   ]
  },
  {
   "cell_type": "code",
   "execution_count": 3,
   "id": "af51d48b",
   "metadata": {},
   "outputs": [
    {
     "data": {
      "text/plain": [
       "24"
      ]
     },
     "execution_count": 3,
     "metadata": {},
     "output_type": "execute_result"
    }
   ],
   "source": [
    "df.duplicated().sum()"
   ]
  },
  {
   "cell_type": "markdown",
   "id": "4df55acd",
   "metadata": {},
   "source": [
    "There are 24 duplicate rows present in the dataset."
   ]
  },
  {
   "cell_type": "code",
   "execution_count": 6,
   "id": "408b5d05",
   "metadata": {},
   "outputs": [
    {
     "data": {
      "text/plain": [
       "Age               0\n",
       "Workclass         0\n",
       "Fnlwgt            0\n",
       "Education         0\n",
       "Education_num     0\n",
       "Marital_status    0\n",
       "Occupation        0\n",
       "Relationship      0\n",
       "Race              0\n",
       "Sex               0\n",
       "Capital_gain      0\n",
       "Capital_loss      0\n",
       "Hours_per_week    0\n",
       "Native_country    0\n",
       "Income            0\n",
       "dtype: int64"
      ]
     },
     "execution_count": 6,
     "metadata": {},
     "output_type": "execute_result"
    }
   ],
   "source": [
    "df.isnull().sum()"
   ]
  },
  {
   "cell_type": "code",
   "execution_count": 7,
   "id": "82c22e35",
   "metadata": {},
   "outputs": [
    {
     "data": {
      "text/plain": [
       "<AxesSubplot:>"
      ]
     },
     "execution_count": 7,
     "metadata": {},
     "output_type": "execute_result"
    },
    {
     "data": {
      "image/png": "[encoded data removed]",
      "text/plain": [
       "<Figure size 432x288 with 2 Axes>"
      ]
     },
     "metadata": {
      "needs_background": "light"
     },
     "output_type": "display_data"
    }
   ],
   "source": [
    "#Let's check null values using heatmap\n",
    "sns.heatmap(df.isnull())"
   ]
  },
  {
   "cell_type": "code",
   "execution_count": 4,
   "id": "ab2c090e",
   "metadata": {},
   "outputs": [],
   "source": [
    "#Dropping the duplicate rows present in the dataset.\n",
    "df.drop_duplicates(inplace=True)"
   ]
  },
  {
   "cell_type": "code",
   "execution_count": 5,
   "id": "8ec4c375",
   "metadata": {},
   "outputs": [
    {
     "data": {
      "text/plain": [
       "0"
      ]
     },
     "execution_count": 5,
     "metadata": {},
     "output_type": "execute_result"
    }
   ],
   "source": [
    "df.duplicated().sum()"
   ]
  },
  {
   "cell_type": "markdown",
   "id": "d3527ebc",
   "metadata": {},
   "source": [
    "Now, we deleted the duplicate rows present in the dataset."
   ]
  },
  {
   "cell_type": "code",
   "execution_count": 6,
   "id": "608ab901",
   "metadata": {},
   "outputs": [
    {
     "data": {
      "text/plain": [
       "Age                int64\n",
       "Workclass         object\n",
       "Fnlwgt             int64\n",
       "Education         object\n",
       "Education_num      int64\n",
       "Marital_status    object\n",
       "Occupation        object\n",
       "Relationship      object\n",
       "Race              object\n",
       "Sex               object\n",
       "Capital_gain       int64\n",
       "Capital_loss       int64\n",
       "Hours_per_week     int64\n",
       "Native_country    object\n",
       "Income            object\n",
       "dtype: object"
      ]
     },
     "execution_count": 6,
     "metadata": {},
     "output_type": "execute_result"
    }
   ],
   "source": [
    "df.dtypes"
   ]
  },
  {
   "cell_type": "markdown",
   "id": "f231e43b",
   "metadata": {},
   "source": [
    "There are two types of data i.e., int64 and object present in the dataset."
   ]
  },
  {
   "cell_type": "code",
   "execution_count": 7,
   "id": "86a33035",
   "metadata": {},
   "outputs": [
    {
     "name": "stdout",
     "output_type": "stream",
     "text": [
      "<class 'pandas.core.frame.DataFrame'>\n",
      "Int64Index: 32536 entries, 0 to 32559\n",
      "Data columns (total 15 columns):\n",
      " #   Column          Non-Null Count  Dtype \n",
      "---  ------          --------------  ----- \n",
      " 0   Age             32536 non-null  int64 \n",
      " 1   Workclass       32536 non-null  object\n",
      " 2   Fnlwgt          32536 non-null  int64 \n",
      " 3   Education       32536 non-null  object\n",
      " 4   Education_num   32536 non-null  int64 \n",
      " 5   Marital_status  32536 non-null  object\n",
      " 6   Occupation      32536 non-null  object\n",
      " 7   Relationship    32536 non-null  object\n",
      " 8   Race            32536 non-null  object\n",
      " 9   Sex             32536 non-null  object\n",
      " 10  Capital_gain    32536 non-null  int64 \n",
      " 11  Capital_loss    32536 non-null  int64 \n",
      " 12  Hours_per_week  32536 non-null  int64 \n",
      " 13  Native_country  32536 non-null  object\n",
      " 14  Income          32536 non-null  object\n",
      "dtypes: int64(6), object(9)\n",
      "memory usage: 4.0+ MB\n"
     ]
    }
   ],
   "source": [
    "df.info()"
   ]
  },
  {
   "cell_type": "markdown",
   "id": "94436f43",
   "metadata": {},
   "source": [
    "This gives the brief information about the name of the columns, Non-null count , data types and its memory usage of the dataset."
   ]
  },
  {
   "cell_type": "code",
   "execution_count": 14,
   "id": "197ed57e",
   "metadata": {},
   "outputs": [
    {
     "data": {
      "text/plain": [
       "2"
      ]
     },
     "execution_count": 14,
     "metadata": {},
     "output_type": "execute_result"
    }
   ],
   "source": [
    "df[\"Income\"].nunique()"
   ]
  },
  {
   "cell_type": "markdown",
   "id": "4f26db89",
   "metadata": {},
   "source": [
    "There are two unique values present in this column."
   ]
  },
  {
   "cell_type": "code",
   "execution_count": 6,
   "id": "44974332",
   "metadata": {},
   "outputs": [
    {
     "name": "stdout",
     "output_type": "stream",
     "text": [
      "36    898\n",
      "31    888\n",
      "34    886\n",
      "23    876\n",
      "33    875\n",
      "     ... \n",
      "83      6\n",
      "88      3\n",
      "85      3\n",
      "86      1\n",
      "87      1\n",
      "Name: Age, Length: 73, dtype: int64\n",
      " Private             22673\n",
      " Self-emp-not-inc     2540\n",
      " Local-gov            2093\n",
      " ?                    1836\n",
      " State-gov            1297\n",
      " Self-emp-inc         1116\n",
      " Federal-gov           960\n",
      " Without-pay            14\n",
      " Never-worked            7\n",
      "Name: Workclass, dtype: int64\n",
      "123011    13\n",
      "164190    13\n",
      "203488    13\n",
      "121124    12\n",
      "126675    12\n",
      "          ..\n",
      "158040     1\n",
      "232784     1\n",
      "325573     1\n",
      "140176     1\n",
      "257302     1\n",
      "Name: Fnlwgt, Length: 21647, dtype: int64\n",
      " HS-grad         10494\n",
      " Some-college     7282\n",
      " Bachelors        5352\n",
      " Masters          1722\n",
      " Assoc-voc        1382\n",
      " 11th             1175\n",
      " Assoc-acdm       1067\n",
      " 10th              933\n",
      " 7th-8th           645\n",
      " Prof-school       576\n",
      " 9th               514\n",
      " 12th              433\n",
      " Doctorate         413\n",
      " 5th-6th           332\n",
      " 1st-4th           166\n",
      " Preschool          50\n",
      "Name: Education, dtype: int64\n",
      "9     10494\n",
      "10     7282\n",
      "13     5352\n",
      "14     1722\n",
      "11     1382\n",
      "7      1175\n",
      "12     1067\n",
      "6       933\n",
      "4       645\n",
      "15      576\n",
      "5       514\n",
      "8       433\n",
      "16      413\n",
      "3       332\n",
      "2       166\n",
      "1        50\n",
      "Name: Education_num, dtype: int64\n",
      " Married-civ-spouse       14970\n",
      " Never-married            10666\n",
      " Divorced                  4441\n",
      " Separated                 1025\n",
      " Widowed                    993\n",
      " Married-spouse-absent      418\n",
      " Married-AF-spouse           23\n",
      "Name: Marital_status, dtype: int64\n",
      " Prof-specialty       4136\n",
      " Craft-repair         4094\n",
      " Exec-managerial      4065\n",
      " Adm-clerical         3767\n",
      " Sales                3650\n",
      " Other-service        3291\n",
      " Machine-op-inspct    2000\n",
      " ?                    1843\n",
      " Transport-moving     1597\n",
      " Handlers-cleaners    1369\n",
      " Farming-fishing       992\n",
      " Tech-support          927\n",
      " Protective-serv       649\n",
      " Priv-house-serv       147\n",
      " Armed-Forces            9\n",
      "Name: Occupation, dtype: int64\n",
      " Husband           13187\n",
      " Not-in-family      8291\n",
      " Own-child          5064\n",
      " Unmarried          3445\n",
      " Wife               1568\n",
      " Other-relative      981\n",
      "Name: Relationship, dtype: int64\n",
      " White                 27794\n",
      " Black                  3122\n",
      " Asian-Pac-Islander     1038\n",
      " Amer-Indian-Eskimo      311\n",
      " Other                   271\n",
      "Name: Race, dtype: int64\n",
      " Male      21774\n",
      " Female    10762\n",
      "Name: Sex, dtype: int64\n",
      "0        29825\n",
      "15024      347\n",
      "7688       284\n",
      "7298       246\n",
      "99999      159\n",
      "         ...  \n",
      "1111         1\n",
      "2538         1\n",
      "22040        1\n",
      "4931         1\n",
      "5060         1\n",
      "Name: Capital_gain, Length: 119, dtype: int64\n",
      "0       31017\n",
      "1902      202\n",
      "1977      168\n",
      "1887      159\n",
      "1848       51\n",
      "        ...  \n",
      "2080        1\n",
      "1539        1\n",
      "1844        1\n",
      "2489        1\n",
      "1411        1\n",
      "Name: Capital_loss, Length: 92, dtype: int64\n",
      "40    15203\n",
      "50     2817\n",
      "45     1823\n",
      "60     1475\n",
      "35     1296\n",
      "      ...  \n",
      "82        1\n",
      "94        1\n",
      "92        1\n",
      "74        1\n",
      "87        1\n",
      "Name: Hours_per_week, Length: 94, dtype: int64\n",
      " United-States                 29152\n",
      " Mexico                          639\n",
      " ?                               582\n",
      " Philippines                     198\n",
      " Germany                         137\n",
      " Canada                          121\n",
      " Puerto-Rico                     114\n",
      " El-Salvador                     106\n",
      " India                           100\n",
      " Cuba                             95\n",
      " England                          90\n",
      " Jamaica                          81\n",
      " South                            80\n",
      " China                            75\n",
      " Italy                            73\n",
      " Dominican-Republic               70\n",
      " Vietnam                          67\n",
      " Japan                            62\n",
      " Guatemala                        62\n",
      " Poland                           60\n",
      " Columbia                         59\n",
      " Taiwan                           51\n",
      " Haiti                            44\n",
      " Iran                             43\n",
      " Portugal                         37\n",
      " Nicaragua                        34\n",
      " Peru                             31\n",
      " France                           29\n",
      " Greece                           29\n",
      " Ecuador                          28\n",
      " Ireland                          24\n",
      " Hong                             20\n",
      " Cambodia                         19\n",
      " Trinadad&Tobago                  19\n",
      " Laos                             18\n",
      " Thailand                         18\n",
      " Yugoslavia                       16\n",
      " Outlying-US(Guam-USVI-etc)       14\n",
      " Honduras                         13\n",
      " Hungary                          13\n",
      " Scotland                         12\n",
      " Holand-Netherlands                1\n",
      "Name: Native_country, dtype: int64\n",
      " <=50K    24697\n",
      " >50K      7839\n",
      "Name: Income, dtype: int64\n"
     ]
    }
   ],
   "source": [
    "for i in df.columns:\n",
    "    print(df[i].value_counts())"
   ]
  },
  {
   "cell_type": "markdown",
   "id": "183ff0dd",
   "metadata": {},
   "source": [
    "These are the value counts of all the columns present in the dataset.In Workclass column, 1836 column contains\"?\" and in Occupation column,1843 values contain \"?\" and in Native_country column,582 values contain \"?\"."
   ]
  },
  {
   "cell_type": "code",
   "execution_count": 7,
   "id": "aee88044",
   "metadata": {},
   "outputs": [
    {
     "data": {
      "text/plain": [
       " <=50K    24697\n",
       " >50K      7839\n",
       "Name: Income, dtype: int64"
      ]
     },
     "execution_count": 7,
     "metadata": {},
     "output_type": "execute_result"
    }
   ],
   "source": [
    "df[\"Income\"].value_counts()"
   ]
  },
  {
   "cell_type": "code",
   "execution_count": 8,
   "id": "48f6db40",
   "metadata": {},
   "outputs": [
    {
     "data": {
      "text/plain": [
       "9"
      ]
     },
     "execution_count": 8,
     "metadata": {},
     "output_type": "execute_result"
    }
   ],
   "source": [
    "df[\"Workclass\"].nunique()"
   ]
  },
  {
   "cell_type": "code",
   "execution_count": 31,
   "id": "b23f6f23",
   "metadata": {},
   "outputs": [
    {
     "data": {
      "text/plain": [
       " Private             22673\n",
       " Self-emp-not-inc     2540\n",
       " Local-gov            2093\n",
       " ?                    1836\n",
       " State-gov            1297\n",
       " Self-emp-inc         1116\n",
       " Federal-gov           960\n",
       " Without-pay            14\n",
       " Never-worked            7\n",
       "Name: Workclass, dtype: int64"
      ]
     },
     "execution_count": 31,
     "metadata": {},
     "output_type": "execute_result"
    }
   ],
   "source": [
    "df[\"Workclass\"].value_counts()"
   ]
  },
  {
   "cell_type": "code",
   "execution_count": 9,
   "id": "17a555ce",
   "metadata": {},
   "outputs": [],
   "source": [
    "df.replace(' ?', np.nan, inplace=True)"
   ]
  },
  {
   "cell_type": "code",
   "execution_count": 10,
   "id": "48380d6f",
   "metadata": {},
   "outputs": [
    {
     "data": {
      "text/plain": [
       " Private             22673\n",
       " Self-emp-not-inc     2540\n",
       " Local-gov            2093\n",
       " State-gov            1297\n",
       " Self-emp-inc         1116\n",
       " Federal-gov           960\n",
       " Without-pay            14\n",
       " Never-worked            7\n",
       "Name: Workclass, dtype: int64"
      ]
     },
     "execution_count": 10,
     "metadata": {},
     "output_type": "execute_result"
    }
   ],
   "source": [
    "df[\"Workclass\"].value_counts()"
   ]
  },
  {
   "cell_type": "code",
   "execution_count": 11,
   "id": "7049a8f8",
   "metadata": {},
   "outputs": [
    {
     "data": {
      "text/plain": [
       " Prof-specialty       4136\n",
       " Craft-repair         4094\n",
       " Exec-managerial      4065\n",
       " Adm-clerical         3767\n",
       " Sales                3650\n",
       " Other-service        3291\n",
       " Machine-op-inspct    2000\n",
       " Transport-moving     1597\n",
       " Handlers-cleaners    1369\n",
       " Farming-fishing       992\n",
       " Tech-support          927\n",
       " Protective-serv       649\n",
       " Priv-house-serv       147\n",
       " Armed-Forces            9\n",
       "Name: Occupation, dtype: int64"
      ]
     },
     "execution_count": 11,
     "metadata": {},
     "output_type": "execute_result"
    }
   ],
   "source": [
    "df[\"Occupation\"].value_counts()"
   ]
  },
  {
   "cell_type": "code",
   "execution_count": 13,
   "id": "704cde8e",
   "metadata": {},
   "outputs": [
    {
     "data": {
      "text/plain": [
       " United-States                 29152\n",
       " Mexico                          639\n",
       " Philippines                     198\n",
       " Germany                         137\n",
       " Canada                          121\n",
       " Puerto-Rico                     114\n",
       " El-Salvador                     106\n",
       " India                           100\n",
       " Cuba                             95\n",
       " England                          90\n",
       " Jamaica                          81\n",
       " South                            80\n",
       " China                            75\n",
       " Italy                            73\n",
       " Dominican-Republic               70\n",
       " Vietnam                          67\n",
       " Japan                            62\n",
       " Guatemala                        62\n",
       " Poland                           60\n",
       " Columbia                         59\n",
       " Taiwan                           51\n",
       " Haiti                            44\n",
       " Iran                             43\n",
       " Portugal                         37\n",
       " Nicaragua                        34\n",
       " Peru                             31\n",
       " France                           29\n",
       " Greece                           29\n",
       " Ecuador                          28\n",
       " Ireland                          24\n",
       " Hong                             20\n",
       " Cambodia                         19\n",
       " Trinadad&Tobago                  19\n",
       " Laos                             18\n",
       " Thailand                         18\n",
       " Yugoslavia                       16\n",
       " Outlying-US(Guam-USVI-etc)       14\n",
       " Honduras                         13\n",
       " Hungary                          13\n",
       " Scotland                         12\n",
       " Holand-Netherlands                1\n",
       "Name: Native_country, dtype: int64"
      ]
     },
     "execution_count": 13,
     "metadata": {},
     "output_type": "execute_result"
    }
   ],
   "source": [
    "df[\"Native_country\"].value_counts()"
   ]
  },
  {
   "cell_type": "code",
   "execution_count": 14,
   "id": "d78e1f77",
   "metadata": {},
   "outputs": [
    {
     "name": "stdout",
     "output_type": "stream",
     "text": [
      "<class 'pandas.core.frame.DataFrame'>\n",
      "Int64Index: 32536 entries, 0 to 32559\n",
      "Data columns (total 15 columns):\n",
      " #   Column          Non-Null Count  Dtype \n",
      "---  ------          --------------  ----- \n",
      " 0   Age             32536 non-null  int64 \n",
      " 1   Workclass       30700 non-null  object\n",
      " 2   Fnlwgt          32536 non-null  int64 \n",
      " 3   Education       32536 non-null  object\n",
      " 4   Education_num   32536 non-null  int64 \n",
      " 5   Marital_status  32536 non-null  object\n",
      " 6   Occupation      30693 non-null  object\n",
      " 7   Relationship    32536 non-null  object\n",
      " 8   Race            32536 non-null  object\n",
      " 9   Sex             32536 non-null  object\n",
      " 10  Capital_gain    32536 non-null  int64 \n",
      " 11  Capital_loss    32536 non-null  int64 \n",
      " 12  Hours_per_week  32536 non-null  int64 \n",
      " 13  Native_country  31954 non-null  object\n",
      " 14  Income          32536 non-null  object\n",
      "dtypes: int64(6), object(9)\n",
      "memory usage: 4.0+ MB\n"
     ]
    }
   ],
   "source": [
    "df.info()"
   ]
  },
  {
   "cell_type": "markdown",
   "id": "d7d4c660",
   "metadata": {},
   "source": [
    "Now there are nan values which are replaced by \"?\" values present in the dataset."
   ]
  },
  {
   "cell_type": "code",
   "execution_count": 49,
   "id": "c0e1dcfc",
   "metadata": {},
   "outputs": [
    {
     "data": {
      "text/plain": [
       "<AxesSubplot:>"
      ]
     },
     "execution_count": 49,
     "metadata": {},
     "output_type": "execute_result"
    },
    {
     "data": {
      "image/png": "[encoded data removed]",
      "text/plain": [
       "<Figure size 432x288 with 2 Axes>"
      ]
     },
     "metadata": {
      "needs_background": "light"
     },
     "output_type": "display_data"
    }
   ],
   "source": [
    "#Let's check the null values using heatmap.\n",
    "sns.heatmap(df.isnull())"
   ]
  },
  {
   "cell_type": "markdown",
   "id": "201a4dbc",
   "metadata": {},
   "source": [
    "Now we replaced the \"?\" values with nan values in the dataset.Now let us handle the nan values."
   ]
  },
  {
   "cell_type": "code",
   "execution_count": 12,
   "id": "e17c4cb8",
   "metadata": {},
   "outputs": [],
   "source": [
    "df[\"Workclass\"]=df[\"Workclass\"].fillna(method=\"ffill\")\n",
    "df[\"Occupation\"]=df[\"Occupation\"].fillna(method=\"ffill\")\n",
    "df[\"Native_country\"]=df[\"Native_country\"].fillna(method=\"ffill\")"
   ]
  },
  {
   "cell_type": "code",
   "execution_count": 13,
   "id": "cb1ff2d2",
   "metadata": {},
   "outputs": [
    {
     "data": {
      "text/plain": [
       "Age               0\n",
       "Workclass         0\n",
       "Fnlwgt            0\n",
       "Education         0\n",
       "Education_num     0\n",
       "Marital_status    0\n",
       "Occupation        0\n",
       "Relationship      0\n",
       "Race              0\n",
       "Sex               0\n",
       "Capital_gain      0\n",
       "Capital_loss      0\n",
       "Hours_per_week    0\n",
       "Native_country    0\n",
       "Income            0\n",
       "dtype: int64"
      ]
     },
     "execution_count": 13,
     "metadata": {},
     "output_type": "execute_result"
    }
   ],
   "source": [
    "df.isnull().sum()"
   ]
  },
  {
   "cell_type": "markdown",
   "id": "320d52e9",
   "metadata": {},
   "source": [
    "we can observe that there ae no null values,we replaced \"?\" with nan and filled null values by using method \"ffill\"."
   ]
  },
  {
   "cell_type": "code",
   "execution_count": 17,
   "id": "f3370420",
   "metadata": {},
   "outputs": [
    {
     "name": "stdout",
     "output_type": "stream",
     "text": [
      "<class 'pandas.core.frame.DataFrame'>\n",
      "Int64Index: 32536 entries, 0 to 32559\n",
      "Data columns (total 15 columns):\n",
      " #   Column          Non-Null Count  Dtype \n",
      "---  ------          --------------  ----- \n",
      " 0   Age             32536 non-null  int64 \n",
      " 1   Workclass       32536 non-null  object\n",
      " 2   Fnlwgt          32536 non-null  int64 \n",
      " 3   Education       32536 non-null  object\n",
      " 4   Education_num   32536 non-null  int64 \n",
      " 5   Marital_status  32536 non-null  object\n",
      " 6   Occupation      32536 non-null  object\n",
      " 7   Relationship    32536 non-null  object\n",
      " 8   Race            32536 non-null  object\n",
      " 9   Sex             32536 non-null  object\n",
      " 10  Capital_gain    32536 non-null  int64 \n",
      " 11  Capital_loss    32536 non-null  int64 \n",
      " 12  Hours_per_week  32536 non-null  int64 \n",
      " 13  Native_country  32536 non-null  object\n",
      " 14  Income          32536 non-null  object\n",
      "dtypes: int64(6), object(9)\n",
      "memory usage: 4.0+ MB\n"
     ]
    }
   ],
   "source": [
    "df.info()"
   ]
  },
  {
   "cell_type": "code",
   "execution_count": 53,
   "id": "9981dc04",
   "metadata": {},
   "outputs": [
    {
     "data": {
      "text/plain": [
       " Private             24072\n",
       " Self-emp-not-inc     2686\n",
       " Local-gov            2204\n",
       " State-gov            1373\n",
       " Self-emp-inc         1177\n",
       " Federal-gov          1002\n",
       " Without-pay            15\n",
       " Never-worked            7\n",
       "Name: Workclass, dtype: int64"
      ]
     },
     "execution_count": 53,
     "metadata": {},
     "output_type": "execute_result"
    }
   ],
   "source": [
    "df[\"Workclass\"].value_counts()"
   ]
  },
  {
   "cell_type": "code",
   "execution_count": 54,
   "id": "f24f8d94",
   "metadata": {},
   "outputs": [
    {
     "data": {
      "text/plain": [
       "8"
      ]
     },
     "execution_count": 54,
     "metadata": {},
     "output_type": "execute_result"
    }
   ],
   "source": [
    "df[\"Workclass\"].nunique()"
   ]
  },
  {
   "cell_type": "code",
   "execution_count": 55,
   "id": "c9287828",
   "metadata": {},
   "outputs": [
    {
     "data": {
      "text/plain": [
       "14"
      ]
     },
     "execution_count": 55,
     "metadata": {},
     "output_type": "execute_result"
    }
   ],
   "source": [
    "df[\"Occupation\"].nunique()"
   ]
  },
  {
   "cell_type": "code",
   "execution_count": 56,
   "id": "42c126fe",
   "metadata": {},
   "outputs": [
    {
     "data": {
      "text/plain": [
       " Prof-specialty       4383\n",
       " Craft-repair         4358\n",
       " Exec-managerial      4315\n",
       " Adm-clerical         3979\n",
       " Sales                3863\n",
       " Other-service        3467\n",
       " Machine-op-inspct    2132\n",
       " Transport-moving     1703\n",
       " Handlers-cleaners    1470\n",
       " Farming-fishing      1036\n",
       " Tech-support          980\n",
       " Protective-serv       683\n",
       " Priv-house-serv       157\n",
       " Armed-Forces           10\n",
       "Name: Occupation, dtype: int64"
      ]
     },
     "execution_count": 56,
     "metadata": {},
     "output_type": "execute_result"
    }
   ],
   "source": [
    "df[\"Occupation\"].value_counts()"
   ]
  },
  {
   "cell_type": "code",
   "execution_count": 57,
   "id": "430a344c",
   "metadata": {},
   "outputs": [
    {
     "data": {
      "text/plain": [
       " United-States                 29675\n",
       " Mexico                          653\n",
       " Philippines                     200\n",
       " Germany                         141\n",
       " Canada                          124\n",
       " Puerto-Rico                     118\n",
       " El-Salvador                     109\n",
       " India                           101\n",
       " Cuba                             97\n",
       " England                          93\n",
       " Jamaica                          83\n",
       " South                            80\n",
       " China                            77\n",
       " Dominican-Republic               74\n",
       " Italy                            73\n",
       " Vietnam                          72\n",
       " Guatemala                        64\n",
       " Japan                            63\n",
       " Columbia                         61\n",
       " Poland                           60\n",
       " Taiwan                           51\n",
       " Haiti                            45\n",
       " Iran                             43\n",
       " Portugal                         37\n",
       " Nicaragua                        34\n",
       " Peru                             31\n",
       " Greece                           30\n",
       " France                           29\n",
       " Ecuador                          28\n",
       " Ireland                          24\n",
       " Hong                             20\n",
       " Cambodia                         20\n",
       " Laos                             19\n",
       " Trinadad&Tobago                  19\n",
       " Thailand                         18\n",
       " Yugoslavia                       17\n",
       " Outlying-US(Guam-USVI-etc)       14\n",
       " Honduras                         13\n",
       " Hungary                          13\n",
       " Scotland                         12\n",
       " Holand-Netherlands                1\n",
       "Name: Native_country, dtype: int64"
      ]
     },
     "execution_count": 57,
     "metadata": {},
     "output_type": "execute_result"
    }
   ],
   "source": [
    "df[\"Native_country\"].value_counts()"
   ]
  },
  {
   "cell_type": "code",
   "execution_count": 58,
   "id": "d81aa04b",
   "metadata": {},
   "outputs": [
    {
     "data": {
      "text/plain": [
       "41"
      ]
     },
     "execution_count": 58,
     "metadata": {},
     "output_type": "execute_result"
    }
   ],
   "source": [
    "df[\"Native_country\"].nunique()"
   ]
  },
  {
   "cell_type": "code",
   "execution_count": 18,
   "id": "6718be5d",
   "metadata": {},
   "outputs": [
    {
     "data": {
      "text/plain": [
       "Age                int64\n",
       "Workclass         object\n",
       "Fnlwgt             int64\n",
       "Education         object\n",
       "Education_num      int64\n",
       "Marital_status    object\n",
       "Occupation        object\n",
       "Relationship      object\n",
       "Race              object\n",
       "Sex               object\n",
       "Capital_gain       int64\n",
       "Capital_loss       int64\n",
       "Hours_per_week     int64\n",
       "Native_country    object\n",
       "Income            object\n",
       "dtype: object"
      ]
     },
     "execution_count": 18,
     "metadata": {},
     "output_type": "execute_result"
    }
   ],
   "source": [
    "df.dtypes"
   ]
  },
  {
   "cell_type": "code",
   "execution_count": 19,
   "id": "695b5aab",
   "metadata": {},
   "outputs": [
    {
     "data": {
      "text/html": [
       "<div>\n",
       "<style scoped>\n",
       "    .dataframe tbody tr th:only-of-type {\n",
       "        vertical-align: middle;\n",
       "    }\n",
       "\n",
       "    .dataframe tbody tr th {\n",
       "        vertical-align: top;\n",
       "    }\n",
       "\n",
       "    .dataframe thead th {\n",
       "        text-align: right;\n",
       "    }\n",
       "</style>\n",
       "<table border=\"1\" class=\"dataframe\">\n",
       "  <thead>\n",
       "    <tr style=\"text-align: right;\">\n",
       "      <th></th>\n",
       "      <th>Age</th>\n",
       "      <th>Fnlwgt</th>\n",
       "      <th>Education_num</th>\n",
       "      <th>Capital_gain</th>\n",
       "      <th>Capital_loss</th>\n",
       "      <th>Hours_per_week</th>\n",
       "    </tr>\n",
       "  </thead>\n",
       "  <tbody>\n",
       "    <tr>\n",
       "      <th>count</th>\n",
       "      <td>32536.000000</td>\n",
       "      <td>3.253600e+04</td>\n",
       "      <td>32536.000000</td>\n",
       "      <td>32536.000000</td>\n",
       "      <td>32536.000000</td>\n",
       "      <td>32536.000000</td>\n",
       "    </tr>\n",
       "    <tr>\n",
       "      <th>mean</th>\n",
       "      <td>38.585536</td>\n",
       "      <td>1.897843e+05</td>\n",
       "      <td>10.081725</td>\n",
       "      <td>1078.410069</td>\n",
       "      <td>87.370912</td>\n",
       "      <td>40.440343</td>\n",
       "    </tr>\n",
       "    <tr>\n",
       "      <th>std</th>\n",
       "      <td>13.638193</td>\n",
       "      <td>1.055563e+05</td>\n",
       "      <td>2.571622</td>\n",
       "      <td>7388.068465</td>\n",
       "      <td>403.107737</td>\n",
       "      <td>12.347079</td>\n",
       "    </tr>\n",
       "    <tr>\n",
       "      <th>min</th>\n",
       "      <td>17.000000</td>\n",
       "      <td>1.228500e+04</td>\n",
       "      <td>1.000000</td>\n",
       "      <td>0.000000</td>\n",
       "      <td>0.000000</td>\n",
       "      <td>1.000000</td>\n",
       "    </tr>\n",
       "    <tr>\n",
       "      <th>25%</th>\n",
       "      <td>28.000000</td>\n",
       "      <td>1.178315e+05</td>\n",
       "      <td>9.000000</td>\n",
       "      <td>0.000000</td>\n",
       "      <td>0.000000</td>\n",
       "      <td>40.000000</td>\n",
       "    </tr>\n",
       "    <tr>\n",
       "      <th>50%</th>\n",
       "      <td>37.000000</td>\n",
       "      <td>1.783560e+05</td>\n",
       "      <td>10.000000</td>\n",
       "      <td>0.000000</td>\n",
       "      <td>0.000000</td>\n",
       "      <td>40.000000</td>\n",
       "    </tr>\n",
       "    <tr>\n",
       "      <th>75%</th>\n",
       "      <td>48.000000</td>\n",
       "      <td>2.369932e+05</td>\n",
       "      <td>12.000000</td>\n",
       "      <td>0.000000</td>\n",
       "      <td>0.000000</td>\n",
       "      <td>45.000000</td>\n",
       "    </tr>\n",
       "    <tr>\n",
       "      <th>max</th>\n",
       "      <td>90.000000</td>\n",
       "      <td>1.484705e+06</td>\n",
       "      <td>16.000000</td>\n",
       "      <td>99999.000000</td>\n",
       "      <td>4356.000000</td>\n",
       "      <td>99.000000</td>\n",
       "    </tr>\n",
       "  </tbody>\n",
       "</table>\n",
       "</div>"
      ],
      "text/plain": [
       "                Age        Fnlwgt  Education_num  Capital_gain  Capital_loss  \\\n",
       "count  32536.000000  3.253600e+04   32536.000000  32536.000000  32536.000000   \n",
       "mean      38.585536  1.897843e+05      10.081725   1078.410069     87.370912   \n",
       "std       13.638193  1.055563e+05       2.571622   7388.068465    403.107737   \n",
       "min       17.000000  1.228500e+04       1.000000      0.000000      0.000000   \n",
       "25%       28.000000  1.178315e+05       9.000000      0.000000      0.000000   \n",
       "50%       37.000000  1.783560e+05      10.000000      0.000000      0.000000   \n",
       "75%       48.000000  2.369932e+05      12.000000      0.000000      0.000000   \n",
       "max       90.000000  1.484705e+06      16.000000  99999.000000   4356.000000   \n",
       "\n",
       "       Hours_per_week  \n",
       "count    32536.000000  \n",
       "mean        40.440343  \n",
       "std         12.347079  \n",
       "min          1.000000  \n",
       "25%         40.000000  \n",
       "50%         40.000000  \n",
       "75%         45.000000  \n",
       "max         99.000000  "
      ]
     },
     "execution_count": 19,
     "metadata": {},
     "output_type": "execute_result"
    }
   ],
   "source": [
    "df.describe()"
   ]
  },
  {
   "cell_type": "markdown",
   "id": "113a604f",
   "metadata": {},
   "source": [
    "This gives the stastical summary of numerical columns.The counts of all the columns are same which means there are no missing values in the dataset.The summary of the dataset looks perfect since there is no negative/invalid values present."
   ]
  },
  {
   "cell_type": "markdown",
   "id": "d036c5a2",
   "metadata": {},
   "source": [
    "The mean is greater than the median in Age,Fnlwgt, Education_num,Capital_gain, Capital_loss, Hours_per_week columns which means the data is skewed to right in these columns."
   ]
  },
  {
   "cell_type": "markdown",
   "id": "37bfd687",
   "metadata": {},
   "source": [
    "By summarizing the data we can observe there is a huge differences between 75% and max,hence there are outliers present in the data.\n",
    "\n",
    "We can also notice that the standard deviation, minimum value and 25% percentile values from this describe method."
   ]
  },
  {
   "cell_type": "code",
   "execution_count": 20,
   "id": "65d7f066",
   "metadata": {},
   "outputs": [
    {
     "data": {
      "image/png": "[encoded data removed]",
      "text/plain": [
       "<Figure size 720x720 with 2 Axes>"
      ]
     },
     "metadata": {
      "needs_background": "light"
     },
     "output_type": "display_data"
    }
   ],
   "source": [
    "#let us visualize by using heatmap\n",
    "plt.figure(figsize=(10,10))\n",
    "sns.heatmap(df.describe(),annot=True,linewidth=0.2,linecolor=\"black\",fmt=\"0.2f\",cmap=\"Spectral\")\n",
    "plt.ylabel(\"figures\")\n",
    "plt.xlabel(\"features_Name\")\n",
    "plt.show()"
   ]
  },
  {
   "cell_type": "markdown",
   "id": "b2fc8cb0",
   "metadata": {},
   "source": [
    "Data Visualization:"
   ]
  },
  {
   "cell_type": "markdown",
   "id": "556ba376",
   "metadata": {},
   "source": [
    "Univariate Analysis:"
   ]
  },
  {
   "cell_type": "code",
   "execution_count": 21,
   "id": "fdaad5b9",
   "metadata": {},
   "outputs": [
    {
     "name": "stdout",
     "output_type": "stream",
     "text": [
      " <=50K    24697\n",
      " >50K      7839\n",
      "Name: Income, dtype: int64\n"
     ]
    },
    {
     "data": {
      "image/png": "[encoded data removed]",
      "text/plain": [
       "<Figure size 432x288 with 1 Axes>"
      ]
     },
     "metadata": {
      "needs_background": "light"
     },
     "output_type": "display_data"
    }
   ],
   "source": [
    "#Let's visualize the count of  Income column.\n",
    "sns.countplot(x=\"Income\",data=df)\n",
    "print(df[\"Income\"].value_counts())"
   ]
  },
  {
   "cell_type": "markdown",
   "id": "9ee2aaa2",
   "metadata": {},
   "source": [
    "The persons with Income <=50k is more compared to the persons with Income >50k."
   ]
  },
  {
   "cell_type": "code",
   "execution_count": 22,
   "id": "fb79d49a",
   "metadata": {},
   "outputs": [
    {
     "name": "stdout",
     "output_type": "stream",
     "text": [
      "36    898\n",
      "31    888\n",
      "34    886\n",
      "23    876\n",
      "33    875\n",
      "     ... \n",
      "83      6\n",
      "88      3\n",
      "85      3\n",
      "86      1\n",
      "87      1\n",
      "Name: Age, Length: 73, dtype: int64\n"
     ]
    },
    {
     "data": {
      "image/png": "[encoded data removed]",
      "text/plain": [
       "<Figure size 432x288 with 1 Axes>"
      ]
     },
     "metadata": {
      "needs_background": "light"
     },
     "output_type": "display_data"
    }
   ],
   "source": [
    "#Let's visualize the count of  Age column.\n",
    "sns.countplot(x=\"Age\",data=df)\n",
    "print(df[\"Age\"].value_counts())"
   ]
  },
  {
   "cell_type": "markdown",
   "id": "06cf64bb",
   "metadata": {},
   "source": [
    "The person age with 36 is more compared to others."
   ]
  },
  {
   "cell_type": "code",
   "execution_count": 23,
   "id": "ec002d61",
   "metadata": {},
   "outputs": [
    {
     "name": "stdout",
     "output_type": "stream",
     "text": [
      " Private             24072\n",
      " Self-emp-not-inc     2686\n",
      " Local-gov            2204\n",
      " State-gov            1373\n",
      " Self-emp-inc         1177\n",
      " Federal-gov          1002\n",
      " Without-pay            15\n",
      " Never-worked            7\n",
      "Name: Workclass, dtype: int64\n"
     ]
    },
    {
     "data": {
      "image/png": "[encoded data removed]",
      "text/plain": [
       "<Figure size 432x288 with 1 Axes>"
      ]
     },
     "metadata": {
      "needs_background": "light"
     },
     "output_type": "display_data"
    }
   ],
   "source": [
    "#Let's visualize the count of  Workclass column.\n",
    "sns.countplot(x=\"Workclass\",data=df)\n",
    "print(df[\"Workclass\"].value_counts())"
   ]
  },
  {
   "cell_type": "markdown",
   "id": "0876901f",
   "metadata": {},
   "source": [
    "The private type Workclass is more compared to others."
   ]
  },
  {
   "cell_type": "code",
   "execution_count": 24,
   "id": "45f20b16",
   "metadata": {},
   "outputs": [
    {
     "name": "stdout",
     "output_type": "stream",
     "text": [
      "123011    13\n",
      "164190    13\n",
      "203488    13\n",
      "121124    12\n",
      "126675    12\n",
      "          ..\n",
      "158040     1\n",
      "232784     1\n",
      "325573     1\n",
      "140176     1\n",
      "257302     1\n",
      "Name: Fnlwgt, Length: 21647, dtype: int64\n"
     ]
    },
    {
     "data": {
      "image/png": "[encoded data removed]",
      "text/plain": [
       "<Figure size 432x288 with 1 Axes>"
      ]
     },
     "metadata": {
      "needs_background": "light"
     },
     "output_type": "display_data"
    }
   ],
   "source": [
    "#Let's visualize the count of  Fnlwgt column.\n",
    "sns.countplot(x=\"Fnlwgt\",data=df)\n",
    "print(df[\"Fnlwgt\"].value_counts())"
   ]
  },
  {
   "cell_type": "markdown",
   "id": "a12203fa",
   "metadata": {},
   "source": [
    "The Fnlwgt with 123011 is more compared to others"
   ]
  },
  {
   "cell_type": "code",
   "execution_count": 25,
   "id": "07e1611a",
   "metadata": {},
   "outputs": [
    {
     "name": "stdout",
     "output_type": "stream",
     "text": [
      " HS-grad         10494\n",
      " Some-college     7282\n",
      " Bachelors        5352\n",
      " Masters          1722\n",
      " Assoc-voc        1382\n",
      " 11th             1175\n",
      " Assoc-acdm       1067\n",
      " 10th              933\n",
      " 7th-8th           645\n",
      " Prof-school       576\n",
      " 9th               514\n",
      " 12th              433\n",
      " Doctorate         413\n",
      " 5th-6th           332\n",
      " 1st-4th           166\n",
      " Preschool          50\n",
      "Name: Education, dtype: int64\n"
     ]
    },
    {
     "data": {
      "image/png": "[encoded data removed]",
      "text/plain": [
       "<Figure size 432x288 with 1 Axes>"
      ]
     },
     "metadata": {
      "needs_background": "light"
     },
     "output_type": "display_data"
    }
   ],
   "source": [
    "#Let's visualize the count of  Education column.\n",
    "sns.countplot(x=\"Education\",data=df)\n",
    "print(df[\"Education\"].value_counts())"
   ]
  },
  {
   "cell_type": "markdown",
   "id": "8e0fde52",
   "metadata": {},
   "source": [
    "The persons with Hs-grad Education is more compared to others."
   ]
  },
  {
   "cell_type": "code",
   "execution_count": 26,
   "id": "6c4b5256",
   "metadata": {},
   "outputs": [
    {
     "name": "stdout",
     "output_type": "stream",
     "text": [
      "9     10494\n",
      "10     7282\n",
      "13     5352\n",
      "14     1722\n",
      "11     1382\n",
      "7      1175\n",
      "12     1067\n",
      "6       933\n",
      "4       645\n",
      "15      576\n",
      "5       514\n",
      "8       433\n",
      "16      413\n",
      "3       332\n",
      "2       166\n",
      "1        50\n",
      "Name: Education_num, dtype: int64\n"
     ]
    },
    {
     "data": {
      "image/png": "[encoded data removed]",
      "text/plain": [
       "<Figure size 432x288 with 1 Axes>"
      ]
     },
     "metadata": {
      "needs_background": "light"
     },
     "output_type": "display_data"
    }
   ],
   "source": [
    "#Let's visualize the count of  Education_num column.\n",
    "sns.countplot(x=\"Education_num\",data=df)\n",
    "print(df[\"Education_num\"].value_counts())"
   ]
  },
  {
   "cell_type": "markdown",
   "id": "4d8c9fdf",
   "metadata": {},
   "source": [
    "The Education_num 9 is more compared to others."
   ]
  },
  {
   "cell_type": "code",
   "execution_count": 27,
   "id": "72998c31",
   "metadata": {},
   "outputs": [
    {
     "name": "stdout",
     "output_type": "stream",
     "text": [
      " Married-civ-spouse       14970\n",
      " Never-married            10666\n",
      " Divorced                  4441\n",
      " Separated                 1025\n",
      " Widowed                    993\n",
      " Married-spouse-absent      418\n",
      " Married-AF-spouse           23\n",
      "Name: Marital_status, dtype: int64\n"
     ]
    },
    {
     "data": {
      "image/png": "[encoded data removed]",
      "text/plain": [
       "<Figure size 432x288 with 1 Axes>"
      ]
     },
     "metadata": {
      "needs_background": "light"
     },
     "output_type": "display_data"
    }
   ],
   "source": [
    "#Let's visualize the count of  Marital_status column.\n",
    "sns.countplot(x=\"Marital_status\",data=df)\n",
    "print(df[\"Marital_status\"].value_counts())"
   ]
  },
  {
   "cell_type": "markdown",
   "id": "7d752542",
   "metadata": {},
   "source": [
    "The persons with Married_civ_spouse category is more."
   ]
  },
  {
   "cell_type": "code",
   "execution_count": 28,
   "id": "8ecd5643",
   "metadata": {},
   "outputs": [
    {
     "name": "stdout",
     "output_type": "stream",
     "text": [
      " Husband           13187\n",
      " Not-in-family      8291\n",
      " Own-child          5064\n",
      " Unmarried          3445\n",
      " Wife               1568\n",
      " Other-relative      981\n",
      "Name: Relationship, dtype: int64\n"
     ]
    },
    {
     "data": {
      "image/png": "[encoded data removed]",
      "text/plain": [
       "<Figure size 432x288 with 1 Axes>"
      ]
     },
     "metadata": {
      "needs_background": "light"
     },
     "output_type": "display_data"
    }
   ],
   "source": [
    "#Let's visualize the count of  Relationship column.\n",
    "sns.countplot(x=\"Relationship\",data=df)\n",
    "print(df[\"Relationship\"].value_counts())"
   ]
  },
  {
   "cell_type": "markdown",
   "id": "9167f695",
   "metadata": {},
   "source": [
    "The persons Relationship is with Husband category is more compared to others."
   ]
  },
  {
   "cell_type": "code",
   "execution_count": 29,
   "id": "2e895387",
   "metadata": {},
   "outputs": [
    {
     "name": "stdout",
     "output_type": "stream",
     "text": [
      " Prof-specialty       4383\n",
      " Craft-repair         4358\n",
      " Exec-managerial      4315\n",
      " Adm-clerical         3979\n",
      " Sales                3863\n",
      " Other-service        3467\n",
      " Machine-op-inspct    2132\n",
      " Transport-moving     1703\n",
      " Handlers-cleaners    1470\n",
      " Farming-fishing      1036\n",
      " Tech-support          980\n",
      " Protective-serv       683\n",
      " Priv-house-serv       157\n",
      " Armed-Forces           10\n",
      "Name: Occupation, dtype: int64\n"
     ]
    },
    {
     "data": {
      "image/png": "[encoded data removed]",
      "text/plain": [
       "<Figure size 432x288 with 1 Axes>"
      ]
     },
     "metadata": {
      "needs_background": "light"
     },
     "output_type": "display_data"
    }
   ],
   "source": [
    "#Let's visualize the count of  Occupation column.\n",
    "sns.countplot(x=\"Occupation\",data=df)\n",
    "print(df[\"Occupation\"].value_counts())"
   ]
  },
  {
   "cell_type": "markdown",
   "id": "6e3851b9",
   "metadata": {},
   "source": [
    "The Prof_speciality category is more compared to others."
   ]
  },
  {
   "cell_type": "code",
   "execution_count": 30,
   "id": "bb06d219",
   "metadata": {},
   "outputs": [
    {
     "name": "stdout",
     "output_type": "stream",
     "text": [
      " White                 27794\n",
      " Black                  3122\n",
      " Asian-Pac-Islander     1038\n",
      " Amer-Indian-Eskimo      311\n",
      " Other                   271\n",
      "Name: Race, dtype: int64\n"
     ]
    },
    {
     "data": {
      "image/png": "[encoded data removed]",
      "text/plain": [
       "<Figure size 432x288 with 1 Axes>"
      ]
     },
     "metadata": {
      "needs_background": "light"
     },
     "output_type": "display_data"
    }
   ],
   "source": [
    "#Let's visualize the count of  Race column.\n",
    "sns.countplot(x=\"Race\",data=df)\n",
    "print(df[\"Race\"].value_counts())"
   ]
  },
  {
   "cell_type": "markdown",
   "id": "6cf6e710",
   "metadata": {},
   "source": [
    "The Race with White category is more compared to others."
   ]
  },
  {
   "cell_type": "code",
   "execution_count": 31,
   "id": "c1946663",
   "metadata": {},
   "outputs": [
    {
     "name": "stdout",
     "output_type": "stream",
     "text": [
      "0        29825\n",
      "15024      347\n",
      "7688       284\n",
      "7298       246\n",
      "99999      159\n",
      "         ...  \n",
      "1111         1\n",
      "2538         1\n",
      "22040        1\n",
      "4931         1\n",
      "5060         1\n",
      "Name: Capital_gain, Length: 119, dtype: int64\n"
     ]
    },
    {
     "data": {
      "image/png": "[encoded data removed]",
      "text/plain": [
       "<Figure size 432x288 with 1 Axes>"
      ]
     },
     "metadata": {
      "needs_background": "light"
     },
     "output_type": "display_data"
    }
   ],
   "source": [
    "#Let's visualize the count of  Capital_gain column.\n",
    "sns.countplot(x=\"Capital_gain\",data=df)\n",
    "print(df[\"Capital_gain\"].value_counts())"
   ]
  },
  {
   "cell_type": "markdown",
   "id": "1d73d88d",
   "metadata": {},
   "source": [
    "The Capital_gain with 0 category is more."
   ]
  },
  {
   "cell_type": "code",
   "execution_count": 32,
   "id": "3304449c",
   "metadata": {},
   "outputs": [
    {
     "name": "stdout",
     "output_type": "stream",
     "text": [
      "0       31017\n",
      "1902      202\n",
      "1977      168\n",
      "1887      159\n",
      "1848       51\n",
      "        ...  \n",
      "2080        1\n",
      "1539        1\n",
      "1844        1\n",
      "2489        1\n",
      "1411        1\n",
      "Name: Capital_loss, Length: 92, dtype: int64\n"
     ]
    },
    {
     "data": {
      "image/png": "[encoded data removed]",
      "text/plain": [
       "<Figure size 432x288 with 1 Axes>"
      ]
     },
     "metadata": {
      "needs_background": "light"
     },
     "output_type": "display_data"
    }
   ],
   "source": [
    "#Let's visualize the count of  Capital_loss column.\n",
    "sns.countplot(x=\"Capital_loss\",data=df)\n",
    "print(df[\"Capital_loss\"].value_counts())"
   ]
  },
  {
   "cell_type": "markdown",
   "id": "fdcf67f0",
   "metadata": {},
   "source": [
    "The Capital_loss with 0 category is more."
   ]
  },
  {
   "cell_type": "code",
   "execution_count": 33,
   "id": "33f61ef5",
   "metadata": {},
   "outputs": [
    {
     "name": "stdout",
     "output_type": "stream",
     "text": [
      "40    15203\n",
      "50     2817\n",
      "45     1823\n",
      "60     1475\n",
      "35     1296\n",
      "      ...  \n",
      "82        1\n",
      "94        1\n",
      "92        1\n",
      "74        1\n",
      "87        1\n",
      "Name: Hours_per_week, Length: 94, dtype: int64\n"
     ]
    },
    {
     "data": {
      "image/png": "[encoded data removed]",
      "text/plain": [
       "<Figure size 432x288 with 1 Axes>"
      ]
     },
     "metadata": {
      "needs_background": "light"
     },
     "output_type": "display_data"
    }
   ],
   "source": [
    "#Let's visualize the count of  Hours_per_week column.\n",
    "sns.countplot(x=\"Hours_per_week\",data=df)\n",
    "print(df[\"Hours_per_week\"].value_counts())"
   ]
  },
  {
   "cell_type": "markdown",
   "id": "a9aa9752",
   "metadata": {},
   "source": [
    "40 Hours_per_week  category is more compared to others."
   ]
  },
  {
   "cell_type": "code",
   "execution_count": 34,
   "id": "080fa7b2",
   "metadata": {},
   "outputs": [
    {
     "name": "stdout",
     "output_type": "stream",
     "text": [
      " United-States                 29675\n",
      " Mexico                          653\n",
      " Philippines                     200\n",
      " Germany                         141\n",
      " Canada                          124\n",
      " Puerto-Rico                     118\n",
      " El-Salvador                     109\n",
      " India                           101\n",
      " Cuba                             97\n",
      " England                          93\n",
      " Jamaica                          83\n",
      " South                            80\n",
      " China                            77\n",
      " Dominican-Republic               74\n",
      " Italy                            73\n",
      " Vietnam                          72\n",
      " Guatemala                        64\n",
      " Japan                            63\n",
      " Columbia                         61\n",
      " Poland                           60\n",
      " Taiwan                           51\n",
      " Haiti                            45\n",
      " Iran                             43\n",
      " Portugal                         37\n",
      " Nicaragua                        34\n",
      " Peru                             31\n",
      " Greece                           30\n",
      " France                           29\n",
      " Ecuador                          28\n",
      " Ireland                          24\n",
      " Hong                             20\n",
      " Cambodia                         20\n",
      " Laos                             19\n",
      " Trinadad&Tobago                  19\n",
      " Thailand                         18\n",
      " Yugoslavia                       17\n",
      " Outlying-US(Guam-USVI-etc)       14\n",
      " Honduras                         13\n",
      " Hungary                          13\n",
      " Scotland                         12\n",
      " Holand-Netherlands                1\n",
      "Name: Native_country, dtype: int64\n"
     ]
    },
    {
     "data": {
      "image/png": "[encoded data removed]",
      "text/plain": [
       "<Figure size 432x288 with 1 Axes>"
      ]
     },
     "metadata": {
      "needs_background": "light"
     },
     "output_type": "display_data"
    }
   ],
   "source": [
    "#Let's visualize the count of  Native_country column.\n",
    "sns.countplot(x=\"Native_country\",data=df)\n",
    "print(df[\"Native_country\"].value_counts())"
   ]
  },
  {
   "cell_type": "markdown",
   "id": "5a1ff238",
   "metadata": {},
   "source": [
    "The persons with Native_country United_states category is more compared to others."
   ]
  },
  {
   "cell_type": "code",
   "execution_count": 35,
   "id": "60f5cfa1",
   "metadata": {},
   "outputs": [
    {
     "name": "stdout",
     "output_type": "stream",
     "text": [
      " Male      21774\n",
      " Female    10762\n",
      "Name: Sex, dtype: int64\n"
     ]
    },
    {
     "data": {
      "image/png": "[encoded data removed]",
      "text/plain": [
       "<Figure size 432x288 with 1 Axes>"
      ]
     },
     "metadata": {
      "needs_background": "light"
     },
     "output_type": "display_data"
    }
   ],
   "source": [
    "#Let's visualize the count of  Sex column.\n",
    "sns.countplot(x=\"Sex\",data=df)\n",
    "print(df[\"Sex\"].value_counts())"
   ]
  },
  {
   "cell_type": "markdown",
   "id": "c8d1a75b",
   "metadata": {},
   "source": [
    "The male category is more compared to female category."
   ]
  },
  {
   "cell_type": "markdown",
   "id": "8ac1959b",
   "metadata": {},
   "source": [
    "Bivariate Analysis:"
   ]
  },
  {
   "cell_type": "code",
   "execution_count": 37,
   "id": "68ed7e9f",
   "metadata": {},
   "outputs": [
    {
     "data": {
      "image/png": "[encoded data removed]",
      "text/plain": [
       "<Figure size 432x288 with 1 Axes>"
      ]
     },
     "metadata": {
      "needs_background": "light"
     },
     "output_type": "display_data"
    }
   ],
   "source": [
    "#comparing Income and Age column\n",
    "plt.title(\"Comparing Income and Age column\")\n",
    "sns.barplot(x=\"Income\",y=\"Age\",data=df)\n",
    "plt.show()"
   ]
  },
  {
   "cell_type": "markdown",
   "id": "7270594e",
   "metadata": {},
   "source": [
    "The persons with Income >50k is more according to Age column.  "
   ]
  },
  {
   "cell_type": "code",
   "execution_count": 38,
   "id": "e44f135a",
   "metadata": {},
   "outputs": [
    {
     "data": {
      "image/png": "[encoded data removed]",
      "text/plain": [
       "<Figure size 432x288 with 1 Axes>"
      ]
     },
     "metadata": {
      "needs_background": "light"
     },
     "output_type": "display_data"
    }
   ],
   "source": [
    "#comparing Income and Education_num column\n",
    "plt.title(\"Comparing Income and Education_num column\")\n",
    "sns.barplot(x=\"Income\",y=\"Education_num\",data=df)\n",
    "plt.show()"
   ]
  },
  {
   "cell_type": "markdown",
   "id": "fb0ec0eb",
   "metadata": {},
   "source": [
    "The persons with Income >50k is more according to Education_num column."
   ]
  },
  {
   "cell_type": "code",
   "execution_count": 39,
   "id": "b65438a9",
   "metadata": {},
   "outputs": [
    {
     "data": {
      "image/png": "[encoded data removed]",
      "text/plain": [
       "<Figure size 432x288 with 1 Axes>"
      ]
     },
     "metadata": {
      "needs_background": "light"
     },
     "output_type": "display_data"
    }
   ],
   "source": [
    "#comparing Income and Fnlwgt column\n",
    "plt.title(\"Comparing Income and Fnlwgt column\")\n",
    "sns.barplot(x=\"Income\",y=\"Fnlwgt\",data=df)\n",
    "plt.show()"
   ]
  },
  {
   "cell_type": "markdown",
   "id": "31c908d9",
   "metadata": {},
   "source": [
    "Both income categories are  almost same according to Fnlwgt column."
   ]
  },
  {
   "cell_type": "code",
   "execution_count": 40,
   "id": "78fdfff6",
   "metadata": {},
   "outputs": [
    {
     "data": {
      "image/png": "[encoded data removed]",
      "text/plain": [
       "<Figure size 432x288 with 1 Axes>"
      ]
     },
     "metadata": {
      "needs_background": "light"
     },
     "output_type": "display_data"
    }
   ],
   "source": [
    "#comparing Income and Capital_gain column\n",
    "plt.title(\"Comparing Income and Capital_gain column\")\n",
    "sns.barplot(x=\"Income\",y=\"Capital_gain\",data=df)\n",
    "plt.show()"
   ]
  },
  {
   "cell_type": "markdown",
   "id": "8a9a5b52",
   "metadata": {},
   "source": [
    "The persons with Income >50k is more according to Capital_gain column."
   ]
  },
  {
   "cell_type": "code",
   "execution_count": 41,
   "id": "e389d008",
   "metadata": {},
   "outputs": [
    {
     "data": {
      "image/png": "[encoded data removed]",
      "text/plain": [
       "<Figure size 432x288 with 1 Axes>"
      ]
     },
     "metadata": {
      "needs_background": "light"
     },
     "output_type": "display_data"
    }
   ],
   "source": [
    "#comparing Income and Capital_loss column\n",
    "plt.title(\"Comparing Income and Capital_loss column\")\n",
    "sns.barplot(x=\"Income\",y=\"Capital_loss\",data=df)\n",
    "plt.show()"
   ]
  },
  {
   "cell_type": "markdown",
   "id": "5419dd2f",
   "metadata": {},
   "source": [
    "The persons with Income >50k is more according to Capital_loss column."
   ]
  },
  {
   "cell_type": "code",
   "execution_count": 42,
   "id": "0c33b701",
   "metadata": {},
   "outputs": [
    {
     "data": {
      "image/png": "[encoded data removed]",
      "text/plain": [
       "<Figure size 432x288 with 1 Axes>"
      ]
     },
     "metadata": {
      "needs_background": "light"
     },
     "output_type": "display_data"
    }
   ],
   "source": [
    "#comparing Income and Hours_per_week column\n",
    "plt.title(\"Comparing Income and Hours_per_week column\")\n",
    "sns.barplot(x=\"Income\",y=\"Hours_per_week\",data=df)\n",
    "plt.show()"
   ]
  },
  {
   "cell_type": "markdown",
   "id": "23e34737",
   "metadata": {},
   "source": [
    "The persons with Income >50k is more according to Hours_per_week column."
   ]
  },
  {
   "cell_type": "code",
   "execution_count": 14,
   "id": "a7943bfb",
   "metadata": {},
   "outputs": [
    {
     "data": {
      "text/html": [
       "<div>\n",
       "<style scoped>\n",
       "    .dataframe tbody tr th:only-of-type {\n",
       "        vertical-align: middle;\n",
       "    }\n",
       "\n",
       "    .dataframe tbody tr th {\n",
       "        vertical-align: top;\n",
       "    }\n",
       "\n",
       "    .dataframe thead th {\n",
       "        text-align: right;\n",
       "    }\n",
       "</style>\n",
       "<table border=\"1\" class=\"dataframe\">\n",
       "  <thead>\n",
       "    <tr style=\"text-align: right;\">\n",
       "      <th></th>\n",
       "      <th>Age</th>\n",
       "      <th>Workclass</th>\n",
       "      <th>Fnlwgt</th>\n",
       "      <th>Education</th>\n",
       "      <th>Education_num</th>\n",
       "      <th>Marital_status</th>\n",
       "      <th>Occupation</th>\n",
       "      <th>Relationship</th>\n",
       "      <th>Race</th>\n",
       "      <th>Sex</th>\n",
       "      <th>Capital_gain</th>\n",
       "      <th>Capital_loss</th>\n",
       "      <th>Hours_per_week</th>\n",
       "      <th>Native_country</th>\n",
       "      <th>Income</th>\n",
       "    </tr>\n",
       "  </thead>\n",
       "  <tbody>\n",
       "    <tr>\n",
       "      <th>0</th>\n",
       "      <td>50</td>\n",
       "      <td>5</td>\n",
       "      <td>83311</td>\n",
       "      <td>9</td>\n",
       "      <td>13</td>\n",
       "      <td>2</td>\n",
       "      <td>3</td>\n",
       "      <td>0</td>\n",
       "      <td>4</td>\n",
       "      <td>1</td>\n",
       "      <td>0</td>\n",
       "      <td>0</td>\n",
       "      <td>13</td>\n",
       "      <td>38</td>\n",
       "      <td>0</td>\n",
       "    </tr>\n",
       "    <tr>\n",
       "      <th>1</th>\n",
       "      <td>38</td>\n",
       "      <td>3</td>\n",
       "      <td>215646</td>\n",
       "      <td>11</td>\n",
       "      <td>9</td>\n",
       "      <td>0</td>\n",
       "      <td>5</td>\n",
       "      <td>1</td>\n",
       "      <td>4</td>\n",
       "      <td>1</td>\n",
       "      <td>0</td>\n",
       "      <td>0</td>\n",
       "      <td>40</td>\n",
       "      <td>38</td>\n",
       "      <td>0</td>\n",
       "    </tr>\n",
       "    <tr>\n",
       "      <th>2</th>\n",
       "      <td>53</td>\n",
       "      <td>3</td>\n",
       "      <td>234721</td>\n",
       "      <td>1</td>\n",
       "      <td>7</td>\n",
       "      <td>2</td>\n",
       "      <td>5</td>\n",
       "      <td>0</td>\n",
       "      <td>2</td>\n",
       "      <td>1</td>\n",
       "      <td>0</td>\n",
       "      <td>0</td>\n",
       "      <td>40</td>\n",
       "      <td>38</td>\n",
       "      <td>0</td>\n",
       "    </tr>\n",
       "    <tr>\n",
       "      <th>3</th>\n",
       "      <td>28</td>\n",
       "      <td>3</td>\n",
       "      <td>338409</td>\n",
       "      <td>9</td>\n",
       "      <td>13</td>\n",
       "      <td>2</td>\n",
       "      <td>9</td>\n",
       "      <td>5</td>\n",
       "      <td>2</td>\n",
       "      <td>0</td>\n",
       "      <td>0</td>\n",
       "      <td>0</td>\n",
       "      <td>40</td>\n",
       "      <td>4</td>\n",
       "      <td>0</td>\n",
       "    </tr>\n",
       "    <tr>\n",
       "      <th>4</th>\n",
       "      <td>37</td>\n",
       "      <td>3</td>\n",
       "      <td>284582</td>\n",
       "      <td>12</td>\n",
       "      <td>14</td>\n",
       "      <td>2</td>\n",
       "      <td>3</td>\n",
       "      <td>5</td>\n",
       "      <td>4</td>\n",
       "      <td>0</td>\n",
       "      <td>0</td>\n",
       "      <td>0</td>\n",
       "      <td>40</td>\n",
       "      <td>38</td>\n",
       "      <td>0</td>\n",
       "    </tr>\n",
       "    <tr>\n",
       "      <th>...</th>\n",
       "      <td>...</td>\n",
       "      <td>...</td>\n",
       "      <td>...</td>\n",
       "      <td>...</td>\n",
       "      <td>...</td>\n",
       "      <td>...</td>\n",
       "      <td>...</td>\n",
       "      <td>...</td>\n",
       "      <td>...</td>\n",
       "      <td>...</td>\n",
       "      <td>...</td>\n",
       "      <td>...</td>\n",
       "      <td>...</td>\n",
       "      <td>...</td>\n",
       "      <td>...</td>\n",
       "    </tr>\n",
       "    <tr>\n",
       "      <th>32555</th>\n",
       "      <td>27</td>\n",
       "      <td>3</td>\n",
       "      <td>257302</td>\n",
       "      <td>7</td>\n",
       "      <td>12</td>\n",
       "      <td>2</td>\n",
       "      <td>12</td>\n",
       "      <td>5</td>\n",
       "      <td>4</td>\n",
       "      <td>0</td>\n",
       "      <td>0</td>\n",
       "      <td>0</td>\n",
       "      <td>38</td>\n",
       "      <td>38</td>\n",
       "      <td>0</td>\n",
       "    </tr>\n",
       "    <tr>\n",
       "      <th>32556</th>\n",
       "      <td>40</td>\n",
       "      <td>3</td>\n",
       "      <td>154374</td>\n",
       "      <td>11</td>\n",
       "      <td>9</td>\n",
       "      <td>2</td>\n",
       "      <td>6</td>\n",
       "      <td>0</td>\n",
       "      <td>4</td>\n",
       "      <td>1</td>\n",
       "      <td>0</td>\n",
       "      <td>0</td>\n",
       "      <td>40</td>\n",
       "      <td>38</td>\n",
       "      <td>1</td>\n",
       "    </tr>\n",
       "    <tr>\n",
       "      <th>32557</th>\n",
       "      <td>58</td>\n",
       "      <td>3</td>\n",
       "      <td>151910</td>\n",
       "      <td>11</td>\n",
       "      <td>9</td>\n",
       "      <td>6</td>\n",
       "      <td>0</td>\n",
       "      <td>4</td>\n",
       "      <td>4</td>\n",
       "      <td>0</td>\n",
       "      <td>0</td>\n",
       "      <td>0</td>\n",
       "      <td>40</td>\n",
       "      <td>38</td>\n",
       "      <td>0</td>\n",
       "    </tr>\n",
       "    <tr>\n",
       "      <th>32558</th>\n",
       "      <td>22</td>\n",
       "      <td>3</td>\n",
       "      <td>201490</td>\n",
       "      <td>11</td>\n",
       "      <td>9</td>\n",
       "      <td>4</td>\n",
       "      <td>0</td>\n",
       "      <td>3</td>\n",
       "      <td>4</td>\n",
       "      <td>1</td>\n",
       "      <td>0</td>\n",
       "      <td>0</td>\n",
       "      <td>20</td>\n",
       "      <td>38</td>\n",
       "      <td>0</td>\n",
       "    </tr>\n",
       "    <tr>\n",
       "      <th>32559</th>\n",
       "      <td>52</td>\n",
       "      <td>4</td>\n",
       "      <td>287927</td>\n",
       "      <td>11</td>\n",
       "      <td>9</td>\n",
       "      <td>2</td>\n",
       "      <td>3</td>\n",
       "      <td>5</td>\n",
       "      <td>4</td>\n",
       "      <td>0</td>\n",
       "      <td>15024</td>\n",
       "      <td>0</td>\n",
       "      <td>40</td>\n",
       "      <td>38</td>\n",
       "      <td>1</td>\n",
       "    </tr>\n",
       "  </tbody>\n",
       "</table>\n",
       "<p>32536 rows × 15 columns</p>\n",
       "</div>"
      ],
      "text/plain": [
       "       Age  Workclass  Fnlwgt  Education  Education_num  Marital_status  \\\n",
       "0       50          5   83311          9             13               2   \n",
       "1       38          3  215646         11              9               0   \n",
       "2       53          3  234721          1              7               2   \n",
       "3       28          3  338409          9             13               2   \n",
       "4       37          3  284582         12             14               2   \n",
       "...    ...        ...     ...        ...            ...             ...   \n",
       "32555   27          3  257302          7             12               2   \n",
       "32556   40          3  154374         11              9               2   \n",
       "32557   58          3  151910         11              9               6   \n",
       "32558   22          3  201490         11              9               4   \n",
       "32559   52          4  287927         11              9               2   \n",
       "\n",
       "       Occupation  Relationship  Race  Sex  Capital_gain  Capital_loss  \\\n",
       "0               3             0     4    1             0             0   \n",
       "1               5             1     4    1             0             0   \n",
       "2               5             0     2    1             0             0   \n",
       "3               9             5     2    0             0             0   \n",
       "4               3             5     4    0             0             0   \n",
       "...           ...           ...   ...  ...           ...           ...   \n",
       "32555          12             5     4    0             0             0   \n",
       "32556           6             0     4    1             0             0   \n",
       "32557           0             4     4    0             0             0   \n",
       "32558           0             3     4    1             0             0   \n",
       "32559           3             5     4    0         15024             0   \n",
       "\n",
       "       Hours_per_week  Native_country  Income  \n",
       "0                  13              38       0  \n",
       "1                  40              38       0  \n",
       "2                  40              38       0  \n",
       "3                  40               4       0  \n",
       "4                  40              38       0  \n",
       "...               ...             ...     ...  \n",
       "32555              38              38       0  \n",
       "32556              40              38       1  \n",
       "32557              40              38       0  \n",
       "32558              20              38       0  \n",
       "32559              40              38       1  \n",
       "\n",
       "[32536 rows x 15 columns]"
      ]
     },
     "execution_count": 14,
     "metadata": {},
     "output_type": "execute_result"
    }
   ],
   "source": [
    "#Encoding categorical columns using Label Encoder\n",
    "from sklearn.preprocessing import LabelEncoder\n",
    "lab_encoder=LabelEncoder()\n",
    "for i in df.columns:\n",
    "    if df[i].dtypes==\"object\":\n",
    "        df[i]=lab_encoder.fit_transform(df[i])\n",
    "df        "
   ]
  },
  {
   "cell_type": "code",
   "execution_count": 15,
   "id": "d36320f8",
   "metadata": {},
   "outputs": [
    {
     "data": {
      "text/plain": [
       "Age               int64\n",
       "Workclass         int32\n",
       "Fnlwgt            int64\n",
       "Education         int32\n",
       "Education_num     int64\n",
       "Marital_status    int32\n",
       "Occupation        int32\n",
       "Relationship      int32\n",
       "Race              int32\n",
       "Sex               int32\n",
       "Capital_gain      int64\n",
       "Capital_loss      int64\n",
       "Hours_per_week    int64\n",
       "Native_country    int32\n",
       "Income            int32\n",
       "dtype: object"
      ]
     },
     "execution_count": 15,
     "metadata": {},
     "output_type": "execute_result"
    }
   ],
   "source": [
    "df.dtypes"
   ]
  },
  {
   "cell_type": "code",
   "execution_count": 45,
   "id": "f6ae2702",
   "metadata": {},
   "outputs": [
    {
     "data": {
      "image/png": "[encoded data removed]",
      "text/plain": [
       "<Figure size 720x720 with 15 Axes>"
      ]
     },
     "metadata": {},
     "output_type": "display_data"
    }
   ],
   "source": [
    "#let's visualize how the data has been distributed in all  the columns.\n",
    "plt.figure(figsize=(10,10),facecolor=\"blue\")\n",
    "plotnumber=1\n",
    "for column in df.columns:\n",
    "    if plotnumber<=15:\n",
    "        ax=plt.subplot(5,3,plotnumber)\n",
    "        sns.distplot(df[column],color=\"m\")\n",
    "        plt.xlabel(column,fontsize=10)\n",
    "        plt.yticks(rotation=0,fontsize=10)\n",
    "    plotnumber+=1\n",
    "    plt.tight_layout()"
   ]
  },
  {
   "cell_type": "markdown",
   "id": "3ebd594c",
   "metadata": {},
   "source": [
    "The columns Fnlwgt,Capital_gain, Capital_loss is right skewed and Race, Native_country columns are left skewed."
   ]
  },
  {
   "cell_type": "code",
   "execution_count": 46,
   "id": "7eeb74a3",
   "metadata": {},
   "outputs": [
    {
     "data": {
      "image/png": "[encoded data removed]",
      "text/plain": [
       "<Figure size 720x720 with 15 Axes>"
      ]
     },
     "metadata": {},
     "output_type": "display_data"
    }
   ],
   "source": [
    "#let's visualize how the outliers present in all  the columns.\n",
    "plt.figure(figsize=(10,10),facecolor=\"blue\")\n",
    "plotnumber=1\n",
    "for column in df.columns:\n",
    "    if plotnumber<=15:\n",
    "        ax=plt.subplot(5,3,plotnumber)\n",
    "        sns.boxplot(df[column],color=\"m\")\n",
    "        plt.xlabel(column,fontsize=10)\n",
    "        plt.yticks(rotation=0,fontsize=10)\n",
    "    plotnumber+=1\n",
    "    plt.tight_layout()"
   ]
  },
  {
   "cell_type": "markdown",
   "id": "61a6ff2e",
   "metadata": {},
   "source": [
    "The columns Age,Workclass,Fnlwgt, Education,Education_num,Race,Capital_gain,Capital_loss, Hours_per_week,Native_country,Income columns have outliers."
   ]
  },
  {
   "cell_type": "code",
   "execution_count": 47,
   "id": "b0622ad9",
   "metadata": {},
   "outputs": [
    {
     "data": {
      "text/html": [
       "<div>\n",
       "<style scoped>\n",
       "    .dataframe tbody tr th:only-of-type {\n",
       "        vertical-align: middle;\n",
       "    }\n",
       "\n",
       "    .dataframe tbody tr th {\n",
       "        vertical-align: top;\n",
       "    }\n",
       "\n",
       "    .dataframe thead th {\n",
       "        text-align: right;\n",
       "    }\n",
       "</style>\n",
       "<table border=\"1\" class=\"dataframe\">\n",
       "  <thead>\n",
       "    <tr style=\"text-align: right;\">\n",
       "      <th></th>\n",
       "      <th>Age</th>\n",
       "      <th>Workclass</th>\n",
       "      <th>Fnlwgt</th>\n",
       "      <th>Education</th>\n",
       "      <th>Education_num</th>\n",
       "      <th>Marital_status</th>\n",
       "      <th>Occupation</th>\n",
       "      <th>Relationship</th>\n",
       "      <th>Race</th>\n",
       "      <th>Sex</th>\n",
       "      <th>Capital_gain</th>\n",
       "      <th>Capital_loss</th>\n",
       "      <th>Hours_per_week</th>\n",
       "      <th>Native_country</th>\n",
       "      <th>Income</th>\n",
       "    </tr>\n",
       "  </thead>\n",
       "  <tbody>\n",
       "    <tr>\n",
       "      <th>0</th>\n",
       "      <td>0.836961</td>\n",
       "      <td>1.670389</td>\n",
       "      <td>1.008703</td>\n",
       "      <td>0.335272</td>\n",
       "      <td>1.134817</td>\n",
       "      <td>0.405890</td>\n",
       "      <td>0.736996</td>\n",
       "      <td>0.900122</td>\n",
       "      <td>0.393692</td>\n",
       "      <td>0.703036</td>\n",
       "      <td>0.145969</td>\n",
       "      <td>0.216747</td>\n",
       "      <td>2.222450</td>\n",
       "      <td>0.263987</td>\n",
       "      <td>0.563389</td>\n",
       "    </tr>\n",
       "    <tr>\n",
       "      <th>1</th>\n",
       "      <td>0.042934</td>\n",
       "      <td>0.089435</td>\n",
       "      <td>0.245008</td>\n",
       "      <td>0.181506</td>\n",
       "      <td>0.420646</td>\n",
       "      <td>1.733664</td>\n",
       "      <td>0.240245</td>\n",
       "      <td>0.277868</td>\n",
       "      <td>0.393692</td>\n",
       "      <td>0.703036</td>\n",
       "      <td>0.145969</td>\n",
       "      <td>0.216747</td>\n",
       "      <td>0.035664</td>\n",
       "      <td>0.263987</td>\n",
       "      <td>0.563389</td>\n",
       "    </tr>\n",
       "    <tr>\n",
       "      <th>2</th>\n",
       "      <td>1.056935</td>\n",
       "      <td>0.089435</td>\n",
       "      <td>0.425720</td>\n",
       "      <td>2.402383</td>\n",
       "      <td>1.198377</td>\n",
       "      <td>0.405890</td>\n",
       "      <td>0.240245</td>\n",
       "      <td>0.900122</td>\n",
       "      <td>1.962450</td>\n",
       "      <td>0.703036</td>\n",
       "      <td>0.145969</td>\n",
       "      <td>0.216747</td>\n",
       "      <td>0.035664</td>\n",
       "      <td>0.263987</td>\n",
       "      <td>0.563389</td>\n",
       "    </tr>\n",
       "    <tr>\n",
       "      <th>3</th>\n",
       "      <td>0.776180</td>\n",
       "      <td>0.089435</td>\n",
       "      <td>1.408036</td>\n",
       "      <td>0.335272</td>\n",
       "      <td>1.134817</td>\n",
       "      <td>0.405890</td>\n",
       "      <td>0.753256</td>\n",
       "      <td>2.211146</td>\n",
       "      <td>1.962450</td>\n",
       "      <td>1.422403</td>\n",
       "      <td>0.145969</td>\n",
       "      <td>0.216747</td>\n",
       "      <td>0.035664</td>\n",
       "      <td>5.285462</td>\n",
       "      <td>0.563389</td>\n",
       "    </tr>\n",
       "    <tr>\n",
       "      <th>4</th>\n",
       "      <td>0.116259</td>\n",
       "      <td>0.089435</td>\n",
       "      <td>0.898091</td>\n",
       "      <td>0.439895</td>\n",
       "      <td>1.523683</td>\n",
       "      <td>0.405890</td>\n",
       "      <td>0.736996</td>\n",
       "      <td>2.211146</td>\n",
       "      <td>0.393692</td>\n",
       "      <td>1.422403</td>\n",
       "      <td>0.145969</td>\n",
       "      <td>0.216747</td>\n",
       "      <td>0.035664</td>\n",
       "      <td>0.263987</td>\n",
       "      <td>0.563389</td>\n",
       "    </tr>\n",
       "    <tr>\n",
       "      <th>...</th>\n",
       "      <td>...</td>\n",
       "      <td>...</td>\n",
       "      <td>...</td>\n",
       "      <td>...</td>\n",
       "      <td>...</td>\n",
       "      <td>...</td>\n",
       "      <td>...</td>\n",
       "      <td>...</td>\n",
       "      <td>...</td>\n",
       "      <td>...</td>\n",
       "      <td>...</td>\n",
       "      <td>...</td>\n",
       "      <td>...</td>\n",
       "      <td>...</td>\n",
       "      <td>...</td>\n",
       "    </tr>\n",
       "    <tr>\n",
       "      <th>32555</th>\n",
       "      <td>0.849505</td>\n",
       "      <td>0.089435</td>\n",
       "      <td>0.639647</td>\n",
       "      <td>0.852050</td>\n",
       "      <td>0.745951</td>\n",
       "      <td>0.405890</td>\n",
       "      <td>1.498383</td>\n",
       "      <td>2.211146</td>\n",
       "      <td>0.393692</td>\n",
       "      <td>1.422403</td>\n",
       "      <td>0.145969</td>\n",
       "      <td>0.216747</td>\n",
       "      <td>0.197648</td>\n",
       "      <td>0.263987</td>\n",
       "      <td>0.563389</td>\n",
       "    </tr>\n",
       "    <tr>\n",
       "      <th>32556</th>\n",
       "      <td>0.103715</td>\n",
       "      <td>0.089435</td>\n",
       "      <td>0.335469</td>\n",
       "      <td>0.181506</td>\n",
       "      <td>0.420646</td>\n",
       "      <td>0.405890</td>\n",
       "      <td>0.008130</td>\n",
       "      <td>0.900122</td>\n",
       "      <td>0.393692</td>\n",
       "      <td>0.703036</td>\n",
       "      <td>0.145969</td>\n",
       "      <td>0.216747</td>\n",
       "      <td>0.035664</td>\n",
       "      <td>0.263987</td>\n",
       "      <td>1.774973</td>\n",
       "    </tr>\n",
       "    <tr>\n",
       "      <th>32557</th>\n",
       "      <td>1.423558</td>\n",
       "      <td>0.089435</td>\n",
       "      <td>0.358812</td>\n",
       "      <td>0.181506</td>\n",
       "      <td>0.420646</td>\n",
       "      <td>2.249657</td>\n",
       "      <td>1.482123</td>\n",
       "      <td>1.588892</td>\n",
       "      <td>0.393692</td>\n",
       "      <td>1.422403</td>\n",
       "      <td>0.145969</td>\n",
       "      <td>0.216747</td>\n",
       "      <td>0.035664</td>\n",
       "      <td>0.263987</td>\n",
       "      <td>0.563389</td>\n",
       "    </tr>\n",
       "    <tr>\n",
       "      <th>32558</th>\n",
       "      <td>1.216128</td>\n",
       "      <td>0.089435</td>\n",
       "      <td>0.110897</td>\n",
       "      <td>0.181506</td>\n",
       "      <td>0.420646</td>\n",
       "      <td>0.921884</td>\n",
       "      <td>1.482123</td>\n",
       "      <td>0.966639</td>\n",
       "      <td>0.393692</td>\n",
       "      <td>0.703036</td>\n",
       "      <td>0.145969</td>\n",
       "      <td>0.216747</td>\n",
       "      <td>1.655506</td>\n",
       "      <td>0.263987</td>\n",
       "      <td>0.563389</td>\n",
       "    </tr>\n",
       "    <tr>\n",
       "      <th>32559</th>\n",
       "      <td>0.983611</td>\n",
       "      <td>0.790477</td>\n",
       "      <td>0.929781</td>\n",
       "      <td>0.181506</td>\n",
       "      <td>0.420646</td>\n",
       "      <td>0.405890</td>\n",
       "      <td>0.736996</td>\n",
       "      <td>2.211146</td>\n",
       "      <td>0.393692</td>\n",
       "      <td>1.422403</td>\n",
       "      <td>1.887612</td>\n",
       "      <td>0.216747</td>\n",
       "      <td>0.035664</td>\n",
       "      <td>0.263987</td>\n",
       "      <td>1.774973</td>\n",
       "    </tr>\n",
       "  </tbody>\n",
       "</table>\n",
       "<p>32536 rows × 15 columns</p>\n",
       "</div>"
      ],
      "text/plain": [
       "            Age  Workclass    Fnlwgt  Education  Education_num  \\\n",
       "0      0.836961   1.670389  1.008703   0.335272       1.134817   \n",
       "1      0.042934   0.089435  0.245008   0.181506       0.420646   \n",
       "2      1.056935   0.089435  0.425720   2.402383       1.198377   \n",
       "3      0.776180   0.089435  1.408036   0.335272       1.134817   \n",
       "4      0.116259   0.089435  0.898091   0.439895       1.523683   \n",
       "...         ...        ...       ...        ...            ...   \n",
       "32555  0.849505   0.089435  0.639647   0.852050       0.745951   \n",
       "32556  0.103715   0.089435  0.335469   0.181506       0.420646   \n",
       "32557  1.423558   0.089435  0.358812   0.181506       0.420646   \n",
       "32558  1.216128   0.089435  0.110897   0.181506       0.420646   \n",
       "32559  0.983611   0.790477  0.929781   0.181506       0.420646   \n",
       "\n",
       "       Marital_status  Occupation  Relationship      Race       Sex  \\\n",
       "0            0.405890    0.736996      0.900122  0.393692  0.703036   \n",
       "1            1.733664    0.240245      0.277868  0.393692  0.703036   \n",
       "2            0.405890    0.240245      0.900122  1.962450  0.703036   \n",
       "3            0.405890    0.753256      2.211146  1.962450  1.422403   \n",
       "4            0.405890    0.736996      2.211146  0.393692  1.422403   \n",
       "...               ...         ...           ...       ...       ...   \n",
       "32555        0.405890    1.498383      2.211146  0.393692  1.422403   \n",
       "32556        0.405890    0.008130      0.900122  0.393692  0.703036   \n",
       "32557        2.249657    1.482123      1.588892  0.393692  1.422403   \n",
       "32558        0.921884    1.482123      0.966639  0.393692  0.703036   \n",
       "32559        0.405890    0.736996      2.211146  0.393692  1.422403   \n",
       "\n",
       "       Capital_gain  Capital_loss  Hours_per_week  Native_country    Income  \n",
       "0          0.145969      0.216747        2.222450        0.263987  0.563389  \n",
       "1          0.145969      0.216747        0.035664        0.263987  0.563389  \n",
       "2          0.145969      0.216747        0.035664        0.263987  0.563389  \n",
       "3          0.145969      0.216747        0.035664        5.285462  0.563389  \n",
       "4          0.145969      0.216747        0.035664        0.263987  0.563389  \n",
       "...             ...           ...             ...             ...       ...  \n",
       "32555      0.145969      0.216747        0.197648        0.263987  0.563389  \n",
       "32556      0.145969      0.216747        0.035664        0.263987  1.774973  \n",
       "32557      0.145969      0.216747        0.035664        0.263987  0.563389  \n",
       "32558      0.145969      0.216747        1.655506        0.263987  0.563389  \n",
       "32559      1.887612      0.216747        0.035664        0.263987  1.774973  \n",
       "\n",
       "[32536 rows x 15 columns]"
      ]
     },
     "execution_count": 47,
     "metadata": {},
     "output_type": "execute_result"
    }
   ],
   "source": [
    "from scipy.stats import zscore\n",
    "\n",
    "z_score=(zscore(df))\n",
    "b=np.abs(z_score)\n",
    "b"
   ]
  },
  {
   "cell_type": "code",
   "execution_count": 48,
   "id": "563d7a83",
   "metadata": {},
   "outputs": [
    {
     "data": {
      "text/plain": [
       "(array([    3,     9,    10, ..., 32508, 32526, 32528], dtype=int64),\n",
       " array([13, 12,  8, ...,  8,  8,  8], dtype=int64))"
      ]
     },
     "execution_count": 48,
     "metadata": {},
     "output_type": "execute_result"
    }
   ],
   "source": [
    "#The data where the outliers are present\n",
    "np.where(b>3)"
   ]
  },
  {
   "cell_type": "code",
   "execution_count": 49,
   "id": "65946d0b",
   "metadata": {},
   "outputs": [
    {
     "data": {
      "text/html": [
       "<div>\n",
       "<style scoped>\n",
       "    .dataframe tbody tr th:only-of-type {\n",
       "        vertical-align: middle;\n",
       "    }\n",
       "\n",
       "    .dataframe tbody tr th {\n",
       "        vertical-align: top;\n",
       "    }\n",
       "\n",
       "    .dataframe thead th {\n",
       "        text-align: right;\n",
       "    }\n",
       "</style>\n",
       "<table border=\"1\" class=\"dataframe\">\n",
       "  <thead>\n",
       "    <tr style=\"text-align: right;\">\n",
       "      <th></th>\n",
       "      <th>Age</th>\n",
       "      <th>Workclass</th>\n",
       "      <th>Fnlwgt</th>\n",
       "      <th>Education</th>\n",
       "      <th>Education_num</th>\n",
       "      <th>Marital_status</th>\n",
       "      <th>Occupation</th>\n",
       "      <th>Relationship</th>\n",
       "      <th>Race</th>\n",
       "      <th>Sex</th>\n",
       "      <th>Capital_gain</th>\n",
       "      <th>Capital_loss</th>\n",
       "      <th>Hours_per_week</th>\n",
       "      <th>Native_country</th>\n",
       "      <th>Income</th>\n",
       "    </tr>\n",
       "  </thead>\n",
       "  <tbody>\n",
       "    <tr>\n",
       "      <th>0</th>\n",
       "      <td>50</td>\n",
       "      <td>5</td>\n",
       "      <td>83311</td>\n",
       "      <td>9</td>\n",
       "      <td>13</td>\n",
       "      <td>2</td>\n",
       "      <td>3</td>\n",
       "      <td>0</td>\n",
       "      <td>4</td>\n",
       "      <td>1</td>\n",
       "      <td>0</td>\n",
       "      <td>0</td>\n",
       "      <td>13</td>\n",
       "      <td>38</td>\n",
       "      <td>0</td>\n",
       "    </tr>\n",
       "    <tr>\n",
       "      <th>1</th>\n",
       "      <td>38</td>\n",
       "      <td>3</td>\n",
       "      <td>215646</td>\n",
       "      <td>11</td>\n",
       "      <td>9</td>\n",
       "      <td>0</td>\n",
       "      <td>5</td>\n",
       "      <td>1</td>\n",
       "      <td>4</td>\n",
       "      <td>1</td>\n",
       "      <td>0</td>\n",
       "      <td>0</td>\n",
       "      <td>40</td>\n",
       "      <td>38</td>\n",
       "      <td>0</td>\n",
       "    </tr>\n",
       "    <tr>\n",
       "      <th>2</th>\n",
       "      <td>53</td>\n",
       "      <td>3</td>\n",
       "      <td>234721</td>\n",
       "      <td>1</td>\n",
       "      <td>7</td>\n",
       "      <td>2</td>\n",
       "      <td>5</td>\n",
       "      <td>0</td>\n",
       "      <td>2</td>\n",
       "      <td>1</td>\n",
       "      <td>0</td>\n",
       "      <td>0</td>\n",
       "      <td>40</td>\n",
       "      <td>38</td>\n",
       "      <td>0</td>\n",
       "    </tr>\n",
       "    <tr>\n",
       "      <th>4</th>\n",
       "      <td>37</td>\n",
       "      <td>3</td>\n",
       "      <td>284582</td>\n",
       "      <td>12</td>\n",
       "      <td>14</td>\n",
       "      <td>2</td>\n",
       "      <td>3</td>\n",
       "      <td>5</td>\n",
       "      <td>4</td>\n",
       "      <td>0</td>\n",
       "      <td>0</td>\n",
       "      <td>0</td>\n",
       "      <td>40</td>\n",
       "      <td>38</td>\n",
       "      <td>0</td>\n",
       "    </tr>\n",
       "    <tr>\n",
       "      <th>5</th>\n",
       "      <td>49</td>\n",
       "      <td>3</td>\n",
       "      <td>160187</td>\n",
       "      <td>6</td>\n",
       "      <td>5</td>\n",
       "      <td>3</td>\n",
       "      <td>7</td>\n",
       "      <td>1</td>\n",
       "      <td>2</td>\n",
       "      <td>0</td>\n",
       "      <td>0</td>\n",
       "      <td>0</td>\n",
       "      <td>16</td>\n",
       "      <td>22</td>\n",
       "      <td>0</td>\n",
       "    </tr>\n",
       "    <tr>\n",
       "      <th>...</th>\n",
       "      <td>...</td>\n",
       "      <td>...</td>\n",
       "      <td>...</td>\n",
       "      <td>...</td>\n",
       "      <td>...</td>\n",
       "      <td>...</td>\n",
       "      <td>...</td>\n",
       "      <td>...</td>\n",
       "      <td>...</td>\n",
       "      <td>...</td>\n",
       "      <td>...</td>\n",
       "      <td>...</td>\n",
       "      <td>...</td>\n",
       "      <td>...</td>\n",
       "      <td>...</td>\n",
       "    </tr>\n",
       "    <tr>\n",
       "      <th>32555</th>\n",
       "      <td>27</td>\n",
       "      <td>3</td>\n",
       "      <td>257302</td>\n",
       "      <td>7</td>\n",
       "      <td>12</td>\n",
       "      <td>2</td>\n",
       "      <td>12</td>\n",
       "      <td>5</td>\n",
       "      <td>4</td>\n",
       "      <td>0</td>\n",
       "      <td>0</td>\n",
       "      <td>0</td>\n",
       "      <td>38</td>\n",
       "      <td>38</td>\n",
       "      <td>0</td>\n",
       "    </tr>\n",
       "    <tr>\n",
       "      <th>32556</th>\n",
       "      <td>40</td>\n",
       "      <td>3</td>\n",
       "      <td>154374</td>\n",
       "      <td>11</td>\n",
       "      <td>9</td>\n",
       "      <td>2</td>\n",
       "      <td>6</td>\n",
       "      <td>0</td>\n",
       "      <td>4</td>\n",
       "      <td>1</td>\n",
       "      <td>0</td>\n",
       "      <td>0</td>\n",
       "      <td>40</td>\n",
       "      <td>38</td>\n",
       "      <td>1</td>\n",
       "    </tr>\n",
       "    <tr>\n",
       "      <th>32557</th>\n",
       "      <td>58</td>\n",
       "      <td>3</td>\n",
       "      <td>151910</td>\n",
       "      <td>11</td>\n",
       "      <td>9</td>\n",
       "      <td>6</td>\n",
       "      <td>0</td>\n",
       "      <td>4</td>\n",
       "      <td>4</td>\n",
       "      <td>0</td>\n",
       "      <td>0</td>\n",
       "      <td>0</td>\n",
       "      <td>40</td>\n",
       "      <td>38</td>\n",
       "      <td>0</td>\n",
       "    </tr>\n",
       "    <tr>\n",
       "      <th>32558</th>\n",
       "      <td>22</td>\n",
       "      <td>3</td>\n",
       "      <td>201490</td>\n",
       "      <td>11</td>\n",
       "      <td>9</td>\n",
       "      <td>4</td>\n",
       "      <td>0</td>\n",
       "      <td>3</td>\n",
       "      <td>4</td>\n",
       "      <td>1</td>\n",
       "      <td>0</td>\n",
       "      <td>0</td>\n",
       "      <td>20</td>\n",
       "      <td>38</td>\n",
       "      <td>0</td>\n",
       "    </tr>\n",
       "    <tr>\n",
       "      <th>32559</th>\n",
       "      <td>52</td>\n",
       "      <td>4</td>\n",
       "      <td>287927</td>\n",
       "      <td>11</td>\n",
       "      <td>9</td>\n",
       "      <td>2</td>\n",
       "      <td>3</td>\n",
       "      <td>5</td>\n",
       "      <td>4</td>\n",
       "      <td>0</td>\n",
       "      <td>15024</td>\n",
       "      <td>0</td>\n",
       "      <td>40</td>\n",
       "      <td>38</td>\n",
       "      <td>1</td>\n",
       "    </tr>\n",
       "  </tbody>\n",
       "</table>\n",
       "<p>27729 rows × 15 columns</p>\n",
       "</div>"
      ],
      "text/plain": [
       "       Age  Workclass  Fnlwgt  Education  Education_num  Marital_status  \\\n",
       "0       50          5   83311          9             13               2   \n",
       "1       38          3  215646         11              9               0   \n",
       "2       53          3  234721          1              7               2   \n",
       "4       37          3  284582         12             14               2   \n",
       "5       49          3  160187          6              5               3   \n",
       "...    ...        ...     ...        ...            ...             ...   \n",
       "32555   27          3  257302          7             12               2   \n",
       "32556   40          3  154374         11              9               2   \n",
       "32557   58          3  151910         11              9               6   \n",
       "32558   22          3  201490         11              9               4   \n",
       "32559   52          4  287927         11              9               2   \n",
       "\n",
       "       Occupation  Relationship  Race  Sex  Capital_gain  Capital_loss  \\\n",
       "0               3             0     4    1             0             0   \n",
       "1               5             1     4    1             0             0   \n",
       "2               5             0     2    1             0             0   \n",
       "4               3             5     4    0             0             0   \n",
       "5               7             1     2    0             0             0   \n",
       "...           ...           ...   ...  ...           ...           ...   \n",
       "32555          12             5     4    0             0             0   \n",
       "32556           6             0     4    1             0             0   \n",
       "32557           0             4     4    0             0             0   \n",
       "32558           0             3     4    1             0             0   \n",
       "32559           3             5     4    0         15024             0   \n",
       "\n",
       "       Hours_per_week  Native_country  Income  \n",
       "0                  13              38       0  \n",
       "1                  40              38       0  \n",
       "2                  40              38       0  \n",
       "4                  40              38       0  \n",
       "5                  16              22       0  \n",
       "...               ...             ...     ...  \n",
       "32555              38              38       0  \n",
       "32556              40              38       1  \n",
       "32557              40              38       0  \n",
       "32558              20              38       0  \n",
       "32559              40              38       1  \n",
       "\n",
       "[27729 rows x 15 columns]"
      ]
     },
     "execution_count": 49,
     "metadata": {},
     "output_type": "execute_result"
    }
   ],
   "source": [
    "#Now removing the data above zscore\n",
    "df1=df[(b<3).all(axis=1)]\n",
    "df1"
   ]
  },
  {
   "cell_type": "code",
   "execution_count": 50,
   "id": "336a0cfa",
   "metadata": {},
   "outputs": [
    {
     "name": "stdout",
     "output_type": "stream",
     "text": [
      "Data loss percentage: 14.774403737398572\n"
     ]
    }
   ],
   "source": [
    "print(\"Data loss percentage:\",((df.shape[0]-df1.shape[0])/df.shape[0])*100)"
   ]
  },
  {
   "cell_type": "markdown",
   "id": "1c8e58fb",
   "metadata": {},
   "source": [
    "Data loss percentage after removing outliers is 14.77%"
   ]
  },
  {
   "cell_type": "code",
   "execution_count": 16,
   "id": "667b4a50",
   "metadata": {},
   "outputs": [
    {
     "data": {
      "text/plain": [
       "Age                0.557657\n",
       "Workclass          0.066067\n",
       "Fnlwgt             1.447695\n",
       "Education         -0.934180\n",
       "Education_num     -0.309454\n",
       "Marital_status    -0.012692\n",
       "Occupation         0.108962\n",
       "Relationship       0.786514\n",
       "Race              -2.435283\n",
       "Sex               -0.719400\n",
       "Capital_gain      11.949245\n",
       "Capital_loss       4.592622\n",
       "Hours_per_week     0.228752\n",
       "Native_country    -4.192409\n",
       "Income             1.211640\n",
       "dtype: float64"
      ]
     },
     "execution_count": 16,
     "metadata": {},
     "output_type": "execute_result"
    }
   ],
   "source": [
    "#checking skewness in all the columns.\n",
    "df.skew()"
   ]
  },
  {
   "cell_type": "markdown",
   "id": "16a1d18d",
   "metadata": {},
   "source": [
    "skewness is present in  Fnlwgt,Education,Relationship,Race,Sex,Capital_gain, Capital_loss,Income,Native_country columns, as Income is target variable no need to remove skewness in that column and let us remove skewness in remaining columns."
   ]
  },
  {
   "cell_type": "code",
   "execution_count": 17,
   "id": "3b33ed8c",
   "metadata": {},
   "outputs": [],
   "source": [
    "#Let us remove skewness using cube root method\n",
    "df['Fnlwgt']=np.cbrt(df[\"Fnlwgt\"])\n",
    "df[\"Education\"]=np.cbrt(df[\"Education\"])\n",
    "df[\"Relationship\"]=np.cbrt(df[\"Relationship\"])\n",
    "df[\"Race\"]=np.cbrt(df[\"Race\"])\n",
    "df[\"Sex\"]=np.cbrt(df[\"Sex\"])\n",
    "df[\"Capital_gain\"]=np.cbrt(df[\"Capital_gain\"])\n",
    "df['Capital_loss']=np.cbrt(df[\"Capital_loss\"])\n",
    "df[\"Native_country\"]=np.cbrt(df[\"Native_country\"])\n"
   ]
  },
  {
   "cell_type": "code",
   "execution_count": 18,
   "id": "e4ccbc0f",
   "metadata": {},
   "outputs": [
    {
     "data": {
      "text/plain": [
       "Age               0.557657\n",
       "Workclass         0.066067\n",
       "Fnlwgt           -0.163720\n",
       "Education        -2.817651\n",
       "Education_num    -0.309454\n",
       "Marital_status   -0.012692\n",
       "Occupation        0.108962\n",
       "Relationship     -0.102138\n",
       "Race             -4.746106\n",
       "Sex              -0.719400\n",
       "Capital_gain      4.098390\n",
       "Capital_loss      4.335154\n",
       "Hours_per_week    0.228752\n",
       "Native_country   -5.425080\n",
       "Income            1.211640\n",
       "dtype: float64"
      ]
     },
     "execution_count": 18,
     "metadata": {},
     "output_type": "execute_result"
    }
   ],
   "source": [
    "df.skew()"
   ]
  },
  {
   "cell_type": "markdown",
   "id": "e6ebbc3e",
   "metadata": {},
   "source": [
    "still skewness is present in Education, Race,Capital_gain, Capital_loss, Native_country columns."
   ]
  },
  {
   "cell_type": "code",
   "execution_count": 54,
   "id": "2653c729",
   "metadata": {},
   "outputs": [
    {
     "data": {
      "text/html": [
       "<div>\n",
       "<style scoped>\n",
       "    .dataframe tbody tr th:only-of-type {\n",
       "        vertical-align: middle;\n",
       "    }\n",
       "\n",
       "    .dataframe tbody tr th {\n",
       "        vertical-align: top;\n",
       "    }\n",
       "\n",
       "    .dataframe thead th {\n",
       "        text-align: right;\n",
       "    }\n",
       "</style>\n",
       "<table border=\"1\" class=\"dataframe\">\n",
       "  <thead>\n",
       "    <tr style=\"text-align: right;\">\n",
       "      <th></th>\n",
       "      <th>Age</th>\n",
       "      <th>Workclass</th>\n",
       "      <th>Fnlwgt</th>\n",
       "      <th>Education</th>\n",
       "      <th>Education_num</th>\n",
       "      <th>Marital_status</th>\n",
       "      <th>Occupation</th>\n",
       "      <th>Relationship</th>\n",
       "      <th>Race</th>\n",
       "      <th>Sex</th>\n",
       "      <th>Capital_gain</th>\n",
       "      <th>Capital_loss</th>\n",
       "      <th>Hours_per_week</th>\n",
       "      <th>Native_country</th>\n",
       "      <th>Income</th>\n",
       "    </tr>\n",
       "  </thead>\n",
       "  <tbody>\n",
       "    <tr>\n",
       "      <th>Age</th>\n",
       "      <td>1.000000</td>\n",
       "      <td>0.038591</td>\n",
       "      <td>-0.067847</td>\n",
       "      <td>0.021668</td>\n",
       "      <td>0.036224</td>\n",
       "      <td>-0.266142</td>\n",
       "      <td>-0.008277</td>\n",
       "      <td>-0.325571</td>\n",
       "      <td>0.025202</td>\n",
       "      <td>0.088708</td>\n",
       "      <td>0.124529</td>\n",
       "      <td>0.052857</td>\n",
       "      <td>0.068515</td>\n",
       "      <td>-0.009012</td>\n",
       "      <td>0.234039</td>\n",
       "    </tr>\n",
       "    <tr>\n",
       "      <th>Workclass</th>\n",
       "      <td>0.038591</td>\n",
       "      <td>1.000000</td>\n",
       "      <td>-0.023732</td>\n",
       "      <td>0.000293</td>\n",
       "      <td>0.001880</td>\n",
       "      <td>-0.016964</td>\n",
       "      <td>0.009903</td>\n",
       "      <td>-0.063373</td>\n",
       "      <td>0.037374</td>\n",
       "      <td>0.068164</td>\n",
       "      <td>0.020916</td>\n",
       "      <td>-0.000650</td>\n",
       "      <td>0.034384</td>\n",
       "      <td>-0.003559</td>\n",
       "      <td>0.000394</td>\n",
       "    </tr>\n",
       "    <tr>\n",
       "      <th>Fnlwgt</th>\n",
       "      <td>-0.067847</td>\n",
       "      <td>-0.023732</td>\n",
       "      <td>1.000000</td>\n",
       "      <td>-0.026779</td>\n",
       "      <td>-0.040897</td>\n",
       "      <td>0.027430</td>\n",
       "      <td>0.000143</td>\n",
       "      <td>0.017273</td>\n",
       "      <td>0.032139</td>\n",
       "      <td>0.023012</td>\n",
       "      <td>-0.000765</td>\n",
       "      <td>-0.006170</td>\n",
       "      <td>-0.022800</td>\n",
       "      <td>-0.052271</td>\n",
       "      <td>-0.004533</td>\n",
       "    </tr>\n",
       "    <tr>\n",
       "      <th>Education</th>\n",
       "      <td>0.021668</td>\n",
       "      <td>0.000293</td>\n",
       "      <td>-0.026779</td>\n",
       "      <td>1.000000</td>\n",
       "      <td>0.420165</td>\n",
       "      <td>-0.051928</td>\n",
       "      <td>-0.024784</td>\n",
       "      <td>-0.039194</td>\n",
       "      <td>0.016511</td>\n",
       "      <td>-0.014847</td>\n",
       "      <td>0.041009</td>\n",
       "      <td>0.022359</td>\n",
       "      <td>0.082765</td>\n",
       "      <td>0.040111</td>\n",
       "      <td>0.106700</td>\n",
       "    </tr>\n",
       "    <tr>\n",
       "      <th>Education_num</th>\n",
       "      <td>0.036224</td>\n",
       "      <td>0.001880</td>\n",
       "      <td>-0.040897</td>\n",
       "      <td>0.420165</td>\n",
       "      <td>1.000000</td>\n",
       "      <td>-0.069196</td>\n",
       "      <td>0.084764</td>\n",
       "      <td>-0.096215</td>\n",
       "      <td>0.029541</td>\n",
       "      <td>0.012181</td>\n",
       "      <td>0.148258</td>\n",
       "      <td>0.078050</td>\n",
       "      <td>0.148426</td>\n",
       "      <td>0.065625</td>\n",
       "      <td>0.335299</td>\n",
       "    </tr>\n",
       "    <tr>\n",
       "      <th>Marital_status</th>\n",
       "      <td>-0.266142</td>\n",
       "      <td>-0.016964</td>\n",
       "      <td>0.027430</td>\n",
       "      <td>-0.051928</td>\n",
       "      <td>-0.069196</td>\n",
       "      <td>1.000000</td>\n",
       "      <td>0.022923</td>\n",
       "      <td>0.298589</td>\n",
       "      <td>-0.046561</td>\n",
       "      <td>-0.129425</td>\n",
       "      <td>-0.068250</td>\n",
       "      <td>-0.035579</td>\n",
       "      <td>-0.190433</td>\n",
       "      <td>-0.016693</td>\n",
       "      <td>-0.199187</td>\n",
       "    </tr>\n",
       "    <tr>\n",
       "      <th>Occupation</th>\n",
       "      <td>-0.008277</td>\n",
       "      <td>0.009903</td>\n",
       "      <td>0.000143</td>\n",
       "      <td>-0.024784</td>\n",
       "      <td>0.084764</td>\n",
       "      <td>0.022923</td>\n",
       "      <td>1.000000</td>\n",
       "      <td>-0.044107</td>\n",
       "      <td>-0.000733</td>\n",
       "      <td>0.057092</td>\n",
       "      <td>0.016699</td>\n",
       "      <td>0.011120</td>\n",
       "      <td>0.014776</td>\n",
       "      <td>-0.006436</td>\n",
       "      <td>0.046904</td>\n",
       "    </tr>\n",
       "    <tr>\n",
       "      <th>Relationship</th>\n",
       "      <td>-0.325571</td>\n",
       "      <td>-0.063373</td>\n",
       "      <td>0.017273</td>\n",
       "      <td>-0.039194</td>\n",
       "      <td>-0.096215</td>\n",
       "      <td>0.298589</td>\n",
       "      <td>-0.044107</td>\n",
       "      <td>1.000000</td>\n",
       "      <td>-0.091515</td>\n",
       "      <td>-0.614432</td>\n",
       "      <td>-0.116783</td>\n",
       "      <td>-0.073564</td>\n",
       "      <td>-0.269288</td>\n",
       "      <td>-0.008776</td>\n",
       "      <td>-0.366371</td>\n",
       "    </tr>\n",
       "    <tr>\n",
       "      <th>Race</th>\n",
       "      <td>0.025202</td>\n",
       "      <td>0.037374</td>\n",
       "      <td>0.032139</td>\n",
       "      <td>0.016511</td>\n",
       "      <td>0.029541</td>\n",
       "      <td>-0.046561</td>\n",
       "      <td>-0.000733</td>\n",
       "      <td>-0.091515</td>\n",
       "      <td>1.000000</td>\n",
       "      <td>0.064752</td>\n",
       "      <td>0.016784</td>\n",
       "      <td>0.018076</td>\n",
       "      <td>0.030443</td>\n",
       "      <td>0.082595</td>\n",
       "      <td>0.060959</td>\n",
       "    </tr>\n",
       "    <tr>\n",
       "      <th>Sex</th>\n",
       "      <td>0.088708</td>\n",
       "      <td>0.068164</td>\n",
       "      <td>0.023012</td>\n",
       "      <td>-0.014847</td>\n",
       "      <td>0.012181</td>\n",
       "      <td>-0.129425</td>\n",
       "      <td>0.057092</td>\n",
       "      <td>-0.614432</td>\n",
       "      <td>0.064752</td>\n",
       "      <td>1.000000</td>\n",
       "      <td>0.071827</td>\n",
       "      <td>0.043822</td>\n",
       "      <td>0.229190</td>\n",
       "      <td>0.001523</td>\n",
       "      <td>0.215984</td>\n",
       "    </tr>\n",
       "    <tr>\n",
       "      <th>Capital_gain</th>\n",
       "      <td>0.124529</td>\n",
       "      <td>0.020916</td>\n",
       "      <td>-0.000765</td>\n",
       "      <td>0.041009</td>\n",
       "      <td>0.148258</td>\n",
       "      <td>-0.068250</td>\n",
       "      <td>0.016699</td>\n",
       "      <td>-0.116783</td>\n",
       "      <td>0.016784</td>\n",
       "      <td>0.071827</td>\n",
       "      <td>1.000000</td>\n",
       "      <td>-0.061501</td>\n",
       "      <td>0.095119</td>\n",
       "      <td>0.008618</td>\n",
       "      <td>0.313931</td>\n",
       "    </tr>\n",
       "    <tr>\n",
       "      <th>Capital_loss</th>\n",
       "      <td>0.052857</td>\n",
       "      <td>-0.000650</td>\n",
       "      <td>-0.006170</td>\n",
       "      <td>0.022359</td>\n",
       "      <td>0.078050</td>\n",
       "      <td>-0.035579</td>\n",
       "      <td>0.011120</td>\n",
       "      <td>-0.073564</td>\n",
       "      <td>0.018076</td>\n",
       "      <td>0.043822</td>\n",
       "      <td>-0.061501</td>\n",
       "      <td>1.000000</td>\n",
       "      <td>0.052235</td>\n",
       "      <td>0.003549</td>\n",
       "      <td>0.144047</td>\n",
       "    </tr>\n",
       "    <tr>\n",
       "      <th>Hours_per_week</th>\n",
       "      <td>0.068515</td>\n",
       "      <td>0.034384</td>\n",
       "      <td>-0.022800</td>\n",
       "      <td>0.082765</td>\n",
       "      <td>0.148426</td>\n",
       "      <td>-0.190433</td>\n",
       "      <td>0.014776</td>\n",
       "      <td>-0.269288</td>\n",
       "      <td>0.030443</td>\n",
       "      <td>0.229190</td>\n",
       "      <td>0.095119</td>\n",
       "      <td>0.052235</td>\n",
       "      <td>1.000000</td>\n",
       "      <td>0.006118</td>\n",
       "      <td>0.229659</td>\n",
       "    </tr>\n",
       "    <tr>\n",
       "      <th>Native_country</th>\n",
       "      <td>-0.009012</td>\n",
       "      <td>-0.003559</td>\n",
       "      <td>-0.052271</td>\n",
       "      <td>0.040111</td>\n",
       "      <td>0.065625</td>\n",
       "      <td>-0.016693</td>\n",
       "      <td>-0.006436</td>\n",
       "      <td>-0.008776</td>\n",
       "      <td>0.082595</td>\n",
       "      <td>0.001523</td>\n",
       "      <td>0.008618</td>\n",
       "      <td>0.003549</td>\n",
       "      <td>0.006118</td>\n",
       "      <td>1.000000</td>\n",
       "      <td>0.015647</td>\n",
       "    </tr>\n",
       "    <tr>\n",
       "      <th>Income</th>\n",
       "      <td>0.234039</td>\n",
       "      <td>0.000394</td>\n",
       "      <td>-0.004533</td>\n",
       "      <td>0.106700</td>\n",
       "      <td>0.335299</td>\n",
       "      <td>-0.199187</td>\n",
       "      <td>0.046904</td>\n",
       "      <td>-0.366371</td>\n",
       "      <td>0.060959</td>\n",
       "      <td>0.215984</td>\n",
       "      <td>0.313931</td>\n",
       "      <td>0.144047</td>\n",
       "      <td>0.229659</td>\n",
       "      <td>0.015647</td>\n",
       "      <td>1.000000</td>\n",
       "    </tr>\n",
       "  </tbody>\n",
       "</table>\n",
       "</div>"
      ],
      "text/plain": [
       "                     Age  Workclass    Fnlwgt  Education  Education_num  \\\n",
       "Age             1.000000   0.038591 -0.067847   0.021668       0.036224   \n",
       "Workclass       0.038591   1.000000 -0.023732   0.000293       0.001880   \n",
       "Fnlwgt         -0.067847  -0.023732  1.000000  -0.026779      -0.040897   \n",
       "Education       0.021668   0.000293 -0.026779   1.000000       0.420165   \n",
       "Education_num   0.036224   0.001880 -0.040897   0.420165       1.000000   \n",
       "Marital_status -0.266142  -0.016964  0.027430  -0.051928      -0.069196   \n",
       "Occupation     -0.008277   0.009903  0.000143  -0.024784       0.084764   \n",
       "Relationship   -0.325571  -0.063373  0.017273  -0.039194      -0.096215   \n",
       "Race            0.025202   0.037374  0.032139   0.016511       0.029541   \n",
       "Sex             0.088708   0.068164  0.023012  -0.014847       0.012181   \n",
       "Capital_gain    0.124529   0.020916 -0.000765   0.041009       0.148258   \n",
       "Capital_loss    0.052857  -0.000650 -0.006170   0.022359       0.078050   \n",
       "Hours_per_week  0.068515   0.034384 -0.022800   0.082765       0.148426   \n",
       "Native_country -0.009012  -0.003559 -0.052271   0.040111       0.065625   \n",
       "Income          0.234039   0.000394 -0.004533   0.106700       0.335299   \n",
       "\n",
       "                Marital_status  Occupation  Relationship      Race       Sex  \\\n",
       "Age                  -0.266142   -0.008277     -0.325571  0.025202  0.088708   \n",
       "Workclass            -0.016964    0.009903     -0.063373  0.037374  0.068164   \n",
       "Fnlwgt                0.027430    0.000143      0.017273  0.032139  0.023012   \n",
       "Education            -0.051928   -0.024784     -0.039194  0.016511 -0.014847   \n",
       "Education_num        -0.069196    0.084764     -0.096215  0.029541  0.012181   \n",
       "Marital_status        1.000000    0.022923      0.298589 -0.046561 -0.129425   \n",
       "Occupation            0.022923    1.000000     -0.044107 -0.000733  0.057092   \n",
       "Relationship          0.298589   -0.044107      1.000000 -0.091515 -0.614432   \n",
       "Race                 -0.046561   -0.000733     -0.091515  1.000000  0.064752   \n",
       "Sex                  -0.129425    0.057092     -0.614432  0.064752  1.000000   \n",
       "Capital_gain         -0.068250    0.016699     -0.116783  0.016784  0.071827   \n",
       "Capital_loss         -0.035579    0.011120     -0.073564  0.018076  0.043822   \n",
       "Hours_per_week       -0.190433    0.014776     -0.269288  0.030443  0.229190   \n",
       "Native_country       -0.016693   -0.006436     -0.008776  0.082595  0.001523   \n",
       "Income               -0.199187    0.046904     -0.366371  0.060959  0.215984   \n",
       "\n",
       "                Capital_gain  Capital_loss  Hours_per_week  Native_country  \\\n",
       "Age                 0.124529      0.052857        0.068515       -0.009012   \n",
       "Workclass           0.020916     -0.000650        0.034384       -0.003559   \n",
       "Fnlwgt             -0.000765     -0.006170       -0.022800       -0.052271   \n",
       "Education           0.041009      0.022359        0.082765        0.040111   \n",
       "Education_num       0.148258      0.078050        0.148426        0.065625   \n",
       "Marital_status     -0.068250     -0.035579       -0.190433       -0.016693   \n",
       "Occupation          0.016699      0.011120        0.014776       -0.006436   \n",
       "Relationship       -0.116783     -0.073564       -0.269288       -0.008776   \n",
       "Race                0.016784      0.018076        0.030443        0.082595   \n",
       "Sex                 0.071827      0.043822        0.229190        0.001523   \n",
       "Capital_gain        1.000000     -0.061501        0.095119        0.008618   \n",
       "Capital_loss       -0.061501      1.000000        0.052235        0.003549   \n",
       "Hours_per_week      0.095119      0.052235        1.000000        0.006118   \n",
       "Native_country      0.008618      0.003549        0.006118        1.000000   \n",
       "Income              0.313931      0.144047        0.229659        0.015647   \n",
       "\n",
       "                  Income  \n",
       "Age             0.234039  \n",
       "Workclass       0.000394  \n",
       "Fnlwgt         -0.004533  \n",
       "Education       0.106700  \n",
       "Education_num   0.335299  \n",
       "Marital_status -0.199187  \n",
       "Occupation      0.046904  \n",
       "Relationship   -0.366371  \n",
       "Race            0.060959  \n",
       "Sex             0.215984  \n",
       "Capital_gain    0.313931  \n",
       "Capital_loss    0.144047  \n",
       "Hours_per_week  0.229659  \n",
       "Native_country  0.015647  \n",
       "Income          1.000000  "
      ]
     },
     "execution_count": 54,
     "metadata": {},
     "output_type": "execute_result"
    }
   ],
   "source": [
    "#correlation between Dependent variables and independent variable\n",
    "df.corr()"
   ]
  },
  {
   "cell_type": "markdown",
   "id": "c1104ae2",
   "metadata": {},
   "source": [
    "This gives the correlation between dependent and independent features."
   ]
  },
  {
   "cell_type": "code",
   "execution_count": 55,
   "id": "d64355ff",
   "metadata": {},
   "outputs": [
    {
     "data": {
      "image/png": "[encoded data removed]",
      "text/plain": [
       "<Figure size 2160x1080 with 2 Axes>"
      ]
     },
     "metadata": {
      "needs_background": "light"
     },
     "output_type": "display_data"
    }
   ],
   "source": [
    "plt.figure(figsize=(30,15))\n",
    "sns.heatmap(df.corr(), annot=True,fmt=\"0.2f\",linewidth=0.2,linecolor=\"black\",cmap=\"Accent\")\n",
    "plt.xlabel('figure',fontsize=10)\n",
    "plt.ylabel(\"features_name\",fontsize=15)\n",
    "plt.title(\"correlation  of dependent and independent features\",fontsize=20)\n",
    "plt.show()"
   ]
  },
  {
   "cell_type": "code",
   "execution_count": 19,
   "id": "b734b066",
   "metadata": {},
   "outputs": [
    {
     "data": {
      "text/plain": [
       "Income            1.000000\n",
       "Education_num     0.335299\n",
       "Capital_gain      0.313931\n",
       "Age               0.234039\n",
       "Hours_per_week    0.229659\n",
       "Sex               0.215984\n",
       "Capital_loss      0.144047\n",
       "Education         0.106700\n",
       "Race              0.060959\n",
       "Occupation        0.046904\n",
       "Native_country    0.015647\n",
       "Workclass         0.000394\n",
       "Fnlwgt           -0.004533\n",
       "Marital_status   -0.199187\n",
       "Relationship     -0.366371\n",
       "Name: Income, dtype: float64"
      ]
     },
     "execution_count": 19,
     "metadata": {},
     "output_type": "execute_result"
    }
   ],
   "source": [
    "df.corr()['Income'].sort_values(ascending=False)"
   ]
  },
  {
   "cell_type": "markdown",
   "id": "9224688e",
   "metadata": {},
   "source": [
    "we can observe the positive correlated features and negative correlated features also"
   ]
  },
  {
   "cell_type": "code",
   "execution_count": 57,
   "id": "8c9cda51",
   "metadata": {},
   "outputs": [
    {
     "data": {
      "image/png": "[encoded data removed]",
      "text/plain": [
       "<Figure size 720x720 with 1 Axes>"
      ]
     },
     "metadata": {
      "needs_background": "light"
     },
     "output_type": "display_data"
    }
   ],
   "source": [
    "#visualizing the correlation between features and target\n",
    "plt.figure(figsize=(10,10))\n",
    "df1.corr()['Income'].sort_values(ascending=False).drop([\"Income\"]).plot(kind=\"bar\",color=\"m\")\n",
    "plt.xlabel('feature',fontsize=15)\n",
    "plt.ylabel('Target',fontsize=15)\n",
    "plt.show()"
   ]
  },
  {
   "cell_type": "code",
   "execution_count": 20,
   "id": "50245663",
   "metadata": {},
   "outputs": [],
   "source": [
    "#Seperating Features and label\n",
    "x=df.drop(\"Income\",axis=1)\n",
    "y=df[\"Income\"]"
   ]
  },
  {
   "cell_type": "code",
   "execution_count": 21,
   "id": "9cd06eb1",
   "metadata": {},
   "outputs": [
    {
     "data": {
      "text/plain": [
       "(32536, 14)"
      ]
     },
     "execution_count": 21,
     "metadata": {},
     "output_type": "execute_result"
    }
   ],
   "source": [
    "x.shape"
   ]
  },
  {
   "cell_type": "code",
   "execution_count": 22,
   "id": "3bbe9bdd",
   "metadata": {},
   "outputs": [
    {
     "data": {
      "text/plain": [
       "(32536,)"
      ]
     },
     "execution_count": 22,
     "metadata": {},
     "output_type": "execute_result"
    }
   ],
   "source": [
    "y.shape"
   ]
  },
  {
   "cell_type": "code",
   "execution_count": 23,
   "id": "ef2b047b",
   "metadata": {},
   "outputs": [
    {
     "data": {
      "text/plain": [
       "0    24697\n",
       "1     7839\n",
       "Name: Income, dtype: int64"
      ]
     },
     "execution_count": 23,
     "metadata": {},
     "output_type": "execute_result"
    }
   ],
   "source": [
    "y.value_counts()"
   ]
  },
  {
   "cell_type": "markdown",
   "id": "2f061ff4",
   "metadata": {},
   "source": [
    "Feature scaling using RobustScaler:"
   ]
  },
  {
   "cell_type": "code",
   "execution_count": 24,
   "id": "35f753f9",
   "metadata": {},
   "outputs": [
    {
     "data": {
      "text/html": [
       "<div>\n",
       "<style scoped>\n",
       "    .dataframe tbody tr th:only-of-type {\n",
       "        vertical-align: middle;\n",
       "    }\n",
       "\n",
       "    .dataframe tbody tr th {\n",
       "        vertical-align: top;\n",
       "    }\n",
       "\n",
       "    .dataframe thead th {\n",
       "        text-align: right;\n",
       "    }\n",
       "</style>\n",
       "<table border=\"1\" class=\"dataframe\">\n",
       "  <thead>\n",
       "    <tr style=\"text-align: right;\">\n",
       "      <th></th>\n",
       "      <th>Age</th>\n",
       "      <th>Workclass</th>\n",
       "      <th>Fnlwgt</th>\n",
       "      <th>Education</th>\n",
       "      <th>Education_num</th>\n",
       "      <th>Marital_status</th>\n",
       "      <th>Occupation</th>\n",
       "      <th>Relationship</th>\n",
       "      <th>Race</th>\n",
       "      <th>Sex</th>\n",
       "      <th>Capital_gain</th>\n",
       "      <th>Capital_loss</th>\n",
       "      <th>Hours_per_week</th>\n",
       "      <th>Native_country</th>\n",
       "    </tr>\n",
       "  </thead>\n",
       "  <tbody>\n",
       "    <tr>\n",
       "      <th>0</th>\n",
       "      <td>0.65</td>\n",
       "      <td>2.0</td>\n",
       "      <td>-0.981017</td>\n",
       "      <td>-0.687365</td>\n",
       "      <td>1.000000</td>\n",
       "      <td>0.0</td>\n",
       "      <td>-0.428571</td>\n",
       "      <td>-0.693361</td>\n",
       "      <td>0.00000</td>\n",
       "      <td>0.0</td>\n",
       "      <td>0.000000</td>\n",
       "      <td>0.0</td>\n",
       "      <td>-5.4</td>\n",
       "      <td>0.000000</td>\n",
       "    </tr>\n",
       "    <tr>\n",
       "      <th>1</th>\n",
       "      <td>0.05</td>\n",
       "      <td>0.0</td>\n",
       "      <td>0.285990</td>\n",
       "      <td>0.000000</td>\n",
       "      <td>-0.333333</td>\n",
       "      <td>-1.0</td>\n",
       "      <td>-0.142857</td>\n",
       "      <td>0.000000</td>\n",
       "      <td>0.00000</td>\n",
       "      <td>0.0</td>\n",
       "      <td>0.000000</td>\n",
       "      <td>0.0</td>\n",
       "      <td>0.0</td>\n",
       "      <td>0.000000</td>\n",
       "    </tr>\n",
       "    <tr>\n",
       "      <th>2</th>\n",
       "      <td>0.80</td>\n",
       "      <td>0.0</td>\n",
       "      <td>0.419629</td>\n",
       "      <td>-5.846722</td>\n",
       "      <td>-1.000000</td>\n",
       "      <td>0.0</td>\n",
       "      <td>-0.142857</td>\n",
       "      <td>-0.693361</td>\n",
       "      <td>-0.32748</td>\n",
       "      <td>0.0</td>\n",
       "      <td>0.000000</td>\n",
       "      <td>0.0</td>\n",
       "      <td>0.0</td>\n",
       "      <td>0.000000</td>\n",
       "    </tr>\n",
       "    <tr>\n",
       "      <th>3</th>\n",
       "      <td>-0.45</td>\n",
       "      <td>0.0</td>\n",
       "      <td>1.041826</td>\n",
       "      <td>-0.687365</td>\n",
       "      <td>1.000000</td>\n",
       "      <td>0.0</td>\n",
       "      <td>0.428571</td>\n",
       "      <td>0.492270</td>\n",
       "      <td>-0.32748</td>\n",
       "      <td>-1.0</td>\n",
       "      <td>0.000000</td>\n",
       "      <td>0.0</td>\n",
       "      <td>0.0</td>\n",
       "      <td>-1.774574</td>\n",
       "    </tr>\n",
       "    <tr>\n",
       "      <th>4</th>\n",
       "      <td>0.00</td>\n",
       "      <td>0.0</td>\n",
       "      <td>0.737750</td>\n",
       "      <td>0.312635</td>\n",
       "      <td>1.333333</td>\n",
       "      <td>0.0</td>\n",
       "      <td>-0.428571</td>\n",
       "      <td>0.492270</td>\n",
       "      <td>0.00000</td>\n",
       "      <td>-1.0</td>\n",
       "      <td>0.000000</td>\n",
       "      <td>0.0</td>\n",
       "      <td>0.0</td>\n",
       "      <td>0.000000</td>\n",
       "    </tr>\n",
       "    <tr>\n",
       "      <th>...</th>\n",
       "      <td>...</td>\n",
       "      <td>...</td>\n",
       "      <td>...</td>\n",
       "      <td>...</td>\n",
       "      <td>...</td>\n",
       "      <td>...</td>\n",
       "      <td>...</td>\n",
       "      <td>...</td>\n",
       "      <td>...</td>\n",
       "      <td>...</td>\n",
       "      <td>...</td>\n",
       "      <td>...</td>\n",
       "      <td>...</td>\n",
       "      <td>...</td>\n",
       "    </tr>\n",
       "    <tr>\n",
       "      <th>32531</th>\n",
       "      <td>-0.50</td>\n",
       "      <td>0.0</td>\n",
       "      <td>0.568779</td>\n",
       "      <td>-1.485822</td>\n",
       "      <td>0.666667</td>\n",
       "      <td>0.0</td>\n",
       "      <td>0.857143</td>\n",
       "      <td>0.492270</td>\n",
       "      <td>0.00000</td>\n",
       "      <td>-1.0</td>\n",
       "      <td>0.000000</td>\n",
       "      <td>0.0</td>\n",
       "      <td>-0.4</td>\n",
       "      <td>0.000000</td>\n",
       "    </tr>\n",
       "    <tr>\n",
       "      <th>32532</th>\n",
       "      <td>0.15</td>\n",
       "      <td>0.0</td>\n",
       "      <td>-0.205720</td>\n",
       "      <td>0.000000</td>\n",
       "      <td>-0.333333</td>\n",
       "      <td>0.0</td>\n",
       "      <td>0.000000</td>\n",
       "      <td>-0.693361</td>\n",
       "      <td>0.00000</td>\n",
       "      <td>0.0</td>\n",
       "      <td>0.000000</td>\n",
       "      <td>0.0</td>\n",
       "      <td>0.0</td>\n",
       "      <td>0.000000</td>\n",
       "    </tr>\n",
       "    <tr>\n",
       "      <th>32533</th>\n",
       "      <td>1.05</td>\n",
       "      <td>0.0</td>\n",
       "      <td>-0.228035</td>\n",
       "      <td>0.000000</td>\n",
       "      <td>-0.333333</td>\n",
       "      <td>2.0</td>\n",
       "      <td>-0.857143</td>\n",
       "      <td>0.407281</td>\n",
       "      <td>0.00000</td>\n",
       "      <td>-1.0</td>\n",
       "      <td>0.000000</td>\n",
       "      <td>0.0</td>\n",
       "      <td>0.0</td>\n",
       "      <td>0.000000</td>\n",
       "    </tr>\n",
       "    <tr>\n",
       "      <th>32534</th>\n",
       "      <td>-0.75</td>\n",
       "      <td>0.0</td>\n",
       "      <td>0.181626</td>\n",
       "      <td>0.000000</td>\n",
       "      <td>-0.333333</td>\n",
       "      <td>1.0</td>\n",
       "      <td>-0.857143</td>\n",
       "      <td>0.306639</td>\n",
       "      <td>0.00000</td>\n",
       "      <td>0.0</td>\n",
       "      <td>0.000000</td>\n",
       "      <td>0.0</td>\n",
       "      <td>-4.0</td>\n",
       "      <td>0.000000</td>\n",
       "    </tr>\n",
       "    <tr>\n",
       "      <th>32535</th>\n",
       "      <td>0.75</td>\n",
       "      <td>1.0</td>\n",
       "      <td>0.757714</td>\n",
       "      <td>0.000000</td>\n",
       "      <td>-0.333333</td>\n",
       "      <td>0.0</td>\n",
       "      <td>-0.428571</td>\n",
       "      <td>0.492270</td>\n",
       "      <td>0.00000</td>\n",
       "      <td>-1.0</td>\n",
       "      <td>24.675267</td>\n",
       "      <td>0.0</td>\n",
       "      <td>0.0</td>\n",
       "      <td>0.000000</td>\n",
       "    </tr>\n",
       "  </tbody>\n",
       "</table>\n",
       "<p>32536 rows × 14 columns</p>\n",
       "</div>"
      ],
      "text/plain": [
       "        Age  Workclass    Fnlwgt  Education  Education_num  Marital_status  \\\n",
       "0      0.65        2.0 -0.981017  -0.687365       1.000000             0.0   \n",
       "1      0.05        0.0  0.285990   0.000000      -0.333333            -1.0   \n",
       "2      0.80        0.0  0.419629  -5.846722      -1.000000             0.0   \n",
       "3     -0.45        0.0  1.041826  -0.687365       1.000000             0.0   \n",
       "4      0.00        0.0  0.737750   0.312635       1.333333             0.0   \n",
       "...     ...        ...       ...        ...            ...             ...   \n",
       "32531 -0.50        0.0  0.568779  -1.485822       0.666667             0.0   \n",
       "32532  0.15        0.0 -0.205720   0.000000      -0.333333             0.0   \n",
       "32533  1.05        0.0 -0.228035   0.000000      -0.333333             2.0   \n",
       "32534 -0.75        0.0  0.181626   0.000000      -0.333333             1.0   \n",
       "32535  0.75        1.0  0.757714   0.000000      -0.333333             0.0   \n",
       "\n",
       "       Occupation  Relationship     Race  Sex  Capital_gain  Capital_loss  \\\n",
       "0       -0.428571     -0.693361  0.00000  0.0      0.000000           0.0   \n",
       "1       -0.142857      0.000000  0.00000  0.0      0.000000           0.0   \n",
       "2       -0.142857     -0.693361 -0.32748  0.0      0.000000           0.0   \n",
       "3        0.428571      0.492270 -0.32748 -1.0      0.000000           0.0   \n",
       "4       -0.428571      0.492270  0.00000 -1.0      0.000000           0.0   \n",
       "...           ...           ...      ...  ...           ...           ...   \n",
       "32531    0.857143      0.492270  0.00000 -1.0      0.000000           0.0   \n",
       "32532    0.000000     -0.693361  0.00000  0.0      0.000000           0.0   \n",
       "32533   -0.857143      0.407281  0.00000 -1.0      0.000000           0.0   \n",
       "32534   -0.857143      0.306639  0.00000  0.0      0.000000           0.0   \n",
       "32535   -0.428571      0.492270  0.00000 -1.0     24.675267           0.0   \n",
       "\n",
       "       Hours_per_week  Native_country  \n",
       "0                -5.4        0.000000  \n",
       "1                 0.0        0.000000  \n",
       "2                 0.0        0.000000  \n",
       "3                 0.0       -1.774574  \n",
       "4                 0.0        0.000000  \n",
       "...               ...             ...  \n",
       "32531            -0.4        0.000000  \n",
       "32532             0.0        0.000000  \n",
       "32533             0.0        0.000000  \n",
       "32534            -4.0        0.000000  \n",
       "32535             0.0        0.000000  \n",
       "\n",
       "[32536 rows x 14 columns]"
      ]
     },
     "execution_count": 24,
     "metadata": {},
     "output_type": "execute_result"
    }
   ],
   "source": [
    "from sklearn.preprocessing import RobustScaler\n",
    "p=RobustScaler()\n",
    "x=pd.DataFrame(p.fit_transform(x),columns=x.columns)\n",
    "x"
   ]
  },
  {
   "cell_type": "markdown",
   "id": "7cb366cb",
   "metadata": {},
   "source": [
    "Checking Variance Inflation Factor:"
   ]
  },
  {
   "cell_type": "code",
   "execution_count": 25,
   "id": "0aed5373",
   "metadata": {},
   "outputs": [
    {
     "data": {
      "text/html": [
       "<div>\n",
       "<style scoped>\n",
       "    .dataframe tbody tr th:only-of-type {\n",
       "        vertical-align: middle;\n",
       "    }\n",
       "\n",
       "    .dataframe tbody tr th {\n",
       "        vertical-align: top;\n",
       "    }\n",
       "\n",
       "    .dataframe thead th {\n",
       "        text-align: right;\n",
       "    }\n",
       "</style>\n",
       "<table border=\"1\" class=\"dataframe\">\n",
       "  <thead>\n",
       "    <tr style=\"text-align: right;\">\n",
       "      <th></th>\n",
       "      <th>VIF Values</th>\n",
       "      <th>Features</th>\n",
       "    </tr>\n",
       "  </thead>\n",
       "  <tbody>\n",
       "    <tr>\n",
       "      <th>0</th>\n",
       "      <td>1.212883</td>\n",
       "      <td>Age</td>\n",
       "    </tr>\n",
       "    <tr>\n",
       "      <th>1</th>\n",
       "      <td>1.011930</td>\n",
       "      <td>Workclass</td>\n",
       "    </tr>\n",
       "    <tr>\n",
       "      <th>2</th>\n",
       "      <td>1.018035</td>\n",
       "      <td>Fnlwgt</td>\n",
       "    </tr>\n",
       "    <tr>\n",
       "      <th>3</th>\n",
       "      <td>1.273303</td>\n",
       "      <td>Education</td>\n",
       "    </tr>\n",
       "    <tr>\n",
       "      <th>4</th>\n",
       "      <td>1.289742</td>\n",
       "      <td>Education_num</td>\n",
       "    </tr>\n",
       "    <tr>\n",
       "      <th>5</th>\n",
       "      <td>1.209935</td>\n",
       "      <td>Marital_status</td>\n",
       "    </tr>\n",
       "    <tr>\n",
       "      <th>6</th>\n",
       "      <td>1.016472</td>\n",
       "      <td>Occupation</td>\n",
       "    </tr>\n",
       "    <tr>\n",
       "      <th>7</th>\n",
       "      <td>1.437004</td>\n",
       "      <td>Relationship</td>\n",
       "    </tr>\n",
       "    <tr>\n",
       "      <th>8</th>\n",
       "      <td>1.092967</td>\n",
       "      <td>Race</td>\n",
       "    </tr>\n",
       "    <tr>\n",
       "      <th>9</th>\n",
       "      <td>1.370795</td>\n",
       "      <td>Sex</td>\n",
       "    </tr>\n",
       "    <tr>\n",
       "      <th>10</th>\n",
       "      <td>1.108927</td>\n",
       "      <td>Capital_gain</td>\n",
       "    </tr>\n",
       "    <tr>\n",
       "      <th>11</th>\n",
       "      <td>1.052825</td>\n",
       "      <td>Capital_loss</td>\n",
       "    </tr>\n",
       "    <tr>\n",
       "      <th>12</th>\n",
       "      <td>1.126134</td>\n",
       "      <td>Hours_per_week</td>\n",
       "    </tr>\n",
       "    <tr>\n",
       "      <th>13</th>\n",
       "      <td>1.057123</td>\n",
       "      <td>Native_country</td>\n",
       "    </tr>\n",
       "  </tbody>\n",
       "</table>\n",
       "</div>"
      ],
      "text/plain": [
       "    VIF Values        Features\n",
       "0     1.212883             Age\n",
       "1     1.011930       Workclass\n",
       "2     1.018035          Fnlwgt\n",
       "3     1.273303       Education\n",
       "4     1.289742   Education_num\n",
       "5     1.209935  Marital_status\n",
       "6     1.016472      Occupation\n",
       "7     1.437004    Relationship\n",
       "8     1.092967            Race\n",
       "9     1.370795             Sex\n",
       "10    1.108927    Capital_gain\n",
       "11    1.052825    Capital_loss\n",
       "12    1.126134  Hours_per_week\n",
       "13    1.057123  Native_country"
      ]
     },
     "execution_count": 25,
     "metadata": {},
     "output_type": "execute_result"
    }
   ],
   "source": [
    "#Finding variance inflation factor in each scaled column\n",
    "from statsmodels.stats.outliers_influence import variance_inflation_factor\n",
    "vif=pd.DataFrame()\n",
    "vif[\"VIF Values\"]=[variance_inflation_factor(x.values,i) for i in range(len(x.columns))]\n",
    "vif[\"Features\"]=x.columns\n",
    "vif"
   ]
  },
  {
   "cell_type": "markdown",
   "id": "9a78fd22",
   "metadata": {},
   "source": [
    "Here, multi collinearity is not present.so, we can move ahead for model building."
   ]
  },
  {
   "cell_type": "code",
   "execution_count": 26,
   "id": "7d29dc40",
   "metadata": {},
   "outputs": [
    {
     "data": {
      "text/plain": [
       "0    24697\n",
       "1     7839\n",
       "Name: Income, dtype: int64"
      ]
     },
     "execution_count": 26,
     "metadata": {},
     "output_type": "execute_result"
    }
   ],
   "source": [
    "y.value_counts()"
   ]
  },
  {
   "cell_type": "markdown",
   "id": "249d7570",
   "metadata": {},
   "source": [
    "Here,we can see that the data is not balanced, since it is a classification problem we will balance the data using Random OverSampling method"
   ]
  },
  {
   "cell_type": "markdown",
   "id": "3363630d",
   "metadata": {},
   "source": [
    "OverSampling the Data:"
   ]
  },
  {
   "cell_type": "code",
   "execution_count": 27,
   "id": "a8452d83",
   "metadata": {},
   "outputs": [],
   "source": [
    "from imblearn.over_sampling import RandomOverSampler\n",
    "R=RandomOverSampler()\n",
    "x1,y1=R.fit_resample(x,y)"
   ]
  },
  {
   "cell_type": "code",
   "execution_count": 28,
   "id": "0d3ec11c",
   "metadata": {},
   "outputs": [
    {
     "data": {
      "text/plain": [
       "0    24697\n",
       "1    24697\n",
       "Name: Income, dtype: int64"
      ]
     },
     "execution_count": 28,
     "metadata": {},
     "output_type": "execute_result"
    }
   ],
   "source": [
    "y1.value_counts()"
   ]
  },
  {
   "cell_type": "markdown",
   "id": "4f81032a",
   "metadata": {},
   "source": [
    "Now the data is balanced,we can build machine learning classification models."
   ]
  },
  {
   "cell_type": "markdown",
   "id": "a9371055",
   "metadata": {},
   "source": [
    "Modelling:"
   ]
  },
  {
   "cell_type": "code",
   "execution_count": 29,
   "id": "7fcffbdf",
   "metadata": {},
   "outputs": [],
   "source": [
    "from sklearn.model_selection import train_test_split\n",
    "from sklearn.ensemble import RandomForestClassifier\n",
    "from sklearn.metrics import accuracy_score"
   ]
  },
  {
   "cell_type": "code",
   "execution_count": 30,
   "id": "bd46d7de",
   "metadata": {},
   "outputs": [],
   "source": [
    "#creating train test split.\n",
    "x_train,x_test,y_train,y_test=train_test_split(x1,y1,test_size=0.25,random_state=200)"
   ]
  },
  {
   "cell_type": "code",
   "execution_count": 31,
   "id": "ef4d6e10",
   "metadata": {},
   "outputs": [],
   "source": [
    "def m_score(name,x_train,x_test,y_train,y_test,train=True):\n",
    "    if train:\n",
    "        y_pred=name.predict(x_train)\n",
    "        print(\"Training result\")\n",
    "        print(f\"Accuracy score:{accuracy_score(y_train,y_pred)*100:.2f}%\")\n",
    "    else:\n",
    "         if train==False:\n",
    "            pred=name.predict(x_test)\n",
    "            print(\"\\n----Test Result----\")\n",
    "            print(f\"Accuracy score:{accuracy_score(y_test,pred)*100:.2f}%\")\n",
    "            print(\"confusion_matrix:\\n\\n\",confusion_matrix(y_test,pred))\n",
    "            print(\"\\n Test classification report:\\n\\n\",classification_report(y_test,pred,digits=2))\n"
   ]
  },
  {
   "cell_type": "code",
   "execution_count": 32,
   "id": "2b83f172",
   "metadata": {},
   "outputs": [],
   "source": [
    "from sklearn.ensemble import RandomForestClassifier, ExtraTreesClassifier\n",
    "from sklearn.svm import SVC\n",
    "from sklearn.ensemble import GradientBoostingClassifier, AdaBoostClassifier, BaggingClassifier\n",
    "from sklearn.metrics import classification_report, confusion_matrix, roc_curve,accuracy_score\n",
    "from sklearn.model_selection import cross_val_score\n",
    "from sklearn.tree import DecisionTreeClassifier"
   ]
  },
  {
   "cell_type": "code",
   "execution_count": 33,
   "id": "98c69885",
   "metadata": {},
   "outputs": [
    {
     "data": {
      "text/plain": [
       "RandomForestClassifier()"
      ]
     },
     "execution_count": 33,
     "metadata": {},
     "output_type": "execute_result"
    }
   ],
   "source": [
    "#Model initiation for RandomForestClassifier\n",
    "name=RandomForestClassifier()\n",
    "name.fit(x_train,y_train)"
   ]
  },
  {
   "cell_type": "code",
   "execution_count": 34,
   "id": "af49a5c6",
   "metadata": {},
   "outputs": [
    {
     "name": "stdout",
     "output_type": "stream",
     "text": [
      "Training result\n",
      "Accuracy score:100.00%\n",
      "\n",
      "----Test Result----\n",
      "Accuracy score:92.89%\n",
      "confusion_matrix:\n",
      "\n",
      " [[5438  701]\n",
      " [ 177 6033]]\n",
      "\n",
      " Test classification report:\n",
      "\n",
      "               precision    recall  f1-score   support\n",
      "\n",
      "           0       0.97      0.89      0.93      6139\n",
      "           1       0.90      0.97      0.93      6210\n",
      "\n",
      "    accuracy                           0.93     12349\n",
      "   macro avg       0.93      0.93      0.93     12349\n",
      "weighted avg       0.93      0.93      0.93     12349\n",
      "\n"
     ]
    }
   ],
   "source": [
    "m_score(name,x_train,x_test,y_train,y_test,train=True)\n",
    "m_score(name,x_train,x_test,y_train,y_test,train=False)"
   ]
  },
  {
   "cell_type": "markdown",
   "id": "4a661e50",
   "metadata": {},
   "source": [
    "The accuracy score using RandomForestClassifier is 92.98%"
   ]
  },
  {
   "cell_type": "markdown",
   "id": "45622795",
   "metadata": {},
   "source": [
    "Finding the best random state:"
   ]
  },
  {
   "cell_type": "code",
   "execution_count": 75,
   "id": "14569a1a",
   "metadata": {},
   "outputs": [
    {
     "name": "stdout",
     "output_type": "stream",
     "text": [
      "Best accuracy is 0.984776095230383 at random state 131\n"
     ]
    }
   ],
   "source": [
    "mAccuracy=0\n",
    "mRS=0\n",
    "for i in range(1,200):\n",
    "    x_train,x_test,y_train,y_test=train_test_split(x1,y1,test_size=0.25,random_state=i)\n",
    "    pred=name.predict(x_test)\n",
    "    Test_result=accuracy_score(y_test,pred)\n",
    "    if Test_result>mAccuracy:\n",
    "        mAccuracy=Test_result\n",
    "        mRS=i\n",
    "print(\"Best accuracy is\",mAccuracy,\"at random state\",mRS)    "
   ]
  },
  {
   "cell_type": "code",
   "execution_count": 35,
   "id": "1f3ad6df",
   "metadata": {},
   "outputs": [
    {
     "name": "stdout",
     "output_type": "stream",
     "text": [
      "[0.92721935 0.92873773 0.93926511 0.94311165 0.94270095]\n",
      "0.9362069582134145\n"
     ]
    },
    {
     "ename": "NameError",
     "evalue": "name 'pred' is not defined",
     "output_type": "error",
     "traceback": [
      "\u001b[1;31m---------------------------------------------------------------------------\u001b[0m",
      "\u001b[1;31mNameError\u001b[0m                                 Traceback (most recent call last)",
      "Input \u001b[1;32mIn [35]\u001b[0m, in \u001b[0;36m<cell line: 5>\u001b[1;34m()\u001b[0m\n\u001b[0;32m      3\u001b[0m \u001b[38;5;28mprint\u001b[39m(score)\n\u001b[0;32m      4\u001b[0m \u001b[38;5;28mprint\u001b[39m(score\u001b[38;5;241m.\u001b[39mmean())\n\u001b[1;32m----> 5\u001b[0m \u001b[38;5;28mprint\u001b[39m(\u001b[38;5;124m\"\u001b[39m\u001b[38;5;124mDifference between Accuracy score and cross validation score is:\u001b[39m\u001b[38;5;124m\"\u001b[39m,accuracy_score(y_test,\u001b[43mpred\u001b[49m)\u001b[38;5;241m-\u001b[39mscore\u001b[38;5;241m.\u001b[39mmean())\n",
      "\u001b[1;31mNameError\u001b[0m: name 'pred' is not defined"
     ]
    }
   ],
   "source": [
    "#checking cv score for RandomForestClassifier\n",
    "score=cross_val_score(name,x1,y1)\n",
    "print(score)\n",
    "print(score.mean())\n",
    "print(\"Difference between Accuracy score and cross validation score is:\",accuracy_score(y_test,pred)-score.mean())"
   ]
  },
  {
   "cell_type": "code",
   "execution_count": 77,
   "id": "28954474",
   "metadata": {},
   "outputs": [
    {
     "data": {
      "text/plain": [
       "SVC()"
      ]
     },
     "execution_count": 77,
     "metadata": {},
     "output_type": "execute_result"
    }
   ],
   "source": [
    "#Model initiation for SupportVectorMachineClassifier\n",
    "name1=SVC()\n",
    "name1.fit(x_train,y_train)"
   ]
  },
  {
   "cell_type": "code",
   "execution_count": 78,
   "id": "a0672af7",
   "metadata": {},
   "outputs": [
    {
     "name": "stdout",
     "output_type": "stream",
     "text": [
      "Training result\n",
      "Accuracy score:80.26%\n",
      "\n",
      "----Test Result----\n",
      "Accuracy score:79.42%\n",
      "confusion_matrix:\n",
      "\n",
      " [[4714 1451]\n",
      " [1090 5094]]\n",
      "\n",
      " Test classification report:\n",
      "\n",
      "               precision    recall  f1-score   support\n",
      "\n",
      "           0       0.81      0.76      0.79      6165\n",
      "           1       0.78      0.82      0.80      6184\n",
      "\n",
      "    accuracy                           0.79     12349\n",
      "   macro avg       0.80      0.79      0.79     12349\n",
      "weighted avg       0.80      0.79      0.79     12349\n",
      "\n"
     ]
    }
   ],
   "source": [
    "m_score(name1,x_train,x_test,y_train,y_test,train=True)\n",
    "m_score(name1,x_train,x_test,y_train,y_test,train=False)"
   ]
  },
  {
   "cell_type": "markdown",
   "id": "1d576f6d",
   "metadata": {},
   "source": [
    "The accuracy score using SVC is 79.42%"
   ]
  },
  {
   "cell_type": "code",
   "execution_count": 79,
   "id": "49775c67",
   "metadata": {},
   "outputs": [
    {
     "name": "stdout",
     "output_type": "stream",
     "text": [
      "[0.8026116  0.79997976 0.80048588 0.79957486 0.80178174]\n",
      "0.8008867654972608\n",
      "Difference between Accuracy score and cross validation score is: 0.18089313570931465\n"
     ]
    }
   ],
   "source": [
    "#checking cv score for SupportVectorMachineClassifier\n",
    "score1=cross_val_score(name1,x1,y1)\n",
    "print(score1)\n",
    "print(score1.mean())\n",
    "print(\"Difference between Accuracy score and cross validation score is:\",accuracy_score(y_test,pred)-score1.mean())"
   ]
  },
  {
   "cell_type": "code",
   "execution_count": 80,
   "id": "e213f15a",
   "metadata": {},
   "outputs": [
    {
     "data": {
      "text/plain": [
       "GradientBoostingClassifier()"
      ]
     },
     "execution_count": 80,
     "metadata": {},
     "output_type": "execute_result"
    }
   ],
   "source": [
    "#Model initiation for GradientBoostingClassifier\n",
    "name2=GradientBoostingClassifier()\n",
    "name2.fit(x_train,y_train)"
   ]
  },
  {
   "cell_type": "code",
   "execution_count": 81,
   "id": "111b3736",
   "metadata": {},
   "outputs": [
    {
     "name": "stdout",
     "output_type": "stream",
     "text": [
      "Training result\n",
      "Accuracy score:84.21%\n",
      "\n",
      "----Test Result----\n",
      "Accuracy score:83.32%\n",
      "confusion_matrix:\n",
      "\n",
      " [[4980 1185]\n",
      " [ 875 5309]]\n",
      "\n",
      " Test classification report:\n",
      "\n",
      "               precision    recall  f1-score   support\n",
      "\n",
      "           0       0.85      0.81      0.83      6165\n",
      "           1       0.82      0.86      0.84      6184\n",
      "\n",
      "    accuracy                           0.83     12349\n",
      "   macro avg       0.83      0.83      0.83     12349\n",
      "weighted avg       0.83      0.83      0.83     12349\n",
      "\n"
     ]
    }
   ],
   "source": [
    "m_score(name2,x_train,x_test,y_train,y_test,train=True)\n",
    "m_score(name2,x_train,x_test,y_train,y_test,train=False)"
   ]
  },
  {
   "cell_type": "markdown",
   "id": "d75a6371",
   "metadata": {},
   "source": [
    "The accuracy using GradientBoostingClassifier is 83.32%"
   ]
  },
  {
   "cell_type": "code",
   "execution_count": 82,
   "id": "15183ee8",
   "metadata": {},
   "outputs": [
    {
     "name": "stdout",
     "output_type": "stream",
     "text": [
      "[0.83864764 0.83723049 0.83378885 0.84208928 0.83984612]\n",
      "0.8383204746659114\n",
      "Difference between Accuracy score and cross validation score is: 0.14345942654066401\n"
     ]
    }
   ],
   "source": [
    "#checking cv score for GradientBoostingClassifier\n",
    "score2=cross_val_score(name2,x1,y1)\n",
    "print(score2)\n",
    "print(score2.mean())\n",
    "print(\"Difference between Accuracy score and cross validation score is:\",accuracy_score(y_test,pred)-score2.mean())"
   ]
  },
  {
   "cell_type": "code",
   "execution_count": 83,
   "id": "bc3a4be9",
   "metadata": {},
   "outputs": [
    {
     "data": {
      "text/plain": [
       "AdaBoostClassifier()"
      ]
     },
     "execution_count": 83,
     "metadata": {},
     "output_type": "execute_result"
    }
   ],
   "source": [
    "#Model initiation for AdaBoostClassifier\n",
    "name3=AdaBoostClassifier()\n",
    "name3.fit(x_train,y_train)"
   ]
  },
  {
   "cell_type": "code",
   "execution_count": 84,
   "id": "f5407648",
   "metadata": {},
   "outputs": [
    {
     "name": "stdout",
     "output_type": "stream",
     "text": [
      "Training result\n",
      "Accuracy score:83.07%\n",
      "\n",
      "----Test Result----\n",
      "Accuracy score:82.37%\n",
      "confusion_matrix:\n",
      "\n",
      " [[4971 1194]\n",
      " [ 983 5201]]\n",
      "\n",
      " Test classification report:\n",
      "\n",
      "               precision    recall  f1-score   support\n",
      "\n",
      "           0       0.83      0.81      0.82      6165\n",
      "           1       0.81      0.84      0.83      6184\n",
      "\n",
      "    accuracy                           0.82     12349\n",
      "   macro avg       0.82      0.82      0.82     12349\n",
      "weighted avg       0.82      0.82      0.82     12349\n",
      "\n"
     ]
    }
   ],
   "source": [
    "m_score(name3,x_train,x_test,y_train,y_test,train=True)\n",
    "m_score(name3,x_train,x_test,y_train,y_test,train=False)"
   ]
  },
  {
   "cell_type": "markdown",
   "id": "379ae55f",
   "metadata": {},
   "source": [
    "The accuracy using AdaBoostClassifier is 82.37%"
   ]
  },
  {
   "cell_type": "code",
   "execution_count": 85,
   "id": "3695e4f5",
   "metadata": {},
   "outputs": [
    {
     "name": "stdout",
     "output_type": "stream",
     "text": [
      "[0.82397004 0.8283227  0.82265411 0.83014475 0.83275967]\n",
      "0.8275702552822745\n",
      "Difference between Accuracy score and cross validation score is: 0.15420964592430098\n"
     ]
    }
   ],
   "source": [
    "#checking cv score for AdaBoostClassifier\n",
    "score3=cross_val_score(name3,x1,y1)\n",
    "print(score3)\n",
    "print(score3.mean())\n",
    "print(\"Difference between Accuracy score and cross validation score is:\",accuracy_score(y_test,pred)-score3.mean())"
   ]
  },
  {
   "cell_type": "code",
   "execution_count": 86,
   "id": "e5a41d8c",
   "metadata": {},
   "outputs": [
    {
     "data": {
      "text/plain": [
       "DecisionTreeClassifier()"
      ]
     },
     "execution_count": 86,
     "metadata": {},
     "output_type": "execute_result"
    }
   ],
   "source": [
    "#Model initiation for DecisionTreeClassifier\n",
    "name4=DecisionTreeClassifier()\n",
    "name4.fit(x_train,y_train)"
   ]
  },
  {
   "cell_type": "code",
   "execution_count": 87,
   "id": "455b436c",
   "metadata": {},
   "outputs": [
    {
     "name": "stdout",
     "output_type": "stream",
     "text": [
      "Training result\n",
      "Accuracy score:100.00%\n",
      "\n",
      "----Test Result----\n",
      "Accuracy score:91.14%\n",
      "confusion_matrix:\n",
      "\n",
      " [[5286  879]\n",
      " [ 215 5969]]\n",
      "\n",
      " Test classification report:\n",
      "\n",
      "               precision    recall  f1-score   support\n",
      "\n",
      "           0       0.96      0.86      0.91      6165\n",
      "           1       0.87      0.97      0.92      6184\n",
      "\n",
      "    accuracy                           0.91     12349\n",
      "   macro avg       0.92      0.91      0.91     12349\n",
      "weighted avg       0.92      0.91      0.91     12349\n",
      "\n"
     ]
    }
   ],
   "source": [
    "m_score(name4,x_train,x_test,y_train,y_test,train=True)\n",
    "m_score(name4,x_train,x_test,y_train,y_test,train=False)"
   ]
  },
  {
   "cell_type": "markdown",
   "id": "b52394fa",
   "metadata": {},
   "source": [
    "The accuracy using DecisionTreeClassifier is  91.14%"
   ]
  },
  {
   "cell_type": "code",
   "execution_count": 88,
   "id": "affbf2ab",
   "metadata": {},
   "outputs": [
    {
     "name": "stdout",
     "output_type": "stream",
     "text": [
      "[0.90737929 0.91122583 0.92539731 0.93349529 0.93197003]\n",
      "0.9218935513722931\n",
      "Difference between Accuracy score and cross validation score is: 0.059886349834282315\n"
     ]
    }
   ],
   "source": [
    "#checking cv score for DecisionTreeClassifier\n",
    "score4=cross_val_score(name4,x1,y1)\n",
    "print(score4)\n",
    "print(score4.mean())\n",
    "print(\"Difference between Accuracy score and cross validation score is:\",accuracy_score(y_test,pred)-score4.mean())"
   ]
  },
  {
   "cell_type": "code",
   "execution_count": 36,
   "id": "bbfad560",
   "metadata": {},
   "outputs": [
    {
     "data": {
      "text/plain": [
       "ExtraTreesClassifier()"
      ]
     },
     "execution_count": 36,
     "metadata": {},
     "output_type": "execute_result"
    }
   ],
   "source": [
    "#Model initiation for ExtraTreesClassifier\n",
    "name5=ExtraTreesClassifier()\n",
    "name5.fit(x_train,y_train)"
   ]
  },
  {
   "cell_type": "code",
   "execution_count": 37,
   "id": "f635130d",
   "metadata": {},
   "outputs": [
    {
     "name": "stdout",
     "output_type": "stream",
     "text": [
      "Training result\n",
      "Accuracy score:100.00%\n",
      "\n",
      "----Test Result----\n",
      "Accuracy score:93.37%\n",
      "confusion_matrix:\n",
      "\n",
      " [[5535  604]\n",
      " [ 215 5995]]\n",
      "\n",
      " Test classification report:\n",
      "\n",
      "               precision    recall  f1-score   support\n",
      "\n",
      "           0       0.96      0.90      0.93      6139\n",
      "           1       0.91      0.97      0.94      6210\n",
      "\n",
      "    accuracy                           0.93     12349\n",
      "   macro avg       0.94      0.93      0.93     12349\n",
      "weighted avg       0.94      0.93      0.93     12349\n",
      "\n"
     ]
    }
   ],
   "source": [
    "m_score(name5,x_train,x_test,y_train,y_test,train=True)\n",
    "m_score(name5,x_train,x_test,y_train,y_test,train=False)"
   ]
  },
  {
   "cell_type": "markdown",
   "id": "90e6b538",
   "metadata": {},
   "source": [
    "The accuracy using ExtraTreeClassifier is 93.37%"
   ]
  },
  {
   "cell_type": "code",
   "execution_count": 38,
   "id": "ed7789c4",
   "metadata": {},
   "outputs": [
    {
     "name": "stdout",
     "output_type": "stream",
     "text": [
      "[0.93440632 0.93501367 0.94918514 0.95374026 0.95171087]\n",
      "0.9448112503466474\n"
     ]
    },
    {
     "ename": "NameError",
     "evalue": "name 'pred' is not defined",
     "output_type": "error",
     "traceback": [
      "\u001b[1;31m---------------------------------------------------------------------------\u001b[0m",
      "\u001b[1;31mNameError\u001b[0m                                 Traceback (most recent call last)",
      "Input \u001b[1;32mIn [38]\u001b[0m, in \u001b[0;36m<cell line: 5>\u001b[1;34m()\u001b[0m\n\u001b[0;32m      3\u001b[0m \u001b[38;5;28mprint\u001b[39m(score5)\n\u001b[0;32m      4\u001b[0m \u001b[38;5;28mprint\u001b[39m(score5\u001b[38;5;241m.\u001b[39mmean())\n\u001b[1;32m----> 5\u001b[0m \u001b[38;5;28mprint\u001b[39m(\u001b[38;5;124m\"\u001b[39m\u001b[38;5;124mDifference between Accuracy score and cross validation score is:\u001b[39m\u001b[38;5;124m\"\u001b[39m,accuracy_score(y_test,\u001b[43mpred\u001b[49m)\u001b[38;5;241m-\u001b[39mscore5\u001b[38;5;241m.\u001b[39mmean())\n",
      "\u001b[1;31mNameError\u001b[0m: name 'pred' is not defined"
     ]
    }
   ],
   "source": [
    "#checking cv score for ExtraTreesClassifier\n",
    "score5=cross_val_score(name5,x1,y1)\n",
    "print(score5)\n",
    "print(score5.mean())\n",
    "print(\"Difference between Accuracy score and cross validation score is:\",accuracy_score(y_test,pred)-score5.mean())"
   ]
  },
  {
   "cell_type": "code",
   "execution_count": 92,
   "id": "f041e61a",
   "metadata": {},
   "outputs": [
    {
     "data": {
      "text/plain": [
       "BaggingClassifier()"
      ]
     },
     "execution_count": 92,
     "metadata": {},
     "output_type": "execute_result"
    }
   ],
   "source": [
    "#Model initiation for BaggingClassifier\n",
    "name6=BaggingClassifier()\n",
    "name6.fit(x_train,y_train)"
   ]
  },
  {
   "cell_type": "code",
   "execution_count": 93,
   "id": "e32cf7fe",
   "metadata": {},
   "outputs": [
    {
     "name": "stdout",
     "output_type": "stream",
     "text": [
      "Training result\n",
      "Accuracy score:99.66%\n",
      "\n",
      "----Test Result----\n",
      "Accuracy score:92.23%\n",
      "confusion_matrix:\n",
      "\n",
      " [[5446  719]\n",
      " [ 240 5944]]\n",
      "\n",
      " Test classification report:\n",
      "\n",
      "               precision    recall  f1-score   support\n",
      "\n",
      "           0       0.96      0.88      0.92      6165\n",
      "           1       0.89      0.96      0.93      6184\n",
      "\n",
      "    accuracy                           0.92     12349\n",
      "   macro avg       0.92      0.92      0.92     12349\n",
      "weighted avg       0.92      0.92      0.92     12349\n",
      "\n"
     ]
    }
   ],
   "source": [
    "m_score(name6,x_train,x_test,y_train,y_test,train=True)\n",
    "m_score(name6,x_train,x_test,y_train,y_test,train=False)"
   ]
  },
  {
   "cell_type": "markdown",
   "id": "3296348a",
   "metadata": {},
   "source": [
    "The accuracy using Bagging classifier is  92.23%"
   ]
  },
  {
   "cell_type": "code",
   "execution_count": 94,
   "id": "6dcc74d3",
   "metadata": {},
   "outputs": [
    {
     "name": "stdout",
     "output_type": "stream",
     "text": [
      "[0.92175321 0.92600466 0.93845531 0.94270675 0.94108119]\n",
      "0.934000224338304\n",
      "Difference between Accuracy score and cross validation score is: 0.04777967686827145\n"
     ]
    }
   ],
   "source": [
    "#checking cv score for BaggingClassifier\n",
    "score6=cross_val_score(name6,x1,y1)\n",
    "print(score6)\n",
    "print(score6.mean())\n",
    "print(\"Difference between Accuracy score and cross validation score is:\",accuracy_score(y_test,pred)-score6.mean())"
   ]
  },
  {
   "cell_type": "markdown",
   "id": "21207287",
   "metadata": {},
   "source": [
    "ExtraTreesClassifier is our best model,as the difference between accuracy score and cv score is least.\n",
    "\n",
    "ExtraTreesClassifier is our best model and we will do Hyper parameter tuning for this model.\n",
    "\n",
    "Hyper Parameter Tuning:"
   ]
  },
  {
   "cell_type": "code",
   "execution_count": 39,
   "id": "1194767b",
   "metadata": {},
   "outputs": [],
   "source": [
    "#for ExtraTreesClassifier\n",
    "from sklearn.model_selection import GridSearchCV"
   ]
  },
  {
   "cell_type": "code",
   "execution_count": 40,
   "id": "bf5d1320",
   "metadata": {},
   "outputs": [],
   "source": [
    "parameters={'criterion':['gini','entropy'],\n",
    "             'random_state':[10,15],\n",
    "             'max_depth':range(5,10),\n",
    "             'n_jobs':range(-2,1),\n",
    "             'n_estimators':range(50,100)}"
   ]
  },
  {
   "cell_type": "code",
   "execution_count": 41,
   "id": "fc77d43b",
   "metadata": {},
   "outputs": [],
   "source": [
    "GCV=GridSearchCV(ExtraTreesClassifier(),parameters,cv=5)"
   ]
  },
  {
   "cell_type": "code",
   "execution_count": 42,
   "id": "0659ac02",
   "metadata": {},
   "outputs": [
    {
     "data": {
      "text/plain": [
       "GridSearchCV(cv=5, estimator=ExtraTreesClassifier(),\n",
       "             param_grid={'criterion': ['gini', 'entropy'],\n",
       "                         'max_depth': range(5, 10),\n",
       "                         'n_estimators': range(50, 100), 'n_jobs': range(-2, 1),\n",
       "                         'random_state': [10, 15]})"
      ]
     },
     "execution_count": 42,
     "metadata": {},
     "output_type": "execute_result"
    }
   ],
   "source": [
    "GCV.fit(x_train,y_train)"
   ]
  },
  {
   "cell_type": "code",
   "execution_count": 43,
   "id": "ce171860",
   "metadata": {},
   "outputs": [
    {
     "data": {
      "text/plain": [
       "{'criterion': 'gini',\n",
       " 'max_depth': 9,\n",
       " 'n_estimators': 69,\n",
       " 'n_jobs': -2,\n",
       " 'random_state': 10}"
      ]
     },
     "execution_count": 43,
     "metadata": {},
     "output_type": "execute_result"
    }
   ],
   "source": [
    "GCV.best_params_"
   ]
  },
  {
   "cell_type": "code",
   "execution_count": 44,
   "id": "2d9ac363",
   "metadata": {},
   "outputs": [
    {
     "data": {
      "text/plain": [
       "ExtraTreesClassifier(max_depth=9, n_estimators=69, n_jobs=-2, random_state=10)"
      ]
     },
     "execution_count": 44,
     "metadata": {},
     "output_type": "execute_result"
    }
   ],
   "source": [
    "Final_model=ExtraTreesClassifier(criterion='gini',max_depth=9,n_estimators=69,n_jobs=-2,random_state=10)\n",
    "Final_model.fit(x_train,y_train)"
   ]
  },
  {
   "cell_type": "code",
   "execution_count": 45,
   "id": "99eeda54",
   "metadata": {},
   "outputs": [
    {
     "data": {
      "text/plain": [
       "41114    1\n",
       "3035     0\n",
       "38792    1\n",
       "27203    1\n",
       "34878    1\n",
       "        ..\n",
       "23405    1\n",
       "39305    1\n",
       "11835    0\n",
       "47169    1\n",
       "8757     1\n",
       "Name: Income, Length: 12349, dtype: int32"
      ]
     },
     "execution_count": 45,
     "metadata": {},
     "output_type": "execute_result"
    }
   ],
   "source": [
    "y_test"
   ]
  },
  {
   "cell_type": "code",
   "execution_count": 46,
   "id": "ce5c2bc7",
   "metadata": {},
   "outputs": [
    {
     "data": {
      "text/plain": [
       "array([1, 0, 1, ..., 1, 1, 0])"
      ]
     },
     "execution_count": 46,
     "metadata": {},
     "output_type": "execute_result"
    }
   ],
   "source": [
    "from sklearn.metrics import roc_auc_score,auc\n",
    "from sklearn.metrics import roc_curve\n",
    "y_pred=Final_model.predict(x_test)\n",
    "y_pred"
   ]
  },
  {
   "cell_type": "code",
   "execution_count": 47,
   "id": "992de6de",
   "metadata": {},
   "outputs": [
    {
     "name": "stdout",
     "output_type": "stream",
     "text": [
      "accuracy 81.31832537047534 %\n"
     ]
    }
   ],
   "source": [
    "accuracy=accuracy_score(y_test,y_pred)*100\n",
    "print(\"accuracy\",accuracy,\"%\")"
   ]
  },
  {
   "cell_type": "code",
   "execution_count": 48,
   "id": "1fb5360e",
   "metadata": {},
   "outputs": [
    {
     "data": {
      "text/plain": [
       "array([[4526, 1613],\n",
       "       [ 694, 5516]], dtype=int64)"
      ]
     },
     "execution_count": 48,
     "metadata": {},
     "output_type": "execute_result"
    }
   ],
   "source": [
    "confusion_matrix=confusion_matrix(y_test,y_pred)\n",
    "confusion_matrix"
   ]
  },
  {
   "cell_type": "code",
   "execution_count": 49,
   "id": "a785b073",
   "metadata": {},
   "outputs": [
    {
     "name": "stdout",
     "output_type": "stream",
     "text": [
      "              precision    recall  f1-score   support\n",
      "\n",
      "           0       0.87      0.74      0.80      6139\n",
      "           1       0.77      0.89      0.83      6210\n",
      "\n",
      "    accuracy                           0.81     12349\n",
      "   macro avg       0.82      0.81      0.81     12349\n",
      "weighted avg       0.82      0.81      0.81     12349\n",
      "\n"
     ]
    }
   ],
   "source": [
    "from sklearn.metrics import classification_report\n",
    "print(classification_report(y_test,y_pred))"
   ]
  },
  {
   "cell_type": "code",
   "execution_count": 50,
   "id": "6af212e9",
   "metadata": {},
   "outputs": [
    {
     "name": "stdout",
     "output_type": "stream",
     "text": [
      "Threshold= [2 1 0]\n",
      "True positive rate= [0.         0.88824477 1.        ]\n",
      "False positive Rate= [0.         0.26274638 1.        ]\n"
     ]
    },
    {
     "data": {
      "image/png": "[encoded data removed]",
      "text/plain": [
       "<Figure size 432x288 with 1 Axes>"
      ]
     },
     "metadata": {
      "needs_background": "light"
     },
     "output_type": "display_data"
    }
   ],
   "source": [
    "#roc_curve\n",
    "fpr,tpr,thresholds=roc_curve(y_test,y_pred)\n",
    "print('Threshold=',thresholds)\n",
    "print('True positive rate=',tpr)\n",
    "print('False positive Rate=',fpr)\n",
    "plt.plot(fpr,tpr,color='orange',label=\"ROC\")\n",
    "plt.plot([0,1],[0,1],color='darkblue',linestyle='dotted')\n",
    "plt.xlabel(\"False positive Rate\")\n",
    "plt.ylabel(\"True positive Rate\")\n",
    "plt.title(\"Receiver operating characteristic\")\n",
    "plt.legend(loc=\"lower right\")\n",
    "plt.show()"
   ]
  },
  {
   "cell_type": "code",
   "execution_count": 51,
   "id": "ca420737",
   "metadata": {},
   "outputs": [
    {
     "name": "stdout",
     "output_type": "stream",
     "text": [
      "AUC_score: \n",
      " 81.2749195437213 %\n"
     ]
    }
   ],
   "source": [
    "auc_score=roc_auc_score(y_test,Final_model.predict(x_test))\n",
    "print(\"AUC_score:\",'\\n',auc_score*100,\"%\")"
   ]
  },
  {
   "cell_type": "markdown",
   "id": "d6c95c3e",
   "metadata": {},
   "source": [
    "Here we plotted the ROC curve for the final model.The accuracy or AUC_score for the best model is 81.27%"
   ]
  },
  {
   "cell_type": "code",
   "execution_count": 53,
   "id": "030986bc",
   "metadata": {},
   "outputs": [
    {
     "data": {
      "text/plain": [
       "['Census_Income_Project.pkl']"
      ]
     },
     "execution_count": 53,
     "metadata": {},
     "output_type": "execute_result"
    }
   ],
   "source": [
    "#saving the model\n",
    "import joblib\n",
    "joblib.dump(Final_model,\"Census_Income_Project.pkl\")\n"
   ]
  },
  {
   "cell_type": "code",
   "execution_count": 54,
   "id": "d485da15",
   "metadata": {},
   "outputs": [
    {
     "data": {
      "text/plain": [
       "array([1, 0, 1, ..., 1, 1, 0])"
      ]
     },
     "execution_count": 54,
     "metadata": {},
     "output_type": "execute_result"
    }
   ],
   "source": [
    "#predicting the saved model\n",
    "model=joblib.load(\"Census_Income_Project.pkl\")\n",
    "#prediction\n",
    "prediction=model.predict(x_test)\n",
    "prediction"
   ]
  },
  {
   "cell_type": "code",
   "execution_count": 55,
   "id": "63c389c1",
   "metadata": {},
   "outputs": [
    {
     "data": {
      "text/html": [
       "<div>\n",
       "<style scoped>\n",
       "    .dataframe tbody tr th:only-of-type {\n",
       "        vertical-align: middle;\n",
       "    }\n",
       "\n",
       "    .dataframe tbody tr th {\n",
       "        vertical-align: top;\n",
       "    }\n",
       "\n",
       "    .dataframe thead th {\n",
       "        text-align: right;\n",
       "    }\n",
       "</style>\n",
       "<table border=\"1\" class=\"dataframe\">\n",
       "  <thead>\n",
       "    <tr style=\"text-align: right;\">\n",
       "      <th></th>\n",
       "      <th>predicted</th>\n",
       "      <th>original</th>\n",
       "    </tr>\n",
       "  </thead>\n",
       "  <tbody>\n",
       "    <tr>\n",
       "      <th>0</th>\n",
       "      <td>1</td>\n",
       "      <td>1</td>\n",
       "    </tr>\n",
       "    <tr>\n",
       "      <th>1</th>\n",
       "      <td>0</td>\n",
       "      <td>0</td>\n",
       "    </tr>\n",
       "    <tr>\n",
       "      <th>2</th>\n",
       "      <td>1</td>\n",
       "      <td>1</td>\n",
       "    </tr>\n",
       "    <tr>\n",
       "      <th>3</th>\n",
       "      <td>1</td>\n",
       "      <td>1</td>\n",
       "    </tr>\n",
       "    <tr>\n",
       "      <th>4</th>\n",
       "      <td>1</td>\n",
       "      <td>1</td>\n",
       "    </tr>\n",
       "    <tr>\n",
       "      <th>...</th>\n",
       "      <td>...</td>\n",
       "      <td>...</td>\n",
       "    </tr>\n",
       "    <tr>\n",
       "      <th>12344</th>\n",
       "      <td>0</td>\n",
       "      <td>1</td>\n",
       "    </tr>\n",
       "    <tr>\n",
       "      <th>12345</th>\n",
       "      <td>1</td>\n",
       "      <td>1</td>\n",
       "    </tr>\n",
       "    <tr>\n",
       "      <th>12346</th>\n",
       "      <td>1</td>\n",
       "      <td>0</td>\n",
       "    </tr>\n",
       "    <tr>\n",
       "      <th>12347</th>\n",
       "      <td>1</td>\n",
       "      <td>1</td>\n",
       "    </tr>\n",
       "    <tr>\n",
       "      <th>12348</th>\n",
       "      <td>0</td>\n",
       "      <td>1</td>\n",
       "    </tr>\n",
       "  </tbody>\n",
       "</table>\n",
       "<p>12349 rows × 2 columns</p>\n",
       "</div>"
      ],
      "text/plain": [
       "       predicted  original\n",
       "0              1         1\n",
       "1              0         0\n",
       "2              1         1\n",
       "3              1         1\n",
       "4              1         1\n",
       "...          ...       ...\n",
       "12344          0         1\n",
       "12345          1         1\n",
       "12346          1         0\n",
       "12347          1         1\n",
       "12348          0         1\n",
       "\n",
       "[12349 rows x 2 columns]"
      ]
     },
     "execution_count": 55,
     "metadata": {},
     "output_type": "execute_result"
    }
   ],
   "source": [
    "g=np.array(y_test)\n",
    "df2=pd.DataFrame()\n",
    "df2['predicted']=prediction\n",
    "df2[\"original\"]=g\n",
    "df2    "
   ]
  },
  {
   "cell_type": "markdown",
   "id": "90539dbf",
   "metadata": {},
   "source": [
    "Predicted is the Income whether a person makes over $50K a year based on given details in the dataset."
   ]
  },
  {
   "cell_type": "code",
   "execution_count": 56,
   "id": "a222bb68",
   "metadata": {},
   "outputs": [
    {
     "name": "stdout",
     "output_type": "stream",
     "text": [
      "Threshold= [2 1 0]\n",
      "True positive rate= [0.         0.88824477 1.        ]\n",
      "False positive Rate= [0.         0.26274638 1.        ]\n"
     ]
    },
    {
     "data": {
      "image/png": "[encoded data removed]",
      "text/plain": [
       "<Figure size 432x288 with 1 Axes>"
      ]
     },
     "metadata": {
      "needs_background": "light"
     },
     "output_type": "display_data"
    }
   ],
   "source": [
    "#roc_curve\n",
    "fpr,tpr,thresholds=roc_curve(y_test,y_pred)\n",
    "print('Threshold=',thresholds)\n",
    "print('True positive rate=',tpr)\n",
    "print('False positive Rate=',fpr)\n",
    "plt.plot(fpr,tpr,color='orange',label=\"ROC\")\n",
    "plt.plot([0,1],[0,1],color='darkblue',linestyle='dotted')\n",
    "plt.xlabel(\"False positive Rate\")\n",
    "plt.ylabel(\"True positive Rate\")\n",
    "plt.title(\"Receiver operating characteristic\")\n",
    "plt.legend(loc=\"lower right\")\n",
    "plt.show()"
   ]
  },
  {
   "cell_type": "code",
   "execution_count": 57,
   "id": "d9633b4c",
   "metadata": {},
   "outputs": [
    {
     "name": "stdout",
     "output_type": "stream",
     "text": [
      "AUC_score: \n",
      " 81.2749195437213 %\n"
     ]
    }
   ],
   "source": [
    "auc_score=roc_auc_score(y_test,Final_model.predict(x_test))\n",
    "print(\"AUC_score:\",'\\n',auc_score*100,\"%\")"
   ]
  },
  {
   "cell_type": "markdown",
   "id": "f3eb86bc",
   "metadata": {},
   "source": [
    "we have plotted the ROC curve for the final model and the AUC score for the best model is  81.27%"
   ]
  },
  {
   "cell_type": "code",
   "execution_count": null,
   "id": "b7aa293f",
   "metadata": {},
   "outputs": [],
   "source": []
  }
 ],
 "metadata": {
  "kernelspec": {
   "display_name": "Python 3 (ipykernel)",
   "language": "python",
   "name": "python3"
  },
  "language_info": {
   "codemirror_mode": {
    "name": "ipython",
    "version": 3
   },
   "file_extension": ".py",
   "mimetype": "text/x-python",
   "name": "python",
   "nbconvert_exporter": "python",
   "pygments_lexer": "ipython3",
   "version": "3.9.12"
  }
 },
 "nbformat": 4,
 "nbformat_minor": 5
}
