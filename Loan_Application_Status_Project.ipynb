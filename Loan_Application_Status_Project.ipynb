{
 "cells": [
  {
   "cell_type": "code",
   "execution_count": 1,
   "id": "78a3ee60",
   "metadata": {},
   "outputs": [],
   "source": [
    "import pandas as pd \n",
    "import numpy as np\n",
    "import seaborn as sns\n",
    "import matplotlib.pyplot as plt\n",
    "import warnings\n",
    "warnings.filterwarnings('ignore')"
   ]
  },
  {
   "cell_type": "markdown",
   "id": "42b57d20",
   "metadata": {},
   "source": [
    "Project Description:"
   ]
  },
  {
   "cell_type": "markdown",
   "id": "5137f7fb",
   "metadata": {},
   "source": [
    "This dataset includes details of applicants who have applied for loan. The dataset includes details like credit history, loan amount, their income, dependents etc. "
   ]
  },
  {
   "cell_type": "markdown",
   "id": "7a25bcd1",
   "metadata": {},
   "source": [
    "1.Loan_ID - This refer to the unique identifier of the applicant's affirmed purchases\n",
    "\n",
    "2.Gender - This refers to either of the two main categories (male and female) into which applicants are divided on the basis of their reproductive functions\n",
    "\n",
    "3.Married - This refers to applicant being in a state of matrimony\n",
    "\n",
    "4.Dependents - This refres to persons who depends on the applicants for survival\n",
    "\n",
    "5.Education - This refers to number of years in which applicant received systematic instruction, especially at a school or university\n",
    "\n",
    "6.Self_Employed - This refers to applicant working for oneself as a freelancer or the owner of a business rather than for an employer\n",
    "\n",
    "7.Applicant Income - This refers to disposable income available for the applicant's use under State law.\n",
    "\n",
    "8.CoapplicantIncome - This refers to disposable income available for the people that participate in the loan application process alongside the main applicant use under State law.\n",
    "\n",
    "9.Loan_Amount - This refers to the amount of money an applicant owe at any given time.\n",
    "\n",
    "10.Loan_Amount_Term - This refers to the duaration in which the loan is availed to the applicant\n",
    "\n",
    "11.Credit History - This refers to a record of applicant's ability to repay debts and demonstrated responsibility in repaying them.\n",
    "\n",
    "12.Property_Area - This refers to the total area within the boundaries of the property as set out in Schedule.\n",
    "\n",
    "13.Loan_Status - This refres to whether applicant is eligible to be availed the Loan requested."
   ]
  },
  {
   "cell_type": "markdown",
   "id": "eb8dc7da",
   "metadata": {},
   "source": [
    "Importing Dataset:"
   ]
  },
  {
   "cell_type": "code",
   "execution_count": 2,
   "id": "9b8798a9",
   "metadata": {},
   "outputs": [
    {
     "data": {
      "text/html": [
       "<div>\n",
       "<style scoped>\n",
       "    .dataframe tbody tr th:only-of-type {\n",
       "        vertical-align: middle;\n",
       "    }\n",
       "\n",
       "    .dataframe tbody tr th {\n",
       "        vertical-align: top;\n",
       "    }\n",
       "\n",
       "    .dataframe thead th {\n",
       "        text-align: right;\n",
       "    }\n",
       "</style>\n",
       "<table border=\"1\" class=\"dataframe\">\n",
       "  <thead>\n",
       "    <tr style=\"text-align: right;\">\n",
       "      <th></th>\n",
       "      <th>Loan_ID</th>\n",
       "      <th>Gender</th>\n",
       "      <th>Married</th>\n",
       "      <th>Dependents</th>\n",
       "      <th>Education</th>\n",
       "      <th>Self_Employed</th>\n",
       "      <th>ApplicantIncome</th>\n",
       "      <th>CoapplicantIncome</th>\n",
       "      <th>LoanAmount</th>\n",
       "      <th>Loan_Amount_Term</th>\n",
       "      <th>Credit_History</th>\n",
       "      <th>Property_Area</th>\n",
       "      <th>Loan_Status</th>\n",
       "    </tr>\n",
       "  </thead>\n",
       "  <tbody>\n",
       "    <tr>\n",
       "      <th>0</th>\n",
       "      <td>LP001002</td>\n",
       "      <td>Male</td>\n",
       "      <td>No</td>\n",
       "      <td>0</td>\n",
       "      <td>Graduate</td>\n",
       "      <td>No</td>\n",
       "      <td>5849</td>\n",
       "      <td>0.0</td>\n",
       "      <td>NaN</td>\n",
       "      <td>360.0</td>\n",
       "      <td>1.0</td>\n",
       "      <td>Urban</td>\n",
       "      <td>Y</td>\n",
       "    </tr>\n",
       "    <tr>\n",
       "      <th>1</th>\n",
       "      <td>LP001003</td>\n",
       "      <td>Male</td>\n",
       "      <td>Yes</td>\n",
       "      <td>1</td>\n",
       "      <td>Graduate</td>\n",
       "      <td>No</td>\n",
       "      <td>4583</td>\n",
       "      <td>1508.0</td>\n",
       "      <td>128.0</td>\n",
       "      <td>360.0</td>\n",
       "      <td>1.0</td>\n",
       "      <td>Rural</td>\n",
       "      <td>N</td>\n",
       "    </tr>\n",
       "    <tr>\n",
       "      <th>2</th>\n",
       "      <td>LP001005</td>\n",
       "      <td>Male</td>\n",
       "      <td>Yes</td>\n",
       "      <td>0</td>\n",
       "      <td>Graduate</td>\n",
       "      <td>Yes</td>\n",
       "      <td>3000</td>\n",
       "      <td>0.0</td>\n",
       "      <td>66.0</td>\n",
       "      <td>360.0</td>\n",
       "      <td>1.0</td>\n",
       "      <td>Urban</td>\n",
       "      <td>Y</td>\n",
       "    </tr>\n",
       "    <tr>\n",
       "      <th>3</th>\n",
       "      <td>LP001006</td>\n",
       "      <td>Male</td>\n",
       "      <td>Yes</td>\n",
       "      <td>0</td>\n",
       "      <td>Not Graduate</td>\n",
       "      <td>No</td>\n",
       "      <td>2583</td>\n",
       "      <td>2358.0</td>\n",
       "      <td>120.0</td>\n",
       "      <td>360.0</td>\n",
       "      <td>1.0</td>\n",
       "      <td>Urban</td>\n",
       "      <td>Y</td>\n",
       "    </tr>\n",
       "    <tr>\n",
       "      <th>4</th>\n",
       "      <td>LP001008</td>\n",
       "      <td>Male</td>\n",
       "      <td>No</td>\n",
       "      <td>0</td>\n",
       "      <td>Graduate</td>\n",
       "      <td>No</td>\n",
       "      <td>6000</td>\n",
       "      <td>0.0</td>\n",
       "      <td>141.0</td>\n",
       "      <td>360.0</td>\n",
       "      <td>1.0</td>\n",
       "      <td>Urban</td>\n",
       "      <td>Y</td>\n",
       "    </tr>\n",
       "    <tr>\n",
       "      <th>...</th>\n",
       "      <td>...</td>\n",
       "      <td>...</td>\n",
       "      <td>...</td>\n",
       "      <td>...</td>\n",
       "      <td>...</td>\n",
       "      <td>...</td>\n",
       "      <td>...</td>\n",
       "      <td>...</td>\n",
       "      <td>...</td>\n",
       "      <td>...</td>\n",
       "      <td>...</td>\n",
       "      <td>...</td>\n",
       "      <td>...</td>\n",
       "    </tr>\n",
       "    <tr>\n",
       "      <th>609</th>\n",
       "      <td>LP002978</td>\n",
       "      <td>Female</td>\n",
       "      <td>No</td>\n",
       "      <td>0</td>\n",
       "      <td>Graduate</td>\n",
       "      <td>No</td>\n",
       "      <td>2900</td>\n",
       "      <td>0.0</td>\n",
       "      <td>71.0</td>\n",
       "      <td>360.0</td>\n",
       "      <td>1.0</td>\n",
       "      <td>Rural</td>\n",
       "      <td>Y</td>\n",
       "    </tr>\n",
       "    <tr>\n",
       "      <th>610</th>\n",
       "      <td>LP002979</td>\n",
       "      <td>Male</td>\n",
       "      <td>Yes</td>\n",
       "      <td>3+</td>\n",
       "      <td>Graduate</td>\n",
       "      <td>No</td>\n",
       "      <td>4106</td>\n",
       "      <td>0.0</td>\n",
       "      <td>40.0</td>\n",
       "      <td>180.0</td>\n",
       "      <td>1.0</td>\n",
       "      <td>Rural</td>\n",
       "      <td>Y</td>\n",
       "    </tr>\n",
       "    <tr>\n",
       "      <th>611</th>\n",
       "      <td>LP002983</td>\n",
       "      <td>Male</td>\n",
       "      <td>Yes</td>\n",
       "      <td>1</td>\n",
       "      <td>Graduate</td>\n",
       "      <td>No</td>\n",
       "      <td>8072</td>\n",
       "      <td>240.0</td>\n",
       "      <td>253.0</td>\n",
       "      <td>360.0</td>\n",
       "      <td>1.0</td>\n",
       "      <td>Urban</td>\n",
       "      <td>Y</td>\n",
       "    </tr>\n",
       "    <tr>\n",
       "      <th>612</th>\n",
       "      <td>LP002984</td>\n",
       "      <td>Male</td>\n",
       "      <td>Yes</td>\n",
       "      <td>2</td>\n",
       "      <td>Graduate</td>\n",
       "      <td>No</td>\n",
       "      <td>7583</td>\n",
       "      <td>0.0</td>\n",
       "      <td>187.0</td>\n",
       "      <td>360.0</td>\n",
       "      <td>1.0</td>\n",
       "      <td>Urban</td>\n",
       "      <td>Y</td>\n",
       "    </tr>\n",
       "    <tr>\n",
       "      <th>613</th>\n",
       "      <td>LP002990</td>\n",
       "      <td>Female</td>\n",
       "      <td>No</td>\n",
       "      <td>0</td>\n",
       "      <td>Graduate</td>\n",
       "      <td>Yes</td>\n",
       "      <td>4583</td>\n",
       "      <td>0.0</td>\n",
       "      <td>133.0</td>\n",
       "      <td>360.0</td>\n",
       "      <td>0.0</td>\n",
       "      <td>Semiurban</td>\n",
       "      <td>N</td>\n",
       "    </tr>\n",
       "  </tbody>\n",
       "</table>\n",
       "<p>614 rows × 13 columns</p>\n",
       "</div>"
      ],
      "text/plain": [
       "      Loan_ID  Gender Married Dependents     Education Self_Employed  \\\n",
       "0    LP001002    Male      No          0      Graduate            No   \n",
       "1    LP001003    Male     Yes          1      Graduate            No   \n",
       "2    LP001005    Male     Yes          0      Graduate           Yes   \n",
       "3    LP001006    Male     Yes          0  Not Graduate            No   \n",
       "4    LP001008    Male      No          0      Graduate            No   \n",
       "..        ...     ...     ...        ...           ...           ...   \n",
       "609  LP002978  Female      No          0      Graduate            No   \n",
       "610  LP002979    Male     Yes         3+      Graduate            No   \n",
       "611  LP002983    Male     Yes          1      Graduate            No   \n",
       "612  LP002984    Male     Yes          2      Graduate            No   \n",
       "613  LP002990  Female      No          0      Graduate           Yes   \n",
       "\n",
       "     ApplicantIncome  CoapplicantIncome  LoanAmount  Loan_Amount_Term  \\\n",
       "0               5849                0.0         NaN             360.0   \n",
       "1               4583             1508.0       128.0             360.0   \n",
       "2               3000                0.0        66.0             360.0   \n",
       "3               2583             2358.0       120.0             360.0   \n",
       "4               6000                0.0       141.0             360.0   \n",
       "..               ...                ...         ...               ...   \n",
       "609             2900                0.0        71.0             360.0   \n",
       "610             4106                0.0        40.0             180.0   \n",
       "611             8072              240.0       253.0             360.0   \n",
       "612             7583                0.0       187.0             360.0   \n",
       "613             4583                0.0       133.0             360.0   \n",
       "\n",
       "     Credit_History Property_Area Loan_Status  \n",
       "0               1.0         Urban           Y  \n",
       "1               1.0         Rural           N  \n",
       "2               1.0         Urban           Y  \n",
       "3               1.0         Urban           Y  \n",
       "4               1.0         Urban           Y  \n",
       "..              ...           ...         ...  \n",
       "609             1.0         Rural           Y  \n",
       "610             1.0         Rural           Y  \n",
       "611             1.0         Urban           Y  \n",
       "612             1.0         Urban           Y  \n",
       "613             0.0     Semiurban           N  \n",
       "\n",
       "[614 rows x 13 columns]"
      ]
     },
     "execution_count": 2,
     "metadata": {},
     "output_type": "execute_result"
    }
   ],
   "source": [
    "df=pd.read_csv(\"https://raw.githubusercontent.com/dsrscientist/DSData/master/loan_prediction.csv\")\n",
    "df"
   ]
  },
  {
   "cell_type": "code",
   "execution_count": 3,
   "id": "f1ce8fcc",
   "metadata": {},
   "outputs": [
    {
     "data": {
      "text/html": [
       "<div>\n",
       "<style scoped>\n",
       "    .dataframe tbody tr th:only-of-type {\n",
       "        vertical-align: middle;\n",
       "    }\n",
       "\n",
       "    .dataframe tbody tr th {\n",
       "        vertical-align: top;\n",
       "    }\n",
       "\n",
       "    .dataframe thead th {\n",
       "        text-align: right;\n",
       "    }\n",
       "</style>\n",
       "<table border=\"1\" class=\"dataframe\">\n",
       "  <thead>\n",
       "    <tr style=\"text-align: right;\">\n",
       "      <th></th>\n",
       "      <th>Loan_ID</th>\n",
       "      <th>Gender</th>\n",
       "      <th>Married</th>\n",
       "      <th>Dependents</th>\n",
       "      <th>Education</th>\n",
       "      <th>Self_Employed</th>\n",
       "      <th>ApplicantIncome</th>\n",
       "      <th>CoapplicantIncome</th>\n",
       "      <th>LoanAmount</th>\n",
       "      <th>Loan_Amount_Term</th>\n",
       "      <th>Credit_History</th>\n",
       "      <th>Property_Area</th>\n",
       "      <th>Loan_Status</th>\n",
       "    </tr>\n",
       "  </thead>\n",
       "  <tbody>\n",
       "    <tr>\n",
       "      <th>0</th>\n",
       "      <td>LP001002</td>\n",
       "      <td>Male</td>\n",
       "      <td>No</td>\n",
       "      <td>0</td>\n",
       "      <td>Graduate</td>\n",
       "      <td>No</td>\n",
       "      <td>5849</td>\n",
       "      <td>0.0</td>\n",
       "      <td>NaN</td>\n",
       "      <td>360.0</td>\n",
       "      <td>1.0</td>\n",
       "      <td>Urban</td>\n",
       "      <td>Y</td>\n",
       "    </tr>\n",
       "    <tr>\n",
       "      <th>1</th>\n",
       "      <td>LP001003</td>\n",
       "      <td>Male</td>\n",
       "      <td>Yes</td>\n",
       "      <td>1</td>\n",
       "      <td>Graduate</td>\n",
       "      <td>No</td>\n",
       "      <td>4583</td>\n",
       "      <td>1508.0</td>\n",
       "      <td>128.0</td>\n",
       "      <td>360.0</td>\n",
       "      <td>1.0</td>\n",
       "      <td>Rural</td>\n",
       "      <td>N</td>\n",
       "    </tr>\n",
       "    <tr>\n",
       "      <th>2</th>\n",
       "      <td>LP001005</td>\n",
       "      <td>Male</td>\n",
       "      <td>Yes</td>\n",
       "      <td>0</td>\n",
       "      <td>Graduate</td>\n",
       "      <td>Yes</td>\n",
       "      <td>3000</td>\n",
       "      <td>0.0</td>\n",
       "      <td>66.0</td>\n",
       "      <td>360.0</td>\n",
       "      <td>1.0</td>\n",
       "      <td>Urban</td>\n",
       "      <td>Y</td>\n",
       "    </tr>\n",
       "    <tr>\n",
       "      <th>3</th>\n",
       "      <td>LP001006</td>\n",
       "      <td>Male</td>\n",
       "      <td>Yes</td>\n",
       "      <td>0</td>\n",
       "      <td>Not Graduate</td>\n",
       "      <td>No</td>\n",
       "      <td>2583</td>\n",
       "      <td>2358.0</td>\n",
       "      <td>120.0</td>\n",
       "      <td>360.0</td>\n",
       "      <td>1.0</td>\n",
       "      <td>Urban</td>\n",
       "      <td>Y</td>\n",
       "    </tr>\n",
       "    <tr>\n",
       "      <th>4</th>\n",
       "      <td>LP001008</td>\n",
       "      <td>Male</td>\n",
       "      <td>No</td>\n",
       "      <td>0</td>\n",
       "      <td>Graduate</td>\n",
       "      <td>No</td>\n",
       "      <td>6000</td>\n",
       "      <td>0.0</td>\n",
       "      <td>141.0</td>\n",
       "      <td>360.0</td>\n",
       "      <td>1.0</td>\n",
       "      <td>Urban</td>\n",
       "      <td>Y</td>\n",
       "    </tr>\n",
       "  </tbody>\n",
       "</table>\n",
       "</div>"
      ],
      "text/plain": [
       "    Loan_ID Gender Married Dependents     Education Self_Employed  \\\n",
       "0  LP001002   Male      No          0      Graduate            No   \n",
       "1  LP001003   Male     Yes          1      Graduate            No   \n",
       "2  LP001005   Male     Yes          0      Graduate           Yes   \n",
       "3  LP001006   Male     Yes          0  Not Graduate            No   \n",
       "4  LP001008   Male      No          0      Graduate            No   \n",
       "\n",
       "   ApplicantIncome  CoapplicantIncome  LoanAmount  Loan_Amount_Term  \\\n",
       "0             5849                0.0         NaN             360.0   \n",
       "1             4583             1508.0       128.0             360.0   \n",
       "2             3000                0.0        66.0             360.0   \n",
       "3             2583             2358.0       120.0             360.0   \n",
       "4             6000                0.0       141.0             360.0   \n",
       "\n",
       "   Credit_History Property_Area Loan_Status  \n",
       "0             1.0         Urban           Y  \n",
       "1             1.0         Rural           N  \n",
       "2             1.0         Urban           Y  \n",
       "3             1.0         Urban           Y  \n",
       "4             1.0         Urban           Y  "
      ]
     },
     "execution_count": 3,
     "metadata": {},
     "output_type": "execute_result"
    }
   ],
   "source": [
    "df.head()"
   ]
  },
  {
   "cell_type": "code",
   "execution_count": 4,
   "id": "48da17fc",
   "metadata": {},
   "outputs": [
    {
     "data": {
      "text/html": [
       "<div>\n",
       "<style scoped>\n",
       "    .dataframe tbody tr th:only-of-type {\n",
       "        vertical-align: middle;\n",
       "    }\n",
       "\n",
       "    .dataframe tbody tr th {\n",
       "        vertical-align: top;\n",
       "    }\n",
       "\n",
       "    .dataframe thead th {\n",
       "        text-align: right;\n",
       "    }\n",
       "</style>\n",
       "<table border=\"1\" class=\"dataframe\">\n",
       "  <thead>\n",
       "    <tr style=\"text-align: right;\">\n",
       "      <th></th>\n",
       "      <th>Loan_ID</th>\n",
       "      <th>Gender</th>\n",
       "      <th>Married</th>\n",
       "      <th>Dependents</th>\n",
       "      <th>Education</th>\n",
       "      <th>Self_Employed</th>\n",
       "      <th>ApplicantIncome</th>\n",
       "      <th>CoapplicantIncome</th>\n",
       "      <th>LoanAmount</th>\n",
       "      <th>Loan_Amount_Term</th>\n",
       "      <th>Credit_History</th>\n",
       "      <th>Property_Area</th>\n",
       "      <th>Loan_Status</th>\n",
       "    </tr>\n",
       "  </thead>\n",
       "  <tbody>\n",
       "    <tr>\n",
       "      <th>609</th>\n",
       "      <td>LP002978</td>\n",
       "      <td>Female</td>\n",
       "      <td>No</td>\n",
       "      <td>0</td>\n",
       "      <td>Graduate</td>\n",
       "      <td>No</td>\n",
       "      <td>2900</td>\n",
       "      <td>0.0</td>\n",
       "      <td>71.0</td>\n",
       "      <td>360.0</td>\n",
       "      <td>1.0</td>\n",
       "      <td>Rural</td>\n",
       "      <td>Y</td>\n",
       "    </tr>\n",
       "    <tr>\n",
       "      <th>610</th>\n",
       "      <td>LP002979</td>\n",
       "      <td>Male</td>\n",
       "      <td>Yes</td>\n",
       "      <td>3+</td>\n",
       "      <td>Graduate</td>\n",
       "      <td>No</td>\n",
       "      <td>4106</td>\n",
       "      <td>0.0</td>\n",
       "      <td>40.0</td>\n",
       "      <td>180.0</td>\n",
       "      <td>1.0</td>\n",
       "      <td>Rural</td>\n",
       "      <td>Y</td>\n",
       "    </tr>\n",
       "    <tr>\n",
       "      <th>611</th>\n",
       "      <td>LP002983</td>\n",
       "      <td>Male</td>\n",
       "      <td>Yes</td>\n",
       "      <td>1</td>\n",
       "      <td>Graduate</td>\n",
       "      <td>No</td>\n",
       "      <td>8072</td>\n",
       "      <td>240.0</td>\n",
       "      <td>253.0</td>\n",
       "      <td>360.0</td>\n",
       "      <td>1.0</td>\n",
       "      <td>Urban</td>\n",
       "      <td>Y</td>\n",
       "    </tr>\n",
       "    <tr>\n",
       "      <th>612</th>\n",
       "      <td>LP002984</td>\n",
       "      <td>Male</td>\n",
       "      <td>Yes</td>\n",
       "      <td>2</td>\n",
       "      <td>Graduate</td>\n",
       "      <td>No</td>\n",
       "      <td>7583</td>\n",
       "      <td>0.0</td>\n",
       "      <td>187.0</td>\n",
       "      <td>360.0</td>\n",
       "      <td>1.0</td>\n",
       "      <td>Urban</td>\n",
       "      <td>Y</td>\n",
       "    </tr>\n",
       "    <tr>\n",
       "      <th>613</th>\n",
       "      <td>LP002990</td>\n",
       "      <td>Female</td>\n",
       "      <td>No</td>\n",
       "      <td>0</td>\n",
       "      <td>Graduate</td>\n",
       "      <td>Yes</td>\n",
       "      <td>4583</td>\n",
       "      <td>0.0</td>\n",
       "      <td>133.0</td>\n",
       "      <td>360.0</td>\n",
       "      <td>0.0</td>\n",
       "      <td>Semiurban</td>\n",
       "      <td>N</td>\n",
       "    </tr>\n",
       "  </tbody>\n",
       "</table>\n",
       "</div>"
      ],
      "text/plain": [
       "      Loan_ID  Gender Married Dependents Education Self_Employed  \\\n",
       "609  LP002978  Female      No          0  Graduate            No   \n",
       "610  LP002979    Male     Yes         3+  Graduate            No   \n",
       "611  LP002983    Male     Yes          1  Graduate            No   \n",
       "612  LP002984    Male     Yes          2  Graduate            No   \n",
       "613  LP002990  Female      No          0  Graduate           Yes   \n",
       "\n",
       "     ApplicantIncome  CoapplicantIncome  LoanAmount  Loan_Amount_Term  \\\n",
       "609             2900                0.0        71.0             360.0   \n",
       "610             4106                0.0        40.0             180.0   \n",
       "611             8072              240.0       253.0             360.0   \n",
       "612             7583                0.0       187.0             360.0   \n",
       "613             4583                0.0       133.0             360.0   \n",
       "\n",
       "     Credit_History Property_Area Loan_Status  \n",
       "609             1.0         Rural           Y  \n",
       "610             1.0         Rural           Y  \n",
       "611             1.0         Urban           Y  \n",
       "612             1.0         Urban           Y  \n",
       "613             0.0     Semiurban           N  "
      ]
     },
     "execution_count": 4,
     "metadata": {},
     "output_type": "execute_result"
    }
   ],
   "source": [
    "df.tail()"
   ]
  },
  {
   "cell_type": "markdown",
   "id": "669dd07c",
   "metadata": {},
   "source": [
    "Exploratory Data Analysis:"
   ]
  },
  {
   "cell_type": "code",
   "execution_count": 5,
   "id": "d6e25b8c",
   "metadata": {},
   "outputs": [
    {
     "data": {
      "text/plain": [
       "(614, 13)"
      ]
     },
     "execution_count": 5,
     "metadata": {},
     "output_type": "execute_result"
    }
   ],
   "source": [
    "df.shape"
   ]
  },
  {
   "cell_type": "markdown",
   "id": "c80aeb47",
   "metadata": {},
   "source": [
    "There are 614 rows and 13 columns present in the dataset."
   ]
  },
  {
   "cell_type": "code",
   "execution_count": 6,
   "id": "f16b72d9",
   "metadata": {},
   "outputs": [
    {
     "data": {
      "text/plain": [
       "Index(['Loan_ID', 'Gender', 'Married', 'Dependents', 'Education',\n",
       "       'Self_Employed', 'ApplicantIncome', 'CoapplicantIncome', 'LoanAmount',\n",
       "       'Loan_Amount_Term', 'Credit_History', 'Property_Area', 'Loan_Status'],\n",
       "      dtype='object')"
      ]
     },
     "execution_count": 6,
     "metadata": {},
     "output_type": "execute_result"
    }
   ],
   "source": [
    "df.columns"
   ]
  },
  {
   "cell_type": "markdown",
   "id": "d4a43ca3",
   "metadata": {},
   "source": [
    "These are the columns present in the dataset."
   ]
  },
  {
   "cell_type": "code",
   "execution_count": 3,
   "id": "99efbdfa",
   "metadata": {},
   "outputs": [
    {
     "data": {
      "text/plain": [
       "Loan_ID               object\n",
       "Gender                object\n",
       "Married               object\n",
       "Dependents            object\n",
       "Education             object\n",
       "Self_Employed         object\n",
       "ApplicantIncome        int64\n",
       "CoapplicantIncome    float64\n",
       "LoanAmount           float64\n",
       "Loan_Amount_Term     float64\n",
       "Credit_History       float64\n",
       "Property_Area         object\n",
       "Loan_Status           object\n",
       "dtype: object"
      ]
     },
     "execution_count": 3,
     "metadata": {},
     "output_type": "execute_result"
    }
   ],
   "source": [
    "df.dtypes"
   ]
  },
  {
   "cell_type": "markdown",
   "id": "9825a2d9",
   "metadata": {},
   "source": [
    "There are three types of data present in the dataset. i.e., object,int64 and float64."
   ]
  },
  {
   "cell_type": "code",
   "execution_count": 4,
   "id": "58b0cfc0",
   "metadata": {},
   "outputs": [
    {
     "data": {
      "text/plain": [
       "Loan_ID               0\n",
       "Gender               13\n",
       "Married               3\n",
       "Dependents           15\n",
       "Education             0\n",
       "Self_Employed        32\n",
       "ApplicantIncome       0\n",
       "CoapplicantIncome     0\n",
       "LoanAmount           22\n",
       "Loan_Amount_Term     14\n",
       "Credit_History       50\n",
       "Property_Area         0\n",
       "Loan_Status           0\n",
       "dtype: int64"
      ]
     },
     "execution_count": 4,
     "metadata": {},
     "output_type": "execute_result"
    }
   ],
   "source": [
    "df.isnull().sum()"
   ]
  },
  {
   "cell_type": "markdown",
   "id": "40e91545",
   "metadata": {},
   "source": [
    "Null values are present in  Gender,Married,Dependents, Self_Employed, LoanAmount, Loan_Amount_Term, Credit_History columns."
   ]
  },
  {
   "cell_type": "code",
   "execution_count": 11,
   "id": "80a64ef4",
   "metadata": {},
   "outputs": [
    {
     "data": {
      "text/plain": [
       "<AxesSubplot:>"
      ]
     },
     "execution_count": 11,
     "metadata": {},
     "output_type": "execute_result"
    },
    {
     "data": {
      "image/png": "[encoded data removed]",
      "text/plain": [
       "<Figure size 432x288 with 2 Axes>"
      ]
     },
     "metadata": {
      "needs_background": "light"
     },
     "output_type": "display_data"
    }
   ],
   "source": [
    "#Let's check null values using heatmap.\n",
    "sns.heatmap(df.isnull())"
   ]
  },
  {
   "cell_type": "code",
   "execution_count": 5,
   "id": "2cb174d7",
   "metadata": {},
   "outputs": [],
   "source": [
    "df[\"Gender\"]=df[\"Gender\"].fillna(method='bfill')\n",
    "df[\"Married\"]=df[\"Married\"].fillna(method='bfill')\n",
    "df[\"Dependents\"]=df[\"Dependents\"].fillna(method='ffill')\n",
    "df[\"Self_Employed\"]=df[\"Self_Employed\"].fillna(method='bfill')\n",
    "df[\"LoanAmount\"]=df[\"LoanAmount\"].fillna(df[\"LoanAmount\"].mean())\n",
    "df[\"Loan_Amount_Term\"]=df[\"Loan_Amount_Term\"].fillna(df[\"Loan_Amount_Term\"].mean())\n",
    "df[\"Credit_History\"]=df[\"Credit_History\"].fillna(df[\"Credit_History\"].mean())"
   ]
  },
  {
   "cell_type": "code",
   "execution_count": 6,
   "id": "4adb254f",
   "metadata": {},
   "outputs": [
    {
     "data": {
      "text/plain": [
       "Loan_ID              0\n",
       "Gender               0\n",
       "Married              0\n",
       "Dependents           0\n",
       "Education            0\n",
       "Self_Employed        0\n",
       "ApplicantIncome      0\n",
       "CoapplicantIncome    0\n",
       "LoanAmount           0\n",
       "Loan_Amount_Term     0\n",
       "Credit_History       0\n",
       "Property_Area        0\n",
       "Loan_Status          0\n",
       "dtype: int64"
      ]
     },
     "execution_count": 6,
     "metadata": {},
     "output_type": "execute_result"
    }
   ],
   "source": [
    "df.isnull().sum()"
   ]
  },
  {
   "cell_type": "code",
   "execution_count": 12,
   "id": "30ba0645",
   "metadata": {},
   "outputs": [
    {
     "data": {
      "text/plain": [
       "<AxesSubplot:>"
      ]
     },
     "execution_count": 12,
     "metadata": {},
     "output_type": "execute_result"
    },
    {
     "data": {
      "image/png": "[encoded data removed]",
      "text/plain": [
       "<Figure size 432x288 with 2 Axes>"
      ]
     },
     "metadata": {
      "needs_background": "light"
     },
     "output_type": "display_data"
    }
   ],
   "source": [
    "#Let's check null values using heatmap\n",
    "sns.heatmap(df.isnull())"
   ]
  },
  {
   "cell_type": "code",
   "execution_count": 9,
   "id": "346b7586",
   "metadata": {},
   "outputs": [
    {
     "data": {
      "text/plain": [
       "0      False\n",
       "1      False\n",
       "2      False\n",
       "3      False\n",
       "4      False\n",
       "       ...  \n",
       "609    False\n",
       "610    False\n",
       "611    False\n",
       "612    False\n",
       "613    False\n",
       "Length: 614, dtype: bool"
      ]
     },
     "execution_count": 9,
     "metadata": {},
     "output_type": "execute_result"
    }
   ],
   "source": [
    "df.duplicated()"
   ]
  },
  {
   "cell_type": "code",
   "execution_count": 10,
   "id": "007a5870",
   "metadata": {},
   "outputs": [
    {
     "data": {
      "text/plain": [
       "0"
      ]
     },
     "execution_count": 10,
     "metadata": {},
     "output_type": "execute_result"
    }
   ],
   "source": [
    "df.duplicated().sum()"
   ]
  },
  {
   "cell_type": "markdown",
   "id": "2d7afd45",
   "metadata": {},
   "source": [
    "There are no duplicate values present in the dataset."
   ]
  },
  {
   "cell_type": "code",
   "execution_count": 13,
   "id": "58f9a284",
   "metadata": {},
   "outputs": [
    {
     "name": "stdout",
     "output_type": "stream",
     "text": [
      "<class 'pandas.core.frame.DataFrame'>\n",
      "RangeIndex: 614 entries, 0 to 613\n",
      "Data columns (total 13 columns):\n",
      " #   Column             Non-Null Count  Dtype  \n",
      "---  ------             --------------  -----  \n",
      " 0   Loan_ID            614 non-null    object \n",
      " 1   Gender             614 non-null    object \n",
      " 2   Married            614 non-null    object \n",
      " 3   Dependents         614 non-null    object \n",
      " 4   Education          614 non-null    object \n",
      " 5   Self_Employed      614 non-null    object \n",
      " 6   ApplicantIncome    614 non-null    int64  \n",
      " 7   CoapplicantIncome  614 non-null    float64\n",
      " 8   LoanAmount         614 non-null    float64\n",
      " 9   Loan_Amount_Term   614 non-null    float64\n",
      " 10  Credit_History     614 non-null    float64\n",
      " 11  Property_Area      614 non-null    object \n",
      " 12  Loan_Status        614 non-null    object \n",
      "dtypes: float64(4), int64(1), object(8)\n",
      "memory usage: 62.5+ KB\n"
     ]
    }
   ],
   "source": [
    "df.info()"
   ]
  },
  {
   "cell_type": "markdown",
   "id": "beba09fe",
   "metadata": {},
   "source": [
    "This gives the brief information about the name of the columns , non null count and data type of columns, and the memory usage of the dataset.."
   ]
  },
  {
   "cell_type": "code",
   "execution_count": 7,
   "id": "525c6b05",
   "metadata": {},
   "outputs": [
    {
     "data": {
      "text/plain": [
       "Loan_ID               object\n",
       "Gender                object\n",
       "Married               object\n",
       "Dependents            object\n",
       "Education             object\n",
       "Self_Employed         object\n",
       "ApplicantIncome        int64\n",
       "CoapplicantIncome    float64\n",
       "LoanAmount           float64\n",
       "Loan_Amount_Term     float64\n",
       "Credit_History       float64\n",
       "Property_Area         object\n",
       "Loan_Status           object\n",
       "dtype: object"
      ]
     },
     "execution_count": 7,
     "metadata": {},
     "output_type": "execute_result"
    }
   ],
   "source": [
    "df.dtypes"
   ]
  },
  {
   "cell_type": "code",
   "execution_count": 8,
   "id": "ad66e1c1",
   "metadata": {},
   "outputs": [
    {
     "data": {
      "text/plain": [
       "Male      501\n",
       "Female    113\n",
       "Name: Gender, dtype: int64"
      ]
     },
     "execution_count": 8,
     "metadata": {},
     "output_type": "execute_result"
    }
   ],
   "source": [
    "df[\"Gender\"].value_counts()"
   ]
  },
  {
   "cell_type": "code",
   "execution_count": 9,
   "id": "c3d70823",
   "metadata": {},
   "outputs": [
    {
     "name": "stdout",
     "output_type": "stream",
     "text": [
      "LP001002    1\n",
      "LP002328    1\n",
      "LP002305    1\n",
      "LP002308    1\n",
      "LP002314    1\n",
      "           ..\n",
      "LP001692    1\n",
      "LP001693    1\n",
      "LP001698    1\n",
      "LP001699    1\n",
      "LP002990    1\n",
      "Name: Loan_ID, Length: 614, dtype: int64\n",
      "Male      501\n",
      "Female    113\n",
      "Name: Gender, dtype: int64\n",
      "Yes    399\n",
      "No     215\n",
      "Name: Married, dtype: int64\n",
      "0     354\n",
      "2     105\n",
      "1     104\n",
      "3+     51\n",
      "Name: Dependents, dtype: int64\n",
      "Graduate        480\n",
      "Not Graduate    134\n",
      "Name: Education, dtype: int64\n",
      "No     528\n",
      "Yes     86\n",
      "Name: Self_Employed, dtype: int64\n",
      "2500    9\n",
      "4583    6\n",
      "6000    6\n",
      "2600    6\n",
      "3333    5\n",
      "       ..\n",
      "3244    1\n",
      "4408    1\n",
      "3917    1\n",
      "3992    1\n",
      "7583    1\n",
      "Name: ApplicantIncome, Length: 505, dtype: int64\n",
      "0.0       273\n",
      "2500.0      5\n",
      "2083.0      5\n",
      "1666.0      5\n",
      "2250.0      3\n",
      "         ... \n",
      "2791.0      1\n",
      "1010.0      1\n",
      "1695.0      1\n",
      "2598.0      1\n",
      "240.0       1\n",
      "Name: CoapplicantIncome, Length: 287, dtype: int64\n",
      "146.412162    22\n",
      "120.000000    20\n",
      "110.000000    17\n",
      "100.000000    15\n",
      "160.000000    12\n",
      "              ..\n",
      "240.000000     1\n",
      "214.000000     1\n",
      "59.000000      1\n",
      "166.000000     1\n",
      "253.000000     1\n",
      "Name: LoanAmount, Length: 204, dtype: int64\n",
      "360.0    512\n",
      "180.0     44\n",
      "480.0     15\n",
      "342.0     14\n",
      "300.0     13\n",
      "240.0      4\n",
      "84.0       4\n",
      "120.0      3\n",
      "60.0       2\n",
      "36.0       2\n",
      "12.0       1\n",
      "Name: Loan_Amount_Term, dtype: int64\n",
      "1.000000    475\n",
      "0.000000     89\n",
      "0.842199     50\n",
      "Name: Credit_History, dtype: int64\n",
      "Semiurban    233\n",
      "Urban        202\n",
      "Rural        179\n",
      "Name: Property_Area, dtype: int64\n",
      "Y    422\n",
      "N    192\n",
      "Name: Loan_Status, dtype: int64\n"
     ]
    }
   ],
   "source": [
    "for i in df.columns:\n",
    "    print(df[i].value_counts())"
   ]
  },
  {
   "cell_type": "markdown",
   "id": "00572116",
   "metadata": {},
   "source": [
    "These are the value counts of all the columns present in this dataset."
   ]
  },
  {
   "cell_type": "code",
   "execution_count": 10,
   "id": "bd8fd5da",
   "metadata": {},
   "outputs": [
    {
     "data": {
      "text/plain": [
       "2"
      ]
     },
     "execution_count": 10,
     "metadata": {},
     "output_type": "execute_result"
    }
   ],
   "source": [
    "df[\"Loan_Status\"].nunique()"
   ]
  },
  {
   "cell_type": "markdown",
   "id": "0ace1ff2",
   "metadata": {},
   "source": [
    "There are two unique values present in target variable Loan_Status Y and N"
   ]
  },
  {
   "cell_type": "code",
   "execution_count": 11,
   "id": "0078d235",
   "metadata": {},
   "outputs": [
    {
     "data": {
      "text/html": [
       "<div>\n",
       "<style scoped>\n",
       "    .dataframe tbody tr th:only-of-type {\n",
       "        vertical-align: middle;\n",
       "    }\n",
       "\n",
       "    .dataframe tbody tr th {\n",
       "        vertical-align: top;\n",
       "    }\n",
       "\n",
       "    .dataframe thead th {\n",
       "        text-align: right;\n",
       "    }\n",
       "</style>\n",
       "<table border=\"1\" class=\"dataframe\">\n",
       "  <thead>\n",
       "    <tr style=\"text-align: right;\">\n",
       "      <th></th>\n",
       "      <th>ApplicantIncome</th>\n",
       "      <th>CoapplicantIncome</th>\n",
       "      <th>LoanAmount</th>\n",
       "      <th>Loan_Amount_Term</th>\n",
       "      <th>Credit_History</th>\n",
       "    </tr>\n",
       "  </thead>\n",
       "  <tbody>\n",
       "    <tr>\n",
       "      <th>count</th>\n",
       "      <td>614.000000</td>\n",
       "      <td>614.000000</td>\n",
       "      <td>614.000000</td>\n",
       "      <td>614.000000</td>\n",
       "      <td>614.000000</td>\n",
       "    </tr>\n",
       "    <tr>\n",
       "      <th>mean</th>\n",
       "      <td>5403.459283</td>\n",
       "      <td>1621.245798</td>\n",
       "      <td>146.412162</td>\n",
       "      <td>342.000000</td>\n",
       "      <td>0.842199</td>\n",
       "    </tr>\n",
       "    <tr>\n",
       "      <th>std</th>\n",
       "      <td>6109.041673</td>\n",
       "      <td>2926.248369</td>\n",
       "      <td>84.037468</td>\n",
       "      <td>64.372489</td>\n",
       "      <td>0.349681</td>\n",
       "    </tr>\n",
       "    <tr>\n",
       "      <th>min</th>\n",
       "      <td>150.000000</td>\n",
       "      <td>0.000000</td>\n",
       "      <td>9.000000</td>\n",
       "      <td>12.000000</td>\n",
       "      <td>0.000000</td>\n",
       "    </tr>\n",
       "    <tr>\n",
       "      <th>25%</th>\n",
       "      <td>2877.500000</td>\n",
       "      <td>0.000000</td>\n",
       "      <td>100.250000</td>\n",
       "      <td>360.000000</td>\n",
       "      <td>1.000000</td>\n",
       "    </tr>\n",
       "    <tr>\n",
       "      <th>50%</th>\n",
       "      <td>3812.500000</td>\n",
       "      <td>1188.500000</td>\n",
       "      <td>129.000000</td>\n",
       "      <td>360.000000</td>\n",
       "      <td>1.000000</td>\n",
       "    </tr>\n",
       "    <tr>\n",
       "      <th>75%</th>\n",
       "      <td>5795.000000</td>\n",
       "      <td>2297.250000</td>\n",
       "      <td>164.750000</td>\n",
       "      <td>360.000000</td>\n",
       "      <td>1.000000</td>\n",
       "    </tr>\n",
       "    <tr>\n",
       "      <th>max</th>\n",
       "      <td>81000.000000</td>\n",
       "      <td>41667.000000</td>\n",
       "      <td>700.000000</td>\n",
       "      <td>480.000000</td>\n",
       "      <td>1.000000</td>\n",
       "    </tr>\n",
       "  </tbody>\n",
       "</table>\n",
       "</div>"
      ],
      "text/plain": [
       "       ApplicantIncome  CoapplicantIncome  LoanAmount  Loan_Amount_Term  \\\n",
       "count       614.000000         614.000000  614.000000        614.000000   \n",
       "mean       5403.459283        1621.245798  146.412162        342.000000   \n",
       "std        6109.041673        2926.248369   84.037468         64.372489   \n",
       "min         150.000000           0.000000    9.000000         12.000000   \n",
       "25%        2877.500000           0.000000  100.250000        360.000000   \n",
       "50%        3812.500000        1188.500000  129.000000        360.000000   \n",
       "75%        5795.000000        2297.250000  164.750000        360.000000   \n",
       "max       81000.000000       41667.000000  700.000000        480.000000   \n",
       "\n",
       "       Credit_History  \n",
       "count      614.000000  \n",
       "mean         0.842199  \n",
       "std          0.349681  \n",
       "min          0.000000  \n",
       "25%          1.000000  \n",
       "50%          1.000000  \n",
       "75%          1.000000  \n",
       "max          1.000000  "
      ]
     },
     "execution_count": 11,
     "metadata": {},
     "output_type": "execute_result"
    }
   ],
   "source": [
    "df.describe()"
   ]
  },
  {
   "cell_type": "code",
   "execution_count": 13,
   "id": "f56767d1",
   "metadata": {},
   "outputs": [
    {
     "data": {
      "image/png": "[encoded data removed]",
      "text/plain": [
       "<Figure size 720x720 with 2 Axes>"
      ]
     },
     "metadata": {
      "needs_background": "light"
     },
     "output_type": "display_data"
    }
   ],
   "source": [
    "#let us visualize by using heatmap\n",
    "plt.figure(figsize=(10,10))\n",
    "sns.heatmap(df.describe(),annot=True,linewidth=0.2,linecolor=\"black\",fmt=\"0.2f\",cmap=\"Spectral\")\n",
    "plt.ylabel(\"figures\")\n",
    "plt.xlabel(\"features_Name\")\n",
    "plt.show()"
   ]
  },
  {
   "cell_type": "markdown",
   "id": "5e49bfa9",
   "metadata": {},
   "source": [
    "This gives the stastical summary of numerical columns.The counts of all the columns are same which means there are no missing values in the dataset.The summary of the dataset looks perfect since there is no negative/invalid values present."
   ]
  },
  {
   "cell_type": "markdown",
   "id": "7a9de923",
   "metadata": {},
   "source": [
    "The mean is greater than the median in ApplicantIncome, CoapplicantIncome, LoanAmount columns which means the data is skewed to right in these columns."
   ]
  },
  {
   "cell_type": "markdown",
   "id": "12d824ef",
   "metadata": {},
   "source": [
    "The mean is less than the median in Loan_Amount_Term, Credit_History columns which means the data is skewed to left in these columns."
   ]
  },
  {
   "cell_type": "markdown",
   "id": "6bf3ce08",
   "metadata": {},
   "source": [
    "By summarizing the data we can observe there is a huge differences between 75% and max,hence there are outliers present in the data.\n",
    "\n",
    "We can also notice that the standard deviation, minimum value and 25% percentile values from this describe method.\n",
    "\n",
    "Data Visualization:"
   ]
  },
  {
   "cell_type": "code",
   "execution_count": 14,
   "id": "9791539e",
   "metadata": {},
   "outputs": [
    {
     "name": "stdout",
     "output_type": "stream",
     "text": [
      "Y    422\n",
      "N    192\n",
      "Name: Loan_Status, dtype: int64\n"
     ]
    },
    {
     "data": {
      "image/png": "[encoded data removed]",
      "text/plain": [
       "<Figure size 432x288 with 1 Axes>"
      ]
     },
     "metadata": {
      "needs_background": "light"
     },
     "output_type": "display_data"
    }
   ],
   "source": [
    "#Let's visualize the count of  Loan_Status column.\n",
    "sns.countplot(x=\"Loan_Status\",data=df)\n",
    "print(df[\"Loan_Status\"].value_counts())"
   ]
  },
  {
   "cell_type": "markdown",
   "id": "3aa91693",
   "metadata": {},
   "source": [
    "The count of customers with loan eligibility yes(Y) is more compared to  customers not having loan eligibility."
   ]
  },
  {
   "cell_type": "code",
   "execution_count": 15,
   "id": "93e8bf6f",
   "metadata": {},
   "outputs": [
    {
     "name": "stdout",
     "output_type": "stream",
     "text": [
      "2500    9\n",
      "4583    6\n",
      "6000    6\n",
      "2600    6\n",
      "3333    5\n",
      "       ..\n",
      "3244    1\n",
      "4408    1\n",
      "3917    1\n",
      "3992    1\n",
      "7583    1\n",
      "Name: ApplicantIncome, Length: 505, dtype: int64\n"
     ]
    },
    {
     "data": {
      "image/png": "[encoded data removed]",
      "text/plain": [
       "<Figure size 432x288 with 1 Axes>"
      ]
     },
     "metadata": {
      "needs_background": "light"
     },
     "output_type": "display_data"
    }
   ],
   "source": [
    "#Let's visualize the count of  ApplicantIncome column.\n",
    "sns.countplot(x=\"ApplicantIncome\",data=df)\n",
    "print(df[\"ApplicantIncome\"].value_counts())"
   ]
  },
  {
   "cell_type": "markdown",
   "id": "d1c057f0",
   "metadata": {},
   "source": [
    "The ApplicantIncome with 2500 is more."
   ]
  },
  {
   "cell_type": "code",
   "execution_count": 17,
   "id": "3b32fbd6",
   "metadata": {},
   "outputs": [
    {
     "name": "stdout",
     "output_type": "stream",
     "text": [
      "0.0       273\n",
      "2500.0      5\n",
      "2083.0      5\n",
      "1666.0      5\n",
      "2250.0      3\n",
      "         ... \n",
      "2791.0      1\n",
      "1010.0      1\n",
      "1695.0      1\n",
      "2598.0      1\n",
      "240.0       1\n",
      "Name: CoapplicantIncome, Length: 287, dtype: int64\n"
     ]
    },
    {
     "data": {
      "image/png": "[encoded data removed]",
      "text/plain": [
       "<Figure size 432x288 with 1 Axes>"
      ]
     },
     "metadata": {
      "needs_background": "light"
     },
     "output_type": "display_data"
    }
   ],
   "source": [
    "#Let's visualize the count of  CoapplicantIncome column.\n",
    "sns.stripplot(x=\"CoapplicantIncome\",data=df)\n",
    "print(df[\"CoapplicantIncome\"].value_counts())"
   ]
  },
  {
   "cell_type": "markdown",
   "id": "4b703197",
   "metadata": {},
   "source": [
    "The CoapplicantIncome having 0 is more."
   ]
  },
  {
   "cell_type": "code",
   "execution_count": 18,
   "id": "f50b0ea8",
   "metadata": {},
   "outputs": [
    {
     "name": "stdout",
     "output_type": "stream",
     "text": [
      "146.412162    22\n",
      "120.000000    20\n",
      "110.000000    17\n",
      "100.000000    15\n",
      "160.000000    12\n",
      "              ..\n",
      "240.000000     1\n",
      "214.000000     1\n",
      "59.000000      1\n",
      "166.000000     1\n",
      "253.000000     1\n",
      "Name: LoanAmount, Length: 204, dtype: int64\n"
     ]
    },
    {
     "data": {
      "image/png": "[encoded data removed]",
      "text/plain": [
       "<Figure size 432x288 with 1 Axes>"
      ]
     },
     "metadata": {
      "needs_background": "light"
     },
     "output_type": "display_data"
    }
   ],
   "source": [
    "#Let's visualize the count of  LoanAmount column.\n",
    "sns.countplot(x=\"LoanAmount\",data=df)\n",
    "print(df[\"LoanAmount\"].value_counts())"
   ]
  },
  {
   "cell_type": "markdown",
   "id": "330a9950",
   "metadata": {},
   "source": [
    "The customers wants  loan amount  146.412162 is more."
   ]
  },
  {
   "cell_type": "code",
   "execution_count": 19,
   "id": "d7b08438",
   "metadata": {},
   "outputs": [
    {
     "name": "stdout",
     "output_type": "stream",
     "text": [
      "360.0    512\n",
      "180.0     44\n",
      "480.0     15\n",
      "342.0     14\n",
      "300.0     13\n",
      "240.0      4\n",
      "84.0       4\n",
      "120.0      3\n",
      "60.0       2\n",
      "36.0       2\n",
      "12.0       1\n",
      "Name: Loan_Amount_Term, dtype: int64\n"
     ]
    },
    {
     "data": {
      "image/png": "[encoded data removed]",
      "text/plain": [
       "<Figure size 432x288 with 1 Axes>"
      ]
     },
     "metadata": {
      "needs_background": "light"
     },
     "output_type": "display_data"
    }
   ],
   "source": [
    "#Let's visualize the count of  Loan_Amount_Term column.\n",
    "sns.countplot(x=\"Loan_Amount_Term\",data=df)\n",
    "print(df[\"Loan_Amount_Term\"].value_counts())"
   ]
  },
  {
   "cell_type": "markdown",
   "id": "d0be08dd",
   "metadata": {},
   "source": [
    "The Loan_Amount_Term with 360 is more applicants."
   ]
  },
  {
   "cell_type": "code",
   "execution_count": 20,
   "id": "8e02d8c2",
   "metadata": {},
   "outputs": [
    {
     "name": "stdout",
     "output_type": "stream",
     "text": [
      "1.000000    475\n",
      "0.000000     89\n",
      "0.842199     50\n",
      "Name: Credit_History, dtype: int64\n"
     ]
    },
    {
     "data": {
      "image/png": "[encoded data removed]",
      "text/plain": [
       "<Figure size 432x288 with 1 Axes>"
      ]
     },
     "metadata": {
      "needs_background": "light"
     },
     "output_type": "display_data"
    }
   ],
   "source": [
    "#Let's visualize the count of  Credit_History column.\n",
    "sns.countplot(x=\"Credit_History\",data=df)\n",
    "print(df[\"Credit_History\"].value_counts())"
   ]
  },
  {
   "cell_type": "markdown",
   "id": "153beb6a",
   "metadata": {},
   "source": [
    "The Credit_History with 1.00 is more applicants."
   ]
  },
  {
   "cell_type": "code",
   "execution_count": 21,
   "id": "6648f67a",
   "metadata": {},
   "outputs": [
    {
     "name": "stdout",
     "output_type": "stream",
     "text": [
      "Yes    399\n",
      "No     215\n",
      "Name: Married, dtype: int64\n"
     ]
    },
    {
     "data": {
      "image/png": "[encoded data removed]",
      "text/plain": [
       "<Figure size 432x288 with 1 Axes>"
      ]
     },
     "metadata": {
      "needs_background": "light"
     },
     "output_type": "display_data"
    }
   ],
   "source": [
    "#Let's visualize the count of  Married column.\n",
    "sns.countplot(x=\"Married\",data=df)\n",
    "print(df[\"Married\"].value_counts())"
   ]
  },
  {
   "cell_type": "markdown",
   "id": "b882d3db",
   "metadata": {},
   "source": [
    "The Married applicants are more."
   ]
  },
  {
   "cell_type": "code",
   "execution_count": 22,
   "id": "5bd9a9e6",
   "metadata": {},
   "outputs": [
    {
     "name": "stdout",
     "output_type": "stream",
     "text": [
      "Graduate        480\n",
      "Not Graduate    134\n",
      "Name: Education, dtype: int64\n"
     ]
    },
    {
     "data": {
      "image/png": "[encoded data removed]",
      "text/plain": [
       "<Figure size 432x288 with 1 Axes>"
      ]
     },
     "metadata": {
      "needs_background": "light"
     },
     "output_type": "display_data"
    }
   ],
   "source": [
    "#Let's visualize the count of  Education column.\n",
    "sns.countplot(x=\"Education\",data=df)\n",
    "print(df[\"Education\"].value_counts())"
   ]
  },
  {
   "cell_type": "markdown",
   "id": "076eb8de",
   "metadata": {},
   "source": [
    "Graduates are more compared to Not Graduates."
   ]
  },
  {
   "cell_type": "code",
   "execution_count": 23,
   "id": "9ccdc44b",
   "metadata": {},
   "outputs": [
    {
     "name": "stdout",
     "output_type": "stream",
     "text": [
      "0     354\n",
      "2     105\n",
      "1     104\n",
      "3+     51\n",
      "Name: Dependents, dtype: int64\n"
     ]
    },
    {
     "data": {
      "image/png": "[encoded data removed]",
      "text/plain": [
       "<Figure size 432x288 with 1 Axes>"
      ]
     },
     "metadata": {
      "needs_background": "light"
     },
     "output_type": "display_data"
    }
   ],
   "source": [
    "#Let's visualize the count of  Dependents column.\n",
    "sns.countplot(x=\"Dependents\",data=df)\n",
    "print(df[\"Dependents\"].value_counts())"
   ]
  },
  {
   "cell_type": "markdown",
   "id": "83068a18",
   "metadata": {},
   "source": [
    "Dependents 0 is more applicants."
   ]
  },
  {
   "cell_type": "code",
   "execution_count": 24,
   "id": "9bcfbf12",
   "metadata": {},
   "outputs": [
    {
     "name": "stdout",
     "output_type": "stream",
     "text": [
      "Male      501\n",
      "Female    113\n",
      "Name: Gender, dtype: int64\n"
     ]
    },
    {
     "data": {
      "image/png": "[encoded data removed]",
      "text/plain": [
       "<Figure size 432x288 with 1 Axes>"
      ]
     },
     "metadata": {
      "needs_background": "light"
     },
     "output_type": "display_data"
    }
   ],
   "source": [
    "#Let's visualize the count of  Gender column.\n",
    "sns.countplot(x=\"Gender\",data=df)\n",
    "print(df[\"Gender\"].value_counts())"
   ]
  },
  {
   "cell_type": "markdown",
   "id": "a0de9bf5",
   "metadata": {},
   "source": [
    "Male applicants are more compared to female applicants."
   ]
  },
  {
   "cell_type": "code",
   "execution_count": 26,
   "id": "b9cebeb3",
   "metadata": {},
   "outputs": [
    {
     "name": "stdout",
     "output_type": "stream",
     "text": [
      "LP001002    1\n",
      "LP002328    1\n",
      "LP002305    1\n",
      "LP002308    1\n",
      "LP002314    1\n",
      "           ..\n",
      "LP001692    1\n",
      "LP001693    1\n",
      "LP001698    1\n",
      "LP001699    1\n",
      "LP002990    1\n",
      "Name: Loan_ID, Length: 614, dtype: int64\n"
     ]
    },
    {
     "data": {
      "image/png": "[encoded data removed]",
      "text/plain": [
       "<Figure size 432x288 with 1 Axes>"
      ]
     },
     "metadata": {
      "needs_background": "light"
     },
     "output_type": "display_data"
    }
   ],
   "source": [
    "#Let's visualize the count of  Loan_ID column.\n",
    "sns.countplot(x=\"Loan_ID\",data=df)\n",
    "print(df[\"Loan_ID\"].value_counts())"
   ]
  },
  {
   "cell_type": "markdown",
   "id": "d4665597",
   "metadata": {},
   "source": [
    "All the data is unique in this column, ID number is unique for every applicant."
   ]
  },
  {
   "cell_type": "code",
   "execution_count": 27,
   "id": "df3bcb75",
   "metadata": {},
   "outputs": [
    {
     "name": "stdout",
     "output_type": "stream",
     "text": [
      "Semiurban    233\n",
      "Urban        202\n",
      "Rural        179\n",
      "Name: Property_Area, dtype: int64\n"
     ]
    },
    {
     "data": {
      "image/png": "[encoded data removed]",
      "text/plain": [
       "<Figure size 432x288 with 1 Axes>"
      ]
     },
     "metadata": {
      "needs_background": "light"
     },
     "output_type": "display_data"
    }
   ],
   "source": [
    "#Let's visualize the count of  Property_Area column.\n",
    "sns.countplot(x=\"Property_Area\",data=df)\n",
    "print(df[\"Property_Area\"].value_counts())"
   ]
  },
  {
   "cell_type": "markdown",
   "id": "215bafd8",
   "metadata": {},
   "source": [
    "Applicants with  Semiurban  Property_Area is more."
   ]
  },
  {
   "cell_type": "markdown",
   "id": "52e32111",
   "metadata": {},
   "source": [
    "BiVariate Analysis:"
   ]
  },
  {
   "cell_type": "code",
   "execution_count": 30,
   "id": "b2095fcd",
   "metadata": {},
   "outputs": [
    {
     "data": {
      "image/png": "[encoded data removed]",
      "text/plain": [
       "<Figure size 432x288 with 1 Axes>"
      ]
     },
     "metadata": {
      "needs_background": "light"
     },
     "output_type": "display_data"
    }
   ],
   "source": [
    "#comparing LoanAmount and Loan_Status column\n",
    "plt.title(\"Comparing LoanAmount and Loan_Status column\")\n",
    "sns.barplot(x=\"Loan_Status\",y=\"LoanAmount\",data=df)\n",
    "plt.show()"
   ]
  },
  {
   "cell_type": "markdown",
   "id": "c3b60c3f",
   "metadata": {},
   "source": [
    "The less LoanAmount   with Yes  Loan_Status is less.  "
   ]
  },
  {
   "cell_type": "code",
   "execution_count": 31,
   "id": "66024752",
   "metadata": {},
   "outputs": [
    {
     "data": {
      "image/png": "[encoded data removed]",
      "text/plain": [
       "<Figure size 432x288 with 1 Axes>"
      ]
     },
     "metadata": {
      "needs_background": "light"
     },
     "output_type": "display_data"
    }
   ],
   "source": [
    "#comparing Loan_Amount_term and Loan_Status column\n",
    "plt.title(\"Comparing Loan_Amount_Term and Loan_Status column\")\n",
    "sns.barplot(x=\"Loan_Status\",y=\"Loan_Amount_Term\",data=df)\n",
    "plt.show()"
   ]
  },
  {
   "cell_type": "markdown",
   "id": "fcae02ad",
   "metadata": {},
   "source": [
    "Loan_Amount_Term with Loan_Status yes and No category are equal."
   ]
  },
  {
   "cell_type": "code",
   "execution_count": 32,
   "id": "801763b9",
   "metadata": {},
   "outputs": [
    {
     "data": {
      "image/png": "[encoded data removed]",
      "text/plain": [
       "<Figure size 432x288 with 1 Axes>"
      ]
     },
     "metadata": {
      "needs_background": "light"
     },
     "output_type": "display_data"
    }
   ],
   "source": [
    "#comparing ApplicantIncome and Loan_Status column\n",
    "plt.title(\"Comparing ApplicantIncome and Loan_Status column\")\n",
    "sns.barplot(x=\"Loan_Status\",y=\"ApplicantIncome\",data=df)\n",
    "plt.show()"
   ]
  },
  {
   "cell_type": "markdown",
   "id": "40796038",
   "metadata": {},
   "source": [
    "Loan_Status yes and No are same according to ApplicantIncome."
   ]
  },
  {
   "cell_type": "code",
   "execution_count": 33,
   "id": "a8f9380a",
   "metadata": {},
   "outputs": [
    {
     "data": {
      "image/png": "[encoded data removed]",
      "text/plain": [
       "<Figure size 432x288 with 1 Axes>"
      ]
     },
     "metadata": {
      "needs_background": "light"
     },
     "output_type": "display_data"
    }
   ],
   "source": [
    "#comparing Credit_History and Loan_Status column\n",
    "plt.title(\"Comparing Credit_History and Loan_Status column\")\n",
    "sns.barplot(x=\"Loan_Status\",y=\"Credit_History\",data=df)\n",
    "plt.show()"
   ]
  },
  {
   "cell_type": "markdown",
   "id": "8f64c59d",
   "metadata": {},
   "source": [
    "Loan_Status Yes category is more according to Credit_History."
   ]
  },
  {
   "cell_type": "code",
   "execution_count": 35,
   "id": "d70b42f2",
   "metadata": {},
   "outputs": [
    {
     "data": {
      "image/png": "[encoded data removed]",
      "text/plain": [
       "<Figure size 432x288 with 1 Axes>"
      ]
     },
     "metadata": {
      "needs_background": "light"
     },
     "output_type": "display_data"
    }
   ],
   "source": [
    "#comparing CoapplicantIncome and Loan_Status column\n",
    "plt.title(\"Comparing CoapplicantIncome and Loan_Status column\")\n",
    "sns.barplot(x=\"Loan_Status\",y=\"CoapplicantIncome\",data=df)\n",
    "plt.show()"
   ]
  },
  {
   "cell_type": "markdown",
   "id": "5fee3cf3",
   "metadata": {},
   "source": [
    "Loan_Status No category is more according to CoapplicantIncome column."
   ]
  },
  {
   "cell_type": "code",
   "execution_count": 36,
   "id": "6da28f90",
   "metadata": {},
   "outputs": [
    {
     "data": {
      "text/html": [
       "<div>\n",
       "<style scoped>\n",
       "    .dataframe tbody tr th:only-of-type {\n",
       "        vertical-align: middle;\n",
       "    }\n",
       "\n",
       "    .dataframe tbody tr th {\n",
       "        vertical-align: top;\n",
       "    }\n",
       "\n",
       "    .dataframe thead th {\n",
       "        text-align: right;\n",
       "    }\n",
       "</style>\n",
       "<table border=\"1\" class=\"dataframe\">\n",
       "  <thead>\n",
       "    <tr style=\"text-align: right;\">\n",
       "      <th></th>\n",
       "      <th>Loan_ID</th>\n",
       "      <th>Gender</th>\n",
       "      <th>Married</th>\n",
       "      <th>Dependents</th>\n",
       "      <th>Education</th>\n",
       "      <th>Self_Employed</th>\n",
       "      <th>ApplicantIncome</th>\n",
       "      <th>CoapplicantIncome</th>\n",
       "      <th>LoanAmount</th>\n",
       "      <th>Loan_Amount_Term</th>\n",
       "      <th>Credit_History</th>\n",
       "      <th>Property_Area</th>\n",
       "      <th>Loan_Status</th>\n",
       "    </tr>\n",
       "  </thead>\n",
       "  <tbody>\n",
       "    <tr>\n",
       "      <th>0</th>\n",
       "      <td>0</td>\n",
       "      <td>1</td>\n",
       "      <td>0</td>\n",
       "      <td>0</td>\n",
       "      <td>0</td>\n",
       "      <td>0</td>\n",
       "      <td>5849</td>\n",
       "      <td>0.0</td>\n",
       "      <td>146.412162</td>\n",
       "      <td>360.0</td>\n",
       "      <td>1.0</td>\n",
       "      <td>2</td>\n",
       "      <td>1</td>\n",
       "    </tr>\n",
       "    <tr>\n",
       "      <th>1</th>\n",
       "      <td>1</td>\n",
       "      <td>1</td>\n",
       "      <td>1</td>\n",
       "      <td>1</td>\n",
       "      <td>0</td>\n",
       "      <td>0</td>\n",
       "      <td>4583</td>\n",
       "      <td>1508.0</td>\n",
       "      <td>128.000000</td>\n",
       "      <td>360.0</td>\n",
       "      <td>1.0</td>\n",
       "      <td>0</td>\n",
       "      <td>0</td>\n",
       "    </tr>\n",
       "    <tr>\n",
       "      <th>2</th>\n",
       "      <td>2</td>\n",
       "      <td>1</td>\n",
       "      <td>1</td>\n",
       "      <td>0</td>\n",
       "      <td>0</td>\n",
       "      <td>1</td>\n",
       "      <td>3000</td>\n",
       "      <td>0.0</td>\n",
       "      <td>66.000000</td>\n",
       "      <td>360.0</td>\n",
       "      <td>1.0</td>\n",
       "      <td>2</td>\n",
       "      <td>1</td>\n",
       "    </tr>\n",
       "    <tr>\n",
       "      <th>3</th>\n",
       "      <td>3</td>\n",
       "      <td>1</td>\n",
       "      <td>1</td>\n",
       "      <td>0</td>\n",
       "      <td>1</td>\n",
       "      <td>0</td>\n",
       "      <td>2583</td>\n",
       "      <td>2358.0</td>\n",
       "      <td>120.000000</td>\n",
       "      <td>360.0</td>\n",
       "      <td>1.0</td>\n",
       "      <td>2</td>\n",
       "      <td>1</td>\n",
       "    </tr>\n",
       "    <tr>\n",
       "      <th>4</th>\n",
       "      <td>4</td>\n",
       "      <td>1</td>\n",
       "      <td>0</td>\n",
       "      <td>0</td>\n",
       "      <td>0</td>\n",
       "      <td>0</td>\n",
       "      <td>6000</td>\n",
       "      <td>0.0</td>\n",
       "      <td>141.000000</td>\n",
       "      <td>360.0</td>\n",
       "      <td>1.0</td>\n",
       "      <td>2</td>\n",
       "      <td>1</td>\n",
       "    </tr>\n",
       "    <tr>\n",
       "      <th>...</th>\n",
       "      <td>...</td>\n",
       "      <td>...</td>\n",
       "      <td>...</td>\n",
       "      <td>...</td>\n",
       "      <td>...</td>\n",
       "      <td>...</td>\n",
       "      <td>...</td>\n",
       "      <td>...</td>\n",
       "      <td>...</td>\n",
       "      <td>...</td>\n",
       "      <td>...</td>\n",
       "      <td>...</td>\n",
       "      <td>...</td>\n",
       "    </tr>\n",
       "    <tr>\n",
       "      <th>609</th>\n",
       "      <td>609</td>\n",
       "      <td>0</td>\n",
       "      <td>0</td>\n",
       "      <td>0</td>\n",
       "      <td>0</td>\n",
       "      <td>0</td>\n",
       "      <td>2900</td>\n",
       "      <td>0.0</td>\n",
       "      <td>71.000000</td>\n",
       "      <td>360.0</td>\n",
       "      <td>1.0</td>\n",
       "      <td>0</td>\n",
       "      <td>1</td>\n",
       "    </tr>\n",
       "    <tr>\n",
       "      <th>610</th>\n",
       "      <td>610</td>\n",
       "      <td>1</td>\n",
       "      <td>1</td>\n",
       "      <td>3</td>\n",
       "      <td>0</td>\n",
       "      <td>0</td>\n",
       "      <td>4106</td>\n",
       "      <td>0.0</td>\n",
       "      <td>40.000000</td>\n",
       "      <td>180.0</td>\n",
       "      <td>1.0</td>\n",
       "      <td>0</td>\n",
       "      <td>1</td>\n",
       "    </tr>\n",
       "    <tr>\n",
       "      <th>611</th>\n",
       "      <td>611</td>\n",
       "      <td>1</td>\n",
       "      <td>1</td>\n",
       "      <td>1</td>\n",
       "      <td>0</td>\n",
       "      <td>0</td>\n",
       "      <td>8072</td>\n",
       "      <td>240.0</td>\n",
       "      <td>253.000000</td>\n",
       "      <td>360.0</td>\n",
       "      <td>1.0</td>\n",
       "      <td>2</td>\n",
       "      <td>1</td>\n",
       "    </tr>\n",
       "    <tr>\n",
       "      <th>612</th>\n",
       "      <td>612</td>\n",
       "      <td>1</td>\n",
       "      <td>1</td>\n",
       "      <td>2</td>\n",
       "      <td>0</td>\n",
       "      <td>0</td>\n",
       "      <td>7583</td>\n",
       "      <td>0.0</td>\n",
       "      <td>187.000000</td>\n",
       "      <td>360.0</td>\n",
       "      <td>1.0</td>\n",
       "      <td>2</td>\n",
       "      <td>1</td>\n",
       "    </tr>\n",
       "    <tr>\n",
       "      <th>613</th>\n",
       "      <td>613</td>\n",
       "      <td>0</td>\n",
       "      <td>0</td>\n",
       "      <td>0</td>\n",
       "      <td>0</td>\n",
       "      <td>1</td>\n",
       "      <td>4583</td>\n",
       "      <td>0.0</td>\n",
       "      <td>133.000000</td>\n",
       "      <td>360.0</td>\n",
       "      <td>0.0</td>\n",
       "      <td>1</td>\n",
       "      <td>0</td>\n",
       "    </tr>\n",
       "  </tbody>\n",
       "</table>\n",
       "<p>614 rows × 13 columns</p>\n",
       "</div>"
      ],
      "text/plain": [
       "     Loan_ID  Gender  Married  Dependents  Education  Self_Employed  \\\n",
       "0          0       1        0           0          0              0   \n",
       "1          1       1        1           1          0              0   \n",
       "2          2       1        1           0          0              1   \n",
       "3          3       1        1           0          1              0   \n",
       "4          4       1        0           0          0              0   \n",
       "..       ...     ...      ...         ...        ...            ...   \n",
       "609      609       0        0           0          0              0   \n",
       "610      610       1        1           3          0              0   \n",
       "611      611       1        1           1          0              0   \n",
       "612      612       1        1           2          0              0   \n",
       "613      613       0        0           0          0              1   \n",
       "\n",
       "     ApplicantIncome  CoapplicantIncome  LoanAmount  Loan_Amount_Term  \\\n",
       "0               5849                0.0  146.412162             360.0   \n",
       "1               4583             1508.0  128.000000             360.0   \n",
       "2               3000                0.0   66.000000             360.0   \n",
       "3               2583             2358.0  120.000000             360.0   \n",
       "4               6000                0.0  141.000000             360.0   \n",
       "..               ...                ...         ...               ...   \n",
       "609             2900                0.0   71.000000             360.0   \n",
       "610             4106                0.0   40.000000             180.0   \n",
       "611             8072              240.0  253.000000             360.0   \n",
       "612             7583                0.0  187.000000             360.0   \n",
       "613             4583                0.0  133.000000             360.0   \n",
       "\n",
       "     Credit_History  Property_Area  Loan_Status  \n",
       "0               1.0              2            1  \n",
       "1               1.0              0            0  \n",
       "2               1.0              2            1  \n",
       "3               1.0              2            1  \n",
       "4               1.0              2            1  \n",
       "..              ...            ...          ...  \n",
       "609             1.0              0            1  \n",
       "610             1.0              0            1  \n",
       "611             1.0              2            1  \n",
       "612             1.0              2            1  \n",
       "613             0.0              1            0  \n",
       "\n",
       "[614 rows x 13 columns]"
      ]
     },
     "execution_count": 36,
     "metadata": {},
     "output_type": "execute_result"
    }
   ],
   "source": [
    "#Encoding categorical columns using ordinal Encoder\n",
    "from sklearn.preprocessing import LabelEncoder\n",
    "lab_encoder=LabelEncoder()\n",
    "for i in df.columns:\n",
    "    if df[i].dtypes==\"object\":\n",
    "        df[i]=lab_encoder.fit_transform(df[i])\n",
    "df        "
   ]
  },
  {
   "cell_type": "code",
   "execution_count": 37,
   "id": "9eae38a7",
   "metadata": {},
   "outputs": [
    {
     "data": {
      "text/plain": [
       "Loan_ID                int32\n",
       "Gender                 int32\n",
       "Married                int32\n",
       "Dependents             int32\n",
       "Education              int32\n",
       "Self_Employed          int32\n",
       "ApplicantIncome        int64\n",
       "CoapplicantIncome    float64\n",
       "LoanAmount           float64\n",
       "Loan_Amount_Term     float64\n",
       "Credit_History       float64\n",
       "Property_Area          int32\n",
       "Loan_Status            int32\n",
       "dtype: object"
      ]
     },
     "execution_count": 37,
     "metadata": {},
     "output_type": "execute_result"
    }
   ],
   "source": [
    "df.dtypes"
   ]
  },
  {
   "cell_type": "code",
   "execution_count": 38,
   "id": "d9a2e8b4",
   "metadata": {},
   "outputs": [
    {
     "data": {
      "image/png": "[encoded data removed]",
      "text/plain": [
       "<Figure size 720x720 with 13 Axes>"
      ]
     },
     "metadata": {},
     "output_type": "display_data"
    }
   ],
   "source": [
    "#let's visualize how the data has been distributed in all  the columns.\n",
    "plt.figure(figsize=(10,10),facecolor=\"blue\")\n",
    "plotnumber=1\n",
    "for column in df.columns:\n",
    "    if plotnumber<=13:\n",
    "        ax=plt.subplot(5,3,plotnumber)\n",
    "        sns.distplot(df[column],color=\"m\")\n",
    "        plt.xlabel(column,fontsize=10)\n",
    "        plt.yticks(rotation=0,fontsize=10)\n",
    "    plotnumber+=1\n",
    "    plt.tight_layout()"
   ]
  },
  {
   "cell_type": "markdown",
   "id": "c40642f5",
   "metadata": {},
   "source": [
    "The columns LoanAmount and Loan_Amount_Term are not normally distributed, LoanAmount is right skewed and Loan_Amount_Term is right skewed."
   ]
  },
  {
   "cell_type": "code",
   "execution_count": 39,
   "id": "a4e8997d",
   "metadata": {},
   "outputs": [
    {
     "data": {
      "image/png": "[encoded data removed]",
      "text/plain": [
       "<Figure size 720x720 with 13 Axes>"
      ]
     },
     "metadata": {},
     "output_type": "display_data"
    }
   ],
   "source": [
    "#let's visualize how the outliers  in all  the columns.\n",
    "plt.figure(figsize=(10,10),facecolor=\"blue\")\n",
    "plotnumber=1\n",
    "for column in df.columns:\n",
    "    if plotnumber<=13:\n",
    "        ax=plt.subplot(5,3,plotnumber)\n",
    "        sns.boxplot(df[column],color=\"m\")\n",
    "        plt.xlabel(column,fontsize=10)\n",
    "        plt.yticks(rotation=0,fontsize=10)\n",
    "    plotnumber+=1\n",
    "    plt.tight_layout()"
   ]
  },
  {
   "cell_type": "markdown",
   "id": "c4b5c3df",
   "metadata": {},
   "source": [
    "The columns Gender, Education, Self_Employed, ApplicantIncome, CoapplicantIncome,LoanAmount, Loan_Amount_Term,Credit_History have outliers. "
   ]
  },
  {
   "cell_type": "code",
   "execution_count": 42,
   "id": "ccade2d1",
   "metadata": {},
   "outputs": [
    {
     "data": {
      "text/html": [
       "<div>\n",
       "<style scoped>\n",
       "    .dataframe tbody tr th:only-of-type {\n",
       "        vertical-align: middle;\n",
       "    }\n",
       "\n",
       "    .dataframe tbody tr th {\n",
       "        vertical-align: top;\n",
       "    }\n",
       "\n",
       "    .dataframe thead th {\n",
       "        text-align: right;\n",
       "    }\n",
       "</style>\n",
       "<table border=\"1\" class=\"dataframe\">\n",
       "  <thead>\n",
       "    <tr style=\"text-align: right;\">\n",
       "      <th></th>\n",
       "      <th>Loan_ID</th>\n",
       "      <th>Gender</th>\n",
       "      <th>Married</th>\n",
       "      <th>Dependents</th>\n",
       "      <th>Education</th>\n",
       "      <th>Self_Employed</th>\n",
       "      <th>ApplicantIncome</th>\n",
       "      <th>CoapplicantIncome</th>\n",
       "      <th>LoanAmount</th>\n",
       "      <th>Loan_Amount_Term</th>\n",
       "      <th>Credit_History</th>\n",
       "      <th>Property_Area</th>\n",
       "      <th>Loan_Status</th>\n",
       "    </tr>\n",
       "  </thead>\n",
       "  <tbody>\n",
       "    <tr>\n",
       "      <th>0</th>\n",
       "      <td>1.729232</td>\n",
       "      <td>0.474920</td>\n",
       "      <td>1.362283</td>\n",
       "      <td>0.752177</td>\n",
       "      <td>0.528362</td>\n",
       "      <td>0.403582</td>\n",
       "      <td>0.072991</td>\n",
       "      <td>0.554487</td>\n",
       "      <td>0.000000</td>\n",
       "      <td>0.279851</td>\n",
       "      <td>0.451640</td>\n",
       "      <td>1.223298</td>\n",
       "      <td>0.674519</td>\n",
       "    </tr>\n",
       "    <tr>\n",
       "      <th>1</th>\n",
       "      <td>1.723590</td>\n",
       "      <td>0.474920</td>\n",
       "      <td>0.734062</td>\n",
       "      <td>0.236767</td>\n",
       "      <td>0.528362</td>\n",
       "      <td>0.403582</td>\n",
       "      <td>0.134412</td>\n",
       "      <td>0.038732</td>\n",
       "      <td>0.219273</td>\n",
       "      <td>0.279851</td>\n",
       "      <td>0.451640</td>\n",
       "      <td>1.318513</td>\n",
       "      <td>1.482537</td>\n",
       "    </tr>\n",
       "    <tr>\n",
       "      <th>2</th>\n",
       "      <td>1.717948</td>\n",
       "      <td>0.474920</td>\n",
       "      <td>0.734062</td>\n",
       "      <td>0.752177</td>\n",
       "      <td>0.528362</td>\n",
       "      <td>2.477808</td>\n",
       "      <td>0.393747</td>\n",
       "      <td>0.554487</td>\n",
       "      <td>0.957641</td>\n",
       "      <td>0.279851</td>\n",
       "      <td>0.451640</td>\n",
       "      <td>1.223298</td>\n",
       "      <td>0.674519</td>\n",
       "    </tr>\n",
       "    <tr>\n",
       "      <th>3</th>\n",
       "      <td>1.712307</td>\n",
       "      <td>0.474920</td>\n",
       "      <td>0.734062</td>\n",
       "      <td>0.752177</td>\n",
       "      <td>1.892641</td>\n",
       "      <td>0.403582</td>\n",
       "      <td>0.462062</td>\n",
       "      <td>0.251980</td>\n",
       "      <td>0.314547</td>\n",
       "      <td>0.279851</td>\n",
       "      <td>0.451640</td>\n",
       "      <td>1.223298</td>\n",
       "      <td>0.674519</td>\n",
       "    </tr>\n",
       "    <tr>\n",
       "      <th>4</th>\n",
       "      <td>1.706665</td>\n",
       "      <td>0.474920</td>\n",
       "      <td>1.362283</td>\n",
       "      <td>0.752177</td>\n",
       "      <td>0.528362</td>\n",
       "      <td>0.403582</td>\n",
       "      <td>0.097728</td>\n",
       "      <td>0.554487</td>\n",
       "      <td>0.064454</td>\n",
       "      <td>0.279851</td>\n",
       "      <td>0.451640</td>\n",
       "      <td>1.223298</td>\n",
       "      <td>0.674519</td>\n",
       "    </tr>\n",
       "    <tr>\n",
       "      <th>...</th>\n",
       "      <td>...</td>\n",
       "      <td>...</td>\n",
       "      <td>...</td>\n",
       "      <td>...</td>\n",
       "      <td>...</td>\n",
       "      <td>...</td>\n",
       "      <td>...</td>\n",
       "      <td>...</td>\n",
       "      <td>...</td>\n",
       "      <td>...</td>\n",
       "      <td>...</td>\n",
       "      <td>...</td>\n",
       "      <td>...</td>\n",
       "    </tr>\n",
       "    <tr>\n",
       "      <th>609</th>\n",
       "      <td>1.706665</td>\n",
       "      <td>2.105618</td>\n",
       "      <td>1.362283</td>\n",
       "      <td>0.752177</td>\n",
       "      <td>0.528362</td>\n",
       "      <td>0.403582</td>\n",
       "      <td>0.410130</td>\n",
       "      <td>0.554487</td>\n",
       "      <td>0.898095</td>\n",
       "      <td>0.279851</td>\n",
       "      <td>0.451640</td>\n",
       "      <td>1.318513</td>\n",
       "      <td>0.674519</td>\n",
       "    </tr>\n",
       "    <tr>\n",
       "      <th>610</th>\n",
       "      <td>1.712307</td>\n",
       "      <td>0.474920</td>\n",
       "      <td>0.734062</td>\n",
       "      <td>2.214653</td>\n",
       "      <td>0.528362</td>\n",
       "      <td>0.403582</td>\n",
       "      <td>0.212557</td>\n",
       "      <td>0.554487</td>\n",
       "      <td>1.267279</td>\n",
       "      <td>2.518655</td>\n",
       "      <td>0.451640</td>\n",
       "      <td>1.318513</td>\n",
       "      <td>0.674519</td>\n",
       "    </tr>\n",
       "    <tr>\n",
       "      <th>611</th>\n",
       "      <td>1.717948</td>\n",
       "      <td>0.474920</td>\n",
       "      <td>0.734062</td>\n",
       "      <td>0.236767</td>\n",
       "      <td>0.528362</td>\n",
       "      <td>0.403582</td>\n",
       "      <td>0.437174</td>\n",
       "      <td>0.472404</td>\n",
       "      <td>1.269371</td>\n",
       "      <td>0.279851</td>\n",
       "      <td>0.451640</td>\n",
       "      <td>1.223298</td>\n",
       "      <td>0.674519</td>\n",
       "    </tr>\n",
       "    <tr>\n",
       "      <th>612</th>\n",
       "      <td>1.723590</td>\n",
       "      <td>0.474920</td>\n",
       "      <td>0.734062</td>\n",
       "      <td>1.225710</td>\n",
       "      <td>0.528362</td>\n",
       "      <td>0.403582</td>\n",
       "      <td>0.357064</td>\n",
       "      <td>0.554487</td>\n",
       "      <td>0.483367</td>\n",
       "      <td>0.279851</td>\n",
       "      <td>0.451640</td>\n",
       "      <td>1.223298</td>\n",
       "      <td>0.674519</td>\n",
       "    </tr>\n",
       "    <tr>\n",
       "      <th>613</th>\n",
       "      <td>1.729232</td>\n",
       "      <td>2.105618</td>\n",
       "      <td>1.362283</td>\n",
       "      <td>0.752177</td>\n",
       "      <td>0.528362</td>\n",
       "      <td>2.477808</td>\n",
       "      <td>0.134412</td>\n",
       "      <td>0.554487</td>\n",
       "      <td>0.159728</td>\n",
       "      <td>0.279851</td>\n",
       "      <td>2.410441</td>\n",
       "      <td>0.047607</td>\n",
       "      <td>1.482537</td>\n",
       "    </tr>\n",
       "  </tbody>\n",
       "</table>\n",
       "<p>614 rows × 13 columns</p>\n",
       "</div>"
      ],
      "text/plain": [
       "      Loan_ID    Gender   Married  Dependents  Education  Self_Employed  \\\n",
       "0    1.729232  0.474920  1.362283    0.752177   0.528362       0.403582   \n",
       "1    1.723590  0.474920  0.734062    0.236767   0.528362       0.403582   \n",
       "2    1.717948  0.474920  0.734062    0.752177   0.528362       2.477808   \n",
       "3    1.712307  0.474920  0.734062    0.752177   1.892641       0.403582   \n",
       "4    1.706665  0.474920  1.362283    0.752177   0.528362       0.403582   \n",
       "..        ...       ...       ...         ...        ...            ...   \n",
       "609  1.706665  2.105618  1.362283    0.752177   0.528362       0.403582   \n",
       "610  1.712307  0.474920  0.734062    2.214653   0.528362       0.403582   \n",
       "611  1.717948  0.474920  0.734062    0.236767   0.528362       0.403582   \n",
       "612  1.723590  0.474920  0.734062    1.225710   0.528362       0.403582   \n",
       "613  1.729232  2.105618  1.362283    0.752177   0.528362       2.477808   \n",
       "\n",
       "     ApplicantIncome  CoapplicantIncome  LoanAmount  Loan_Amount_Term  \\\n",
       "0           0.072991           0.554487    0.000000          0.279851   \n",
       "1           0.134412           0.038732    0.219273          0.279851   \n",
       "2           0.393747           0.554487    0.957641          0.279851   \n",
       "3           0.462062           0.251980    0.314547          0.279851   \n",
       "4           0.097728           0.554487    0.064454          0.279851   \n",
       "..               ...                ...         ...               ...   \n",
       "609         0.410130           0.554487    0.898095          0.279851   \n",
       "610         0.212557           0.554487    1.267279          2.518655   \n",
       "611         0.437174           0.472404    1.269371          0.279851   \n",
       "612         0.357064           0.554487    0.483367          0.279851   \n",
       "613         0.134412           0.554487    0.159728          0.279851   \n",
       "\n",
       "     Credit_History  Property_Area  Loan_Status  \n",
       "0          0.451640       1.223298     0.674519  \n",
       "1          0.451640       1.318513     1.482537  \n",
       "2          0.451640       1.223298     0.674519  \n",
       "3          0.451640       1.223298     0.674519  \n",
       "4          0.451640       1.223298     0.674519  \n",
       "..              ...            ...          ...  \n",
       "609        0.451640       1.318513     0.674519  \n",
       "610        0.451640       1.318513     0.674519  \n",
       "611        0.451640       1.223298     0.674519  \n",
       "612        0.451640       1.223298     0.674519  \n",
       "613        2.410441       0.047607     1.482537  \n",
       "\n",
       "[614 rows x 13 columns]"
      ]
     },
     "execution_count": 42,
     "metadata": {},
     "output_type": "execute_result"
    }
   ],
   "source": [
    "from scipy.stats import zscore\n",
    "\n",
    "z_score=(zscore(df))\n",
    "b=np.abs(z_score)\n",
    "b"
   ]
  },
  {
   "cell_type": "code",
   "execution_count": 43,
   "id": "bb5a667d",
   "metadata": {},
   "outputs": [
    {
     "data": {
      "text/plain": [
       "(array([  9,  14,  68,  94, 126, 130, 133, 155, 155, 171, 171, 177, 177,\n",
       "        183, 185, 242, 262, 278, 308, 313, 333, 333, 369, 402, 409, 417,\n",
       "        432, 443, 487, 495, 497, 506, 523, 525, 546, 561, 575, 581, 585,\n",
       "        600, 604], dtype=int64),\n",
       " array([7, 9, 9, 9, 6, 8, 9, 6, 8, 6, 8, 7, 8, 6, 6, 9, 9, 8, 8, 9, 6, 8,\n",
       "        8, 7, 6, 7, 8, 6, 8, 9, 9, 8, 8, 8, 9, 8, 9, 7, 9, 7, 8],\n",
       "       dtype=int64))"
      ]
     },
     "execution_count": 43,
     "metadata": {},
     "output_type": "execute_result"
    }
   ],
   "source": [
    "#The data where the outliers are present\n",
    "np.where(b>3)"
   ]
  },
  {
   "cell_type": "code",
   "execution_count": 44,
   "id": "1b4b4c56",
   "metadata": {},
   "outputs": [
    {
     "data": {
      "text/html": [
       "<div>\n",
       "<style scoped>\n",
       "    .dataframe tbody tr th:only-of-type {\n",
       "        vertical-align: middle;\n",
       "    }\n",
       "\n",
       "    .dataframe tbody tr th {\n",
       "        vertical-align: top;\n",
       "    }\n",
       "\n",
       "    .dataframe thead th {\n",
       "        text-align: right;\n",
       "    }\n",
       "</style>\n",
       "<table border=\"1\" class=\"dataframe\">\n",
       "  <thead>\n",
       "    <tr style=\"text-align: right;\">\n",
       "      <th></th>\n",
       "      <th>Loan_ID</th>\n",
       "      <th>Gender</th>\n",
       "      <th>Married</th>\n",
       "      <th>Dependents</th>\n",
       "      <th>Education</th>\n",
       "      <th>Self_Employed</th>\n",
       "      <th>ApplicantIncome</th>\n",
       "      <th>CoapplicantIncome</th>\n",
       "      <th>LoanAmount</th>\n",
       "      <th>Loan_Amount_Term</th>\n",
       "      <th>Credit_History</th>\n",
       "      <th>Property_Area</th>\n",
       "      <th>Loan_Status</th>\n",
       "    </tr>\n",
       "  </thead>\n",
       "  <tbody>\n",
       "    <tr>\n",
       "      <th>0</th>\n",
       "      <td>0</td>\n",
       "      <td>1</td>\n",
       "      <td>0</td>\n",
       "      <td>0</td>\n",
       "      <td>0</td>\n",
       "      <td>0</td>\n",
       "      <td>5849</td>\n",
       "      <td>0.0</td>\n",
       "      <td>146.412162</td>\n",
       "      <td>360.0</td>\n",
       "      <td>1.0</td>\n",
       "      <td>2</td>\n",
       "      <td>1</td>\n",
       "    </tr>\n",
       "    <tr>\n",
       "      <th>1</th>\n",
       "      <td>1</td>\n",
       "      <td>1</td>\n",
       "      <td>1</td>\n",
       "      <td>1</td>\n",
       "      <td>0</td>\n",
       "      <td>0</td>\n",
       "      <td>4583</td>\n",
       "      <td>1508.0</td>\n",
       "      <td>128.000000</td>\n",
       "      <td>360.0</td>\n",
       "      <td>1.0</td>\n",
       "      <td>0</td>\n",
       "      <td>0</td>\n",
       "    </tr>\n",
       "    <tr>\n",
       "      <th>2</th>\n",
       "      <td>2</td>\n",
       "      <td>1</td>\n",
       "      <td>1</td>\n",
       "      <td>0</td>\n",
       "      <td>0</td>\n",
       "      <td>1</td>\n",
       "      <td>3000</td>\n",
       "      <td>0.0</td>\n",
       "      <td>66.000000</td>\n",
       "      <td>360.0</td>\n",
       "      <td>1.0</td>\n",
       "      <td>2</td>\n",
       "      <td>1</td>\n",
       "    </tr>\n",
       "    <tr>\n",
       "      <th>3</th>\n",
       "      <td>3</td>\n",
       "      <td>1</td>\n",
       "      <td>1</td>\n",
       "      <td>0</td>\n",
       "      <td>1</td>\n",
       "      <td>0</td>\n",
       "      <td>2583</td>\n",
       "      <td>2358.0</td>\n",
       "      <td>120.000000</td>\n",
       "      <td>360.0</td>\n",
       "      <td>1.0</td>\n",
       "      <td>2</td>\n",
       "      <td>1</td>\n",
       "    </tr>\n",
       "    <tr>\n",
       "      <th>4</th>\n",
       "      <td>4</td>\n",
       "      <td>1</td>\n",
       "      <td>0</td>\n",
       "      <td>0</td>\n",
       "      <td>0</td>\n",
       "      <td>0</td>\n",
       "      <td>6000</td>\n",
       "      <td>0.0</td>\n",
       "      <td>141.000000</td>\n",
       "      <td>360.0</td>\n",
       "      <td>1.0</td>\n",
       "      <td>2</td>\n",
       "      <td>1</td>\n",
       "    </tr>\n",
       "    <tr>\n",
       "      <th>...</th>\n",
       "      <td>...</td>\n",
       "      <td>...</td>\n",
       "      <td>...</td>\n",
       "      <td>...</td>\n",
       "      <td>...</td>\n",
       "      <td>...</td>\n",
       "      <td>...</td>\n",
       "      <td>...</td>\n",
       "      <td>...</td>\n",
       "      <td>...</td>\n",
       "      <td>...</td>\n",
       "      <td>...</td>\n",
       "      <td>...</td>\n",
       "    </tr>\n",
       "    <tr>\n",
       "      <th>609</th>\n",
       "      <td>609</td>\n",
       "      <td>0</td>\n",
       "      <td>0</td>\n",
       "      <td>0</td>\n",
       "      <td>0</td>\n",
       "      <td>0</td>\n",
       "      <td>2900</td>\n",
       "      <td>0.0</td>\n",
       "      <td>71.000000</td>\n",
       "      <td>360.0</td>\n",
       "      <td>1.0</td>\n",
       "      <td>0</td>\n",
       "      <td>1</td>\n",
       "    </tr>\n",
       "    <tr>\n",
       "      <th>610</th>\n",
       "      <td>610</td>\n",
       "      <td>1</td>\n",
       "      <td>1</td>\n",
       "      <td>3</td>\n",
       "      <td>0</td>\n",
       "      <td>0</td>\n",
       "      <td>4106</td>\n",
       "      <td>0.0</td>\n",
       "      <td>40.000000</td>\n",
       "      <td>180.0</td>\n",
       "      <td>1.0</td>\n",
       "      <td>0</td>\n",
       "      <td>1</td>\n",
       "    </tr>\n",
       "    <tr>\n",
       "      <th>611</th>\n",
       "      <td>611</td>\n",
       "      <td>1</td>\n",
       "      <td>1</td>\n",
       "      <td>1</td>\n",
       "      <td>0</td>\n",
       "      <td>0</td>\n",
       "      <td>8072</td>\n",
       "      <td>240.0</td>\n",
       "      <td>253.000000</td>\n",
       "      <td>360.0</td>\n",
       "      <td>1.0</td>\n",
       "      <td>2</td>\n",
       "      <td>1</td>\n",
       "    </tr>\n",
       "    <tr>\n",
       "      <th>612</th>\n",
       "      <td>612</td>\n",
       "      <td>1</td>\n",
       "      <td>1</td>\n",
       "      <td>2</td>\n",
       "      <td>0</td>\n",
       "      <td>0</td>\n",
       "      <td>7583</td>\n",
       "      <td>0.0</td>\n",
       "      <td>187.000000</td>\n",
       "      <td>360.0</td>\n",
       "      <td>1.0</td>\n",
       "      <td>2</td>\n",
       "      <td>1</td>\n",
       "    </tr>\n",
       "    <tr>\n",
       "      <th>613</th>\n",
       "      <td>613</td>\n",
       "      <td>0</td>\n",
       "      <td>0</td>\n",
       "      <td>0</td>\n",
       "      <td>0</td>\n",
       "      <td>1</td>\n",
       "      <td>4583</td>\n",
       "      <td>0.0</td>\n",
       "      <td>133.000000</td>\n",
       "      <td>360.0</td>\n",
       "      <td>0.0</td>\n",
       "      <td>1</td>\n",
       "      <td>0</td>\n",
       "    </tr>\n",
       "  </tbody>\n",
       "</table>\n",
       "<p>577 rows × 13 columns</p>\n",
       "</div>"
      ],
      "text/plain": [
       "     Loan_ID  Gender  Married  Dependents  Education  Self_Employed  \\\n",
       "0          0       1        0           0          0              0   \n",
       "1          1       1        1           1          0              0   \n",
       "2          2       1        1           0          0              1   \n",
       "3          3       1        1           0          1              0   \n",
       "4          4       1        0           0          0              0   \n",
       "..       ...     ...      ...         ...        ...            ...   \n",
       "609      609       0        0           0          0              0   \n",
       "610      610       1        1           3          0              0   \n",
       "611      611       1        1           1          0              0   \n",
       "612      612       1        1           2          0              0   \n",
       "613      613       0        0           0          0              1   \n",
       "\n",
       "     ApplicantIncome  CoapplicantIncome  LoanAmount  Loan_Amount_Term  \\\n",
       "0               5849                0.0  146.412162             360.0   \n",
       "1               4583             1508.0  128.000000             360.0   \n",
       "2               3000                0.0   66.000000             360.0   \n",
       "3               2583             2358.0  120.000000             360.0   \n",
       "4               6000                0.0  141.000000             360.0   \n",
       "..               ...                ...         ...               ...   \n",
       "609             2900                0.0   71.000000             360.0   \n",
       "610             4106                0.0   40.000000             180.0   \n",
       "611             8072              240.0  253.000000             360.0   \n",
       "612             7583                0.0  187.000000             360.0   \n",
       "613             4583                0.0  133.000000             360.0   \n",
       "\n",
       "     Credit_History  Property_Area  Loan_Status  \n",
       "0               1.0              2            1  \n",
       "1               1.0              0            0  \n",
       "2               1.0              2            1  \n",
       "3               1.0              2            1  \n",
       "4               1.0              2            1  \n",
       "..              ...            ...          ...  \n",
       "609             1.0              0            1  \n",
       "610             1.0              0            1  \n",
       "611             1.0              2            1  \n",
       "612             1.0              2            1  \n",
       "613             0.0              1            0  \n",
       "\n",
       "[577 rows x 13 columns]"
      ]
     },
     "execution_count": 44,
     "metadata": {},
     "output_type": "execute_result"
    }
   ],
   "source": [
    "#Now removing the data above zscore\n",
    "df1=df[(b<3).all(axis=1)]\n",
    "df1"
   ]
  },
  {
   "cell_type": "code",
   "execution_count": 45,
   "id": "12c6d035",
   "metadata": {},
   "outputs": [
    {
     "name": "stdout",
     "output_type": "stream",
     "text": [
      "Data loss percentage: 6.026058631921824\n"
     ]
    }
   ],
   "source": [
    "print(\"Data loss percentage:\",((df.shape[0]-df1.shape[0])/df.shape[0])*100)"
   ]
  },
  {
   "cell_type": "markdown",
   "id": "b773964f",
   "metadata": {},
   "source": [
    "Data loss percentage after removing outliers is 6.02%"
   ]
  },
  {
   "cell_type": "code",
   "execution_count": 46,
   "id": "9b8793af",
   "metadata": {},
   "outputs": [
    {
     "data": {
      "text/plain": [
       "Loan_ID              0.000000\n",
       "Gender              -1.634695\n",
       "Married             -0.629760\n",
       "Dependents           0.976422\n",
       "Education            1.367622\n",
       "Self_Employed        2.079309\n",
       "ApplicantIncome      6.539513\n",
       "CoapplicantIncome    7.491531\n",
       "LoanAmount           2.726601\n",
       "Loan_Amount_Term    -2.389680\n",
       "Credit_History      -1.963600\n",
       "Property_Area       -0.066196\n",
       "Loan_Status         -0.809998\n",
       "dtype: float64"
      ]
     },
     "execution_count": 46,
     "metadata": {},
     "output_type": "execute_result"
    }
   ],
   "source": [
    "#checking skewness in all the columns.\n",
    "df.skew()"
   ]
  },
  {
   "cell_type": "markdown",
   "id": "0399e5dc",
   "metadata": {},
   "source": [
    "The columns Gender, Married, Dependents, Education,Self_Employed, ApplicantIncome, CoapplicantIncome, LoanAmount,Loan_Amount_Term,Credit_History have skewness and target variable also have skewness and no need to remove skewness in Loan_Status target column."
   ]
  },
  {
   "cell_type": "code",
   "execution_count": 47,
   "id": "c76bf667",
   "metadata": {},
   "outputs": [],
   "source": [
    "#Let us remove skewness using cube root method\n",
    "df['Gender']=np.cbrt(df[\"Gender\"])\n",
    "df[\"Married\"]=np.cbrt(df[\"Married\"])\n",
    "df[\"Dependents\"]=np.cbrt(df[\"Dependents\"])\n",
    "df[\"Education\"]=np.cbrt(df[\"Education\"])\n",
    "df[\"Self_Employed\"]=np.cbrt(df[\"Self_Employed\"])\n",
    "df[\"ApplicantIncome\"]=np.cbrt(df[\"ApplicantIncome\"])\n",
    "df[\"CoapplicantIncome\"]=np.cbrt(df[\"CoapplicantIncome\"])\n",
    "df[\"LoanAmount\"]=np.cbrt(df[\"LoanAmount\"])\n",
    "df[\"Loan_Amount_Term\"]=np.cbrt(df[\"Loan_Amount_Term\"])\n",
    "df[\"Credit_History\"]=np.cbrt(df[\"Credit_History\"])"
   ]
  },
  {
   "cell_type": "code",
   "execution_count": 48,
   "id": "6e8198f8",
   "metadata": {},
   "outputs": [
    {
     "data": {
      "text/plain": [
       "Loan_ID              0.000000\n",
       "Gender              -1.634695\n",
       "Married             -0.629760\n",
       "Dependents           0.413183\n",
       "Education            1.367622\n",
       "Self_Employed        2.079309\n",
       "ApplicantIncome      2.083638\n",
       "CoapplicantIncome    0.196726\n",
       "LoanAmount           0.832841\n",
       "Loan_Amount_Term    -3.573315\n",
       "Credit_History      -2.014285\n",
       "Property_Area       -0.066196\n",
       "Loan_Status         -0.809998\n",
       "dtype: float64"
      ]
     },
     "execution_count": 48,
     "metadata": {},
     "output_type": "execute_result"
    }
   ],
   "source": [
    "df.skew()"
   ]
  },
  {
   "cell_type": "markdown",
   "id": "2dd310d5",
   "metadata": {},
   "source": [
    "still skewness is present in Gender,Married, Education,Self_Employed,ApplicantIncome,CoapplicantIncome,Credit_History columns."
   ]
  },
  {
   "cell_type": "code",
   "execution_count": 49,
   "id": "4dc1f1d4",
   "metadata": {},
   "outputs": [
    {
     "data": {
      "text/html": [
       "<div>\n",
       "<style scoped>\n",
       "    .dataframe tbody tr th:only-of-type {\n",
       "        vertical-align: middle;\n",
       "    }\n",
       "\n",
       "    .dataframe tbody tr th {\n",
       "        vertical-align: top;\n",
       "    }\n",
       "\n",
       "    .dataframe thead th {\n",
       "        text-align: right;\n",
       "    }\n",
       "</style>\n",
       "<table border=\"1\" class=\"dataframe\">\n",
       "  <thead>\n",
       "    <tr style=\"text-align: right;\">\n",
       "      <th></th>\n",
       "      <th>Loan_ID</th>\n",
       "      <th>Gender</th>\n",
       "      <th>Married</th>\n",
       "      <th>Dependents</th>\n",
       "      <th>Education</th>\n",
       "      <th>Self_Employed</th>\n",
       "      <th>ApplicantIncome</th>\n",
       "      <th>CoapplicantIncome</th>\n",
       "      <th>LoanAmount</th>\n",
       "      <th>Loan_Amount_Term</th>\n",
       "      <th>Credit_History</th>\n",
       "      <th>Property_Area</th>\n",
       "      <th>Loan_Status</th>\n",
       "    </tr>\n",
       "  </thead>\n",
       "  <tbody>\n",
       "    <tr>\n",
       "      <th>Loan_ID</th>\n",
       "      <td>1.000000</td>\n",
       "      <td>-0.031738</td>\n",
       "      <td>-0.016942</td>\n",
       "      <td>0.070044</td>\n",
       "      <td>0.039442</td>\n",
       "      <td>0.024358</td>\n",
       "      <td>0.017662</td>\n",
       "      <td>-0.013743</td>\n",
       "      <td>0.034361</td>\n",
       "      <td>-0.035067</td>\n",
       "      <td>-0.031297</td>\n",
       "      <td>-0.155416</td>\n",
       "      <td>0.011773</td>\n",
       "    </tr>\n",
       "    <tr>\n",
       "      <th>Gender</th>\n",
       "      <td>-0.031738</td>\n",
       "      <td>1.000000</td>\n",
       "      <td>0.365036</td>\n",
       "      <td>0.165675</td>\n",
       "      <td>0.047428</td>\n",
       "      <td>0.010019</td>\n",
       "      <td>0.065204</td>\n",
       "      <td>0.211927</td>\n",
       "      <td>0.136928</td>\n",
       "      <td>-0.063484</td>\n",
       "      <td>0.008640</td>\n",
       "      <td>-0.025463</td>\n",
       "      <td>0.015090</td>\n",
       "    </tr>\n",
       "    <tr>\n",
       "      <th>Married</th>\n",
       "      <td>-0.016942</td>\n",
       "      <td>0.365036</td>\n",
       "      <td>1.000000</td>\n",
       "      <td>0.350705</td>\n",
       "      <td>0.015886</td>\n",
       "      <td>0.020797</td>\n",
       "      <td>0.029826</td>\n",
       "      <td>0.286696</td>\n",
       "      <td>0.172195</td>\n",
       "      <td>-0.082515</td>\n",
       "      <td>0.006237</td>\n",
       "      <td>0.004572</td>\n",
       "      <td>0.086673</td>\n",
       "    </tr>\n",
       "    <tr>\n",
       "      <th>Dependents</th>\n",
       "      <td>0.070044</td>\n",
       "      <td>0.165675</td>\n",
       "      <td>0.350705</td>\n",
       "      <td>1.000000</td>\n",
       "      <td>0.042847</td>\n",
       "      <td>0.077197</td>\n",
       "      <td>0.117336</td>\n",
       "      <td>0.001727</td>\n",
       "      <td>0.156159</td>\n",
       "      <td>-0.085861</td>\n",
       "      <td>-0.056583</td>\n",
       "      <td>0.038008</td>\n",
       "      <td>-0.007905</td>\n",
       "    </tr>\n",
       "    <tr>\n",
       "      <th>Education</th>\n",
       "      <td>0.039442</td>\n",
       "      <td>0.047428</td>\n",
       "      <td>0.015886</td>\n",
       "      <td>0.042847</td>\n",
       "      <td>1.000000</td>\n",
       "      <td>-0.020095</td>\n",
       "      <td>-0.181428</td>\n",
       "      <td>0.010615</td>\n",
       "      <td>-0.158991</td>\n",
       "      <td>-0.072186</td>\n",
       "      <td>-0.075288</td>\n",
       "      <td>-0.065243</td>\n",
       "      <td>-0.085884</td>\n",
       "    </tr>\n",
       "    <tr>\n",
       "      <th>Self_Employed</th>\n",
       "      <td>0.024358</td>\n",
       "      <td>0.010019</td>\n",
       "      <td>0.020797</td>\n",
       "      <td>0.077197</td>\n",
       "      <td>-0.020095</td>\n",
       "      <td>1.000000</td>\n",
       "      <td>0.214036</td>\n",
       "      <td>-0.077743</td>\n",
       "      <td>0.137389</td>\n",
       "      <td>-0.035994</td>\n",
       "      <td>0.004749</td>\n",
       "      <td>-0.025178</td>\n",
       "      <td>-0.011211</td>\n",
       "    </tr>\n",
       "    <tr>\n",
       "      <th>ApplicantIncome</th>\n",
       "      <td>0.017662</td>\n",
       "      <td>0.065204</td>\n",
       "      <td>0.029826</td>\n",
       "      <td>0.117336</td>\n",
       "      <td>-0.181428</td>\n",
       "      <td>0.214036</td>\n",
       "      <td>1.000000</td>\n",
       "      <td>-0.325066</td>\n",
       "      <td>0.555728</td>\n",
       "      <td>-0.022906</td>\n",
       "      <td>0.011808</td>\n",
       "      <td>-0.024827</td>\n",
       "      <td>0.004341</td>\n",
       "    </tr>\n",
       "    <tr>\n",
       "      <th>CoapplicantIncome</th>\n",
       "      <td>-0.013743</td>\n",
       "      <td>0.211927</td>\n",
       "      <td>0.286696</td>\n",
       "      <td>0.001727</td>\n",
       "      <td>0.010615</td>\n",
       "      <td>-0.077743</td>\n",
       "      <td>-0.325066</td>\n",
       "      <td>1.000000</td>\n",
       "      <td>0.158113</td>\n",
       "      <td>-0.000552</td>\n",
       "      <td>0.002206</td>\n",
       "      <td>-0.052318</td>\n",
       "      <td>0.033582</td>\n",
       "    </tr>\n",
       "    <tr>\n",
       "      <th>LoanAmount</th>\n",
       "      <td>0.034361</td>\n",
       "      <td>0.136928</td>\n",
       "      <td>0.172195</td>\n",
       "      <td>0.156159</td>\n",
       "      <td>-0.158991</td>\n",
       "      <td>0.137389</td>\n",
       "      <td>0.555728</td>\n",
       "      <td>0.158113</td>\n",
       "      <td>1.000000</td>\n",
       "      <td>0.071865</td>\n",
       "      <td>-0.013587</td>\n",
       "      <td>-0.077644</td>\n",
       "      <td>-0.042714</td>\n",
       "    </tr>\n",
       "    <tr>\n",
       "      <th>Loan_Amount_Term</th>\n",
       "      <td>-0.035067</td>\n",
       "      <td>-0.063484</td>\n",
       "      <td>-0.082515</td>\n",
       "      <td>-0.085861</td>\n",
       "      <td>-0.072186</td>\n",
       "      <td>-0.035994</td>\n",
       "      <td>-0.022906</td>\n",
       "      <td>-0.000552</td>\n",
       "      <td>0.071865</td>\n",
       "      <td>1.000000</td>\n",
       "      <td>-0.005631</td>\n",
       "      <td>-0.083022</td>\n",
       "      <td>-0.011473</td>\n",
       "    </tr>\n",
       "    <tr>\n",
       "      <th>Credit_History</th>\n",
       "      <td>-0.031297</td>\n",
       "      <td>0.008640</td>\n",
       "      <td>0.006237</td>\n",
       "      <td>-0.056583</td>\n",
       "      <td>-0.075288</td>\n",
       "      <td>0.004749</td>\n",
       "      <td>0.011808</td>\n",
       "      <td>0.002206</td>\n",
       "      <td>-0.013587</td>\n",
       "      <td>-0.005631</td>\n",
       "      <td>1.000000</td>\n",
       "      <td>0.000616</td>\n",
       "      <td>0.541462</td>\n",
       "    </tr>\n",
       "    <tr>\n",
       "      <th>Property_Area</th>\n",
       "      <td>-0.155416</td>\n",
       "      <td>-0.025463</td>\n",
       "      <td>0.004572</td>\n",
       "      <td>0.038008</td>\n",
       "      <td>-0.065243</td>\n",
       "      <td>-0.025178</td>\n",
       "      <td>-0.024827</td>\n",
       "      <td>-0.052318</td>\n",
       "      <td>-0.077644</td>\n",
       "      <td>-0.083022</td>\n",
       "      <td>0.000616</td>\n",
       "      <td>1.000000</td>\n",
       "      <td>0.032112</td>\n",
       "    </tr>\n",
       "    <tr>\n",
       "      <th>Loan_Status</th>\n",
       "      <td>0.011773</td>\n",
       "      <td>0.015090</td>\n",
       "      <td>0.086673</td>\n",
       "      <td>-0.007905</td>\n",
       "      <td>-0.085884</td>\n",
       "      <td>-0.011211</td>\n",
       "      <td>0.004341</td>\n",
       "      <td>0.033582</td>\n",
       "      <td>-0.042714</td>\n",
       "      <td>-0.011473</td>\n",
       "      <td>0.541462</td>\n",
       "      <td>0.032112</td>\n",
       "      <td>1.000000</td>\n",
       "    </tr>\n",
       "  </tbody>\n",
       "</table>\n",
       "</div>"
      ],
      "text/plain": [
       "                    Loan_ID    Gender   Married  Dependents  Education  \\\n",
       "Loan_ID            1.000000 -0.031738 -0.016942    0.070044   0.039442   \n",
       "Gender            -0.031738  1.000000  0.365036    0.165675   0.047428   \n",
       "Married           -0.016942  0.365036  1.000000    0.350705   0.015886   \n",
       "Dependents         0.070044  0.165675  0.350705    1.000000   0.042847   \n",
       "Education          0.039442  0.047428  0.015886    0.042847   1.000000   \n",
       "Self_Employed      0.024358  0.010019  0.020797    0.077197  -0.020095   \n",
       "ApplicantIncome    0.017662  0.065204  0.029826    0.117336  -0.181428   \n",
       "CoapplicantIncome -0.013743  0.211927  0.286696    0.001727   0.010615   \n",
       "LoanAmount         0.034361  0.136928  0.172195    0.156159  -0.158991   \n",
       "Loan_Amount_Term  -0.035067 -0.063484 -0.082515   -0.085861  -0.072186   \n",
       "Credit_History    -0.031297  0.008640  0.006237   -0.056583  -0.075288   \n",
       "Property_Area     -0.155416 -0.025463  0.004572    0.038008  -0.065243   \n",
       "Loan_Status        0.011773  0.015090  0.086673   -0.007905  -0.085884   \n",
       "\n",
       "                   Self_Employed  ApplicantIncome  CoapplicantIncome  \\\n",
       "Loan_ID                 0.024358         0.017662          -0.013743   \n",
       "Gender                  0.010019         0.065204           0.211927   \n",
       "Married                 0.020797         0.029826           0.286696   \n",
       "Dependents              0.077197         0.117336           0.001727   \n",
       "Education              -0.020095        -0.181428           0.010615   \n",
       "Self_Employed           1.000000         0.214036          -0.077743   \n",
       "ApplicantIncome         0.214036         1.000000          -0.325066   \n",
       "CoapplicantIncome      -0.077743        -0.325066           1.000000   \n",
       "LoanAmount              0.137389         0.555728           0.158113   \n",
       "Loan_Amount_Term       -0.035994        -0.022906          -0.000552   \n",
       "Credit_History          0.004749         0.011808           0.002206   \n",
       "Property_Area          -0.025178        -0.024827          -0.052318   \n",
       "Loan_Status            -0.011211         0.004341           0.033582   \n",
       "\n",
       "                   LoanAmount  Loan_Amount_Term  Credit_History  \\\n",
       "Loan_ID              0.034361         -0.035067       -0.031297   \n",
       "Gender               0.136928         -0.063484        0.008640   \n",
       "Married              0.172195         -0.082515        0.006237   \n",
       "Dependents           0.156159         -0.085861       -0.056583   \n",
       "Education           -0.158991         -0.072186       -0.075288   \n",
       "Self_Employed        0.137389         -0.035994        0.004749   \n",
       "ApplicantIncome      0.555728         -0.022906        0.011808   \n",
       "CoapplicantIncome    0.158113         -0.000552        0.002206   \n",
       "LoanAmount           1.000000          0.071865       -0.013587   \n",
       "Loan_Amount_Term     0.071865          1.000000       -0.005631   \n",
       "Credit_History      -0.013587         -0.005631        1.000000   \n",
       "Property_Area       -0.077644         -0.083022        0.000616   \n",
       "Loan_Status         -0.042714         -0.011473        0.541462   \n",
       "\n",
       "                   Property_Area  Loan_Status  \n",
       "Loan_ID                -0.155416     0.011773  \n",
       "Gender                 -0.025463     0.015090  \n",
       "Married                 0.004572     0.086673  \n",
       "Dependents              0.038008    -0.007905  \n",
       "Education              -0.065243    -0.085884  \n",
       "Self_Employed          -0.025178    -0.011211  \n",
       "ApplicantIncome        -0.024827     0.004341  \n",
       "CoapplicantIncome      -0.052318     0.033582  \n",
       "LoanAmount             -0.077644    -0.042714  \n",
       "Loan_Amount_Term       -0.083022    -0.011473  \n",
       "Credit_History          0.000616     0.541462  \n",
       "Property_Area           1.000000     0.032112  \n",
       "Loan_Status             0.032112     1.000000  "
      ]
     },
     "execution_count": 49,
     "metadata": {},
     "output_type": "execute_result"
    }
   ],
   "source": [
    "#correlation between Dependent variables and independent variable\n",
    "df.corr()"
   ]
  },
  {
   "cell_type": "markdown",
   "id": "1a06da8f",
   "metadata": {},
   "source": [
    "This gives the correlation between dependent and independent features."
   ]
  },
  {
   "cell_type": "code",
   "execution_count": 50,
   "id": "ab143b4e",
   "metadata": {},
   "outputs": [
    {
     "data": {
      "image/png": "[encoded data removed]",
      "text/plain": [
       "<Figure size 2160x1080 with 2 Axes>"
      ]
     },
     "metadata": {
      "needs_background": "light"
     },
     "output_type": "display_data"
    }
   ],
   "source": [
    "plt.figure(figsize=(30,15))\n",
    "sns.heatmap(df.corr(), annot=True,fmt=\"0.2f\",linewidth=0.2,linecolor=\"black\",cmap=\"Accent\")\n",
    "plt.xlabel('figure',fontsize=10)\n",
    "plt.ylabel(\"features_name\",fontsize=15)\n",
    "plt.title(\"correlation  of dependent and independent features\",fontsize=20)\n",
    "plt.show()"
   ]
  },
  {
   "cell_type": "markdown",
   "id": "52b47350",
   "metadata": {},
   "source": [
    "This gives the correlation between dependent and independent variables."
   ]
  },
  {
   "cell_type": "code",
   "execution_count": 51,
   "id": "0c7462a8",
   "metadata": {},
   "outputs": [
    {
     "data": {
      "text/plain": [
       "Loan_Status          1.000000\n",
       "Credit_History       0.541462\n",
       "Married              0.086673\n",
       "CoapplicantIncome    0.033582\n",
       "Property_Area        0.032112\n",
       "Gender               0.015090\n",
       "Loan_ID              0.011773\n",
       "ApplicantIncome      0.004341\n",
       "Dependents          -0.007905\n",
       "Self_Employed       -0.011211\n",
       "Loan_Amount_Term    -0.011473\n",
       "LoanAmount          -0.042714\n",
       "Education           -0.085884\n",
       "Name: Loan_Status, dtype: float64"
      ]
     },
     "execution_count": 51,
     "metadata": {},
     "output_type": "execute_result"
    }
   ],
   "source": [
    "df.corr()['Loan_Status'].sort_values(ascending=False)"
   ]
  },
  {
   "cell_type": "markdown",
   "id": "7921df64",
   "metadata": {},
   "source": [
    "we can observe the positive correlated features and negative correlated features also."
   ]
  },
  {
   "cell_type": "code",
   "execution_count": 52,
   "id": "46b80b95",
   "metadata": {},
   "outputs": [
    {
     "data": {
      "image/png": "[encoded data removed]",
      "text/plain": [
       "<Figure size 720x720 with 1 Axes>"
      ]
     },
     "metadata": {
      "needs_background": "light"
     },
     "output_type": "display_data"
    }
   ],
   "source": [
    "#visualizing the correlation between features and target\n",
    "plt.figure(figsize=(10,10))\n",
    "df1.corr()['Loan_Status'].sort_values(ascending=False).drop([\"Loan_Status\"]).plot(kind=\"bar\",color=\"m\")\n",
    "plt.xlabel('feature',fontsize=15)\n",
    "plt.ylabel('Target',fontsize=15)\n",
    "plt.show()"
   ]
  },
  {
   "cell_type": "code",
   "execution_count": 54,
   "id": "6822d967",
   "metadata": {},
   "outputs": [],
   "source": [
    "#Seperating Features and label\n",
    "x=df.drop(\"Loan_Status\",axis=1)\n",
    "y=df[\"Loan_Status\"]"
   ]
  },
  {
   "cell_type": "code",
   "execution_count": 55,
   "id": "75051835",
   "metadata": {},
   "outputs": [
    {
     "data": {
      "text/plain": [
       "(614, 12)"
      ]
     },
     "execution_count": 55,
     "metadata": {},
     "output_type": "execute_result"
    }
   ],
   "source": [
    "x.shape"
   ]
  },
  {
   "cell_type": "code",
   "execution_count": 56,
   "id": "f39ee4d8",
   "metadata": {},
   "outputs": [
    {
     "data": {
      "text/plain": [
       "(614,)"
      ]
     },
     "execution_count": 56,
     "metadata": {},
     "output_type": "execute_result"
    }
   ],
   "source": [
    "y.shape"
   ]
  },
  {
   "cell_type": "code",
   "execution_count": 57,
   "id": "e17824af",
   "metadata": {},
   "outputs": [
    {
     "data": {
      "text/plain": [
       "1    422\n",
       "0    192\n",
       "Name: Loan_Status, dtype: int64"
      ]
     },
     "execution_count": 57,
     "metadata": {},
     "output_type": "execute_result"
    }
   ],
   "source": [
    "y.value_counts()"
   ]
  },
  {
   "cell_type": "markdown",
   "id": "1852be43",
   "metadata": {},
   "source": [
    "Feature Scaling using Robust Scaler:"
   ]
  },
  {
   "cell_type": "code",
   "execution_count": 58,
   "id": "770b5c17",
   "metadata": {},
   "outputs": [
    {
     "data": {
      "text/html": [
       "<div>\n",
       "<style scoped>\n",
       "    .dataframe tbody tr th:only-of-type {\n",
       "        vertical-align: middle;\n",
       "    }\n",
       "\n",
       "    .dataframe tbody tr th {\n",
       "        vertical-align: top;\n",
       "    }\n",
       "\n",
       "    .dataframe thead th {\n",
       "        text-align: right;\n",
       "    }\n",
       "</style>\n",
       "<table border=\"1\" class=\"dataframe\">\n",
       "  <thead>\n",
       "    <tr style=\"text-align: right;\">\n",
       "      <th></th>\n",
       "      <th>Loan_ID</th>\n",
       "      <th>Gender</th>\n",
       "      <th>Married</th>\n",
       "      <th>Dependents</th>\n",
       "      <th>Education</th>\n",
       "      <th>Self_Employed</th>\n",
       "      <th>ApplicantIncome</th>\n",
       "      <th>CoapplicantIncome</th>\n",
       "      <th>LoanAmount</th>\n",
       "      <th>Loan_Amount_Term</th>\n",
       "      <th>Credit_History</th>\n",
       "      <th>Property_Area</th>\n",
       "    </tr>\n",
       "  </thead>\n",
       "  <tbody>\n",
       "    <tr>\n",
       "      <th>0</th>\n",
       "      <td>-1.000000</td>\n",
       "      <td>0.0</td>\n",
       "      <td>-1.0</td>\n",
       "      <td>0.000000</td>\n",
       "      <td>0.0</td>\n",
       "      <td>0.0</td>\n",
       "      <td>0.640776</td>\n",
       "      <td>-0.802753</td>\n",
       "      <td>0.260360</td>\n",
       "      <td>0.00000</td>\n",
       "      <td>0.0</td>\n",
       "      <td>0.5</td>\n",
       "    </tr>\n",
       "    <tr>\n",
       "      <th>1</th>\n",
       "      <td>-0.996737</td>\n",
       "      <td>0.0</td>\n",
       "      <td>0.0</td>\n",
       "      <td>0.793701</td>\n",
       "      <td>0.0</td>\n",
       "      <td>0.0</td>\n",
       "      <td>0.264424</td>\n",
       "      <td>0.066338</td>\n",
       "      <td>-0.015647</td>\n",
       "      <td>0.00000</td>\n",
       "      <td>0.0</td>\n",
       "      <td>-0.5</td>\n",
       "    </tr>\n",
       "    <tr>\n",
       "      <th>2</th>\n",
       "      <td>-0.993475</td>\n",
       "      <td>0.0</td>\n",
       "      <td>0.0</td>\n",
       "      <td>0.000000</td>\n",
       "      <td>0.0</td>\n",
       "      <td>1.0</td>\n",
       "      <td>-0.320861</td>\n",
       "      <td>-0.802753</td>\n",
       "      <td>-1.209121</td>\n",
       "      <td>0.00000</td>\n",
       "      <td>0.0</td>\n",
       "      <td>0.5</td>\n",
       "    </tr>\n",
       "    <tr>\n",
       "      <th>3</th>\n",
       "      <td>-0.990212</td>\n",
       "      <td>0.0</td>\n",
       "      <td>0.0</td>\n",
       "      <td>0.000000</td>\n",
       "      <td>1.0</td>\n",
       "      <td>0.0</td>\n",
       "      <td>-0.508599</td>\n",
       "      <td>0.205987</td>\n",
       "      <td>-0.143859</td>\n",
       "      <td>0.00000</td>\n",
       "      <td>0.0</td>\n",
       "      <td>0.5</td>\n",
       "    </tr>\n",
       "    <tr>\n",
       "      <th>4</th>\n",
       "      <td>-0.986949</td>\n",
       "      <td>0.0</td>\n",
       "      <td>-1.0</td>\n",
       "      <td>0.000000</td>\n",
       "      <td>0.0</td>\n",
       "      <td>0.0</td>\n",
       "      <td>0.681899</td>\n",
       "      <td>-0.802753</td>\n",
       "      <td>0.181755</td>\n",
       "      <td>0.00000</td>\n",
       "      <td>0.0</td>\n",
       "      <td>0.5</td>\n",
       "    </tr>\n",
       "    <tr>\n",
       "      <th>...</th>\n",
       "      <td>...</td>\n",
       "      <td>...</td>\n",
       "      <td>...</td>\n",
       "      <td>...</td>\n",
       "      <td>...</td>\n",
       "      <td>...</td>\n",
       "      <td>...</td>\n",
       "      <td>...</td>\n",
       "      <td>...</td>\n",
       "      <td>...</td>\n",
       "      <td>...</td>\n",
       "      <td>...</td>\n",
       "    </tr>\n",
       "    <tr>\n",
       "      <th>609</th>\n",
       "      <td>0.986949</td>\n",
       "      <td>-1.0</td>\n",
       "      <td>-1.0</td>\n",
       "      <td>0.000000</td>\n",
       "      <td>0.0</td>\n",
       "      <td>0.0</td>\n",
       "      <td>-0.364212</td>\n",
       "      <td>-0.802753</td>\n",
       "      <td>-1.090092</td>\n",
       "      <td>0.00000</td>\n",
       "      <td>0.0</td>\n",
       "      <td>-0.5</td>\n",
       "    </tr>\n",
       "    <tr>\n",
       "      <th>610</th>\n",
       "      <td>0.990212</td>\n",
       "      <td>0.0</td>\n",
       "      <td>0.0</td>\n",
       "      <td>1.144714</td>\n",
       "      <td>0.0</td>\n",
       "      <td>0.0</td>\n",
       "      <td>0.104593</td>\n",
       "      <td>-0.802753</td>\n",
       "      <td>-1.951767</td>\n",
       "      <td>-1.46757</td>\n",
       "      <td>0.0</td>\n",
       "      <td>-0.5</td>\n",
       "    </tr>\n",
       "    <tr>\n",
       "      <th>611</th>\n",
       "      <td>0.993475</td>\n",
       "      <td>0.0</td>\n",
       "      <td>0.0</td>\n",
       "      <td>0.793701</td>\n",
       "      <td>0.0</td>\n",
       "      <td>0.0</td>\n",
       "      <td>1.187093</td>\n",
       "      <td>-0.331774</td>\n",
       "      <td>1.520379</td>\n",
       "      <td>0.00000</td>\n",
       "      <td>0.0</td>\n",
       "      <td>0.5</td>\n",
       "    </tr>\n",
       "    <tr>\n",
       "      <th>612</th>\n",
       "      <td>0.996737</td>\n",
       "      <td>0.0</td>\n",
       "      <td>0.0</td>\n",
       "      <td>1.000000</td>\n",
       "      <td>0.0</td>\n",
       "      <td>0.0</td>\n",
       "      <td>1.076473</td>\n",
       "      <td>-0.802753</td>\n",
       "      <td>0.795739</td>\n",
       "      <td>0.00000</td>\n",
       "      <td>0.0</td>\n",
       "      <td>0.5</td>\n",
       "    </tr>\n",
       "    <tr>\n",
       "      <th>613</th>\n",
       "      <td>1.000000</td>\n",
       "      <td>-1.0</td>\n",
       "      <td>-1.0</td>\n",
       "      <td>0.000000</td>\n",
       "      <td>0.0</td>\n",
       "      <td>1.0</td>\n",
       "      <td>0.264424</td>\n",
       "      <td>-0.802753</td>\n",
       "      <td>0.061792</td>\n",
       "      <td>0.00000</td>\n",
       "      <td>-1.0</td>\n",
       "      <td>0.0</td>\n",
       "    </tr>\n",
       "  </tbody>\n",
       "</table>\n",
       "<p>614 rows × 12 columns</p>\n",
       "</div>"
      ],
      "text/plain": [
       "      Loan_ID  Gender  Married  Dependents  Education  Self_Employed  \\\n",
       "0   -1.000000     0.0     -1.0    0.000000        0.0            0.0   \n",
       "1   -0.996737     0.0      0.0    0.793701        0.0            0.0   \n",
       "2   -0.993475     0.0      0.0    0.000000        0.0            1.0   \n",
       "3   -0.990212     0.0      0.0    0.000000        1.0            0.0   \n",
       "4   -0.986949     0.0     -1.0    0.000000        0.0            0.0   \n",
       "..        ...     ...      ...         ...        ...            ...   \n",
       "609  0.986949    -1.0     -1.0    0.000000        0.0            0.0   \n",
       "610  0.990212     0.0      0.0    1.144714        0.0            0.0   \n",
       "611  0.993475     0.0      0.0    0.793701        0.0            0.0   \n",
       "612  0.996737     0.0      0.0    1.000000        0.0            0.0   \n",
       "613  1.000000    -1.0     -1.0    0.000000        0.0            1.0   \n",
       "\n",
       "     ApplicantIncome  CoapplicantIncome  LoanAmount  Loan_Amount_Term  \\\n",
       "0           0.640776          -0.802753    0.260360           0.00000   \n",
       "1           0.264424           0.066338   -0.015647           0.00000   \n",
       "2          -0.320861          -0.802753   -1.209121           0.00000   \n",
       "3          -0.508599           0.205987   -0.143859           0.00000   \n",
       "4           0.681899          -0.802753    0.181755           0.00000   \n",
       "..               ...                ...         ...               ...   \n",
       "609        -0.364212          -0.802753   -1.090092           0.00000   \n",
       "610         0.104593          -0.802753   -1.951767          -1.46757   \n",
       "611         1.187093          -0.331774    1.520379           0.00000   \n",
       "612         1.076473          -0.802753    0.795739           0.00000   \n",
       "613         0.264424          -0.802753    0.061792           0.00000   \n",
       "\n",
       "     Credit_History  Property_Area  \n",
       "0               0.0            0.5  \n",
       "1               0.0           -0.5  \n",
       "2               0.0            0.5  \n",
       "3               0.0            0.5  \n",
       "4               0.0            0.5  \n",
       "..              ...            ...  \n",
       "609             0.0           -0.5  \n",
       "610             0.0           -0.5  \n",
       "611             0.0            0.5  \n",
       "612             0.0            0.5  \n",
       "613            -1.0            0.0  \n",
       "\n",
       "[614 rows x 12 columns]"
      ]
     },
     "execution_count": 58,
     "metadata": {},
     "output_type": "execute_result"
    }
   ],
   "source": [
    "from sklearn.preprocessing import RobustScaler\n",
    "p=RobustScaler()\n",
    "x=pd.DataFrame(p.fit_transform(x),columns=x.columns)\n",
    "x"
   ]
  },
  {
   "cell_type": "markdown",
   "id": "ee58381b",
   "metadata": {},
   "source": [
    "Checking Variance Inflation Factor:"
   ]
  },
  {
   "cell_type": "code",
   "execution_count": 59,
   "id": "1a6f3690",
   "metadata": {},
   "outputs": [
    {
     "data": {
      "text/html": [
       "<div>\n",
       "<style scoped>\n",
       "    .dataframe tbody tr th:only-of-type {\n",
       "        vertical-align: middle;\n",
       "    }\n",
       "\n",
       "    .dataframe tbody tr th {\n",
       "        vertical-align: top;\n",
       "    }\n",
       "\n",
       "    .dataframe thead th {\n",
       "        text-align: right;\n",
       "    }\n",
       "</style>\n",
       "<table border=\"1\" class=\"dataframe\">\n",
       "  <thead>\n",
       "    <tr style=\"text-align: right;\">\n",
       "      <th></th>\n",
       "      <th>VIF Values</th>\n",
       "      <th>Features</th>\n",
       "    </tr>\n",
       "  </thead>\n",
       "  <tbody>\n",
       "    <tr>\n",
       "      <th>0</th>\n",
       "      <td>1.031556</td>\n",
       "      <td>Loan_ID</td>\n",
       "    </tr>\n",
       "    <tr>\n",
       "      <th>1</th>\n",
       "      <td>1.426028</td>\n",
       "      <td>Gender</td>\n",
       "    </tr>\n",
       "    <tr>\n",
       "      <th>2</th>\n",
       "      <td>1.635021</td>\n",
       "      <td>Married</td>\n",
       "    </tr>\n",
       "    <tr>\n",
       "      <th>3</th>\n",
       "      <td>1.401763</td>\n",
       "      <td>Dependents</td>\n",
       "    </tr>\n",
       "    <tr>\n",
       "      <th>4</th>\n",
       "      <td>1.270698</td>\n",
       "      <td>Education</td>\n",
       "    </tr>\n",
       "    <tr>\n",
       "      <th>5</th>\n",
       "      <td>1.195484</td>\n",
       "      <td>Self_Employed</td>\n",
       "    </tr>\n",
       "    <tr>\n",
       "      <th>6</th>\n",
       "      <td>2.145430</td>\n",
       "      <td>ApplicantIncome</td>\n",
       "    </tr>\n",
       "    <tr>\n",
       "      <th>7</th>\n",
       "      <td>1.821923</td>\n",
       "      <td>CoapplicantIncome</td>\n",
       "    </tr>\n",
       "    <tr>\n",
       "      <th>8</th>\n",
       "      <td>1.847418</td>\n",
       "      <td>LoanAmount</td>\n",
       "    </tr>\n",
       "    <tr>\n",
       "      <th>9</th>\n",
       "      <td>1.105864</td>\n",
       "      <td>Loan_Amount_Term</td>\n",
       "    </tr>\n",
       "    <tr>\n",
       "      <th>10</th>\n",
       "      <td>1.161815</td>\n",
       "      <td>Credit_History</td>\n",
       "    </tr>\n",
       "    <tr>\n",
       "      <th>11</th>\n",
       "      <td>1.053459</td>\n",
       "      <td>Property_Area</td>\n",
       "    </tr>\n",
       "  </tbody>\n",
       "</table>\n",
       "</div>"
      ],
      "text/plain": [
       "    VIF Values           Features\n",
       "0     1.031556            Loan_ID\n",
       "1     1.426028             Gender\n",
       "2     1.635021            Married\n",
       "3     1.401763         Dependents\n",
       "4     1.270698          Education\n",
       "5     1.195484      Self_Employed\n",
       "6     2.145430    ApplicantIncome\n",
       "7     1.821923  CoapplicantIncome\n",
       "8     1.847418         LoanAmount\n",
       "9     1.105864   Loan_Amount_Term\n",
       "10    1.161815     Credit_History\n",
       "11    1.053459      Property_Area"
      ]
     },
     "execution_count": 59,
     "metadata": {},
     "output_type": "execute_result"
    }
   ],
   "source": [
    "#Finding variance inflation factor in each scaled column\n",
    "from statsmodels.stats.outliers_influence import variance_inflation_factor\n",
    "vif=pd.DataFrame()\n",
    "vif[\"VIF Values\"]=[variance_inflation_factor(x.values,i) for i in range(len(x.columns))]\n",
    "vif[\"Features\"]=x.columns\n",
    "vif"
   ]
  },
  {
   "cell_type": "markdown",
   "id": "4312b135",
   "metadata": {},
   "source": [
    "Here, multi collinearity  is not present.so, we can move ahead for model building."
   ]
  },
  {
   "cell_type": "code",
   "execution_count": 60,
   "id": "cbdc1fe2",
   "metadata": {},
   "outputs": [
    {
     "data": {
      "text/plain": [
       "1    422\n",
       "0    192\n",
       "Name: Loan_Status, dtype: int64"
      ]
     },
     "execution_count": 60,
     "metadata": {},
     "output_type": "execute_result"
    }
   ],
   "source": [
    "y.value_counts()"
   ]
  },
  {
   "cell_type": "markdown",
   "id": "62ea37f5",
   "metadata": {},
   "source": [
    "Here,we can see that the data is not balanced, since it is a classification problem we will balance the data using Random OverSampling method."
   ]
  },
  {
   "cell_type": "markdown",
   "id": "713e76d2",
   "metadata": {},
   "source": [
    "Over sampling the data:"
   ]
  },
  {
   "cell_type": "code",
   "execution_count": 62,
   "id": "2b0b02d8",
   "metadata": {},
   "outputs": [],
   "source": [
    "from imblearn.over_sampling import RandomOverSampler\n",
    "R=RandomOverSampler()\n",
    "x1,y1=R.fit_resample(x,y)"
   ]
  },
  {
   "cell_type": "code",
   "execution_count": 63,
   "id": "eb25d605",
   "metadata": {},
   "outputs": [
    {
     "data": {
      "text/plain": [
       "1    422\n",
       "0    422\n",
       "Name: Loan_Status, dtype: int64"
      ]
     },
     "execution_count": 63,
     "metadata": {},
     "output_type": "execute_result"
    }
   ],
   "source": [
    "#Checking value counts of target column\n",
    "y1.value_counts()"
   ]
  },
  {
   "cell_type": "markdown",
   "id": "15428576",
   "metadata": {},
   "source": [
    "Now the data is balanced,we can build machine learning classification models."
   ]
  },
  {
   "cell_type": "markdown",
   "id": "06f880c1",
   "metadata": {},
   "source": [
    "Modelling:"
   ]
  },
  {
   "cell_type": "code",
   "execution_count": 64,
   "id": "11130c6e",
   "metadata": {},
   "outputs": [],
   "source": [
    "from sklearn.model_selection import train_test_split\n",
    "from sklearn.ensemble import RandomForestClassifier\n",
    "from sklearn.metrics import accuracy_score"
   ]
  },
  {
   "cell_type": "code",
   "execution_count": 66,
   "id": "d13f8e0b",
   "metadata": {},
   "outputs": [],
   "source": [
    "#creating train test split.\n",
    "x_train,x_test,y_train,y_test=train_test_split(x1,y1,test_size=0.25,random_state=200)"
   ]
  },
  {
   "cell_type": "code",
   "execution_count": 67,
   "id": "6be27483",
   "metadata": {},
   "outputs": [],
   "source": [
    "def m_score(name,x_train,x_test,y_train,y_test,train=True):\n",
    "    if train:\n",
    "        y_pred=name.predict(x_train)\n",
    "        print(\"Training result\")\n",
    "        print(f\"Accuracy score:{accuracy_score(y_train,y_pred)*100:.2f}%\")\n",
    "    else:\n",
    "         if train==False:\n",
    "            pred=name.predict(x_test)\n",
    "            print(\"\\n----Test Result----\")\n",
    "            print(f\"Accuracy score:{accuracy_score(y_test,pred)*100:.2f}%\")\n",
    "            print(\"confusion_matrix:\\n\\n\",confusion_matrix(y_test,pred))\n",
    "            print(\"\\n Test classification report:\\n\\n\",classification_report(y_test,pred,digits=2))\n"
   ]
  },
  {
   "cell_type": "code",
   "execution_count": 68,
   "id": "78ce60fe",
   "metadata": {},
   "outputs": [],
   "source": [
    "from sklearn.ensemble import RandomForestClassifier, ExtraTreesClassifier\n",
    "from sklearn.svm import SVC\n",
    "from sklearn.ensemble import GradientBoostingClassifier, AdaBoostClassifier, BaggingClassifier\n",
    "from sklearn.metrics import classification_report, confusion_matrix, roc_curve,accuracy_score\n",
    "from sklearn.model_selection import cross_val_score\n",
    "from sklearn.tree import DecisionTreeClassifier"
   ]
  },
  {
   "cell_type": "code",
   "execution_count": 69,
   "id": "54b8a883",
   "metadata": {},
   "outputs": [
    {
     "data": {
      "text/plain": [
       "RandomForestClassifier()"
      ]
     },
     "execution_count": 69,
     "metadata": {},
     "output_type": "execute_result"
    }
   ],
   "source": [
    "#Model initiation for RandomForestClassifier\n",
    "name=RandomForestClassifier()\n",
    "name.fit(x_train,y_train)"
   ]
  },
  {
   "cell_type": "code",
   "execution_count": 70,
   "id": "b62f99a2",
   "metadata": {},
   "outputs": [
    {
     "name": "stdout",
     "output_type": "stream",
     "text": [
      "Training result\n",
      "Accuracy score:100.00%\n",
      "\n",
      "----Test Result----\n",
      "Accuracy score:86.26%\n",
      "confusion_matrix:\n",
      "\n",
      " [[ 82  21]\n",
      " [  8 100]]\n",
      "\n",
      " Test classification report:\n",
      "\n",
      "               precision    recall  f1-score   support\n",
      "\n",
      "           0       0.91      0.80      0.85       103\n",
      "           1       0.83      0.93      0.87       108\n",
      "\n",
      "    accuracy                           0.86       211\n",
      "   macro avg       0.87      0.86      0.86       211\n",
      "weighted avg       0.87      0.86      0.86       211\n",
      "\n"
     ]
    }
   ],
   "source": [
    "m_score(name,x_train,x_test,y_train,y_test,train=True)\n",
    "m_score(name,x_train,x_test,y_train,y_test,train=False)"
   ]
  },
  {
   "cell_type": "markdown",
   "id": "5cd97c45",
   "metadata": {},
   "source": [
    "Finding the best Random state:"
   ]
  },
  {
   "cell_type": "code",
   "execution_count": 71,
   "id": "c09a9289",
   "metadata": {},
   "outputs": [
    {
     "name": "stdout",
     "output_type": "stream",
     "text": [
      "Best accuracy is 0.990521327014218 at random state 5\n"
     ]
    }
   ],
   "source": [
    "mAccuracy=0\n",
    "mRS=0\n",
    "for i in range(1,200):\n",
    "    x_train,x_test,y_train,y_test=train_test_split(x1,y1,test_size=0.25,random_state=i)\n",
    "    pred=name.predict(x_test)\n",
    "    Test_result=accuracy_score(y_test,pred)\n",
    "    if Test_result>mAccuracy:\n",
    "        mAccuracy=Test_result\n",
    "        mRS=i\n",
    "print(\"Best accuracy is\",mAccuracy,\"at random state\",mRS)    "
   ]
  },
  {
   "cell_type": "markdown",
   "id": "3c17f49e",
   "metadata": {},
   "source": [
    "The accuracy using RandomForestClassifier is 86.26%"
   ]
  },
  {
   "cell_type": "code",
   "execution_count": 73,
   "id": "d4b5fd9a",
   "metadata": {},
   "outputs": [
    {
     "name": "stdout",
     "output_type": "stream",
     "text": [
      "[0.42011834 0.56213018 0.74556213 0.76331361 0.5       ]\n",
      "0.598224852071006\n",
      "Difference between Accuracy score and cross validation score is: 0.387557138450321\n"
     ]
    }
   ],
   "source": [
    "#checking cv score for RandomForestClassifier\n",
    "score=cross_val_score(name,x1,y1)\n",
    "print(score)\n",
    "print(score.mean())\n",
    "print(\"Difference between Accuracy score and cross validation score is:\",accuracy_score(y_test,pred)-score.mean())"
   ]
  },
  {
   "cell_type": "code",
   "execution_count": 74,
   "id": "9f9a8481",
   "metadata": {},
   "outputs": [
    {
     "data": {
      "text/plain": [
       "SVC()"
      ]
     },
     "execution_count": 74,
     "metadata": {},
     "output_type": "execute_result"
    }
   ],
   "source": [
    "#Model initiation for SupportVectorMachineClassifier\n",
    "name1=SVC()\n",
    "name1.fit(x_train,y_train)"
   ]
  },
  {
   "cell_type": "code",
   "execution_count": 75,
   "id": "7ecb0849",
   "metadata": {},
   "outputs": [
    {
     "name": "stdout",
     "output_type": "stream",
     "text": [
      "Training result\n",
      "Accuracy score:81.99%\n",
      "\n",
      "----Test Result----\n",
      "Accuracy score:70.62%\n",
      "confusion_matrix:\n",
      "\n",
      " [[54 53]\n",
      " [ 9 95]]\n",
      "\n",
      " Test classification report:\n",
      "\n",
      "               precision    recall  f1-score   support\n",
      "\n",
      "           0       0.86      0.50      0.64       107\n",
      "           1       0.64      0.91      0.75       104\n",
      "\n",
      "    accuracy                           0.71       211\n",
      "   macro avg       0.75      0.71      0.69       211\n",
      "weighted avg       0.75      0.71      0.69       211\n",
      "\n"
     ]
    }
   ],
   "source": [
    "m_score(name1,x_train,x_test,y_train,y_test,train=True)\n",
    "m_score(name1,x_train,x_test,y_train,y_test,train=False)"
   ]
  },
  {
   "cell_type": "markdown",
   "id": "7aab1b0b",
   "metadata": {},
   "source": [
    "The accuracy using SVC is 70.62%"
   ]
  },
  {
   "cell_type": "code",
   "execution_count": 76,
   "id": "1017106b",
   "metadata": {},
   "outputs": [
    {
     "name": "stdout",
     "output_type": "stream",
     "text": [
      "[0.72781065 0.68639053 0.75739645 0.79289941 0.60119048]\n",
      "0.7131375035221189\n",
      "Difference between Accuracy score and cross validation score is: 0.27264448699920807\n"
     ]
    }
   ],
   "source": [
    "#checking cv score for SupportVectorMachineClassifier\n",
    "score1=cross_val_score(name1,x1,y1)\n",
    "print(score1)\n",
    "print(score1.mean())\n",
    "print(\"Difference between Accuracy score and cross validation score is:\",accuracy_score(y_test,pred)-score1.mean())"
   ]
  },
  {
   "cell_type": "code",
   "execution_count": 77,
   "id": "5c17abaf",
   "metadata": {},
   "outputs": [
    {
     "data": {
      "text/plain": [
       "GradientBoostingClassifier()"
      ]
     },
     "execution_count": 77,
     "metadata": {},
     "output_type": "execute_result"
    }
   ],
   "source": [
    "#Model initiation for GradientBoostingClassifier\n",
    "name2=GradientBoostingClassifier()\n",
    "name2.fit(x_train,y_train)"
   ]
  },
  {
   "cell_type": "code",
   "execution_count": 78,
   "id": "5fa9d952",
   "metadata": {},
   "outputs": [
    {
     "name": "stdout",
     "output_type": "stream",
     "text": [
      "Training result\n",
      "Accuracy score:92.10%\n",
      "\n",
      "----Test Result----\n",
      "Accuracy score:74.41%\n",
      "confusion_matrix:\n",
      "\n",
      " [[69 38]\n",
      " [16 88]]\n",
      "\n",
      " Test classification report:\n",
      "\n",
      "               precision    recall  f1-score   support\n",
      "\n",
      "           0       0.81      0.64      0.72       107\n",
      "           1       0.70      0.85      0.77       104\n",
      "\n",
      "    accuracy                           0.74       211\n",
      "   macro avg       0.76      0.75      0.74       211\n",
      "weighted avg       0.76      0.74      0.74       211\n",
      "\n"
     ]
    }
   ],
   "source": [
    "m_score(name2,x_train,x_test,y_train,y_test,train=True)\n",
    "m_score(name2,x_train,x_test,y_train,y_test,train=False)"
   ]
  },
  {
   "cell_type": "markdown",
   "id": "c6ad4de2",
   "metadata": {},
   "source": [
    "The accuracy using GradientBoostingClassifier is 74.41%"
   ]
  },
  {
   "cell_type": "code",
   "execution_count": 80,
   "id": "b5574805",
   "metadata": {},
   "outputs": [
    {
     "name": "stdout",
     "output_type": "stream",
     "text": [
      "[0.36686391 0.37869822 0.40828402 0.49704142 0.41666667]\n",
      "0.4135108481262327\n",
      "Difference between Accuracy score and cross validation score is: 0.5722711423950944\n"
     ]
    }
   ],
   "source": [
    "#checking cv score for GradientBoostingClassifier\n",
    "score2=cross_val_score(name2,x1,y1)\n",
    "print(score2)\n",
    "print(score2.mean())\n",
    "print(\"Difference between Accuracy score and cross validation score is:\",accuracy_score(y_test,pred)-score2.mean())"
   ]
  },
  {
   "cell_type": "code",
   "execution_count": 81,
   "id": "02bd0bbe",
   "metadata": {},
   "outputs": [
    {
     "data": {
      "text/plain": [
       "AdaBoostClassifier()"
      ]
     },
     "execution_count": 81,
     "metadata": {},
     "output_type": "execute_result"
    }
   ],
   "source": [
    "#Model initiation for AdaBoostClassifier\n",
    "name3=AdaBoostClassifier()\n",
    "name3.fit(x_train,y_train)"
   ]
  },
  {
   "cell_type": "code",
   "execution_count": 82,
   "id": "8244f4be",
   "metadata": {},
   "outputs": [
    {
     "name": "stdout",
     "output_type": "stream",
     "text": [
      "Training result\n",
      "Accuracy score:83.73%\n",
      "\n",
      "----Test Result----\n",
      "Accuracy score:74.41%\n",
      "confusion_matrix:\n",
      "\n",
      " [[65 42]\n",
      " [12 92]]\n",
      "\n",
      " Test classification report:\n",
      "\n",
      "               precision    recall  f1-score   support\n",
      "\n",
      "           0       0.84      0.61      0.71       107\n",
      "           1       0.69      0.88      0.77       104\n",
      "\n",
      "    accuracy                           0.74       211\n",
      "   macro avg       0.77      0.75      0.74       211\n",
      "weighted avg       0.77      0.74      0.74       211\n",
      "\n"
     ]
    }
   ],
   "source": [
    "m_score(name3,x_train,x_test,y_train,y_test,train=True)\n",
    "m_score(name3,x_train,x_test,y_train,y_test,train=False)"
   ]
  },
  {
   "cell_type": "markdown",
   "id": "8d79a5a1",
   "metadata": {},
   "source": [
    "The accuracy using AdaBoostClassifier is 74.41%"
   ]
  },
  {
   "cell_type": "code",
   "execution_count": 84,
   "id": "6090c139",
   "metadata": {},
   "outputs": [
    {
     "name": "stdout",
     "output_type": "stream",
     "text": [
      "[0.36094675 0.30769231 0.41420118 0.4556213  0.38690476]\n",
      "0.38507326007326004\n",
      "Difference between Accuracy score and cross validation score is: 0.6007087304480669\n"
     ]
    }
   ],
   "source": [
    "#checking cv score for AdaBoostClassifier\n",
    "score3=cross_val_score(name3,x1,y1)\n",
    "print(score3)\n",
    "print(score3.mean())\n",
    "print(\"Difference between Accuracy score and cross validation score is:\",accuracy_score(y_test,pred)-score3.mean())"
   ]
  },
  {
   "cell_type": "code",
   "execution_count": 85,
   "id": "cdbcf3d7",
   "metadata": {},
   "outputs": [
    {
     "data": {
      "text/plain": [
       "DecisionTreeClassifier()"
      ]
     },
     "execution_count": 85,
     "metadata": {},
     "output_type": "execute_result"
    }
   ],
   "source": [
    "#Model initiation for DecisionTreeClassifier\n",
    "name4=DecisionTreeClassifier()\n",
    "name4.fit(x_train,y_train)"
   ]
  },
  {
   "cell_type": "code",
   "execution_count": 86,
   "id": "8be3be6b",
   "metadata": {},
   "outputs": [
    {
     "name": "stdout",
     "output_type": "stream",
     "text": [
      "Training result\n",
      "Accuracy score:100.00%\n",
      "\n",
      "----Test Result----\n",
      "Accuracy score:85.31%\n",
      "confusion_matrix:\n",
      "\n",
      " [[94 13]\n",
      " [18 86]]\n",
      "\n",
      " Test classification report:\n",
      "\n",
      "               precision    recall  f1-score   support\n",
      "\n",
      "           0       0.84      0.88      0.86       107\n",
      "           1       0.87      0.83      0.85       104\n",
      "\n",
      "    accuracy                           0.85       211\n",
      "   macro avg       0.85      0.85      0.85       211\n",
      "weighted avg       0.85      0.85      0.85       211\n",
      "\n"
     ]
    }
   ],
   "source": [
    "m_score(name4,x_train,x_test,y_train,y_test,train=True)\n",
    "m_score(name4,x_train,x_test,y_train,y_test,train=False)"
   ]
  },
  {
   "cell_type": "markdown",
   "id": "35235191",
   "metadata": {},
   "source": [
    "The accuracy using DecisionTreeClassifier is 85.31%"
   ]
  },
  {
   "cell_type": "code",
   "execution_count": 87,
   "id": "71fa2cf1",
   "metadata": {},
   "outputs": [
    {
     "name": "stdout",
     "output_type": "stream",
     "text": [
      "[0.43195266 0.44378698 0.56213018 0.85207101 0.5297619 ]\n",
      "0.5639405466328543\n",
      "Difference between Accuracy score and cross validation score is: 0.42184144388847267\n"
     ]
    }
   ],
   "source": [
    "#checking cv score for DecisionTreeClassifier\n",
    "score4=cross_val_score(name4,x1,y1)\n",
    "print(score4)\n",
    "print(score4.mean())\n",
    "print(\"Difference between Accuracy score and cross validation score is:\",accuracy_score(y_test,pred)-score4.mean())"
   ]
  },
  {
   "cell_type": "code",
   "execution_count": 88,
   "id": "2d401753",
   "metadata": {},
   "outputs": [
    {
     "data": {
      "text/plain": [
       "ExtraTreesClassifier()"
      ]
     },
     "execution_count": 88,
     "metadata": {},
     "output_type": "execute_result"
    }
   ],
   "source": [
    "#Model initiation for ExtraTreesClassifier\n",
    "name5=ExtraTreesClassifier()\n",
    "name5.fit(x_train,y_train)"
   ]
  },
  {
   "cell_type": "code",
   "execution_count": 89,
   "id": "e82c3a2e",
   "metadata": {},
   "outputs": [
    {
     "name": "stdout",
     "output_type": "stream",
     "text": [
      "Training result\n",
      "Accuracy score:100.00%\n",
      "\n",
      "----Test Result----\n",
      "Accuracy score:89.57%\n",
      "confusion_matrix:\n",
      "\n",
      " [[91 16]\n",
      " [ 6 98]]\n",
      "\n",
      " Test classification report:\n",
      "\n",
      "               precision    recall  f1-score   support\n",
      "\n",
      "           0       0.94      0.85      0.89       107\n",
      "           1       0.86      0.94      0.90       104\n",
      "\n",
      "    accuracy                           0.90       211\n",
      "   macro avg       0.90      0.90      0.90       211\n",
      "weighted avg       0.90      0.90      0.90       211\n",
      "\n"
     ]
    }
   ],
   "source": [
    "m_score(name5,x_train,x_test,y_train,y_test,train=True)\n",
    "m_score(name5,x_train,x_test,y_train,y_test,train=False)"
   ]
  },
  {
   "cell_type": "markdown",
   "id": "c18df776",
   "metadata": {},
   "source": [
    "The accuracy using ExtraTreesClassifier is 89.57%=90%"
   ]
  },
  {
   "cell_type": "code",
   "execution_count": 90,
   "id": "2aefaad9",
   "metadata": {},
   "outputs": [
    {
     "name": "stdout",
     "output_type": "stream",
     "text": [
      "[0.69822485 0.82840237 0.8816568  0.90532544 0.7202381 ]\n",
      "0.8067695125387433\n",
      "Difference between Accuracy score and cross validation score is: 0.17901247798258368\n"
     ]
    }
   ],
   "source": [
    "#checking cv score for ExtraTreesClassifier\n",
    "score5=cross_val_score(name5,x1,y1)\n",
    "print(score5)\n",
    "print(score5.mean())\n",
    "print(\"Difference between Accuracy score and cross validation score is:\",accuracy_score(y_test,pred)-score5.mean())"
   ]
  },
  {
   "cell_type": "code",
   "execution_count": 91,
   "id": "2df234c4",
   "metadata": {},
   "outputs": [
    {
     "data": {
      "text/plain": [
       "BaggingClassifier()"
      ]
     },
     "execution_count": 91,
     "metadata": {},
     "output_type": "execute_result"
    }
   ],
   "source": [
    "#Model initiation for BaggingClassifier\n",
    "name6=BaggingClassifier()\n",
    "name6.fit(x_train,y_train)"
   ]
  },
  {
   "cell_type": "code",
   "execution_count": 92,
   "id": "8e99e6c7",
   "metadata": {},
   "outputs": [
    {
     "name": "stdout",
     "output_type": "stream",
     "text": [
      "Training result\n",
      "Accuracy score:98.89%\n",
      "\n",
      "----Test Result----\n",
      "Accuracy score:81.04%\n",
      "confusion_matrix:\n",
      "\n",
      " [[92 15]\n",
      " [25 79]]\n",
      "\n",
      " Test classification report:\n",
      "\n",
      "               precision    recall  f1-score   support\n",
      "\n",
      "           0       0.79      0.86      0.82       107\n",
      "           1       0.84      0.76      0.80       104\n",
      "\n",
      "    accuracy                           0.81       211\n",
      "   macro avg       0.81      0.81      0.81       211\n",
      "weighted avg       0.81      0.81      0.81       211\n",
      "\n"
     ]
    }
   ],
   "source": [
    "m_score(name6,x_train,x_test,y_train,y_test,train=True)\n",
    "m_score(name6,x_train,x_test,y_train,y_test,train=False)"
   ]
  },
  {
   "cell_type": "markdown",
   "id": "74ba677f",
   "metadata": {},
   "source": [
    "The accuracy using Bagging classifier is 81.04%"
   ]
  },
  {
   "cell_type": "code",
   "execution_count": 93,
   "id": "38529d03",
   "metadata": {},
   "outputs": [
    {
     "name": "stdout",
     "output_type": "stream",
     "text": [
      "[0.40828402 0.44970414 0.53254438 0.66863905 0.5       ]\n",
      "0.5118343195266272\n",
      "Difference between Accuracy score and cross validation score is: 0.4739476709946998\n"
     ]
    }
   ],
   "source": [
    "#checking cv score for BaggingClassifier\n",
    "score6=cross_val_score(name6,x1,y1)\n",
    "print(score6)\n",
    "print(score6.mean())\n",
    "print(\"Difference between Accuracy score and cross validation score is:\",accuracy_score(y_test,pred)-score6.mean())"
   ]
  },
  {
   "cell_type": "markdown",
   "id": "daeee8dd",
   "metadata": {},
   "source": [
    "ExtraTreesClassifier is our best model,as the difference between accuracy score and cv score is least.\n",
    "\n",
    "ExtraTreesClassifier is our best model and we will do Hyper parameter tuning for this model.\n",
    "\n",
    "Hyper Parameter Tuning:"
   ]
  },
  {
   "cell_type": "code",
   "execution_count": 94,
   "id": "5206dcde",
   "metadata": {},
   "outputs": [],
   "source": [
    "#for ExtraTreesClassifier\n",
    "from sklearn.model_selection import GridSearchCV"
   ]
  },
  {
   "cell_type": "code",
   "execution_count": 95,
   "id": "93fa9943",
   "metadata": {},
   "outputs": [],
   "source": [
    "parameters={'criterion':['gini','entropy'],\n",
    "             'random_state':[10,15],\n",
    "             'max_depth':range(5,10),\n",
    "             'n_jobs':range(-2,1),\n",
    "             'n_estimators':range(50,100)}"
   ]
  },
  {
   "cell_type": "code",
   "execution_count": 96,
   "id": "a0555903",
   "metadata": {},
   "outputs": [],
   "source": [
    "GCV=GridSearchCV(ExtraTreesClassifier(),parameters,cv=5)"
   ]
  },
  {
   "cell_type": "code",
   "execution_count": 97,
   "id": "c99c71d4",
   "metadata": {},
   "outputs": [
    {
     "data": {
      "text/plain": [
       "GridSearchCV(cv=5, estimator=ExtraTreesClassifier(),\n",
       "             param_grid={'criterion': ['gini', 'entropy'],\n",
       "                         'max_depth': range(5, 10),\n",
       "                         'n_estimators': range(50, 100), 'n_jobs': range(-2, 1),\n",
       "                         'random_state': [10, 15]})"
      ]
     },
     "execution_count": 97,
     "metadata": {},
     "output_type": "execute_result"
    }
   ],
   "source": [
    "GCV.fit(x_train,y_train)"
   ]
  },
  {
   "cell_type": "code",
   "execution_count": 98,
   "id": "05e571fa",
   "metadata": {},
   "outputs": [
    {
     "data": {
      "text/plain": [
       "{'criterion': 'gini',\n",
       " 'max_depth': 9,\n",
       " 'n_estimators': 97,\n",
       " 'n_jobs': -2,\n",
       " 'random_state': 10}"
      ]
     },
     "execution_count": 98,
     "metadata": {},
     "output_type": "execute_result"
    }
   ],
   "source": [
    "GCV.best_params_"
   ]
  },
  {
   "cell_type": "code",
   "execution_count": 99,
   "id": "762ec5bf",
   "metadata": {},
   "outputs": [
    {
     "data": {
      "text/plain": [
       "ExtraTreesClassifier(max_depth=9, n_estimators=97, n_jobs=-2, random_state=10)"
      ]
     },
     "execution_count": 99,
     "metadata": {},
     "output_type": "execute_result"
    }
   ],
   "source": [
    "Final_model=ExtraTreesClassifier(criterion='gini',max_depth=9,n_estimators=97,n_jobs=-2,random_state=10)\n",
    "Final_model.fit(x_train,y_train)"
   ]
  },
  {
   "cell_type": "code",
   "execution_count": 100,
   "id": "8bae26a6",
   "metadata": {},
   "outputs": [
    {
     "data": {
      "text/plain": [
       "205    1\n",
       "629    0\n",
       "831    0\n",
       "682    0\n",
       "454    1\n",
       "      ..\n",
       "321    1\n",
       "543    1\n",
       "289    1\n",
       "733    0\n",
       "625    0\n",
       "Name: Loan_Status, Length: 211, dtype: int32"
      ]
     },
     "execution_count": 100,
     "metadata": {},
     "output_type": "execute_result"
    }
   ],
   "source": [
    "y_test"
   ]
  },
  {
   "cell_type": "code",
   "execution_count": 101,
   "id": "d23c58fb",
   "metadata": {},
   "outputs": [
    {
     "data": {
      "text/plain": [
       "array([1, 0, 1, 0, 1, 1, 0, 1, 0, 1, 1, 1, 1, 0, 1, 0, 1, 0, 1, 0, 1, 0,\n",
       "       1, 1, 1, 0, 1, 1, 0, 0, 1, 1, 1, 1, 0, 1, 0, 0, 1, 1, 0, 1, 0, 1,\n",
       "       1, 0, 0, 1, 0, 1, 0, 1, 0, 0, 1, 0, 0, 1, 1, 1, 1, 1, 0, 0, 1, 0,\n",
       "       1, 0, 0, 0, 0, 1, 0, 1, 1, 1, 1, 0, 0, 1, 0, 0, 1, 1, 1, 1, 0, 0,\n",
       "       1, 1, 1, 1, 1, 0, 1, 0, 0, 1, 1, 0, 0, 1, 1, 1, 1, 1, 0, 0, 1, 0,\n",
       "       1, 1, 1, 1, 0, 0, 1, 1, 1, 1, 0, 0, 1, 1, 1, 1, 0, 1, 1, 1, 1, 0,\n",
       "       1, 1, 1, 0, 0, 1, 1, 1, 1, 0, 1, 0, 1, 0, 1, 1, 1, 1, 0, 1, 1, 1,\n",
       "       0, 1, 0, 0, 1, 1, 0, 1, 0, 1, 1, 1, 1, 0, 0, 1, 0, 0, 0, 1, 1, 0,\n",
       "       1, 1, 1, 0, 1, 1, 0, 0, 1, 1, 1, 0, 1, 1, 1, 0, 1, 1, 0, 1, 0, 1,\n",
       "       1, 0, 0, 0, 1, 1, 0, 1, 1, 1, 0, 0, 1])"
      ]
     },
     "execution_count": 101,
     "metadata": {},
     "output_type": "execute_result"
    }
   ],
   "source": [
    "from sklearn.metrics import roc_auc_score,auc\n",
    "from sklearn.metrics import roc_curve\n",
    "y_pred=Final_model.predict(x_test)\n",
    "y_pred"
   ]
  },
  {
   "cell_type": "code",
   "execution_count": 102,
   "id": "479e1f51",
   "metadata": {},
   "outputs": [
    {
     "name": "stdout",
     "output_type": "stream",
     "text": [
      "accuracy 79.14691943127961 %\n"
     ]
    }
   ],
   "source": [
    "accuracy=accuracy_score(y_test,y_pred)*100\n",
    "print(\"accuracy\",accuracy,\"%\")"
   ]
  },
  {
   "cell_type": "code",
   "execution_count": 103,
   "id": "b6bbbcaa",
   "metadata": {},
   "outputs": [
    {
     "data": {
      "text/plain": [
       "array([[73, 34],\n",
       "       [10, 94]], dtype=int64)"
      ]
     },
     "execution_count": 103,
     "metadata": {},
     "output_type": "execute_result"
    }
   ],
   "source": [
    "confusion_matrix=confusion_matrix(y_test,y_pred)\n",
    "confusion_matrix"
   ]
  },
  {
   "cell_type": "code",
   "execution_count": 104,
   "id": "ca9caa68",
   "metadata": {},
   "outputs": [
    {
     "name": "stdout",
     "output_type": "stream",
     "text": [
      "              precision    recall  f1-score   support\n",
      "\n",
      "           0       0.88      0.68      0.77       107\n",
      "           1       0.73      0.90      0.81       104\n",
      "\n",
      "    accuracy                           0.79       211\n",
      "   macro avg       0.81      0.79      0.79       211\n",
      "weighted avg       0.81      0.79      0.79       211\n",
      "\n"
     ]
    }
   ],
   "source": [
    "from sklearn.metrics import classification_report\n",
    "print(classification_report(y_test,y_pred))"
   ]
  },
  {
   "cell_type": "code",
   "execution_count": 105,
   "id": "01331f26",
   "metadata": {},
   "outputs": [
    {
     "name": "stdout",
     "output_type": "stream",
     "text": [
      "Threshold= [2 1 0]\n",
      "True positive rate= [0.         0.90384615 1.        ]\n",
      "False positive Rate= [0.         0.31775701 1.        ]\n"
     ]
    },
    {
     "data": {
      "image/png": "[encoded data removed]",
      "text/plain": [
       "<Figure size 432x288 with 1 Axes>"
      ]
     },
     "metadata": {
      "needs_background": "light"
     },
     "output_type": "display_data"
    }
   ],
   "source": [
    "#roc_curve\n",
    "fpr,tpr,thresholds=roc_curve(y_test,y_pred)\n",
    "print('Threshold=',thresholds)\n",
    "print('True positive rate=',tpr)\n",
    "print('False positive Rate=',fpr)\n",
    "plt.plot(fpr,tpr,color='orange',label=\"ROC\")\n",
    "plt.plot([0,1],[0,1],color='darkblue',linestyle='dotted')\n",
    "plt.xlabel(\"False positive Rate\")\n",
    "plt.ylabel(\"True positive Rate\")\n",
    "plt.title(\"Receiver operating characteristic\")\n",
    "plt.legend(loc=\"lower right\")\n",
    "plt.show()"
   ]
  },
  {
   "cell_type": "code",
   "execution_count": 106,
   "id": "ec8681f3",
   "metadata": {},
   "outputs": [
    {
     "name": "stdout",
     "output_type": "stream",
     "text": [
      "AUC_score: \n",
      " 79.30445722501797 %\n"
     ]
    }
   ],
   "source": [
    "auc_score=roc_auc_score(y_test,Final_model.predict(x_test))\n",
    "print(\"AUC_score:\",'\\n',auc_score*100,\"%\")"
   ]
  },
  {
   "cell_type": "markdown",
   "id": "1bb35b00",
   "metadata": {},
   "source": [
    "Here we plotted the ROC curve for the final model.The accuracy or AUC_score for the best model is 79.30%"
   ]
  },
  {
   "cell_type": "code",
   "execution_count": 107,
   "id": "2f109ed9",
   "metadata": {},
   "outputs": [
    {
     "data": {
      "text/plain": [
       "['Loan_Application_Status_Project.pkl']"
      ]
     },
     "execution_count": 107,
     "metadata": {},
     "output_type": "execute_result"
    }
   ],
   "source": [
    "#saving the model\n",
    "import joblib\n",
    "joblib.dump(Final_model,\"Loan_Application_Status_Project.pkl\")\n"
   ]
  },
  {
   "cell_type": "code",
   "execution_count": 108,
   "id": "5af5651f",
   "metadata": {},
   "outputs": [
    {
     "data": {
      "text/plain": [
       "array([1, 0, 1, 0, 1, 1, 0, 1, 0, 1, 1, 1, 1, 0, 1, 0, 1, 0, 1, 0, 1, 0,\n",
       "       1, 1, 1, 0, 1, 1, 0, 0, 1, 1, 1, 1, 0, 1, 0, 0, 1, 1, 0, 1, 0, 1,\n",
       "       1, 0, 0, 1, 0, 1, 0, 1, 0, 0, 1, 0, 0, 1, 1, 1, 1, 1, 0, 0, 1, 0,\n",
       "       1, 0, 0, 0, 0, 1, 0, 1, 1, 1, 1, 0, 0, 1, 0, 0, 1, 1, 1, 1, 0, 0,\n",
       "       1, 1, 1, 1, 1, 0, 1, 0, 0, 1, 1, 0, 0, 1, 1, 1, 1, 1, 0, 0, 1, 0,\n",
       "       1, 1, 1, 1, 0, 0, 1, 1, 1, 1, 0, 0, 1, 1, 1, 1, 0, 1, 1, 1, 1, 0,\n",
       "       1, 1, 1, 0, 0, 1, 1, 1, 1, 0, 1, 0, 1, 0, 1, 1, 1, 1, 0, 1, 1, 1,\n",
       "       0, 1, 0, 0, 1, 1, 0, 1, 0, 1, 1, 1, 1, 0, 0, 1, 0, 0, 0, 1, 1, 0,\n",
       "       1, 1, 1, 0, 1, 1, 0, 0, 1, 1, 1, 0, 1, 1, 1, 0, 1, 1, 0, 1, 0, 1,\n",
       "       1, 0, 0, 0, 1, 1, 0, 1, 1, 1, 0, 0, 1])"
      ]
     },
     "execution_count": 108,
     "metadata": {},
     "output_type": "execute_result"
    }
   ],
   "source": [
    "#predicting the saved model\n",
    "model=joblib.load(\"Loan_Application_Status_Project.pkl\")\n",
    "#prediction\n",
    "prediction=model.predict(x_test)\n",
    "prediction"
   ]
  },
  {
   "cell_type": "code",
   "execution_count": 109,
   "id": "b176b3e9",
   "metadata": {},
   "outputs": [
    {
     "data": {
      "text/html": [
       "<div>\n",
       "<style scoped>\n",
       "    .dataframe tbody tr th:only-of-type {\n",
       "        vertical-align: middle;\n",
       "    }\n",
       "\n",
       "    .dataframe tbody tr th {\n",
       "        vertical-align: top;\n",
       "    }\n",
       "\n",
       "    .dataframe thead th {\n",
       "        text-align: right;\n",
       "    }\n",
       "</style>\n",
       "<table border=\"1\" class=\"dataframe\">\n",
       "  <thead>\n",
       "    <tr style=\"text-align: right;\">\n",
       "      <th></th>\n",
       "      <th>predicted</th>\n",
       "      <th>original</th>\n",
       "    </tr>\n",
       "  </thead>\n",
       "  <tbody>\n",
       "    <tr>\n",
       "      <th>0</th>\n",
       "      <td>1</td>\n",
       "      <td>1</td>\n",
       "    </tr>\n",
       "    <tr>\n",
       "      <th>1</th>\n",
       "      <td>0</td>\n",
       "      <td>0</td>\n",
       "    </tr>\n",
       "    <tr>\n",
       "      <th>2</th>\n",
       "      <td>1</td>\n",
       "      <td>0</td>\n",
       "    </tr>\n",
       "    <tr>\n",
       "      <th>3</th>\n",
       "      <td>0</td>\n",
       "      <td>0</td>\n",
       "    </tr>\n",
       "    <tr>\n",
       "      <th>4</th>\n",
       "      <td>1</td>\n",
       "      <td>1</td>\n",
       "    </tr>\n",
       "    <tr>\n",
       "      <th>...</th>\n",
       "      <td>...</td>\n",
       "      <td>...</td>\n",
       "    </tr>\n",
       "    <tr>\n",
       "      <th>206</th>\n",
       "      <td>1</td>\n",
       "      <td>1</td>\n",
       "    </tr>\n",
       "    <tr>\n",
       "      <th>207</th>\n",
       "      <td>1</td>\n",
       "      <td>1</td>\n",
       "    </tr>\n",
       "    <tr>\n",
       "      <th>208</th>\n",
       "      <td>0</td>\n",
       "      <td>1</td>\n",
       "    </tr>\n",
       "    <tr>\n",
       "      <th>209</th>\n",
       "      <td>0</td>\n",
       "      <td>0</td>\n",
       "    </tr>\n",
       "    <tr>\n",
       "      <th>210</th>\n",
       "      <td>1</td>\n",
       "      <td>0</td>\n",
       "    </tr>\n",
       "  </tbody>\n",
       "</table>\n",
       "<p>211 rows × 2 columns</p>\n",
       "</div>"
      ],
      "text/plain": [
       "     predicted  original\n",
       "0            1         1\n",
       "1            0         0\n",
       "2            1         0\n",
       "3            0         0\n",
       "4            1         1\n",
       "..         ...       ...\n",
       "206          1         1\n",
       "207          1         1\n",
       "208          0         1\n",
       "209          0         0\n",
       "210          1         0\n",
       "\n",
       "[211 rows x 2 columns]"
      ]
     },
     "execution_count": 109,
     "metadata": {},
     "output_type": "execute_result"
    }
   ],
   "source": [
    "g=np.array(y_test)\n",
    "df2=pd.DataFrame()\n",
    "df2['predicted']=prediction\n",
    "df2[\"original\"]=g\n",
    "df2    "
   ]
  },
  {
   "cell_type": "code",
   "execution_count": 110,
   "id": "92f3a690",
   "metadata": {},
   "outputs": [
    {
     "name": "stdout",
     "output_type": "stream",
     "text": [
      "Threshold= [2 1 0]\n",
      "True positive rate= [0.         0.90384615 1.        ]\n",
      "False positive Rate= [0.         0.31775701 1.        ]\n"
     ]
    },
    {
     "data": {
      "image/png": "[encoded data removed]",
      "text/plain": [
       "<Figure size 432x288 with 1 Axes>"
      ]
     },
     "metadata": {
      "needs_background": "light"
     },
     "output_type": "display_data"
    }
   ],
   "source": [
    "#roc_curve\n",
    "fpr,tpr,thresholds=roc_curve(y_test,y_pred)\n",
    "print('Threshold=',thresholds)\n",
    "print('True positive rate=',tpr)\n",
    "print('False positive Rate=',fpr)\n",
    "plt.plot(fpr,tpr,color='orange',label=\"ROC\")\n",
    "plt.plot([0,1],[0,1],color='darkblue',linestyle='dotted')\n",
    "plt.xlabel(\"False positive Rate\")\n",
    "plt.ylabel(\"True positive Rate\")\n",
    "plt.title(\"Receiver operating characteristic\")\n",
    "plt.legend(loc=\"lower right\")\n",
    "plt.show()"
   ]
  },
  {
   "cell_type": "code",
   "execution_count": 111,
   "id": "6f929305",
   "metadata": {},
   "outputs": [
    {
     "name": "stdout",
     "output_type": "stream",
     "text": [
      "AUC_score: \n",
      " 79.30445722501797 %\n"
     ]
    }
   ],
   "source": [
    "auc_score=roc_auc_score(y_test,Final_model.predict(x_test))\n",
    "print(\"AUC_score:\",'\\n',auc_score*100,\"%\")"
   ]
  },
  {
   "cell_type": "markdown",
   "id": "79079960",
   "metadata": {},
   "source": [
    "we have plotted the ROC curve for the final model and the AUC score for the best model is 79.30%"
   ]
  },
  {
   "cell_type": "code",
   "execution_count": null,
   "id": "f335689c",
   "metadata": {},
   "outputs": [],
   "source": []
  }
 ],
 "metadata": {
  "kernelspec": {
   "display_name": "Python 3 (ipykernel)",
   "language": "python",
   "name": "python3"
  },
  "language_info": {
   "codemirror_mode": {
    "name": "ipython",
    "version": 3
   },
   "file_extension": ".py",
   "mimetype": "text/x-python",
   "name": "python",
   "nbconvert_exporter": "python",
   "pygments_lexer": "ipython3",
   "version": "3.9.12"
  }
 },
 "nbformat": 4,
 "nbformat_minor": 5
}
