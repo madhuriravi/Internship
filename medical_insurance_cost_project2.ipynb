{
 "cells": [
  {
   "cell_type": "code",
   "execution_count": 1,
   "id": "710ec531",
   "metadata": {},
   "outputs": [],
   "source": [
    "import pandas as pd\n",
    "import numpy as np\n",
    "import seaborn as sns\n",
    "import matplotlib.pyplot as plt\n",
    "import warnings\n",
    "warnings.filterwarnings('ignore')"
   ]
  },
  {
   "cell_type": "markdown",
   "id": "5e753484",
   "metadata": {},
   "source": [
    "Health insurance is a type of insurance that covers medical expenses that arise due to an illness. These expenses could be related to hospitalisation costs, cost of medicines or doctor consultation fees. The main purpose of medical insurance is to receive the best medical care without any strain on your finances. Health insurance plans offer protection against high medical costs. It covers hospitalization expenses, day care procedures, domiciliary expenses, and ambulance charges, besides many others. Based on certain input features such as age , bmi,,no of dependents ,smoker ,region  medical insurance is calculated."
   ]
  },
  {
   "cell_type": "markdown",
   "id": "483742ae",
   "metadata": {},
   "source": [
    "columns:"
   ]
  },
  {
   "cell_type": "markdown",
   "id": "e9bb86ed",
   "metadata": {},
   "source": [
    " age: age of primary beneficiary"
   ]
  },
  {
   "cell_type": "markdown",
   "id": "2c33a6c9",
   "metadata": {},
   "source": [
    " sex: insurance contractor gender, female, male."
   ]
  },
  {
   "cell_type": "markdown",
   "id": "bbd50bf5",
   "metadata": {},
   "source": [
    " bmi: Body mass index, providing an understanding of body, weights that are relatively high or low relative to height, objective index of body weight (kg / m ^ 2) using the ratio of height to weight, ideally 18.5 to 24.9. "
   ]
  },
  {
   "cell_type": "markdown",
   "id": "1f7fe116",
   "metadata": {},
   "source": [
    " children: Number of children covered by health insurance / Number of dependents "
   ]
  },
  {
   "cell_type": "markdown",
   "id": "fea9204b",
   "metadata": {},
   "source": [
    " smoker: Smoking"
   ]
  },
  {
   "cell_type": "markdown",
   "id": "c3a9653e",
   "metadata": {},
   "source": [
    " region: the beneficiary's residential area in the US, northeast, southeast, southwest, northwest. "
   ]
  },
  {
   "cell_type": "markdown",
   "id": "a4b28e33",
   "metadata": {},
   "source": [
    " charges: Individual medical costs billed by health insurance"
   ]
  },
  {
   "cell_type": "code",
   "execution_count": 2,
   "id": "a333e5e2",
   "metadata": {},
   "outputs": [
    {
     "data": {
      "text/html": [
       "<div>\n",
       "<style scoped>\n",
       "    .dataframe tbody tr th:only-of-type {\n",
       "        vertical-align: middle;\n",
       "    }\n",
       "\n",
       "    .dataframe tbody tr th {\n",
       "        vertical-align: top;\n",
       "    }\n",
       "\n",
       "    .dataframe thead th {\n",
       "        text-align: right;\n",
       "    }\n",
       "</style>\n",
       "<table border=\"1\" class=\"dataframe\">\n",
       "  <thead>\n",
       "    <tr style=\"text-align: right;\">\n",
       "      <th></th>\n",
       "      <th>age</th>\n",
       "      <th>sex</th>\n",
       "      <th>bmi</th>\n",
       "      <th>children</th>\n",
       "      <th>smoker</th>\n",
       "      <th>region</th>\n",
       "      <th>charges</th>\n",
       "    </tr>\n",
       "  </thead>\n",
       "  <tbody>\n",
       "    <tr>\n",
       "      <th>0</th>\n",
       "      <td>19</td>\n",
       "      <td>female</td>\n",
       "      <td>27.900</td>\n",
       "      <td>0</td>\n",
       "      <td>yes</td>\n",
       "      <td>southwest</td>\n",
       "      <td>16884.92400</td>\n",
       "    </tr>\n",
       "    <tr>\n",
       "      <th>1</th>\n",
       "      <td>18</td>\n",
       "      <td>male</td>\n",
       "      <td>33.770</td>\n",
       "      <td>1</td>\n",
       "      <td>no</td>\n",
       "      <td>southeast</td>\n",
       "      <td>1725.55230</td>\n",
       "    </tr>\n",
       "    <tr>\n",
       "      <th>2</th>\n",
       "      <td>28</td>\n",
       "      <td>male</td>\n",
       "      <td>33.000</td>\n",
       "      <td>3</td>\n",
       "      <td>no</td>\n",
       "      <td>southeast</td>\n",
       "      <td>4449.46200</td>\n",
       "    </tr>\n",
       "    <tr>\n",
       "      <th>3</th>\n",
       "      <td>33</td>\n",
       "      <td>male</td>\n",
       "      <td>22.705</td>\n",
       "      <td>0</td>\n",
       "      <td>no</td>\n",
       "      <td>northwest</td>\n",
       "      <td>21984.47061</td>\n",
       "    </tr>\n",
       "    <tr>\n",
       "      <th>4</th>\n",
       "      <td>32</td>\n",
       "      <td>male</td>\n",
       "      <td>28.880</td>\n",
       "      <td>0</td>\n",
       "      <td>no</td>\n",
       "      <td>northwest</td>\n",
       "      <td>3866.85520</td>\n",
       "    </tr>\n",
       "    <tr>\n",
       "      <th>...</th>\n",
       "      <td>...</td>\n",
       "      <td>...</td>\n",
       "      <td>...</td>\n",
       "      <td>...</td>\n",
       "      <td>...</td>\n",
       "      <td>...</td>\n",
       "      <td>...</td>\n",
       "    </tr>\n",
       "    <tr>\n",
       "      <th>1333</th>\n",
       "      <td>50</td>\n",
       "      <td>male</td>\n",
       "      <td>30.970</td>\n",
       "      <td>3</td>\n",
       "      <td>no</td>\n",
       "      <td>northwest</td>\n",
       "      <td>10600.54830</td>\n",
       "    </tr>\n",
       "    <tr>\n",
       "      <th>1334</th>\n",
       "      <td>18</td>\n",
       "      <td>female</td>\n",
       "      <td>31.920</td>\n",
       "      <td>0</td>\n",
       "      <td>no</td>\n",
       "      <td>northeast</td>\n",
       "      <td>2205.98080</td>\n",
       "    </tr>\n",
       "    <tr>\n",
       "      <th>1335</th>\n",
       "      <td>18</td>\n",
       "      <td>female</td>\n",
       "      <td>36.850</td>\n",
       "      <td>0</td>\n",
       "      <td>no</td>\n",
       "      <td>southeast</td>\n",
       "      <td>1629.83350</td>\n",
       "    </tr>\n",
       "    <tr>\n",
       "      <th>1336</th>\n",
       "      <td>21</td>\n",
       "      <td>female</td>\n",
       "      <td>25.800</td>\n",
       "      <td>0</td>\n",
       "      <td>no</td>\n",
       "      <td>southwest</td>\n",
       "      <td>2007.94500</td>\n",
       "    </tr>\n",
       "    <tr>\n",
       "      <th>1337</th>\n",
       "      <td>61</td>\n",
       "      <td>female</td>\n",
       "      <td>29.070</td>\n",
       "      <td>0</td>\n",
       "      <td>yes</td>\n",
       "      <td>northwest</td>\n",
       "      <td>29141.36030</td>\n",
       "    </tr>\n",
       "  </tbody>\n",
       "</table>\n",
       "<p>1338 rows × 7 columns</p>\n",
       "</div>"
      ],
      "text/plain": [
       "      age     sex     bmi  children smoker     region      charges\n",
       "0      19  female  27.900         0    yes  southwest  16884.92400\n",
       "1      18    male  33.770         1     no  southeast   1725.55230\n",
       "2      28    male  33.000         3     no  southeast   4449.46200\n",
       "3      33    male  22.705         0     no  northwest  21984.47061\n",
       "4      32    male  28.880         0     no  northwest   3866.85520\n",
       "...   ...     ...     ...       ...    ...        ...          ...\n",
       "1333   50    male  30.970         3     no  northwest  10600.54830\n",
       "1334   18  female  31.920         0     no  northeast   2205.98080\n",
       "1335   18  female  36.850         0     no  southeast   1629.83350\n",
       "1336   21  female  25.800         0     no  southwest   2007.94500\n",
       "1337   61  female  29.070         0    yes  northwest  29141.36030\n",
       "\n",
       "[1338 rows x 7 columns]"
      ]
     },
     "execution_count": 2,
     "metadata": {},
     "output_type": "execute_result"
    }
   ],
   "source": [
    "df=pd.read_csv(\"https://raw.githubusercontent.com/dsrscientist/dataset4/main/medical_cost_insurance.csv\")\n",
    "df"
   ]
  },
  {
   "cell_type": "code",
   "execution_count": 4,
   "id": "5cb4faab",
   "metadata": {},
   "outputs": [
    {
     "data": {
      "text/html": [
       "<div>\n",
       "<style scoped>\n",
       "    .dataframe tbody tr th:only-of-type {\n",
       "        vertical-align: middle;\n",
       "    }\n",
       "\n",
       "    .dataframe tbody tr th {\n",
       "        vertical-align: top;\n",
       "    }\n",
       "\n",
       "    .dataframe thead th {\n",
       "        text-align: right;\n",
       "    }\n",
       "</style>\n",
       "<table border=\"1\" class=\"dataframe\">\n",
       "  <thead>\n",
       "    <tr style=\"text-align: right;\">\n",
       "      <th></th>\n",
       "      <th>age</th>\n",
       "      <th>sex</th>\n",
       "      <th>bmi</th>\n",
       "      <th>children</th>\n",
       "      <th>smoker</th>\n",
       "      <th>region</th>\n",
       "      <th>charges</th>\n",
       "    </tr>\n",
       "  </thead>\n",
       "  <tbody>\n",
       "    <tr>\n",
       "      <th>0</th>\n",
       "      <td>19</td>\n",
       "      <td>female</td>\n",
       "      <td>27.900</td>\n",
       "      <td>0</td>\n",
       "      <td>yes</td>\n",
       "      <td>southwest</td>\n",
       "      <td>16884.92400</td>\n",
       "    </tr>\n",
       "    <tr>\n",
       "      <th>1</th>\n",
       "      <td>18</td>\n",
       "      <td>male</td>\n",
       "      <td>33.770</td>\n",
       "      <td>1</td>\n",
       "      <td>no</td>\n",
       "      <td>southeast</td>\n",
       "      <td>1725.55230</td>\n",
       "    </tr>\n",
       "    <tr>\n",
       "      <th>2</th>\n",
       "      <td>28</td>\n",
       "      <td>male</td>\n",
       "      <td>33.000</td>\n",
       "      <td>3</td>\n",
       "      <td>no</td>\n",
       "      <td>southeast</td>\n",
       "      <td>4449.46200</td>\n",
       "    </tr>\n",
       "    <tr>\n",
       "      <th>3</th>\n",
       "      <td>33</td>\n",
       "      <td>male</td>\n",
       "      <td>22.705</td>\n",
       "      <td>0</td>\n",
       "      <td>no</td>\n",
       "      <td>northwest</td>\n",
       "      <td>21984.47061</td>\n",
       "    </tr>\n",
       "    <tr>\n",
       "      <th>4</th>\n",
       "      <td>32</td>\n",
       "      <td>male</td>\n",
       "      <td>28.880</td>\n",
       "      <td>0</td>\n",
       "      <td>no</td>\n",
       "      <td>northwest</td>\n",
       "      <td>3866.85520</td>\n",
       "    </tr>\n",
       "  </tbody>\n",
       "</table>\n",
       "</div>"
      ],
      "text/plain": [
       "   age     sex     bmi  children smoker     region      charges\n",
       "0   19  female  27.900         0    yes  southwest  16884.92400\n",
       "1   18    male  33.770         1     no  southeast   1725.55230\n",
       "2   28    male  33.000         3     no  southeast   4449.46200\n",
       "3   33    male  22.705         0     no  northwest  21984.47061\n",
       "4   32    male  28.880         0     no  northwest   3866.85520"
      ]
     },
     "execution_count": 4,
     "metadata": {},
     "output_type": "execute_result"
    }
   ],
   "source": [
    "df.head()"
   ]
  },
  {
   "cell_type": "code",
   "execution_count": 5,
   "id": "c882ead6",
   "metadata": {},
   "outputs": [
    {
     "data": {
      "text/html": [
       "<div>\n",
       "<style scoped>\n",
       "    .dataframe tbody tr th:only-of-type {\n",
       "        vertical-align: middle;\n",
       "    }\n",
       "\n",
       "    .dataframe tbody tr th {\n",
       "        vertical-align: top;\n",
       "    }\n",
       "\n",
       "    .dataframe thead th {\n",
       "        text-align: right;\n",
       "    }\n",
       "</style>\n",
       "<table border=\"1\" class=\"dataframe\">\n",
       "  <thead>\n",
       "    <tr style=\"text-align: right;\">\n",
       "      <th></th>\n",
       "      <th>age</th>\n",
       "      <th>sex</th>\n",
       "      <th>bmi</th>\n",
       "      <th>children</th>\n",
       "      <th>smoker</th>\n",
       "      <th>region</th>\n",
       "      <th>charges</th>\n",
       "    </tr>\n",
       "  </thead>\n",
       "  <tbody>\n",
       "    <tr>\n",
       "      <th>1333</th>\n",
       "      <td>50</td>\n",
       "      <td>male</td>\n",
       "      <td>30.97</td>\n",
       "      <td>3</td>\n",
       "      <td>no</td>\n",
       "      <td>northwest</td>\n",
       "      <td>10600.5483</td>\n",
       "    </tr>\n",
       "    <tr>\n",
       "      <th>1334</th>\n",
       "      <td>18</td>\n",
       "      <td>female</td>\n",
       "      <td>31.92</td>\n",
       "      <td>0</td>\n",
       "      <td>no</td>\n",
       "      <td>northeast</td>\n",
       "      <td>2205.9808</td>\n",
       "    </tr>\n",
       "    <tr>\n",
       "      <th>1335</th>\n",
       "      <td>18</td>\n",
       "      <td>female</td>\n",
       "      <td>36.85</td>\n",
       "      <td>0</td>\n",
       "      <td>no</td>\n",
       "      <td>southeast</td>\n",
       "      <td>1629.8335</td>\n",
       "    </tr>\n",
       "    <tr>\n",
       "      <th>1336</th>\n",
       "      <td>21</td>\n",
       "      <td>female</td>\n",
       "      <td>25.80</td>\n",
       "      <td>0</td>\n",
       "      <td>no</td>\n",
       "      <td>southwest</td>\n",
       "      <td>2007.9450</td>\n",
       "    </tr>\n",
       "    <tr>\n",
       "      <th>1337</th>\n",
       "      <td>61</td>\n",
       "      <td>female</td>\n",
       "      <td>29.07</td>\n",
       "      <td>0</td>\n",
       "      <td>yes</td>\n",
       "      <td>northwest</td>\n",
       "      <td>29141.3603</td>\n",
       "    </tr>\n",
       "  </tbody>\n",
       "</table>\n",
       "</div>"
      ],
      "text/plain": [
       "      age     sex    bmi  children smoker     region     charges\n",
       "1333   50    male  30.97         3     no  northwest  10600.5483\n",
       "1334   18  female  31.92         0     no  northeast   2205.9808\n",
       "1335   18  female  36.85         0     no  southeast   1629.8335\n",
       "1336   21  female  25.80         0     no  southwest   2007.9450\n",
       "1337   61  female  29.07         0    yes  northwest  29141.3603"
      ]
     },
     "execution_count": 5,
     "metadata": {},
     "output_type": "execute_result"
    }
   ],
   "source": [
    "df.tail()"
   ]
  },
  {
   "cell_type": "code",
   "execution_count": 3,
   "id": "84d3d394",
   "metadata": {},
   "outputs": [
    {
     "data": {
      "text/plain": [
       "(1338, 7)"
      ]
     },
     "execution_count": 3,
     "metadata": {},
     "output_type": "execute_result"
    }
   ],
   "source": [
    "df.shape"
   ]
  },
  {
   "cell_type": "markdown",
   "id": "8a2159ba",
   "metadata": {},
   "source": [
    "1338 rows and 7 columns are present in the dataset."
   ]
  },
  {
   "cell_type": "code",
   "execution_count": 4,
   "id": "2b2f19b6",
   "metadata": {},
   "outputs": [
    {
     "data": {
      "text/plain": [
       "Index(['age', 'sex', 'bmi', 'children', 'smoker', 'region', 'charges'], dtype='object')"
      ]
     },
     "execution_count": 4,
     "metadata": {},
     "output_type": "execute_result"
    }
   ],
   "source": [
    "df.columns"
   ]
  },
  {
   "cell_type": "markdown",
   "id": "fe8183aa",
   "metadata": {},
   "source": [
    "The columns age,sex,bmi, children,smoker,region,charges are present in the dataset."
   ]
  },
  {
   "cell_type": "code",
   "execution_count": 5,
   "id": "a612a2bf",
   "metadata": {},
   "outputs": [
    {
     "data": {
      "text/plain": [
       "age           int64\n",
       "sex          object\n",
       "bmi         float64\n",
       "children      int64\n",
       "smoker       object\n",
       "region       object\n",
       "charges     float64\n",
       "dtype: object"
      ]
     },
     "execution_count": 5,
     "metadata": {},
     "output_type": "execute_result"
    }
   ],
   "source": [
    "df.dtypes"
   ]
  },
  {
   "cell_type": "markdown",
   "id": "48bffe44",
   "metadata": {},
   "source": [
    "There are three different types of data in the dataset.i.e.,int64,float64 and object data types are present in the dataset. "
   ]
  },
  {
   "cell_type": "code",
   "execution_count": 6,
   "id": "a8f14f68",
   "metadata": {},
   "outputs": [
    {
     "data": {
      "text/plain": [
       "age         0\n",
       "sex         0\n",
       "bmi         0\n",
       "children    0\n",
       "smoker      0\n",
       "region      0\n",
       "charges     0\n",
       "dtype: int64"
      ]
     },
     "execution_count": 6,
     "metadata": {},
     "output_type": "execute_result"
    }
   ],
   "source": [
    "df.isnull().sum()"
   ]
  },
  {
   "cell_type": "markdown",
   "id": "1a0ebdca",
   "metadata": {},
   "source": [
    "There are no null values in the dataset."
   ]
  },
  {
   "cell_type": "code",
   "execution_count": 7,
   "id": "63b83a8b",
   "metadata": {},
   "outputs": [
    {
     "data": {
      "text/plain": [
       "Index(['age', 'sex', 'bmi', 'children', 'smoker', 'region', 'charges'], dtype='object')"
      ]
     },
     "execution_count": 7,
     "metadata": {},
     "output_type": "execute_result"
    }
   ],
   "source": [
    "df.columns"
   ]
  },
  {
   "cell_type": "code",
   "execution_count": 8,
   "id": "f350e8f9",
   "metadata": {},
   "outputs": [
    {
     "name": "stdout",
     "output_type": "stream",
     "text": [
      "18    69\n",
      "19    68\n",
      "50    29\n",
      "51    29\n",
      "47    29\n",
      "46    29\n",
      "45    29\n",
      "20    29\n",
      "48    29\n",
      "52    29\n",
      "22    28\n",
      "49    28\n",
      "54    28\n",
      "53    28\n",
      "21    28\n",
      "26    28\n",
      "24    28\n",
      "25    28\n",
      "28    28\n",
      "27    28\n",
      "23    28\n",
      "43    27\n",
      "29    27\n",
      "30    27\n",
      "41    27\n",
      "42    27\n",
      "44    27\n",
      "31    27\n",
      "40    27\n",
      "32    26\n",
      "33    26\n",
      "56    26\n",
      "34    26\n",
      "55    26\n",
      "57    26\n",
      "37    25\n",
      "59    25\n",
      "58    25\n",
      "36    25\n",
      "38    25\n",
      "35    25\n",
      "39    25\n",
      "61    23\n",
      "60    23\n",
      "63    23\n",
      "62    23\n",
      "64    22\n",
      "Name: age, dtype: int64\n",
      "male      676\n",
      "female    662\n",
      "Name: sex, dtype: int64\n",
      "32.300    13\n",
      "28.310     9\n",
      "30.495     8\n",
      "30.875     8\n",
      "31.350     8\n",
      "          ..\n",
      "46.200     1\n",
      "23.800     1\n",
      "44.770     1\n",
      "32.120     1\n",
      "30.970     1\n",
      "Name: bmi, Length: 548, dtype: int64\n",
      "0    574\n",
      "1    324\n",
      "2    240\n",
      "3    157\n",
      "4     25\n",
      "5     18\n",
      "Name: children, dtype: int64\n",
      "no     1064\n",
      "yes     274\n",
      "Name: smoker, dtype: int64\n",
      "southeast    364\n",
      "southwest    325\n",
      "northwest    325\n",
      "northeast    324\n",
      "Name: region, dtype: int64\n",
      "1639.56310     2\n",
      "16884.92400    1\n",
      "29330.98315    1\n",
      "2221.56445     1\n",
      "19798.05455    1\n",
      "              ..\n",
      "7345.08400     1\n",
      "26109.32905    1\n",
      "28287.89766    1\n",
      "1149.39590     1\n",
      "29141.36030    1\n",
      "Name: charges, Length: 1337, dtype: int64\n"
     ]
    }
   ],
   "source": [
    "for i in df.columns:\n",
    "    print(df[i].value_counts())"
   ]
  },
  {
   "cell_type": "markdown",
   "id": "50ae6352",
   "metadata": {},
   "source": [
    "These are the value counts of all columns."
   ]
  },
  {
   "cell_type": "code",
   "execution_count": 9,
   "id": "ccedf6ff",
   "metadata": {},
   "outputs": [
    {
     "data": {
      "text/plain": [
       "0       False\n",
       "1       False\n",
       "2       False\n",
       "3       False\n",
       "4       False\n",
       "        ...  \n",
       "1333    False\n",
       "1334    False\n",
       "1335    False\n",
       "1336    False\n",
       "1337    False\n",
       "Length: 1338, dtype: bool"
      ]
     },
     "execution_count": 9,
     "metadata": {},
     "output_type": "execute_result"
    }
   ],
   "source": [
    "df.duplicated()"
   ]
  },
  {
   "cell_type": "code",
   "execution_count": 10,
   "id": "393fbcfd",
   "metadata": {},
   "outputs": [
    {
     "data": {
      "text/plain": [
       "1"
      ]
     },
     "execution_count": 10,
     "metadata": {},
     "output_type": "execute_result"
    }
   ],
   "source": [
    "df.duplicated().sum()"
   ]
  },
  {
   "cell_type": "code",
   "execution_count": 11,
   "id": "ce609552",
   "metadata": {},
   "outputs": [
    {
     "data": {
      "text/html": [
       "<div>\n",
       "<style scoped>\n",
       "    .dataframe tbody tr th:only-of-type {\n",
       "        vertical-align: middle;\n",
       "    }\n",
       "\n",
       "    .dataframe tbody tr th {\n",
       "        vertical-align: top;\n",
       "    }\n",
       "\n",
       "    .dataframe thead th {\n",
       "        text-align: right;\n",
       "    }\n",
       "</style>\n",
       "<table border=\"1\" class=\"dataframe\">\n",
       "  <thead>\n",
       "    <tr style=\"text-align: right;\">\n",
       "      <th></th>\n",
       "      <th>age</th>\n",
       "      <th>sex</th>\n",
       "      <th>bmi</th>\n",
       "      <th>children</th>\n",
       "      <th>smoker</th>\n",
       "      <th>region</th>\n",
       "      <th>charges</th>\n",
       "    </tr>\n",
       "  </thead>\n",
       "  <tbody>\n",
       "    <tr>\n",
       "      <th>0</th>\n",
       "      <td>19</td>\n",
       "      <td>female</td>\n",
       "      <td>27.900</td>\n",
       "      <td>0</td>\n",
       "      <td>yes</td>\n",
       "      <td>southwest</td>\n",
       "      <td>16884.92400</td>\n",
       "    </tr>\n",
       "    <tr>\n",
       "      <th>1</th>\n",
       "      <td>18</td>\n",
       "      <td>male</td>\n",
       "      <td>33.770</td>\n",
       "      <td>1</td>\n",
       "      <td>no</td>\n",
       "      <td>southeast</td>\n",
       "      <td>1725.55230</td>\n",
       "    </tr>\n",
       "    <tr>\n",
       "      <th>2</th>\n",
       "      <td>28</td>\n",
       "      <td>male</td>\n",
       "      <td>33.000</td>\n",
       "      <td>3</td>\n",
       "      <td>no</td>\n",
       "      <td>southeast</td>\n",
       "      <td>4449.46200</td>\n",
       "    </tr>\n",
       "    <tr>\n",
       "      <th>3</th>\n",
       "      <td>33</td>\n",
       "      <td>male</td>\n",
       "      <td>22.705</td>\n",
       "      <td>0</td>\n",
       "      <td>no</td>\n",
       "      <td>northwest</td>\n",
       "      <td>21984.47061</td>\n",
       "    </tr>\n",
       "    <tr>\n",
       "      <th>4</th>\n",
       "      <td>32</td>\n",
       "      <td>male</td>\n",
       "      <td>28.880</td>\n",
       "      <td>0</td>\n",
       "      <td>no</td>\n",
       "      <td>northwest</td>\n",
       "      <td>3866.85520</td>\n",
       "    </tr>\n",
       "    <tr>\n",
       "      <th>...</th>\n",
       "      <td>...</td>\n",
       "      <td>...</td>\n",
       "      <td>...</td>\n",
       "      <td>...</td>\n",
       "      <td>...</td>\n",
       "      <td>...</td>\n",
       "      <td>...</td>\n",
       "    </tr>\n",
       "    <tr>\n",
       "      <th>1333</th>\n",
       "      <td>50</td>\n",
       "      <td>male</td>\n",
       "      <td>30.970</td>\n",
       "      <td>3</td>\n",
       "      <td>no</td>\n",
       "      <td>northwest</td>\n",
       "      <td>10600.54830</td>\n",
       "    </tr>\n",
       "    <tr>\n",
       "      <th>1334</th>\n",
       "      <td>18</td>\n",
       "      <td>female</td>\n",
       "      <td>31.920</td>\n",
       "      <td>0</td>\n",
       "      <td>no</td>\n",
       "      <td>northeast</td>\n",
       "      <td>2205.98080</td>\n",
       "    </tr>\n",
       "    <tr>\n",
       "      <th>1335</th>\n",
       "      <td>18</td>\n",
       "      <td>female</td>\n",
       "      <td>36.850</td>\n",
       "      <td>0</td>\n",
       "      <td>no</td>\n",
       "      <td>southeast</td>\n",
       "      <td>1629.83350</td>\n",
       "    </tr>\n",
       "    <tr>\n",
       "      <th>1336</th>\n",
       "      <td>21</td>\n",
       "      <td>female</td>\n",
       "      <td>25.800</td>\n",
       "      <td>0</td>\n",
       "      <td>no</td>\n",
       "      <td>southwest</td>\n",
       "      <td>2007.94500</td>\n",
       "    </tr>\n",
       "    <tr>\n",
       "      <th>1337</th>\n",
       "      <td>61</td>\n",
       "      <td>female</td>\n",
       "      <td>29.070</td>\n",
       "      <td>0</td>\n",
       "      <td>yes</td>\n",
       "      <td>northwest</td>\n",
       "      <td>29141.36030</td>\n",
       "    </tr>\n",
       "  </tbody>\n",
       "</table>\n",
       "<p>1337 rows × 7 columns</p>\n",
       "</div>"
      ],
      "text/plain": [
       "      age     sex     bmi  children smoker     region      charges\n",
       "0      19  female  27.900         0    yes  southwest  16884.92400\n",
       "1      18    male  33.770         1     no  southeast   1725.55230\n",
       "2      28    male  33.000         3     no  southeast   4449.46200\n",
       "3      33    male  22.705         0     no  northwest  21984.47061\n",
       "4      32    male  28.880         0     no  northwest   3866.85520\n",
       "...   ...     ...     ...       ...    ...        ...          ...\n",
       "1333   50    male  30.970         3     no  northwest  10600.54830\n",
       "1334   18  female  31.920         0     no  northeast   2205.98080\n",
       "1335   18  female  36.850         0     no  southeast   1629.83350\n",
       "1336   21  female  25.800         0     no  southwest   2007.94500\n",
       "1337   61  female  29.070         0    yes  northwest  29141.36030\n",
       "\n",
       "[1337 rows x 7 columns]"
      ]
     },
     "execution_count": 11,
     "metadata": {},
     "output_type": "execute_result"
    }
   ],
   "source": [
    "df.drop_duplicates(inplace=True)\n",
    "df"
   ]
  },
  {
   "cell_type": "code",
   "execution_count": 12,
   "id": "6471e32c",
   "metadata": {},
   "outputs": [
    {
     "data": {
      "text/plain": [
       "(1337, 7)"
      ]
     },
     "execution_count": 12,
     "metadata": {},
     "output_type": "execute_result"
    }
   ],
   "source": [
    "df.shape"
   ]
  },
  {
   "cell_type": "markdown",
   "id": "8db71582",
   "metadata": {},
   "source": [
    "After removing Duplicate rows, 1337 rows and 7 columns are present in the dataset."
   ]
  },
  {
   "cell_type": "code",
   "execution_count": 13,
   "id": "07b73a7b",
   "metadata": {},
   "outputs": [
    {
     "name": "stdout",
     "output_type": "stream",
     "text": [
      "<class 'pandas.core.frame.DataFrame'>\n",
      "Int64Index: 1337 entries, 0 to 1337\n",
      "Data columns (total 7 columns):\n",
      " #   Column    Non-Null Count  Dtype  \n",
      "---  ------    --------------  -----  \n",
      " 0   age       1337 non-null   int64  \n",
      " 1   sex       1337 non-null   object \n",
      " 2   bmi       1337 non-null   float64\n",
      " 3   children  1337 non-null   int64  \n",
      " 4   smoker    1337 non-null   object \n",
      " 5   region    1337 non-null   object \n",
      " 6   charges   1337 non-null   float64\n",
      "dtypes: float64(2), int64(2), object(3)\n",
      "memory usage: 83.6+ KB\n"
     ]
    }
   ],
   "source": [
    "df.info()"
   ]
  },
  {
   "cell_type": "markdown",
   "id": "d5bee87d",
   "metadata": {},
   "source": [
    "This gives the brief description about the dataset.It gives indexing type, column type ,no null values and memory usage."
   ]
  },
  {
   "cell_type": "code",
   "execution_count": 16,
   "id": "302c9763",
   "metadata": {},
   "outputs": [
    {
     "data": {
      "text/plain": [
       "<AxesSubplot:>"
      ]
     },
     "execution_count": 16,
     "metadata": {},
     "output_type": "execute_result"
    },
    {
     "data": {
      "image/png": "[encoded data removed]",
      "text/plain": [
       "<Figure size 432x288 with 2 Axes>"
      ]
     },
     "metadata": {
      "needs_background": "light"
     },
     "output_type": "display_data"
    }
   ],
   "source": [
    "#Let's visualize  the null values using heatmap.\n",
    "sns.heatmap(df.isnull())"
   ]
  },
  {
   "cell_type": "markdown",
   "id": "dc5a1039",
   "metadata": {},
   "source": [
    "we can clearly see that there are no null values in the dataset."
   ]
  },
  {
   "cell_type": "code",
   "execution_count": 17,
   "id": "f0b893fa",
   "metadata": {},
   "outputs": [
    {
     "data": {
      "text/plain": [
       "age           47\n",
       "sex            2\n",
       "bmi          548\n",
       "children       6\n",
       "smoker         2\n",
       "region         4\n",
       "charges     1337\n",
       "dtype: int64"
      ]
     },
     "execution_count": 17,
     "metadata": {},
     "output_type": "execute_result"
    }
   ],
   "source": [
    "df.nunique()"
   ]
  },
  {
   "cell_type": "markdown",
   "id": "4a9db825",
   "metadata": {},
   "source": [
    "These are the unique values of all columns."
   ]
  },
  {
   "cell_type": "markdown",
   "id": "17cefb75",
   "metadata": {},
   "source": [
    "Exploratory Data Analysis(EDA):"
   ]
  },
  {
   "cell_type": "code",
   "execution_count": 19,
   "id": "bb7b4da4",
   "metadata": {},
   "outputs": [
    {
     "data": {
      "image/png": "[encoded data removed]",
      "text/plain": [
       "<Figure size 432x288 with 1 Axes>"
      ]
     },
     "metadata": {
      "needs_background": "light"
     },
     "output_type": "display_data"
    }
   ],
   "source": [
    "#visualizing the age column\n",
    "ax=sns.countplot(x=\"age\",data=df)\n",
    "plt.show()"
   ]
  },
  {
   "cell_type": "markdown",
   "id": "9b85634d",
   "metadata": {},
   "source": [
    "maximum people are in the age of between 60 to 70."
   ]
  },
  {
   "cell_type": "code",
   "execution_count": 20,
   "id": "96b8983c",
   "metadata": {},
   "outputs": [
    {
     "data": {
      "image/png": "[encoded data removed]",
      "text/plain": [
       "<Figure size 432x288 with 1 Axes>"
      ]
     },
     "metadata": {
      "needs_background": "light"
     },
     "output_type": "display_data"
    }
   ],
   "source": [
    "#visualizing the sex column\n",
    "ax=sns.countplot(x=\"sex\",data=df)\n",
    "plt.show()"
   ]
  },
  {
   "cell_type": "markdown",
   "id": "e1f08b9b",
   "metadata": {},
   "source": [
    "Both males and females are  almost same in sex column in the dataset"
   ]
  },
  {
   "cell_type": "code",
   "execution_count": 21,
   "id": "9a3e5938",
   "metadata": {},
   "outputs": [
    {
     "data": {
      "image/png": "[encoded data removed]",
      "text/plain": [
       "<Figure size 432x288 with 1 Axes>"
      ]
     },
     "metadata": {
      "needs_background": "light"
     },
     "output_type": "display_data"
    }
   ],
   "source": [
    "#visualizing the bmi column\n",
    "ax=sns.countplot(x=\"bmi\",data=df)\n",
    "plt.show()"
   ]
  },
  {
   "cell_type": "markdown",
   "id": "a55773d9",
   "metadata": {},
   "source": [
    "The max bmi is in the range of value 8 to 9"
   ]
  },
  {
   "cell_type": "code",
   "execution_count": 22,
   "id": "4ebc8039",
   "metadata": {},
   "outputs": [
    {
     "data": {
      "image/png": "[encoded data removed]",
      "text/plain": [
       "<Figure size 432x288 with 1 Axes>"
      ]
     },
     "metadata": {
      "needs_background": "light"
     },
     "output_type": "display_data"
    }
   ],
   "source": [
    "#visualizing the children column\n",
    "ax=sns.countplot(x=\"children\",data=df)\n",
    "plt.show()"
   ]
  },
  {
   "cell_type": "markdown",
   "id": "a846e993",
   "metadata": {},
   "source": [
    "the maximum number of people have no children,1 child is for around 300, 2 child/dependents for around 250, three for around 180 people, 4 and 5 dependents are for very less people."
   ]
  },
  {
   "cell_type": "code",
   "execution_count": 23,
   "id": "f18c0f9d",
   "metadata": {},
   "outputs": [
    {
     "data": {
      "image/png": "[encoded data removed]",
      "text/plain": [
       "<Figure size 432x288 with 1 Axes>"
      ]
     },
     "metadata": {
      "needs_background": "light"
     },
     "output_type": "display_data"
    }
   ],
   "source": [
    "#visualizing the smoker column\n",
    "ax=sns.countplot(x=\"smoker\",data=df)\n",
    "plt.show()"
   ]
  },
  {
   "cell_type": "markdown",
   "id": "46e8285b",
   "metadata": {},
   "source": [
    "Smokers are very less compared to non smokers."
   ]
  },
  {
   "cell_type": "code",
   "execution_count": 24,
   "id": "215810c3",
   "metadata": {},
   "outputs": [
    {
     "data": {
      "image/png": "[encoded data removed]",
      "text/plain": [
       "<Figure size 432x288 with 1 Axes>"
      ]
     },
     "metadata": {
      "needs_background": "light"
     },
     "output_type": "display_data"
    }
   ],
   "source": [
    "#visualizing the region column\n",
    "ax=sns.countplot(x=\"region\",data=df)\n",
    "plt.show()"
   ]
  },
  {
   "cell_type": "markdown",
   "id": "523bb383",
   "metadata": {},
   "source": [
    "maximum people belongs to southeast and people belongs to remaining three regions are almost equal."
   ]
  },
  {
   "cell_type": "code",
   "execution_count": 25,
   "id": "f11010e0",
   "metadata": {},
   "outputs": [
    {
     "data": {
      "image/png": "[encoded data removed]",
      "text/plain": [
       "<Figure size 432x288 with 1 Axes>"
      ]
     },
     "metadata": {
      "needs_background": "light"
     },
     "output_type": "display_data"
    }
   ],
   "source": [
    "#visualizing the charges column\n",
    "ax=sns.countplot(x=\"charges\",data=df)\n",
    "plt.show()"
   ]
  },
  {
   "cell_type": "markdown",
   "id": "deffb79d",
   "metadata": {},
   "source": [
    "charges are different from person to person.charges are unique."
   ]
  },
  {
   "cell_type": "code",
   "execution_count": 26,
   "id": "72b963f2",
   "metadata": {},
   "outputs": [
    {
     "data": {
      "image/png": "[encoded data removed]",
      "text/plain": [
       "<Figure size 432x288 with 1 Axes>"
      ]
     },
     "metadata": {
      "needs_background": "light"
     },
     "output_type": "display_data"
    }
   ],
   "source": [
    "#compare age column with charges column\n",
    "sns.barplot(x=\"age\",y=\"charges\",data=df,palette=\"winter_r\")\n",
    "plt.show()"
   ]
  },
  {
   "cell_type": "markdown",
   "id": "a41f423c",
   "metadata": {},
   "source": [
    "The maximum charges for high aged people."
   ]
  },
  {
   "cell_type": "code",
   "execution_count": 27,
   "id": "fd14e4f7",
   "metadata": {},
   "outputs": [
    {
     "data": {
      "image/png": "[encoded data removed]",
      "text/plain": [
       "<Figure size 432x288 with 1 Axes>"
      ]
     },
     "metadata": {
      "needs_background": "light"
     },
     "output_type": "display_data"
    }
   ],
   "source": [
    "#compare sex column with charges column\n",
    "sns.barplot(x=\"sex\",y=\"charges\",data=df,palette=\"winter_r\")\n",
    "plt.show()"
   ]
  },
  {
   "cell_type": "markdown",
   "id": "59518f01",
   "metadata": {},
   "source": [
    "more charges for males in the dataset compared to females."
   ]
  },
  {
   "cell_type": "code",
   "execution_count": 29,
   "id": "68c2f663",
   "metadata": {},
   "outputs": [
    {
     "data": {
      "image/png": "[encoded data removed]",
      "text/plain": [
       "<Figure size 432x288 with 1 Axes>"
      ]
     },
     "metadata": {
      "needs_background": "light"
     },
     "output_type": "display_data"
    }
   ],
   "source": [
    "#compare  column bmi with charges column\n",
    "sns.scatterplot(x=\"bmi\",y=\"charges\",data=df,palette=\"winter_r\")\n",
    "plt.show()"
   ]
  },
  {
   "cell_type": "code",
   "execution_count": 73,
   "id": "d02e7137",
   "metadata": {},
   "outputs": [
    {
     "data": {
      "image/png": "[encoded data removed]",
      "text/plain": [
       "<Figure size 360x360 with 1 Axes>"
      ]
     },
     "metadata": {
      "needs_background": "light"
     },
     "output_type": "display_data"
    }
   ],
   "source": [
    "#compare  column bmi with charges column\n",
    "sns.lmplot(x=\"bmi\",y=\"charges\",data=df,palette=\"winter_r\")\n",
    "plt.show()"
   ]
  },
  {
   "cell_type": "markdown",
   "id": "7ee88fb4",
   "metadata": {},
   "source": [
    "The people having bmi high have more charges"
   ]
  },
  {
   "cell_type": "markdown",
   "id": "1f288258",
   "metadata": {},
   "source": [
    "bmi has positive relation with charges."
   ]
  },
  {
   "cell_type": "code",
   "execution_count": 31,
   "id": "a043b88f",
   "metadata": {},
   "outputs": [
    {
     "data": {
      "image/png": "[encoded data removed]",
      "text/plain": [
       "<Figure size 432x288 with 1 Axes>"
      ]
     },
     "metadata": {
      "needs_background": "light"
     },
     "output_type": "display_data"
    }
   ],
   "source": [
    "#compare children column with charges column\n",
    "sns.barplot(x=\"children\",y=\"charges\",data=df,palette=\"winter_r\")\n",
    "plt.show()"
   ]
  },
  {
   "cell_type": "code",
   "execution_count": 12,
   "id": "8b40ebd8",
   "metadata": {},
   "outputs": [
    {
     "data": {
      "image/png": "[encoded data removed]",
      "text/plain": [
       "<Figure size 360x360 with 1 Axes>"
      ]
     },
     "metadata": {
      "needs_background": "light"
     },
     "output_type": "display_data"
    }
   ],
   "source": [
    "#compare children column with charges column\n",
    "sns.lmplot(x=\"children\",y=\"charges\",data=df,palette=\"winter_r\")\n",
    "plt.show()"
   ]
  },
  {
   "cell_type": "markdown",
   "id": "935dda0b",
   "metadata": {},
   "source": [
    "people having dependents of 3 got maximum charges in the dataset."
   ]
  },
  {
   "cell_type": "code",
   "execution_count": 33,
   "id": "64f52761",
   "metadata": {},
   "outputs": [
    {
     "data": {
      "image/png": "[encoded data removed]",
      "text/plain": [
       "<Figure size 432x288 with 1 Axes>"
      ]
     },
     "metadata": {
      "needs_background": "light"
     },
     "output_type": "display_data"
    }
   ],
   "source": [
    "#compare smoker column with charges column\n",
    "sns.barplot(x=\"smoker\",y=\"charges\",data=df,palette=\"winter_r\")\n",
    "plt.show()"
   ]
  },
  {
   "cell_type": "markdown",
   "id": "080bd74b",
   "metadata": {},
   "source": [
    "smokers have more charges in the dataset compared to non smokers."
   ]
  },
  {
   "cell_type": "code",
   "execution_count": 34,
   "id": "92124776",
   "metadata": {},
   "outputs": [
    {
     "data": {
      "image/png": "[encoded data removed]",
      "text/plain": [
       "<Figure size 432x288 with 1 Axes>"
      ]
     },
     "metadata": {
      "needs_background": "light"
     },
     "output_type": "display_data"
    }
   ],
   "source": [
    "#compare region column with charges column\n",
    "sns.barplot(x=\"region\",y=\"charges\",data=df,palette=\"winter_r\")\n",
    "plt.show()"
   ]
  },
  {
   "cell_type": "markdown",
   "id": "92143bc4",
   "metadata": {},
   "source": [
    "people belongs to southeast region got more charges."
   ]
  },
  {
   "cell_type": "code",
   "execution_count": 75,
   "id": "9b88e4b4",
   "metadata": {},
   "outputs": [
    {
     "data": {
      "text/plain": [
       "<seaborn.axisgrid.PairGrid at 0x1cc5e545580>"
      ]
     },
     "execution_count": 75,
     "metadata": {},
     "output_type": "execute_result"
    },
    {
     "data": {
      "image/png": "[encoded data removed]",
      "text/plain": [
       "<Figure size 720x720 with 20 Axes>"
      ]
     },
     "metadata": {
      "needs_background": "light"
     },
     "output_type": "display_data"
    }
   ],
   "source": [
    "sns.pairplot(data=df,palette=\"Dark2\")"
   ]
  },
  {
   "cell_type": "markdown",
   "id": "76be3239",
   "metadata": {},
   "source": [
    "This pairplot gives the pairwise relation between the features.On the diagonal we can see the distribution plots.Remaining columns have strong linear relation between the features."
   ]
  },
  {
   "cell_type": "markdown",
   "id": "92488708",
   "metadata": {},
   "source": [
    "let's see how the data has been distributed in all the columns."
   ]
  },
  {
   "cell_type": "code",
   "execution_count": 15,
   "id": "f52d8bee",
   "metadata": {},
   "outputs": [
    {
     "name": "stdout",
     "output_type": "stream",
     "text": [
      "<class 'pandas.core.frame.DataFrame'>\n",
      "Int64Index: 1337 entries, 0 to 1337\n",
      "Data columns (total 7 columns):\n",
      " #   Column    Non-Null Count  Dtype  \n",
      "---  ------    --------------  -----  \n",
      " 0   age       1337 non-null   int64  \n",
      " 1   sex       1337 non-null   object \n",
      " 2   bmi       1337 non-null   float64\n",
      " 3   children  1337 non-null   int64  \n",
      " 4   smoker    1337 non-null   object \n",
      " 5   region    1337 non-null   object \n",
      " 6   charges   1337 non-null   float64\n",
      "dtypes: float64(2), int64(2), object(3)\n",
      "memory usage: 83.6+ KB\n"
     ]
    }
   ],
   "source": [
    "df.info()"
   ]
  },
  {
   "cell_type": "code",
   "execution_count": 78,
   "id": "28a6023b",
   "metadata": {},
   "outputs": [
    {
     "data": {
      "image/png": "[encoded data removed]",
      "text/plain": [
       "<Figure size 720x720 with 4 Axes>"
      ]
     },
     "metadata": {},
     "output_type": "display_data"
    }
   ],
   "source": [
    "#let's visualize how the data has been distributed in all  the columns.\n",
    "plt.figure(figsize=(10,10),facecolor=\"blue\")\n",
    "plotnumber=1\n",
    "x=df[[\"age\",\"bmi\",\"children\",\"charges\"]]\n",
    "for column in x:\n",
    "    if plotnumber<=7:\n",
    "        ax=plt.subplot(2,2,plotnumber)\n",
    "        sns.distplot(x,color=\"m\")\n",
    "        plt.xlabel(column,fontsize=10)\n",
    "        plt.yticks(rotation=0,fontsize=10)\n",
    "    plotnumber+=1\n",
    "    plt.tight_layout()"
   ]
  },
  {
   "cell_type": "markdown",
   "id": "4dcfccdb",
   "metadata": {},
   "source": [
    "The data is right skewed in all the columns."
   ]
  },
  {
   "cell_type": "markdown",
   "id": "59d1384f",
   "metadata": {},
   "source": [
    "Checking outliers:"
   ]
  },
  {
   "cell_type": "code",
   "execution_count": 25,
   "id": "88837d38",
   "metadata": {},
   "outputs": [
    {
     "data": {
      "text/plain": [
       "<AxesSubplot:xlabel='age'>"
      ]
     },
     "execution_count": 25,
     "metadata": {},
     "output_type": "execute_result"
    },
    {
     "data": {
      "image/png": "[encoded data removed]",
      "text/plain": [
       "<Figure size 432x288 with 1 Axes>"
      ]
     },
     "metadata": {
      "needs_background": "light"
     },
     "output_type": "display_data"
    }
   ],
   "source": [
    "sns.boxplot(df['age'],color=\"m\")\n",
    "plt.show()"
   ]
  },
  {
   "cell_type": "code",
   "execution_count": 27,
   "id": "22d28eee",
   "metadata": {},
   "outputs": [
    {
     "data": {
      "image/png": "[encoded data removed]",
      "text/plain": [
       "<Figure size 432x288 with 1 Axes>"
      ]
     },
     "metadata": {
      "needs_background": "light"
     },
     "output_type": "display_data"
    }
   ],
   "source": [
    "#checking outliers for bmi column\n",
    "sns.boxplot(df['bmi'],color=\"m\")\n",
    "plt.show()"
   ]
  },
  {
   "cell_type": "code",
   "execution_count": 28,
   "id": "d2f6c8c2",
   "metadata": {},
   "outputs": [
    {
     "data": {
      "image/png": "[encoded data removed]",
      "text/plain": [
       "<Figure size 432x288 with 1 Axes>"
      ]
     },
     "metadata": {
      "needs_background": "light"
     },
     "output_type": "display_data"
    }
   ],
   "source": [
    "#checking outliers for children column\n",
    "sns.boxplot(df['children'],color=\"m\")\n",
    "plt.show()"
   ]
  },
  {
   "cell_type": "code",
   "execution_count": 29,
   "id": "c8a166ef",
   "metadata": {},
   "outputs": [
    {
     "data": {
      "image/png": "[encoded data removed]",
      "text/plain": [
       "<Figure size 432x288 with 1 Axes>"
      ]
     },
     "metadata": {
      "needs_background": "light"
     },
     "output_type": "display_data"
    }
   ],
   "source": [
    "#checking outliers for charges column\n",
    "sns.boxplot(df['charges'],color=\"m\")\n",
    "plt.show()"
   ]
  },
  {
   "cell_type": "markdown",
   "id": "d4d5c694",
   "metadata": {},
   "source": [
    "In bmi and charges column, we can see the outliers."
   ]
  },
  {
   "cell_type": "code",
   "execution_count": 16,
   "id": "b0a8d5b4",
   "metadata": {},
   "outputs": [
    {
     "data": {
      "text/plain": [
       "age           int64\n",
       "sex          object\n",
       "bmi         float64\n",
       "children      int64\n",
       "smoker       object\n",
       "region       object\n",
       "charges     float64\n",
       "dtype: object"
      ]
     },
     "execution_count": 16,
     "metadata": {},
     "output_type": "execute_result"
    }
   ],
   "source": [
    "df.dtypes"
   ]
  },
  {
   "cell_type": "markdown",
   "id": "e1fd5863",
   "metadata": {},
   "source": [
    "Encoding categorical columns :"
   ]
  },
  {
   "cell_type": "code",
   "execution_count": 14,
   "id": "91225617",
   "metadata": {},
   "outputs": [
    {
     "data": {
      "text/html": [
       "<div>\n",
       "<style scoped>\n",
       "    .dataframe tbody tr th:only-of-type {\n",
       "        vertical-align: middle;\n",
       "    }\n",
       "\n",
       "    .dataframe tbody tr th {\n",
       "        vertical-align: top;\n",
       "    }\n",
       "\n",
       "    .dataframe thead th {\n",
       "        text-align: right;\n",
       "    }\n",
       "</style>\n",
       "<table border=\"1\" class=\"dataframe\">\n",
       "  <thead>\n",
       "    <tr style=\"text-align: right;\">\n",
       "      <th></th>\n",
       "      <th>age</th>\n",
       "      <th>sex</th>\n",
       "      <th>bmi</th>\n",
       "      <th>children</th>\n",
       "      <th>smoker</th>\n",
       "      <th>region</th>\n",
       "      <th>charges</th>\n",
       "    </tr>\n",
       "  </thead>\n",
       "  <tbody>\n",
       "    <tr>\n",
       "      <th>0</th>\n",
       "      <td>19</td>\n",
       "      <td>0.0</td>\n",
       "      <td>27.900</td>\n",
       "      <td>0</td>\n",
       "      <td>1.0</td>\n",
       "      <td>3.0</td>\n",
       "      <td>16884.92400</td>\n",
       "    </tr>\n",
       "    <tr>\n",
       "      <th>1</th>\n",
       "      <td>18</td>\n",
       "      <td>1.0</td>\n",
       "      <td>33.770</td>\n",
       "      <td>1</td>\n",
       "      <td>0.0</td>\n",
       "      <td>2.0</td>\n",
       "      <td>1725.55230</td>\n",
       "    </tr>\n",
       "    <tr>\n",
       "      <th>2</th>\n",
       "      <td>28</td>\n",
       "      <td>1.0</td>\n",
       "      <td>33.000</td>\n",
       "      <td>3</td>\n",
       "      <td>0.0</td>\n",
       "      <td>2.0</td>\n",
       "      <td>4449.46200</td>\n",
       "    </tr>\n",
       "    <tr>\n",
       "      <th>3</th>\n",
       "      <td>33</td>\n",
       "      <td>1.0</td>\n",
       "      <td>22.705</td>\n",
       "      <td>0</td>\n",
       "      <td>0.0</td>\n",
       "      <td>1.0</td>\n",
       "      <td>21984.47061</td>\n",
       "    </tr>\n",
       "    <tr>\n",
       "      <th>4</th>\n",
       "      <td>32</td>\n",
       "      <td>1.0</td>\n",
       "      <td>28.880</td>\n",
       "      <td>0</td>\n",
       "      <td>0.0</td>\n",
       "      <td>1.0</td>\n",
       "      <td>3866.85520</td>\n",
       "    </tr>\n",
       "    <tr>\n",
       "      <th>...</th>\n",
       "      <td>...</td>\n",
       "      <td>...</td>\n",
       "      <td>...</td>\n",
       "      <td>...</td>\n",
       "      <td>...</td>\n",
       "      <td>...</td>\n",
       "      <td>...</td>\n",
       "    </tr>\n",
       "    <tr>\n",
       "      <th>1333</th>\n",
       "      <td>50</td>\n",
       "      <td>1.0</td>\n",
       "      <td>30.970</td>\n",
       "      <td>3</td>\n",
       "      <td>0.0</td>\n",
       "      <td>1.0</td>\n",
       "      <td>10600.54830</td>\n",
       "    </tr>\n",
       "    <tr>\n",
       "      <th>1334</th>\n",
       "      <td>18</td>\n",
       "      <td>0.0</td>\n",
       "      <td>31.920</td>\n",
       "      <td>0</td>\n",
       "      <td>0.0</td>\n",
       "      <td>0.0</td>\n",
       "      <td>2205.98080</td>\n",
       "    </tr>\n",
       "    <tr>\n",
       "      <th>1335</th>\n",
       "      <td>18</td>\n",
       "      <td>0.0</td>\n",
       "      <td>36.850</td>\n",
       "      <td>0</td>\n",
       "      <td>0.0</td>\n",
       "      <td>2.0</td>\n",
       "      <td>1629.83350</td>\n",
       "    </tr>\n",
       "    <tr>\n",
       "      <th>1336</th>\n",
       "      <td>21</td>\n",
       "      <td>0.0</td>\n",
       "      <td>25.800</td>\n",
       "      <td>0</td>\n",
       "      <td>0.0</td>\n",
       "      <td>3.0</td>\n",
       "      <td>2007.94500</td>\n",
       "    </tr>\n",
       "    <tr>\n",
       "      <th>1337</th>\n",
       "      <td>61</td>\n",
       "      <td>0.0</td>\n",
       "      <td>29.070</td>\n",
       "      <td>0</td>\n",
       "      <td>1.0</td>\n",
       "      <td>1.0</td>\n",
       "      <td>29141.36030</td>\n",
       "    </tr>\n",
       "  </tbody>\n",
       "</table>\n",
       "<p>1337 rows × 7 columns</p>\n",
       "</div>"
      ],
      "text/plain": [
       "      age  sex     bmi  children  smoker  region      charges\n",
       "0      19  0.0  27.900         0     1.0     3.0  16884.92400\n",
       "1      18  1.0  33.770         1     0.0     2.0   1725.55230\n",
       "2      28  1.0  33.000         3     0.0     2.0   4449.46200\n",
       "3      33  1.0  22.705         0     0.0     1.0  21984.47061\n",
       "4      32  1.0  28.880         0     0.0     1.0   3866.85520\n",
       "...   ...  ...     ...       ...     ...     ...          ...\n",
       "1333   50  1.0  30.970         3     0.0     1.0  10600.54830\n",
       "1334   18  0.0  31.920         0     0.0     0.0   2205.98080\n",
       "1335   18  0.0  36.850         0     0.0     2.0   1629.83350\n",
       "1336   21  0.0  25.800         0     0.0     3.0   2007.94500\n",
       "1337   61  0.0  29.070         0     1.0     1.0  29141.36030\n",
       "\n",
       "[1337 rows x 7 columns]"
      ]
     },
     "execution_count": 14,
     "metadata": {},
     "output_type": "execute_result"
    }
   ],
   "source": [
    "#Encoding categorical columns using ordinal Encoder\n",
    "from sklearn.preprocessing import OrdinalEncoder\n",
    "OE=OrdinalEncoder()\n",
    "for i in df.columns:\n",
    "    if df[i].dtypes==\"object\":\n",
    "        df[i]=OE.fit_transform(df[i].values.reshape(-1,1))\n",
    "df        "
   ]
  },
  {
   "cell_type": "code",
   "execution_count": 15,
   "id": "4c81bf8e",
   "metadata": {},
   "outputs": [
    {
     "data": {
      "text/plain": [
       "age           int64\n",
       "sex         float64\n",
       "bmi         float64\n",
       "children      int64\n",
       "smoker      float64\n",
       "region      float64\n",
       "charges     float64\n",
       "dtype: object"
      ]
     },
     "execution_count": 15,
     "metadata": {},
     "output_type": "execute_result"
    }
   ],
   "source": [
    "df.dtypes"
   ]
  },
  {
   "cell_type": "code",
   "execution_count": 17,
   "id": "b5ef3032",
   "metadata": {},
   "outputs": [
    {
     "data": {
      "text/html": [
       "<div>\n",
       "<style scoped>\n",
       "    .dataframe tbody tr th:only-of-type {\n",
       "        vertical-align: middle;\n",
       "    }\n",
       "\n",
       "    .dataframe tbody tr th {\n",
       "        vertical-align: top;\n",
       "    }\n",
       "\n",
       "    .dataframe thead th {\n",
       "        text-align: right;\n",
       "    }\n",
       "</style>\n",
       "<table border=\"1\" class=\"dataframe\">\n",
       "  <thead>\n",
       "    <tr style=\"text-align: right;\">\n",
       "      <th></th>\n",
       "      <th>age</th>\n",
       "      <th>sex</th>\n",
       "      <th>bmi</th>\n",
       "      <th>children</th>\n",
       "      <th>smoker</th>\n",
       "      <th>region</th>\n",
       "      <th>charges</th>\n",
       "    </tr>\n",
       "  </thead>\n",
       "  <tbody>\n",
       "    <tr>\n",
       "      <th>0</th>\n",
       "      <td>1.440418</td>\n",
       "      <td>1.009771</td>\n",
       "      <td>0.453160</td>\n",
       "      <td>0.909234</td>\n",
       "      <td>1.969660</td>\n",
       "      <td>1.343163</td>\n",
       "      <td>0.297857</td>\n",
       "    </tr>\n",
       "    <tr>\n",
       "      <th>1</th>\n",
       "      <td>1.511647</td>\n",
       "      <td>0.990324</td>\n",
       "      <td>0.509422</td>\n",
       "      <td>0.079442</td>\n",
       "      <td>0.507702</td>\n",
       "      <td>0.438017</td>\n",
       "      <td>0.954381</td>\n",
       "    </tr>\n",
       "    <tr>\n",
       "      <th>2</th>\n",
       "      <td>0.799350</td>\n",
       "      <td>0.990324</td>\n",
       "      <td>0.383155</td>\n",
       "      <td>1.580143</td>\n",
       "      <td>0.507702</td>\n",
       "      <td>0.438017</td>\n",
       "      <td>0.729373</td>\n",
       "    </tr>\n",
       "    <tr>\n",
       "      <th>3</th>\n",
       "      <td>0.443201</td>\n",
       "      <td>0.990324</td>\n",
       "      <td>1.305052</td>\n",
       "      <td>0.909234</td>\n",
       "      <td>0.507702</td>\n",
       "      <td>0.467128</td>\n",
       "      <td>0.719104</td>\n",
       "    </tr>\n",
       "    <tr>\n",
       "      <th>4</th>\n",
       "      <td>0.514431</td>\n",
       "      <td>0.990324</td>\n",
       "      <td>0.292456</td>\n",
       "      <td>0.909234</td>\n",
       "      <td>0.507702</td>\n",
       "      <td>0.467128</td>\n",
       "      <td>0.777499</td>\n",
       "    </tr>\n",
       "    <tr>\n",
       "      <th>...</th>\n",
       "      <td>...</td>\n",
       "      <td>...</td>\n",
       "      <td>...</td>\n",
       "      <td>...</td>\n",
       "      <td>...</td>\n",
       "      <td>...</td>\n",
       "      <td>...</td>\n",
       "    </tr>\n",
       "    <tr>\n",
       "      <th>1333</th>\n",
       "      <td>0.767704</td>\n",
       "      <td>0.990324</td>\n",
       "      <td>0.050269</td>\n",
       "      <td>1.580143</td>\n",
       "      <td>0.507702</td>\n",
       "      <td>0.467128</td>\n",
       "      <td>0.221263</td>\n",
       "    </tr>\n",
       "    <tr>\n",
       "      <th>1334</th>\n",
       "      <td>1.511647</td>\n",
       "      <td>1.009771</td>\n",
       "      <td>0.206053</td>\n",
       "      <td>0.909234</td>\n",
       "      <td>0.507702</td>\n",
       "      <td>1.372274</td>\n",
       "      <td>0.914695</td>\n",
       "    </tr>\n",
       "    <tr>\n",
       "      <th>1335</th>\n",
       "      <td>1.511647</td>\n",
       "      <td>1.009771</td>\n",
       "      <td>1.014490</td>\n",
       "      <td>0.909234</td>\n",
       "      <td>0.507702</td>\n",
       "      <td>0.438017</td>\n",
       "      <td>0.962287</td>\n",
       "    </tr>\n",
       "    <tr>\n",
       "      <th>1336</th>\n",
       "      <td>1.297958</td>\n",
       "      <td>1.009771</td>\n",
       "      <td>0.797524</td>\n",
       "      <td>0.909234</td>\n",
       "      <td>0.507702</td>\n",
       "      <td>1.343163</td>\n",
       "      <td>0.931054</td>\n",
       "    </tr>\n",
       "    <tr>\n",
       "      <th>1337</th>\n",
       "      <td>1.551231</td>\n",
       "      <td>1.009771</td>\n",
       "      <td>0.261299</td>\n",
       "      <td>0.909234</td>\n",
       "      <td>1.969660</td>\n",
       "      <td>0.467128</td>\n",
       "      <td>1.310298</td>\n",
       "    </tr>\n",
       "  </tbody>\n",
       "</table>\n",
       "<p>1337 rows × 7 columns</p>\n",
       "</div>"
      ],
      "text/plain": [
       "           age       sex       bmi  children    smoker    region   charges\n",
       "0     1.440418  1.009771  0.453160  0.909234  1.969660  1.343163  0.297857\n",
       "1     1.511647  0.990324  0.509422  0.079442  0.507702  0.438017  0.954381\n",
       "2     0.799350  0.990324  0.383155  1.580143  0.507702  0.438017  0.729373\n",
       "3     0.443201  0.990324  1.305052  0.909234  0.507702  0.467128  0.719104\n",
       "4     0.514431  0.990324  0.292456  0.909234  0.507702  0.467128  0.777499\n",
       "...        ...       ...       ...       ...       ...       ...       ...\n",
       "1333  0.767704  0.990324  0.050269  1.580143  0.507702  0.467128  0.221263\n",
       "1334  1.511647  1.009771  0.206053  0.909234  0.507702  1.372274  0.914695\n",
       "1335  1.511647  1.009771  1.014490  0.909234  0.507702  0.438017  0.962287\n",
       "1336  1.297958  1.009771  0.797524  0.909234  0.507702  1.343163  0.931054\n",
       "1337  1.551231  1.009771  0.261299  0.909234  1.969660  0.467128  1.310298\n",
       "\n",
       "[1337 rows x 7 columns]"
      ]
     },
     "execution_count": 17,
     "metadata": {},
     "output_type": "execute_result"
    }
   ],
   "source": [
    "#the data where the outliers are present\n",
    "from scipy.stats import zscore\n",
    "a=df[['age','sex','bmi','children','smoker','region','charges']]\n",
    "z=np.abs(zscore(a))\n",
    "z\n"
   ]
  },
  {
   "cell_type": "code",
   "execution_count": 18,
   "id": "c10443c2",
   "metadata": {},
   "outputs": [
    {
     "data": {
      "text/plain": [
       "(array([  32,   34,   71,  116,  166,  413,  425,  438,  543,  568,  577,\n",
       "         639,  818,  846,  876,  931,  936,  968,  983, 1046, 1084, 1115,\n",
       "        1129, 1145, 1229, 1244, 1271, 1299, 1316], dtype=int64),\n",
       " array([3, 6, 3, 2, 3, 3, 3, 3, 6, 3, 6, 3, 6, 2, 3, 3, 3, 3, 3, 2, 3, 3,\n",
       "        3, 6, 6, 3, 3, 6, 2], dtype=int64))"
      ]
     },
     "execution_count": 18,
     "metadata": {},
     "output_type": "execute_result"
    }
   ],
   "source": [
    "np.where(z>3)"
   ]
  },
  {
   "cell_type": "code",
   "execution_count": 19,
   "id": "a94d2e89",
   "metadata": {
    "scrolled": true
   },
   "outputs": [
    {
     "data": {
      "text/html": [
       "<div>\n",
       "<style scoped>\n",
       "    .dataframe tbody tr th:only-of-type {\n",
       "        vertical-align: middle;\n",
       "    }\n",
       "\n",
       "    .dataframe tbody tr th {\n",
       "        vertical-align: top;\n",
       "    }\n",
       "\n",
       "    .dataframe thead th {\n",
       "        text-align: right;\n",
       "    }\n",
       "</style>\n",
       "<table border=\"1\" class=\"dataframe\">\n",
       "  <thead>\n",
       "    <tr style=\"text-align: right;\">\n",
       "      <th></th>\n",
       "      <th>age</th>\n",
       "      <th>sex</th>\n",
       "      <th>bmi</th>\n",
       "      <th>children</th>\n",
       "      <th>smoker</th>\n",
       "      <th>region</th>\n",
       "      <th>charges</th>\n",
       "    </tr>\n",
       "  </thead>\n",
       "  <tbody>\n",
       "    <tr>\n",
       "      <th>0</th>\n",
       "      <td>19</td>\n",
       "      <td>0.0</td>\n",
       "      <td>27.900</td>\n",
       "      <td>0</td>\n",
       "      <td>1.0</td>\n",
       "      <td>3.0</td>\n",
       "      <td>16884.92400</td>\n",
       "    </tr>\n",
       "    <tr>\n",
       "      <th>1</th>\n",
       "      <td>18</td>\n",
       "      <td>1.0</td>\n",
       "      <td>33.770</td>\n",
       "      <td>1</td>\n",
       "      <td>0.0</td>\n",
       "      <td>2.0</td>\n",
       "      <td>1725.55230</td>\n",
       "    </tr>\n",
       "    <tr>\n",
       "      <th>2</th>\n",
       "      <td>28</td>\n",
       "      <td>1.0</td>\n",
       "      <td>33.000</td>\n",
       "      <td>3</td>\n",
       "      <td>0.0</td>\n",
       "      <td>2.0</td>\n",
       "      <td>4449.46200</td>\n",
       "    </tr>\n",
       "    <tr>\n",
       "      <th>3</th>\n",
       "      <td>33</td>\n",
       "      <td>1.0</td>\n",
       "      <td>22.705</td>\n",
       "      <td>0</td>\n",
       "      <td>0.0</td>\n",
       "      <td>1.0</td>\n",
       "      <td>21984.47061</td>\n",
       "    </tr>\n",
       "    <tr>\n",
       "      <th>4</th>\n",
       "      <td>32</td>\n",
       "      <td>1.0</td>\n",
       "      <td>28.880</td>\n",
       "      <td>0</td>\n",
       "      <td>0.0</td>\n",
       "      <td>1.0</td>\n",
       "      <td>3866.85520</td>\n",
       "    </tr>\n",
       "    <tr>\n",
       "      <th>...</th>\n",
       "      <td>...</td>\n",
       "      <td>...</td>\n",
       "      <td>...</td>\n",
       "      <td>...</td>\n",
       "      <td>...</td>\n",
       "      <td>...</td>\n",
       "      <td>...</td>\n",
       "    </tr>\n",
       "    <tr>\n",
       "      <th>1333</th>\n",
       "      <td>50</td>\n",
       "      <td>1.0</td>\n",
       "      <td>30.970</td>\n",
       "      <td>3</td>\n",
       "      <td>0.0</td>\n",
       "      <td>1.0</td>\n",
       "      <td>10600.54830</td>\n",
       "    </tr>\n",
       "    <tr>\n",
       "      <th>1334</th>\n",
       "      <td>18</td>\n",
       "      <td>0.0</td>\n",
       "      <td>31.920</td>\n",
       "      <td>0</td>\n",
       "      <td>0.0</td>\n",
       "      <td>0.0</td>\n",
       "      <td>2205.98080</td>\n",
       "    </tr>\n",
       "    <tr>\n",
       "      <th>1335</th>\n",
       "      <td>18</td>\n",
       "      <td>0.0</td>\n",
       "      <td>36.850</td>\n",
       "      <td>0</td>\n",
       "      <td>0.0</td>\n",
       "      <td>2.0</td>\n",
       "      <td>1629.83350</td>\n",
       "    </tr>\n",
       "    <tr>\n",
       "      <th>1336</th>\n",
       "      <td>21</td>\n",
       "      <td>0.0</td>\n",
       "      <td>25.800</td>\n",
       "      <td>0</td>\n",
       "      <td>0.0</td>\n",
       "      <td>3.0</td>\n",
       "      <td>2007.94500</td>\n",
       "    </tr>\n",
       "    <tr>\n",
       "      <th>1337</th>\n",
       "      <td>61</td>\n",
       "      <td>0.0</td>\n",
       "      <td>29.070</td>\n",
       "      <td>0</td>\n",
       "      <td>1.0</td>\n",
       "      <td>1.0</td>\n",
       "      <td>29141.36030</td>\n",
       "    </tr>\n",
       "  </tbody>\n",
       "</table>\n",
       "<p>1308 rows × 7 columns</p>\n",
       "</div>"
      ],
      "text/plain": [
       "      age  sex     bmi  children  smoker  region      charges\n",
       "0      19  0.0  27.900         0     1.0     3.0  16884.92400\n",
       "1      18  1.0  33.770         1     0.0     2.0   1725.55230\n",
       "2      28  1.0  33.000         3     0.0     2.0   4449.46200\n",
       "3      33  1.0  22.705         0     0.0     1.0  21984.47061\n",
       "4      32  1.0  28.880         0     0.0     1.0   3866.85520\n",
       "...   ...  ...     ...       ...     ...     ...          ...\n",
       "1333   50  1.0  30.970         3     0.0     1.0  10600.54830\n",
       "1334   18  0.0  31.920         0     0.0     0.0   2205.98080\n",
       "1335   18  0.0  36.850         0     0.0     2.0   1629.83350\n",
       "1336   21  0.0  25.800         0     0.0     3.0   2007.94500\n",
       "1337   61  0.0  29.070         0     1.0     1.0  29141.36030\n",
       "\n",
       "[1308 rows x 7 columns]"
      ]
     },
     "execution_count": 19,
     "metadata": {},
     "output_type": "execute_result"
    }
   ],
   "source": [
    "#now removing the data above zscore\n",
    "from scipy.stats import zscore\n",
    "a=df[['age','sex','bmi','children','smoker','region','charges']]\n",
    "z_score=zscore(a)\n",
    "abs_z_score=np.abs(z_score)\n",
    "b=((abs_z_score<3).all(axis=1))\n",
    "df1=df[b]\n",
    "df1"
   ]
  },
  {
   "cell_type": "code",
   "execution_count": 20,
   "id": "2f48ef90",
   "metadata": {},
   "outputs": [
    {
     "data": {
      "text/plain": [
       "(1308, 7)"
      ]
     },
     "execution_count": 20,
     "metadata": {},
     "output_type": "execute_result"
    }
   ],
   "source": [
    "df1.shape"
   ]
  },
  {
   "cell_type": "markdown",
   "id": "0afcf07a",
   "metadata": {},
   "source": [
    "old dataframe-1337 rows\n",
    "new data frame-1308 rows"
   ]
  },
  {
   "cell_type": "code",
   "execution_count": 21,
   "id": "aecee61c",
   "metadata": {},
   "outputs": [
    {
     "data": {
      "text/plain": [
       "age           int64\n",
       "sex         float64\n",
       "bmi         float64\n",
       "children      int64\n",
       "smoker      float64\n",
       "region      float64\n",
       "charges     float64\n",
       "dtype: object"
      ]
     },
     "execution_count": 21,
     "metadata": {},
     "output_type": "execute_result"
    }
   ],
   "source": [
    "df1.dtypes"
   ]
  },
  {
   "cell_type": "code",
   "execution_count": 22,
   "id": "f436eb26",
   "metadata": {},
   "outputs": [
    {
     "name": "stdout",
     "output_type": "stream",
     "text": [
      "Data loss percentage: 2.169035153328347\n"
     ]
    }
   ],
   "source": [
    "print(\"Data loss percentage:\",((df.shape[0]-df1.shape[0])/df.shape[0])*100)"
   ]
  },
  {
   "cell_type": "markdown",
   "id": "0811c0bc",
   "metadata": {},
   "source": [
    "Description of Dataset:"
   ]
  },
  {
   "cell_type": "code",
   "execution_count": 23,
   "id": "a84c164a",
   "metadata": {},
   "outputs": [
    {
     "data": {
      "text/html": [
       "<div>\n",
       "<style scoped>\n",
       "    .dataframe tbody tr th:only-of-type {\n",
       "        vertical-align: middle;\n",
       "    }\n",
       "\n",
       "    .dataframe tbody tr th {\n",
       "        vertical-align: top;\n",
       "    }\n",
       "\n",
       "    .dataframe thead th {\n",
       "        text-align: right;\n",
       "    }\n",
       "</style>\n",
       "<table border=\"1\" class=\"dataframe\">\n",
       "  <thead>\n",
       "    <tr style=\"text-align: right;\">\n",
       "      <th></th>\n",
       "      <th>age</th>\n",
       "      <th>sex</th>\n",
       "      <th>bmi</th>\n",
       "      <th>children</th>\n",
       "      <th>smoker</th>\n",
       "      <th>region</th>\n",
       "      <th>charges</th>\n",
       "    </tr>\n",
       "  </thead>\n",
       "  <tbody>\n",
       "    <tr>\n",
       "      <th>count</th>\n",
       "      <td>1337.000000</td>\n",
       "      <td>1337.000000</td>\n",
       "      <td>1337.000000</td>\n",
       "      <td>1337.000000</td>\n",
       "      <td>1337.000000</td>\n",
       "      <td>1337.000000</td>\n",
       "      <td>1337.000000</td>\n",
       "    </tr>\n",
       "    <tr>\n",
       "      <th>mean</th>\n",
       "      <td>39.222139</td>\n",
       "      <td>0.504862</td>\n",
       "      <td>30.663452</td>\n",
       "      <td>1.095737</td>\n",
       "      <td>0.204936</td>\n",
       "      <td>1.516081</td>\n",
       "      <td>13279.121487</td>\n",
       "    </tr>\n",
       "    <tr>\n",
       "      <th>std</th>\n",
       "      <td>14.044333</td>\n",
       "      <td>0.500163</td>\n",
       "      <td>6.100468</td>\n",
       "      <td>1.205571</td>\n",
       "      <td>0.403806</td>\n",
       "      <td>1.105208</td>\n",
       "      <td>12110.359656</td>\n",
       "    </tr>\n",
       "    <tr>\n",
       "      <th>min</th>\n",
       "      <td>18.000000</td>\n",
       "      <td>0.000000</td>\n",
       "      <td>15.960000</td>\n",
       "      <td>0.000000</td>\n",
       "      <td>0.000000</td>\n",
       "      <td>0.000000</td>\n",
       "      <td>1121.873900</td>\n",
       "    </tr>\n",
       "    <tr>\n",
       "      <th>25%</th>\n",
       "      <td>27.000000</td>\n",
       "      <td>0.000000</td>\n",
       "      <td>26.290000</td>\n",
       "      <td>0.000000</td>\n",
       "      <td>0.000000</td>\n",
       "      <td>1.000000</td>\n",
       "      <td>4746.344000</td>\n",
       "    </tr>\n",
       "    <tr>\n",
       "      <th>50%</th>\n",
       "      <td>39.000000</td>\n",
       "      <td>1.000000</td>\n",
       "      <td>30.400000</td>\n",
       "      <td>1.000000</td>\n",
       "      <td>0.000000</td>\n",
       "      <td>2.000000</td>\n",
       "      <td>9386.161300</td>\n",
       "    </tr>\n",
       "    <tr>\n",
       "      <th>75%</th>\n",
       "      <td>51.000000</td>\n",
       "      <td>1.000000</td>\n",
       "      <td>34.700000</td>\n",
       "      <td>2.000000</td>\n",
       "      <td>0.000000</td>\n",
       "      <td>2.000000</td>\n",
       "      <td>16657.717450</td>\n",
       "    </tr>\n",
       "    <tr>\n",
       "      <th>max</th>\n",
       "      <td>64.000000</td>\n",
       "      <td>1.000000</td>\n",
       "      <td>53.130000</td>\n",
       "      <td>5.000000</td>\n",
       "      <td>1.000000</td>\n",
       "      <td>3.000000</td>\n",
       "      <td>63770.428010</td>\n",
       "    </tr>\n",
       "  </tbody>\n",
       "</table>\n",
       "</div>"
      ],
      "text/plain": [
       "               age          sex          bmi     children       smoker  \\\n",
       "count  1337.000000  1337.000000  1337.000000  1337.000000  1337.000000   \n",
       "mean     39.222139     0.504862    30.663452     1.095737     0.204936   \n",
       "std      14.044333     0.500163     6.100468     1.205571     0.403806   \n",
       "min      18.000000     0.000000    15.960000     0.000000     0.000000   \n",
       "25%      27.000000     0.000000    26.290000     0.000000     0.000000   \n",
       "50%      39.000000     1.000000    30.400000     1.000000     0.000000   \n",
       "75%      51.000000     1.000000    34.700000     2.000000     0.000000   \n",
       "max      64.000000     1.000000    53.130000     5.000000     1.000000   \n",
       "\n",
       "            region       charges  \n",
       "count  1337.000000   1337.000000  \n",
       "mean      1.516081  13279.121487  \n",
       "std       1.105208  12110.359656  \n",
       "min       0.000000   1121.873900  \n",
       "25%       1.000000   4746.344000  \n",
       "50%       2.000000   9386.161300  \n",
       "75%       2.000000  16657.717450  \n",
       "max       3.000000  63770.428010  "
      ]
     },
     "execution_count": 23,
     "metadata": {},
     "output_type": "execute_result"
    }
   ],
   "source": [
    "#statistical summary of dataset\n",
    "df.describe()"
   ]
  },
  {
   "cell_type": "markdown",
   "id": "e19c65be",
   "metadata": {},
   "source": [
    "This gives the stastical summary of numerical columns.The counts of all the columns are same which means there are no missing values in the dataset.The summary of the dataset looks perfect since there is no negative/invalid values present."
   ]
  },
  {
   "cell_type": "markdown",
   "id": "69d57a87",
   "metadata": {},
   "source": [
    "The mean value and median value are almost same in age,bmi,children columns.In target variable charges column,the mean value is greater than the median, then the data is skewed to right in that column."
   ]
  },
  {
   "cell_type": "markdown",
   "id": "61a785e9",
   "metadata": {},
   "source": [
    "The mean is greater than the median in smoker column also."
   ]
  },
  {
   "cell_type": "markdown",
   "id": "905b3b29",
   "metadata": {},
   "source": [
    "The mean is less than median in sex and region columns which means the data is skewed to left in these columns."
   ]
  },
  {
   "cell_type": "markdown",
   "id": "5c82af22",
   "metadata": {},
   "source": [
    "By summarizing the data, we can observe there is a huge difference between 75% and max,hence there are outliers present in the  data."
   ]
  },
  {
   "cell_type": "markdown",
   "id": "f0058faf",
   "metadata": {},
   "source": [
    "we can also observe the standard deviation values and min(25%) values from this describe method."
   ]
  },
  {
   "cell_type": "code",
   "execution_count": 21,
   "id": "cc253522",
   "metadata": {},
   "outputs": [
    {
     "data": {
      "image/png": "[encoded data removed]",
      "text/plain": [
       "<Figure size 1584x720 with 2 Axes>"
      ]
     },
     "metadata": {
      "needs_background": "light"
     },
     "output_type": "display_data"
    }
   ],
   "source": [
    "plt.figure(figsize=(22,10))\n",
    "sns.heatmap(df.describe(),annot=True,linewidth=0.2,linecolor=\"black\",fmt=\"0.2f\",cmap=\"Accent\")\n",
    "plt.ylabel(\"figures\")\n",
    "plt.xlabel(\"features_Name\")\n",
    "plt.show()"
   ]
  },
  {
   "cell_type": "code",
   "execution_count": 24,
   "id": "424a351e",
   "metadata": {},
   "outputs": [
    {
     "data": {
      "text/html": [
       "<div>\n",
       "<style scoped>\n",
       "    .dataframe tbody tr th:only-of-type {\n",
       "        vertical-align: middle;\n",
       "    }\n",
       "\n",
       "    .dataframe tbody tr th {\n",
       "        vertical-align: top;\n",
       "    }\n",
       "\n",
       "    .dataframe thead th {\n",
       "        text-align: right;\n",
       "    }\n",
       "</style>\n",
       "<table border=\"1\" class=\"dataframe\">\n",
       "  <thead>\n",
       "    <tr style=\"text-align: right;\">\n",
       "      <th></th>\n",
       "      <th>age</th>\n",
       "      <th>sex</th>\n",
       "      <th>bmi</th>\n",
       "      <th>children</th>\n",
       "      <th>smoker</th>\n",
       "      <th>region</th>\n",
       "      <th>charges</th>\n",
       "    </tr>\n",
       "  </thead>\n",
       "  <tbody>\n",
       "    <tr>\n",
       "      <th>age</th>\n",
       "      <td>1.000000</td>\n",
       "      <td>-0.019814</td>\n",
       "      <td>0.109344</td>\n",
       "      <td>0.041536</td>\n",
       "      <td>-0.025587</td>\n",
       "      <td>0.001626</td>\n",
       "      <td>0.298308</td>\n",
       "    </tr>\n",
       "    <tr>\n",
       "      <th>sex</th>\n",
       "      <td>-0.019814</td>\n",
       "      <td>1.000000</td>\n",
       "      <td>0.046397</td>\n",
       "      <td>0.017848</td>\n",
       "      <td>0.076596</td>\n",
       "      <td>0.004936</td>\n",
       "      <td>0.058044</td>\n",
       "    </tr>\n",
       "    <tr>\n",
       "      <th>bmi</th>\n",
       "      <td>0.109344</td>\n",
       "      <td>0.046397</td>\n",
       "      <td>1.000000</td>\n",
       "      <td>0.012755</td>\n",
       "      <td>0.003746</td>\n",
       "      <td>0.157574</td>\n",
       "      <td>0.198401</td>\n",
       "    </tr>\n",
       "    <tr>\n",
       "      <th>children</th>\n",
       "      <td>0.041536</td>\n",
       "      <td>0.017848</td>\n",
       "      <td>0.012755</td>\n",
       "      <td>1.000000</td>\n",
       "      <td>0.007331</td>\n",
       "      <td>0.016258</td>\n",
       "      <td>0.067389</td>\n",
       "    </tr>\n",
       "    <tr>\n",
       "      <th>smoker</th>\n",
       "      <td>-0.025587</td>\n",
       "      <td>0.076596</td>\n",
       "      <td>0.003746</td>\n",
       "      <td>0.007331</td>\n",
       "      <td>1.000000</td>\n",
       "      <td>-0.002358</td>\n",
       "      <td>0.787234</td>\n",
       "    </tr>\n",
       "    <tr>\n",
       "      <th>region</th>\n",
       "      <td>0.001626</td>\n",
       "      <td>0.004936</td>\n",
       "      <td>0.157574</td>\n",
       "      <td>0.016258</td>\n",
       "      <td>-0.002358</td>\n",
       "      <td>1.000000</td>\n",
       "      <td>-0.006547</td>\n",
       "    </tr>\n",
       "    <tr>\n",
       "      <th>charges</th>\n",
       "      <td>0.298308</td>\n",
       "      <td>0.058044</td>\n",
       "      <td>0.198401</td>\n",
       "      <td>0.067389</td>\n",
       "      <td>0.787234</td>\n",
       "      <td>-0.006547</td>\n",
       "      <td>1.000000</td>\n",
       "    </tr>\n",
       "  </tbody>\n",
       "</table>\n",
       "</div>"
      ],
      "text/plain": [
       "               age       sex       bmi  children    smoker    region   charges\n",
       "age       1.000000 -0.019814  0.109344  0.041536 -0.025587  0.001626  0.298308\n",
       "sex      -0.019814  1.000000  0.046397  0.017848  0.076596  0.004936  0.058044\n",
       "bmi       0.109344  0.046397  1.000000  0.012755  0.003746  0.157574  0.198401\n",
       "children  0.041536  0.017848  0.012755  1.000000  0.007331  0.016258  0.067389\n",
       "smoker   -0.025587  0.076596  0.003746  0.007331  1.000000 -0.002358  0.787234\n",
       "region    0.001626  0.004936  0.157574  0.016258 -0.002358  1.000000 -0.006547\n",
       "charges   0.298308  0.058044  0.198401  0.067389  0.787234 -0.006547  1.000000"
      ]
     },
     "execution_count": 24,
     "metadata": {},
     "output_type": "execute_result"
    }
   ],
   "source": [
    "df.corr()"
   ]
  },
  {
   "cell_type": "markdown",
   "id": "1d7859dd",
   "metadata": {},
   "source": [
    "This gives the correlation between dependent and independent variables.Let's visualize it using heatmap."
   ]
  },
  {
   "cell_type": "code",
   "execution_count": 23,
   "id": "2a763e64",
   "metadata": {},
   "outputs": [
    {
     "data": {
      "text/plain": [
       "<AxesSubplot:>"
      ]
     },
     "execution_count": 23,
     "metadata": {},
     "output_type": "execute_result"
    },
    {
     "data": {
      "image/png": "[encoded data removed]",
      "text/plain": [
       "<Figure size 432x288 with 2 Axes>"
      ]
     },
     "metadata": {
      "needs_background": "light"
     },
     "output_type": "display_data"
    }
   ],
   "source": [
    "sns.heatmap(df.corr(),annot=True,fmt=\"0.2f\",linecolor=\"black\",linewidth=0.2)"
   ]
  },
  {
   "cell_type": "code",
   "execution_count": 18,
   "id": "907640f7",
   "metadata": {},
   "outputs": [
    {
     "data": {
      "text/plain": [
       "<bound method Series.sort_values of age         0.298308\n",
       "sex         0.058044\n",
       "bmi         0.198401\n",
       "children    0.067389\n",
       "smoker      0.787234\n",
       "region     -0.006547\n",
       "charges     1.000000\n",
       "Name: charges, dtype: float64>"
      ]
     },
     "execution_count": 18,
     "metadata": {},
     "output_type": "execute_result"
    }
   ],
   "source": [
    "df.corr().charges.sort_values"
   ]
  },
  {
   "cell_type": "markdown",
   "id": "61247937",
   "metadata": {},
   "source": [
    "we can observe the positive correlated features with target except region column."
   ]
  },
  {
   "cell_type": "code",
   "execution_count": 19,
   "id": "16fafa08",
   "metadata": {},
   "outputs": [
    {
     "data": {
      "image/png": "[encoded data removed]",
      "text/plain": [
       "<Figure size 720x720 with 1 Axes>"
      ]
     },
     "metadata": {
      "needs_background": "light"
     },
     "output_type": "display_data"
    }
   ],
   "source": [
    "#visualizing the correlation between features and target\n",
    "plt.figure(figsize=(10,10))\n",
    "df.corr()['charges'].sort_values(ascending=False).drop(['charges']).plot(kind=\"bar\",color=\"m\")\n",
    "plt.xlabel('feature',fontsize=15)\n",
    "plt.ylabel('Target',fontsize=15)\n",
    "plt.show()"
   ]
  },
  {
   "cell_type": "code",
   "execution_count": 20,
   "id": "f14c1b26",
   "metadata": {},
   "outputs": [
    {
     "data": {
      "text/plain": [
       "age           int64\n",
       "sex         float64\n",
       "bmi         float64\n",
       "children      int64\n",
       "smoker      float64\n",
       "region      float64\n",
       "charges     float64\n",
       "dtype: object"
      ]
     },
     "execution_count": 20,
     "metadata": {},
     "output_type": "execute_result"
    }
   ],
   "source": [
    "df.dtypes"
   ]
  },
  {
   "cell_type": "code",
   "execution_count": 21,
   "id": "bf424059",
   "metadata": {},
   "outputs": [
    {
     "data": {
      "text/plain": [
       "age         0.054781\n",
       "sex        -0.019469\n",
       "bmi         0.283914\n",
       "children    0.937421\n",
       "smoker      1.463601\n",
       "region     -0.039068\n",
       "charges     1.515391\n",
       "dtype: float64"
      ]
     },
     "execution_count": 21,
     "metadata": {},
     "output_type": "execute_result"
    }
   ],
   "source": [
    "df.skew()"
   ]
  },
  {
   "cell_type": "markdown",
   "id": "a61f19e7",
   "metadata": {},
   "source": [
    "children, smoker and charges column have skewness.Let us remove skewness in children column and no need to remove skewness in target column and categorical column smoker. "
   ]
  },
  {
   "cell_type": "code",
   "execution_count": 22,
   "id": "12a31b85",
   "metadata": {},
   "outputs": [
    {
     "data": {
      "text/plain": [
       "age         0.054781\n",
       "sex        -0.019469\n",
       "bmi         0.283914\n",
       "children    0.114973\n",
       "smoker      1.463601\n",
       "region     -0.039068\n",
       "charges     1.515391\n",
       "dtype: float64"
      ]
     },
     "execution_count": 22,
     "metadata": {},
     "output_type": "execute_result"
    }
   ],
   "source": [
    "df['children']=np.sqrt(df['children'])\n",
    "df.skew()"
   ]
  },
  {
   "cell_type": "markdown",
   "id": "1054ec34",
   "metadata": {},
   "source": [
    "now skewness is removed in children column."
   ]
  },
  {
   "cell_type": "markdown",
   "id": "9d2313c2",
   "metadata": {},
   "source": [
    "Separating features and label:"
   ]
  },
  {
   "cell_type": "code",
   "execution_count": 56,
   "id": "d1e45b82",
   "metadata": {},
   "outputs": [],
   "source": [
    "#separating the features and target variables in to x and y.\n",
    "x=df.drop(\"charges\",axis=1)\n",
    "y=df['charges']"
   ]
  },
  {
   "cell_type": "code",
   "execution_count": 53,
   "id": "83bfb17e",
   "metadata": {},
   "outputs": [
    {
     "data": {
      "text/plain": [
       "(1337, 6)"
      ]
     },
     "execution_count": 53,
     "metadata": {},
     "output_type": "execute_result"
    }
   ],
   "source": [
    "x.shape"
   ]
  },
  {
   "cell_type": "code",
   "execution_count": 54,
   "id": "955f3e6e",
   "metadata": {},
   "outputs": [
    {
     "data": {
      "text/plain": [
       "age           int64\n",
       "sex         float64\n",
       "bmi         float64\n",
       "children    float64\n",
       "smoker      float64\n",
       "region      float64\n",
       "dtype: object"
      ]
     },
     "execution_count": 54,
     "metadata": {},
     "output_type": "execute_result"
    }
   ],
   "source": [
    "x.dtypes"
   ]
  },
  {
   "cell_type": "code",
   "execution_count": 26,
   "id": "ea8387eb",
   "metadata": {},
   "outputs": [
    {
     "name": "stdout",
     "output_type": "stream",
     "text": [
      "<class 'pandas.core.frame.DataFrame'>\n",
      "Int64Index: 1337 entries, 0 to 1337\n",
      "Data columns (total 6 columns):\n",
      " #   Column    Non-Null Count  Dtype  \n",
      "---  ------    --------------  -----  \n",
      " 0   age       1337 non-null   int64  \n",
      " 1   sex       1337 non-null   float64\n",
      " 2   bmi       1337 non-null   float64\n",
      " 3   children  1337 non-null   float64\n",
      " 4   smoker    1337 non-null   float64\n",
      " 5   region    1337 non-null   float64\n",
      "dtypes: float64(5), int64(1)\n",
      "memory usage: 73.1 KB\n"
     ]
    }
   ],
   "source": [
    "x.info()"
   ]
  },
  {
   "cell_type": "code",
   "execution_count": 27,
   "id": "3c77cfaf",
   "metadata": {},
   "outputs": [
    {
     "data": {
      "text/plain": [
       "(1337,)"
      ]
     },
     "execution_count": 27,
     "metadata": {},
     "output_type": "execute_result"
    }
   ],
   "source": [
    "y.shape"
   ]
  },
  {
   "cell_type": "code",
   "execution_count": 28,
   "id": "6b98025d",
   "metadata": {},
   "outputs": [
    {
     "data": {
      "text/plain": [
       "dtype('float64')"
      ]
     },
     "execution_count": 28,
     "metadata": {},
     "output_type": "execute_result"
    }
   ],
   "source": [
    "y.dtypes"
   ]
  },
  {
   "cell_type": "code",
   "execution_count": 60,
   "id": "4714162e",
   "metadata": {},
   "outputs": [
    {
     "data": {
      "text/plain": [
       "0       16884.92400\n",
       "1        1725.55230\n",
       "2        4449.46200\n",
       "3       21984.47061\n",
       "4        3866.85520\n",
       "           ...     \n",
       "1333    10600.54830\n",
       "1334     2205.98080\n",
       "1335     1629.83350\n",
       "1336     2007.94500\n",
       "1337    29141.36030\n",
       "Name: charges, Length: 1337, dtype: float64"
      ]
     },
     "execution_count": 60,
     "metadata": {},
     "output_type": "execute_result"
    }
   ],
   "source": [
    "y"
   ]
  },
  {
   "cell_type": "code",
   "execution_count": 61,
   "id": "79faec8c",
   "metadata": {},
   "outputs": [
    {
     "data": {
      "text/plain": [
       "16884.92400    1\n",
       "2117.33885     1\n",
       "2221.56445     1\n",
       "19798.05455    1\n",
       "13063.88300    1\n",
       "              ..\n",
       "7345.08400     1\n",
       "26109.32905    1\n",
       "28287.89766    1\n",
       "1149.39590     1\n",
       "29141.36030    1\n",
       "Name: charges, Length: 1337, dtype: int64"
      ]
     },
     "execution_count": 61,
     "metadata": {},
     "output_type": "execute_result"
    }
   ],
   "source": [
    "y.value_counts()"
   ]
  },
  {
   "cell_type": "markdown",
   "id": "2644e986",
   "metadata": {},
   "source": [
    "In features x have 1337rows and 6 columns are present.\n"
   ]
  },
  {
   "cell_type": "markdown",
   "id": "b196fbc4",
   "metadata": {},
   "source": [
    "In label y it has 1337 rows are present."
   ]
  },
  {
   "cell_type": "markdown",
   "id": "2760b1b3",
   "metadata": {},
   "source": [
    "Feature scaling using  StandardScaler:"
   ]
  },
  {
   "cell_type": "code",
   "execution_count": 45,
   "id": "7956b3dc",
   "metadata": {},
   "outputs": [
    {
     "data": {
      "text/html": [
       "<div>\n",
       "<style scoped>\n",
       "    .dataframe tbody tr th:only-of-type {\n",
       "        vertical-align: middle;\n",
       "    }\n",
       "\n",
       "    .dataframe tbody tr th {\n",
       "        vertical-align: top;\n",
       "    }\n",
       "\n",
       "    .dataframe thead th {\n",
       "        text-align: right;\n",
       "    }\n",
       "</style>\n",
       "<table border=\"1\" class=\"dataframe\">\n",
       "  <thead>\n",
       "    <tr style=\"text-align: right;\">\n",
       "      <th></th>\n",
       "      <th>age</th>\n",
       "      <th>sex</th>\n",
       "      <th>bmi</th>\n",
       "      <th>children</th>\n",
       "      <th>smoker</th>\n",
       "      <th>region</th>\n",
       "    </tr>\n",
       "  </thead>\n",
       "  <tbody>\n",
       "    <tr>\n",
       "      <th>0</th>\n",
       "      <td>-1.440418</td>\n",
       "      <td>-1.009771</td>\n",
       "      <td>-0.453160</td>\n",
       "      <td>-1.076970</td>\n",
       "      <td>1.969660</td>\n",
       "      <td>1.343163</td>\n",
       "    </tr>\n",
       "    <tr>\n",
       "      <th>1</th>\n",
       "      <td>-1.511647</td>\n",
       "      <td>0.990324</td>\n",
       "      <td>0.509422</td>\n",
       "      <td>0.327008</td>\n",
       "      <td>-0.507702</td>\n",
       "      <td>0.438017</td>\n",
       "    </tr>\n",
       "    <tr>\n",
       "      <th>2</th>\n",
       "      <td>-0.799350</td>\n",
       "      <td>0.990324</td>\n",
       "      <td>0.383155</td>\n",
       "      <td>1.354790</td>\n",
       "      <td>-0.507702</td>\n",
       "      <td>0.438017</td>\n",
       "    </tr>\n",
       "    <tr>\n",
       "      <th>3</th>\n",
       "      <td>-0.443201</td>\n",
       "      <td>0.990324</td>\n",
       "      <td>-1.305052</td>\n",
       "      <td>-1.076970</td>\n",
       "      <td>-0.507702</td>\n",
       "      <td>-0.467128</td>\n",
       "    </tr>\n",
       "    <tr>\n",
       "      <th>4</th>\n",
       "      <td>-0.514431</td>\n",
       "      <td>0.990324</td>\n",
       "      <td>-0.292456</td>\n",
       "      <td>-1.076970</td>\n",
       "      <td>-0.507702</td>\n",
       "      <td>-0.467128</td>\n",
       "    </tr>\n",
       "    <tr>\n",
       "      <th>...</th>\n",
       "      <td>...</td>\n",
       "      <td>...</td>\n",
       "      <td>...</td>\n",
       "      <td>...</td>\n",
       "      <td>...</td>\n",
       "      <td>...</td>\n",
       "    </tr>\n",
       "    <tr>\n",
       "      <th>1332</th>\n",
       "      <td>0.767704</td>\n",
       "      <td>0.990324</td>\n",
       "      <td>0.050269</td>\n",
       "      <td>1.354790</td>\n",
       "      <td>-0.507702</td>\n",
       "      <td>-0.467128</td>\n",
       "    </tr>\n",
       "    <tr>\n",
       "      <th>1333</th>\n",
       "      <td>-1.511647</td>\n",
       "      <td>-1.009771</td>\n",
       "      <td>0.206053</td>\n",
       "      <td>-1.076970</td>\n",
       "      <td>-0.507702</td>\n",
       "      <td>-1.372274</td>\n",
       "    </tr>\n",
       "    <tr>\n",
       "      <th>1334</th>\n",
       "      <td>-1.511647</td>\n",
       "      <td>-1.009771</td>\n",
       "      <td>1.014490</td>\n",
       "      <td>-1.076970</td>\n",
       "      <td>-0.507702</td>\n",
       "      <td>0.438017</td>\n",
       "    </tr>\n",
       "    <tr>\n",
       "      <th>1335</th>\n",
       "      <td>-1.297958</td>\n",
       "      <td>-1.009771</td>\n",
       "      <td>-0.797524</td>\n",
       "      <td>-1.076970</td>\n",
       "      <td>-0.507702</td>\n",
       "      <td>1.343163</td>\n",
       "    </tr>\n",
       "    <tr>\n",
       "      <th>1336</th>\n",
       "      <td>1.551231</td>\n",
       "      <td>-1.009771</td>\n",
       "      <td>-0.261299</td>\n",
       "      <td>-1.076970</td>\n",
       "      <td>1.969660</td>\n",
       "      <td>-0.467128</td>\n",
       "    </tr>\n",
       "  </tbody>\n",
       "</table>\n",
       "<p>1337 rows × 6 columns</p>\n",
       "</div>"
      ],
      "text/plain": [
       "           age       sex       bmi  children    smoker    region\n",
       "0    -1.440418 -1.009771 -0.453160 -1.076970  1.969660  1.343163\n",
       "1    -1.511647  0.990324  0.509422  0.327008 -0.507702  0.438017\n",
       "2    -0.799350  0.990324  0.383155  1.354790 -0.507702  0.438017\n",
       "3    -0.443201  0.990324 -1.305052 -1.076970 -0.507702 -0.467128\n",
       "4    -0.514431  0.990324 -0.292456 -1.076970 -0.507702 -0.467128\n",
       "...        ...       ...       ...       ...       ...       ...\n",
       "1332  0.767704  0.990324  0.050269  1.354790 -0.507702 -0.467128\n",
       "1333 -1.511647 -1.009771  0.206053 -1.076970 -0.507702 -1.372274\n",
       "1334 -1.511647 -1.009771  1.014490 -1.076970 -0.507702  0.438017\n",
       "1335 -1.297958 -1.009771 -0.797524 -1.076970 -0.507702  1.343163\n",
       "1336  1.551231 -1.009771 -0.261299 -1.076970  1.969660 -0.467128\n",
       "\n",
       "[1337 rows x 6 columns]"
      ]
     },
     "execution_count": 45,
     "metadata": {},
     "output_type": "execute_result"
    }
   ],
   "source": [
    "from sklearn.preprocessing import StandardScaler\n",
    "scaler=StandardScaler()\n",
    "x1=pd.DataFrame(scaler.fit_transform(x),columns=x.columns)\n",
    "x1"
   ]
  },
  {
   "cell_type": "markdown",
   "id": "18ec5e1a",
   "metadata": {},
   "source": [
    "we have scaled the data using Standard Scaler method to overcome the issue of biasness."
   ]
  },
  {
   "cell_type": "markdown",
   "id": "762fc0fe",
   "metadata": {},
   "source": [
    "Checking Variance Inflation Factor:"
   ]
  },
  {
   "cell_type": "code",
   "execution_count": 46,
   "id": "3569d68d",
   "metadata": {},
   "outputs": [
    {
     "data": {
      "text/html": [
       "<div>\n",
       "<style scoped>\n",
       "    .dataframe tbody tr th:only-of-type {\n",
       "        vertical-align: middle;\n",
       "    }\n",
       "\n",
       "    .dataframe tbody tr th {\n",
       "        vertical-align: top;\n",
       "    }\n",
       "\n",
       "    .dataframe thead th {\n",
       "        text-align: right;\n",
       "    }\n",
       "</style>\n",
       "<table border=\"1\" class=\"dataframe\">\n",
       "  <thead>\n",
       "    <tr style=\"text-align: right;\">\n",
       "      <th></th>\n",
       "      <th>VIF values</th>\n",
       "      <th>features</th>\n",
       "    </tr>\n",
       "  </thead>\n",
       "  <tbody>\n",
       "    <tr>\n",
       "      <th>0</th>\n",
       "      <td>1.015812</td>\n",
       "      <td>age</td>\n",
       "    </tr>\n",
       "    <tr>\n",
       "      <th>1</th>\n",
       "      <td>1.008893</td>\n",
       "      <td>sex</td>\n",
       "    </tr>\n",
       "    <tr>\n",
       "      <th>2</th>\n",
       "      <td>1.040675</td>\n",
       "      <td>bmi</td>\n",
       "    </tr>\n",
       "    <tr>\n",
       "      <th>3</th>\n",
       "      <td>1.002964</td>\n",
       "      <td>children</td>\n",
       "    </tr>\n",
       "    <tr>\n",
       "      <th>4</th>\n",
       "      <td>1.006635</td>\n",
       "      <td>smoker</td>\n",
       "    </tr>\n",
       "    <tr>\n",
       "      <th>5</th>\n",
       "      <td>1.025902</td>\n",
       "      <td>region</td>\n",
       "    </tr>\n",
       "  </tbody>\n",
       "</table>\n",
       "</div>"
      ],
      "text/plain": [
       "   VIF values  features\n",
       "0    1.015812       age\n",
       "1    1.008893       sex\n",
       "2    1.040675       bmi\n",
       "3    1.002964  children\n",
       "4    1.006635    smoker\n",
       "5    1.025902    region"
      ]
     },
     "execution_count": 46,
     "metadata": {},
     "output_type": "execute_result"
    }
   ],
   "source": [
    "#Finding variance inflation factor in each scaled column.\n",
    "from statsmodels.stats.outliers_influence import variance_inflation_factor\n",
    "vif=pd.DataFrame()\n",
    "vif['VIF values']=[variance_inflation_factor(x1.values,i) for i in range(x1.shape[1])]\n",
    "vif[\"features\"]=x1.columns\n",
    "vif"
   ]
  },
  {
   "cell_type": "markdown",
   "id": "7297f55e",
   "metadata": {},
   "source": [
    "By checking  the vif values , we can observe that the multi collinearity problem is not present.All values are less than 5."
   ]
  },
  {
   "cell_type": "markdown",
   "id": "43d30282",
   "metadata": {},
   "source": [
    "Modelling:"
   ]
  },
  {
   "cell_type": "code",
   "execution_count": 87,
   "id": "fe01f889",
   "metadata": {},
   "outputs": [],
   "source": [
    "#import necessary libraries\n",
    "from sklearn.model_selection import train_test_split\n",
    "from sklearn.metrics import mean_absolute_error\n",
    "from sklearn.metrics import mean_squared_error\n",
    "from sklearn.metrics import r2_score\n",
    "from sklearn.ensemble import GradientBoostingRegressor\n",
    "from sklearn.linear_model import LinearRegression"
   ]
  },
  {
   "cell_type": "code",
   "execution_count": 88,
   "id": "cd6f0c96",
   "metadata": {},
   "outputs": [
    {
     "name": "stdout",
     "output_type": "stream",
     "text": [
      "maximum r2_score is  0.7998789809943334 on Random state 113\n"
     ]
    }
   ],
   "source": [
    "#finding the random state\n",
    "maxAccuracy=0\n",
    "maxRs=0\n",
    "for i in range(1,200):\n",
    "    x_train,x_test,y_train,y_test=train_test_split(x1,y,test_size=0.30,random_state=i)\n",
    "    lr=LinearRegression()\n",
    "    lr.fit(x_train,y_train)\n",
    "    pred=lr.predict(x_test)\n",
    "    acc=r2_score(y_test,pred)\n",
    "    if acc>maxAccuracy:\n",
    "        maxAccuracy=acc\n",
    "        maxRs=i\n",
    "print(\"maximum r2_score is \",maxAccuracy,\"on Random state\",maxRs)        "
   ]
  },
  {
   "cell_type": "code",
   "execution_count": 89,
   "id": "0fffc7dc",
   "metadata": {},
   "outputs": [],
   "source": [
    "#creating train test split\n",
    "x_train,x_test,y_train,y_test=train_test_split(x1,y,test_size=0.30,random_state=maxRs)"
   ]
  },
  {
   "cell_type": "code",
   "execution_count": 90,
   "id": "f27adaef",
   "metadata": {},
   "outputs": [],
   "source": [
    "from sklearn.linear_model import LinearRegression\n",
    "from sklearn.ensemble import RandomForestRegressor\n",
    "from sklearn.tree import DecisionTreeRegressor\n",
    "from sklearn.neighbors import KNeighborsRegressor as KNN\n",
    "from sklearn.linear_model import Lasso,Ridge"
   ]
  },
  {
   "cell_type": "code",
   "execution_count": 144,
   "id": "1e162b53",
   "metadata": {},
   "outputs": [
    {
     "name": "stdout",
     "output_type": "stream",
     "text": [
      "R2_score: 0.7998789809943334\n",
      "R2_score on training Data: 72.55128379274124\n",
      "Mean absolute error:- 3897.9137815152176\n",
      "mean squared error:- 31796080.154415246\n",
      "Root mean squared error:- 5638.801304746891\n"
     ]
    }
   ],
   "source": [
    "#modelling with Linear Regression \n",
    "x_train,x_test,y_train,y_test=train_test_split(x1,y,test_size=0.30,random_state=maxRs)\n",
    "LR=LinearRegression()\n",
    "LR.fit(x_train,y_train)\n",
    "pred_LR=LR.predict(x_test)\n",
    "pred_train=LR.predict(x_train)\n",
    "print('R2_score:',r2_score(y_test,pred_LR))\n",
    "print(\"R2_score on training Data:\",r2_score(y_train,pred_train)*100)\n",
    "print(\"Mean absolute error:-\",mean_absolute_error(y_test,pred_LR))\n",
    "print(\"mean squared error:-\",mean_squared_error(y_test,pred_LR))\n",
    "print(\"Root mean squared error:-\",np.sqrt(mean_squared_error(y_test,pred_LR)))"
   ]
  },
  {
   "cell_type": "markdown",
   "id": "acbf2460",
   "metadata": {},
   "source": [
    "R2_score using linear regression is 0.79"
   ]
  },
  {
   "cell_type": "code",
   "execution_count": 145,
   "id": "f995c5bc",
   "metadata": {},
   "outputs": [
    {
     "name": "stdout",
     "output_type": "stream",
     "text": [
      "[0.76102297 0.70761078 0.77770446 0.7344626  0.75415204]\n",
      "0.746990567793859\n",
      "Difference between R2 score and cross validation score is : 5.288841320047444\n"
     ]
    }
   ],
   "source": [
    "#finding cv score\n",
    "from sklearn.model_selection import cross_val_score\n",
    "score=cross_val_score(LR,x1,y)\n",
    "print(score)\n",
    "print(score.mean())\n",
    "print(\"Difference between R2 score and cross validation score is :\",(r2_score(y_test,pred_LR)-score.mean())*100)"
   ]
  },
  {
   "cell_type": "code",
   "execution_count": 142,
   "id": "28960ffb",
   "metadata": {},
   "outputs": [
    {
     "name": "stdout",
     "output_type": "stream",
     "text": [
      "R2_score: 0.8716694840543431\n",
      "R2_score on training Data: 97.35669733385409\n",
      "Mean absolute error:- 2605.2504841884543\n",
      "mean squared error:- 20389699.150742546\n",
      "Root mean squared error:- 4515.495449088898\n"
     ]
    }
   ],
   "source": [
    "#modelling with RandomForestRegressor\n",
    "x_train,x_test,y_train,y_test=train_test_split(x1,y,test_size=0.30,random_state=maxRs)\n",
    "RFR=RandomForestRegressor()\n",
    "RFR.fit(x_train,y_train)\n",
    "pred_RFR=RFR.predict(x_test)\n",
    "pred_train=RFR.predict(x_train)\n",
    "print('R2_score:',r2_score(y_test,pred_RFR))\n",
    "print(\"R2_score on training Data:\",r2_score(y_train,pred_train)*100)\n",
    "print(\"Mean absolute error:-\",mean_absolute_error(y_test,pred_RFR))\n",
    "print(\"mean squared error:-\",mean_squared_error(y_test,pred_RFR))\n",
    "print(\"Root mean squared error:-\",np.sqrt(mean_squared_error(y_test,pred_RFR)))"
   ]
  },
  {
   "cell_type": "code",
   "execution_count": 143,
   "id": "21c068f5",
   "metadata": {},
   "outputs": [
    {
     "name": "stdout",
     "output_type": "stream",
     "text": [
      "[0.84850911 0.77472525 0.8722424  0.833727   0.85494485]\n",
      "0.8368297227636632\n",
      "Difference between R2 score and cross validation score is : 3.4839761290679894\n"
     ]
    }
   ],
   "source": [
    "#finding cv score\n",
    "from sklearn.model_selection import cross_val_score\n",
    "score=cross_val_score(RFR,x1,y)\n",
    "print(score)\n",
    "print(score.mean())\n",
    "print(\"Difference between R2 score and cross validation score is :\",(r2_score(y_test,pred_RFR)-score.mean())*100)"
   ]
  },
  {
   "cell_type": "code",
   "execution_count": 148,
   "id": "7981b8dc",
   "metadata": {},
   "outputs": [
    {
     "name": "stdout",
     "output_type": "stream",
     "text": [
      "R2_score: 0.8282939401662446\n",
      "R2_score on training Data: 86.10641429359048\n",
      "Mean absolute error:- 3333.6622790522392\n",
      "mean squared error:- 27281390.373683397\n",
      "Root mean squared error:- 5223.159041584259\n"
     ]
    }
   ],
   "source": [
    "#Modelling using KNN\n",
    "x_train,x_test,y_train,y_test=train_test_split(x1,y,test_size=0.30,random_state=maxRs)\n",
    "knn=KNN()\n",
    "knn.fit(x_train,y_train)\n",
    "pred_knn=knn.predict(x_test)\n",
    "pred_train=knn.predict(x_train)\n",
    "print('R2_score:',r2_score(y_test,pred_knn))\n",
    "print(\"R2_score on training Data:\",r2_score(y_train,pred_train)*100)\n",
    "print(\"Mean absolute error:-\",mean_absolute_error(y_test,pred_knn))\n",
    "print(\"mean squared error:-\",mean_squared_error(y_test,pred_knn))\n",
    "print(\"Root mean squared error:-\",np.sqrt(mean_squared_error(y_test,pred_knn)))"
   ]
  },
  {
   "cell_type": "code",
   "execution_count": 149,
   "id": "8f44a9fa",
   "metadata": {},
   "outputs": [
    {
     "name": "stdout",
     "output_type": "stream",
     "text": [
      "[0.81889554 0.75665531 0.84159372 0.80235381 0.81332093]\n",
      "0.8065638614410838\n",
      "Difference between R2 score and cross validation score is : 2.173007872516075\n"
     ]
    }
   ],
   "source": [
    "#finding cv score\n",
    "from sklearn.model_selection import cross_val_score\n",
    "score=cross_val_score(knn,x1,y)\n",
    "print(score)\n",
    "print(score.mean())\n",
    "print(\"Difference between R2 score and cross validation score is :\",(r2_score(y_test,pred_knn)-score.mean())*100)"
   ]
  },
  {
   "cell_type": "code",
   "execution_count": 138,
   "id": "013f8d51",
   "metadata": {},
   "outputs": [
    {
     "name": "stdout",
     "output_type": "stream",
     "text": [
      "R2_score: 0.8871169696736685\n",
      "R2_score on training Data: 89.43315824537429\n",
      "Mean absolute error:- 2387.524044713459\n",
      "mean squared error:- 17935336.818506263\n",
      "Root mean squared error:- 4235.013201692087\n"
     ]
    }
   ],
   "source": [
    "#modelling using GradientBoostingRegressor\n",
    "x_train,x_test,y_train,y_test=train_test_split(x1,y,test_size=0.30,random_state=maxRs)\n",
    "GBR=GradientBoostingRegressor()\n",
    "GBR.fit(x_train,y_train)\n",
    "pred=GBR.predict(x_test)\n",
    "pred_train=GBR.predict(x_train)\n",
    "print('R2_score:',r2_score(y_test,pred))\n",
    "print(\"R2_score on training Data:\",r2_score(y_train,pred_train)*100)\n",
    "print(\"Mean absolute error:-\",mean_absolute_error(y_test,pred))\n",
    "print(\"mean squared error:-\",mean_squared_error(y_test,pred))\n",
    "print(\"Root mean squared error:-\",np.sqrt(mean_squared_error(y_test,pred)))"
   ]
  },
  {
   "cell_type": "code",
   "execution_count": 139,
   "id": "9711bf05",
   "metadata": {},
   "outputs": [
    {
     "name": "stdout",
     "output_type": "stream",
     "text": [
      "[0.87430608 0.7989075  0.89383385 0.85013222 0.86051385]\n",
      "0.8555386983782579\n",
      "Difference between R2 score and cross validation score is  3.1578271295410576\n"
     ]
    }
   ],
   "source": [
    "#Finding cv score\n",
    "from sklearn.model_selection import cross_val_score\n",
    "score=cross_val_score(GBR,x1,y)\n",
    "print(score)\n",
    "print(score.mean())\n",
    "print(\"Difference between R2 score and cross validation score is \",(r2_score(y_test,pred)-score.mean())*100)"
   ]
  },
  {
   "cell_type": "code",
   "execution_count": 135,
   "id": "16e19214",
   "metadata": {},
   "outputs": [
    {
     "name": "stdout",
     "output_type": "stream",
     "text": [
      "R2_score: 0.7998556470046345\n",
      "R2_score on training Data: 72.55127924427818\n",
      "Mean absolute error:- 3897.953365446218\n",
      "mean squared error:- 31799787.558117628\n",
      "Root mean squared error:- 5639.130035574426\n"
     ]
    }
   ],
   "source": [
    "#modelling using Lasso\n",
    "x_train,x_test,y_train,y_test=train_test_split(x1,y,test_size=0.30,random_state=maxRs)\n",
    "las=Lasso()\n",
    "las.fit(x_train,y_train)\n",
    "pred=las.predict(x_test)\n",
    "pred_train=las.predict(x_train)\n",
    "print('R2_score:',r2_score(y_test,pred))\n",
    "print(\"R2_score on training Data:\",r2_score(y_train,pred_train)*100)\n",
    "print(\"Mean absolute error:-\",mean_absolute_error(y_test,pred))\n",
    "print(\"mean squared error:-\",mean_squared_error(y_test,pred))\n",
    "print(\"Root mean squared error:-\",np.sqrt(mean_squared_error(y_test,pred)))"
   ]
  },
  {
   "cell_type": "code",
   "execution_count": 137,
   "id": "e513889b",
   "metadata": {},
   "outputs": [
    {
     "name": "stdout",
     "output_type": "stream",
     "text": [
      "[0.76102995 0.70764726 0.77768383 0.73445793 0.75415965]\n",
      "0.7469957243826496\n",
      "Difference between R2 score and cross validation score is : 5.285992262198491\n"
     ]
    }
   ],
   "source": [
    "#finding cv score\n",
    "from sklearn.model_selection import cross_val_score\n",
    "score=cross_val_score(las,x1,y)\n",
    "print(score)\n",
    "print(score.mean())\n",
    "print(\"Difference between R2 score and cross validation score is :\",(r2_score(y_test,pred)-score.mean())*100)"
   ]
  },
  {
   "cell_type": "code",
   "execution_count": 133,
   "id": "bd98cca4",
   "metadata": {},
   "outputs": [
    {
     "name": "stdout",
     "output_type": "stream",
     "text": [
      "R2_score: 0.7997719833740765\n",
      "R2_score on training Data: 72.55119559749652\n",
      "Mean absolute error:- 3900.077438979805\n",
      "mean squared error:- 31813080.392205972\n",
      "Root mean squared error:- 5640.3085369690525\n"
     ]
    }
   ],
   "source": [
    "#modelling using ridge\n",
    "x_train,x_test,y_train,y_test=train_test_split(x1,y,test_size=0.30,random_state=maxRs)\n",
    "rd=Ridge()\n",
    "rd.fit(x_train,y_train)\n",
    "pred=rd.predict(x_test)\n",
    "pred_train=rd.predict(x_train)\n",
    "print('R2_score:',r2_score(y_test,pred))\n",
    "print(\"R2_score on training Data:\",r2_score(y_train,pred_train)*100)\n",
    "print(\"Mean absolute error:-\",mean_absolute_error(y_test,pred))\n",
    "print(\"mean squared error:-\",mean_squared_error(y_test,pred))\n",
    "print(\"Root mean squared error:-\",np.sqrt(mean_squared_error(y_test,pred)))"
   ]
  },
  {
   "cell_type": "code",
   "execution_count": 134,
   "id": "b2069882",
   "metadata": {},
   "outputs": [
    {
     "name": "stdout",
     "output_type": "stream",
     "text": [
      "[0.76103216 0.70772117 0.77758472 0.73451861 0.7541246 ]\n",
      "0.7469962502787122\n",
      "Difference between R2 score and cross validation score is : 5.277573309536432\n"
     ]
    }
   ],
   "source": [
    "#finding cv score\n",
    "from sklearn.model_selection import cross_val_score\n",
    "score=cross_val_score(rd,x1,y)\n",
    "print(score)\n",
    "print(score.mean())\n",
    "print(\"Difference between R2 score and cross validation score is :\",(r2_score(y_test,pred)-score.mean())*100)"
   ]
  },
  {
   "cell_type": "code",
   "execution_count": 131,
   "id": "1238a0be",
   "metadata": {},
   "outputs": [
    {
     "name": "stdout",
     "output_type": "stream",
     "text": [
      "R2_score: 0.7546449028541904\n",
      "R2_score on training Data: 99.86117415453519\n",
      "Mean absolute error:- 2929.5518976716417\n",
      "mean squared error:- 38983063.21797013\n",
      "Root mean squared error:- 6243.64182332476\n"
     ]
    }
   ],
   "source": [
    "#modelling using DecisionTreeRegressor\n",
    "x_train,x_test,y_train,y_test=train_test_split(x1,y,test_size=0.30,random_state=maxRs)\n",
    "dtr=DecisionTreeRegressor()\n",
    "dtr.fit(x_train,y_train)\n",
    "pred=dtr.predict(x_test)\n",
    "pred_train=dtr.predict(x_train)\n",
    "print('R2_score:',r2_score(y_test,pred))\n",
    "print(\"R2_score on training Data:\",r2_score(y_train,pred_train)*100)\n",
    "print(\"Mean absolute error:-\",mean_absolute_error(y_test,pred))\n",
    "print(\"mean squared error:-\",mean_squared_error(y_test,pred))\n",
    "print(\"Root mean squared error:-\",np.sqrt(mean_squared_error(y_test,pred)))"
   ]
  },
  {
   "cell_type": "code",
   "execution_count": 132,
   "id": "4d6e5947",
   "metadata": {},
   "outputs": [
    {
     "name": "stdout",
     "output_type": "stream",
     "text": [
      "[0.76138528 0.65600011 0.74374366 0.72688874 0.7146508 ]\n",
      "0.7205337170156623\n",
      "Difference between R2 score and cross validation score is : 3.4111185838528124\n"
     ]
    }
   ],
   "source": [
    "#finding cv score\n",
    "from sklearn.model_selection import cross_val_score\n",
    "score=cross_val_score(dtr,x1,y)\n",
    "print(score)\n",
    "print(score.mean())\n",
    "print(\"Difference between R2 score and cross validation score is :\",(r2_score(y_test,pred)-score.mean())*100)"
   ]
  },
  {
   "cell_type": "code",
   "execution_count": 99,
   "id": "b4aa30d6",
   "metadata": {},
   "outputs": [],
   "source": [
    "from sklearn.svm import SVR"
   ]
  },
  {
   "cell_type": "code",
   "execution_count": 123,
   "id": "98f5400e",
   "metadata": {},
   "outputs": [
    {
     "name": "stdout",
     "output_type": "stream",
     "text": [
      "R2_score: -0.10953818462185771\n",
      "R2_score on training Data: -8.966366464184938\n",
      "Mean absolute error:- 8628.37628896334\n",
      "mean squared error:- 176288154.17745805\n",
      "Root mean squared error:- 13277.354939047838\n"
     ]
    }
   ],
   "source": [
    "#modelling using SVR\n",
    "x_train,x_test,y_train,y_test=train_test_split(x1,y,test_size=0.30,random_state=maxRs)\n",
    "svr=SVR()\n",
    "svr.fit(x_train,y_train)\n",
    "pred=svr.predict(x_test)\n",
    "pred_train=svr.predict(x_train)\n",
    "print('R2_score:',r2_score(y_test,pred))\n",
    "print(\"R2_score on training Data:\",r2_score(y_train,pred_train)*100)\n",
    "print(\"Mean absolute error:-\",mean_absolute_error(y_test,pred))\n",
    "print(\"mean squared error:-\",mean_squared_error(y_test,pred))\n",
    "print(\"Root mean squared error:-\",np.sqrt(mean_squared_error(y_test,pred)))"
   ]
  },
  {
   "cell_type": "code",
   "execution_count": 128,
   "id": "13d4c286",
   "metadata": {},
   "outputs": [
    {
     "name": "stdout",
     "output_type": "stream",
     "text": [
      "[-0.10995614 -0.10646981 -0.07829861 -0.10083737 -0.10175533]\n",
      "-0.09946345225319338\n",
      "Difference between R2 score and cross validation score is  95.58580344648003\n"
     ]
    }
   ],
   "source": [
    "#Finding cv score\n",
    "from sklearn.model_selection import cross_val_score\n",
    "score=cross_val_score(svr,x1,y)\n",
    "print(score)\n",
    "print(score.mean())\n",
    "print(\"Difference between R2 score and cross validation score is \",(r2_score(y_test,pred)-score.mean())*100)"
   ]
  },
  {
   "cell_type": "code",
   "execution_count": 103,
   "id": "fb573be6",
   "metadata": {},
   "outputs": [],
   "source": [
    "from sklearn.ensemble import ExtraTreesRegressor"
   ]
  },
  {
   "cell_type": "code",
   "execution_count": 125,
   "id": "406adc6a",
   "metadata": {},
   "outputs": [
    {
     "name": "stdout",
     "output_type": "stream",
     "text": [
      "R2_score: 0.8563945822116069\n",
      "R2_score on training Data: 99.86117415453519\n",
      "Mean absolute error:- 2633.1928075330857\n",
      "mean squared error:- 22816640.63722733\n",
      "Root mean squared error:- 4776.676735684269\n"
     ]
    }
   ],
   "source": [
    "#MOdelling using ExtraTreesRegressor\n",
    "x_train,x_test,y_train,y_test=train_test_split(x1,y,test_size=0.30,random_state=maxRs)\n",
    "etr=ExtraTreesRegressor()\n",
    "etr.fit(x_train,y_train)\n",
    "pred=etr.predict(x_test)\n",
    "pred_train=etr.predict(x_train)\n",
    "print('R2_score:',r2_score(y_test,pred))\n",
    "print(\"R2_score on training Data:\",r2_score(y_train,pred_train)*100)\n",
    "print(\"Mean absolute error:-\",mean_absolute_error(y_test,pred))\n",
    "print(\"mean squared error:-\",mean_squared_error(y_test,pred))\n",
    "print(\"Root mean squared error:-\",np.sqrt(mean_squared_error(y_test,pred)))"
   ]
  },
  {
   "cell_type": "code",
   "execution_count": 127,
   "id": "50b52edc",
   "metadata": {},
   "outputs": [
    {
     "name": "stdout",
     "output_type": "stream",
     "text": [
      "[0.83654976 0.74621809 0.85227925 0.81434113 0.84363651]\n",
      "0.8186049508637835\n",
      "Difference between R2 score and cross validation score is  3.7789631347823427\n"
     ]
    }
   ],
   "source": [
    "#finding cv score\n",
    "from sklearn.model_selection import cross_val_score\n",
    "score=cross_val_score(etr,x1,y)\n",
    "print(score)\n",
    "print(score.mean())\n",
    "print(\"Difference between R2 score and cross validation score is \",(r2_score(y_test,pred)-score.mean())*100)"
   ]
  },
  {
   "cell_type": "markdown",
   "id": "7fed88ff",
   "metadata": {},
   "source": [
    "# we trained and tested the model with outliers, model is performing less performance.Let us check the performance without outliers."
   ]
  },
  {
   "cell_type": "code",
   "execution_count": 25,
   "id": "71ee5aea",
   "metadata": {},
   "outputs": [
    {
     "data": {
      "text/html": [
       "<div>\n",
       "<style scoped>\n",
       "    .dataframe tbody tr th:only-of-type {\n",
       "        vertical-align: middle;\n",
       "    }\n",
       "\n",
       "    .dataframe tbody tr th {\n",
       "        vertical-align: top;\n",
       "    }\n",
       "\n",
       "    .dataframe thead th {\n",
       "        text-align: right;\n",
       "    }\n",
       "</style>\n",
       "<table border=\"1\" class=\"dataframe\">\n",
       "  <thead>\n",
       "    <tr style=\"text-align: right;\">\n",
       "      <th></th>\n",
       "      <th>age</th>\n",
       "      <th>sex</th>\n",
       "      <th>bmi</th>\n",
       "      <th>children</th>\n",
       "      <th>smoker</th>\n",
       "      <th>region</th>\n",
       "      <th>charges</th>\n",
       "    </tr>\n",
       "  </thead>\n",
       "  <tbody>\n",
       "    <tr>\n",
       "      <th>count</th>\n",
       "      <td>1308.000000</td>\n",
       "      <td>1308.000000</td>\n",
       "      <td>1308.000000</td>\n",
       "      <td>1308.000000</td>\n",
       "      <td>1308.000000</td>\n",
       "      <td>1308.000000</td>\n",
       "      <td>1308.000000</td>\n",
       "    </tr>\n",
       "    <tr>\n",
       "      <th>mean</th>\n",
       "      <td>39.277523</td>\n",
       "      <td>0.502294</td>\n",
       "      <td>30.584033</td>\n",
       "      <td>1.045872</td>\n",
       "      <td>0.202599</td>\n",
       "      <td>1.506116</td>\n",
       "      <td>13098.376136</td>\n",
       "    </tr>\n",
       "    <tr>\n",
       "      <th>std</th>\n",
       "      <td>14.079625</td>\n",
       "      <td>0.500186</td>\n",
       "      <td>5.977605</td>\n",
       "      <td>1.124686</td>\n",
       "      <td>0.402090</td>\n",
       "      <td>1.105371</td>\n",
       "      <td>11738.382948</td>\n",
       "    </tr>\n",
       "    <tr>\n",
       "      <th>min</th>\n",
       "      <td>18.000000</td>\n",
       "      <td>0.000000</td>\n",
       "      <td>15.960000</td>\n",
       "      <td>0.000000</td>\n",
       "      <td>0.000000</td>\n",
       "      <td>0.000000</td>\n",
       "      <td>1121.873900</td>\n",
       "    </tr>\n",
       "    <tr>\n",
       "      <th>25%</th>\n",
       "      <td>27.000000</td>\n",
       "      <td>0.000000</td>\n",
       "      <td>26.308750</td>\n",
       "      <td>0.000000</td>\n",
       "      <td>0.000000</td>\n",
       "      <td>1.000000</td>\n",
       "      <td>4710.249838</td>\n",
       "    </tr>\n",
       "    <tr>\n",
       "      <th>50%</th>\n",
       "      <td>39.000000</td>\n",
       "      <td>1.000000</td>\n",
       "      <td>30.305000</td>\n",
       "      <td>1.000000</td>\n",
       "      <td>0.000000</td>\n",
       "      <td>2.000000</td>\n",
       "      <td>9382.033000</td>\n",
       "    </tr>\n",
       "    <tr>\n",
       "      <th>75%</th>\n",
       "      <td>51.000000</td>\n",
       "      <td>1.000000</td>\n",
       "      <td>34.585000</td>\n",
       "      <td>2.000000</td>\n",
       "      <td>0.000000</td>\n",
       "      <td>2.000000</td>\n",
       "      <td>16579.959053</td>\n",
       "    </tr>\n",
       "    <tr>\n",
       "      <th>max</th>\n",
       "      <td>64.000000</td>\n",
       "      <td>1.000000</td>\n",
       "      <td>48.070000</td>\n",
       "      <td>4.000000</td>\n",
       "      <td>1.000000</td>\n",
       "      <td>3.000000</td>\n",
       "      <td>49577.662400</td>\n",
       "    </tr>\n",
       "  </tbody>\n",
       "</table>\n",
       "</div>"
      ],
      "text/plain": [
       "               age          sex          bmi     children       smoker  \\\n",
       "count  1308.000000  1308.000000  1308.000000  1308.000000  1308.000000   \n",
       "mean     39.277523     0.502294    30.584033     1.045872     0.202599   \n",
       "std      14.079625     0.500186     5.977605     1.124686     0.402090   \n",
       "min      18.000000     0.000000    15.960000     0.000000     0.000000   \n",
       "25%      27.000000     0.000000    26.308750     0.000000     0.000000   \n",
       "50%      39.000000     1.000000    30.305000     1.000000     0.000000   \n",
       "75%      51.000000     1.000000    34.585000     2.000000     0.000000   \n",
       "max      64.000000     1.000000    48.070000     4.000000     1.000000   \n",
       "\n",
       "            region       charges  \n",
       "count  1308.000000   1308.000000  \n",
       "mean      1.506116  13098.376136  \n",
       "std       1.105371  11738.382948  \n",
       "min       0.000000   1121.873900  \n",
       "25%       1.000000   4710.249838  \n",
       "50%       2.000000   9382.033000  \n",
       "75%       2.000000  16579.959053  \n",
       "max       3.000000  49577.662400  "
      ]
     },
     "execution_count": 25,
     "metadata": {},
     "output_type": "execute_result"
    }
   ],
   "source": [
    "df1.describe()"
   ]
  },
  {
   "cell_type": "markdown",
   "id": "34e27472",
   "metadata": {},
   "source": [
    "The mean value is greater than the median in charges olumn only,The mean is less than the median in sex,region columns and in remaining columns,mean,median are almost same."
   ]
  },
  {
   "cell_type": "markdown",
   "id": "70b5ed91",
   "metadata": {},
   "source": [
    "By summarizing the data, we can observe there is a huge difference between 75% and max,hence there are outliers present in the  data."
   ]
  },
  {
   "cell_type": "markdown",
   "id": "c61ef2b2",
   "metadata": {},
   "source": [
    "we can also observe the standard deviation values and min(25%) values from this describe method."
   ]
  },
  {
   "cell_type": "code",
   "execution_count": 26,
   "id": "cc178d35",
   "metadata": {},
   "outputs": [
    {
     "data": {
      "text/html": [
       "<div>\n",
       "<style scoped>\n",
       "    .dataframe tbody tr th:only-of-type {\n",
       "        vertical-align: middle;\n",
       "    }\n",
       "\n",
       "    .dataframe tbody tr th {\n",
       "        vertical-align: top;\n",
       "    }\n",
       "\n",
       "    .dataframe thead th {\n",
       "        text-align: right;\n",
       "    }\n",
       "</style>\n",
       "<table border=\"1\" class=\"dataframe\">\n",
       "  <thead>\n",
       "    <tr style=\"text-align: right;\">\n",
       "      <th></th>\n",
       "      <th>age</th>\n",
       "      <th>sex</th>\n",
       "      <th>bmi</th>\n",
       "      <th>children</th>\n",
       "      <th>smoker</th>\n",
       "      <th>region</th>\n",
       "      <th>charges</th>\n",
       "    </tr>\n",
       "  </thead>\n",
       "  <tbody>\n",
       "    <tr>\n",
       "      <th>age</th>\n",
       "      <td>1.000000</td>\n",
       "      <td>-0.018180</td>\n",
       "      <td>0.118272</td>\n",
       "      <td>0.058142</td>\n",
       "      <td>-0.029671</td>\n",
       "      <td>0.002619</td>\n",
       "      <td>0.304541</td>\n",
       "    </tr>\n",
       "    <tr>\n",
       "      <th>sex</th>\n",
       "      <td>-0.018180</td>\n",
       "      <td>1.000000</td>\n",
       "      <td>0.042514</td>\n",
       "      <td>0.014774</td>\n",
       "      <td>0.079479</td>\n",
       "      <td>0.003434</td>\n",
       "      <td>0.060242</td>\n",
       "    </tr>\n",
       "    <tr>\n",
       "      <th>bmi</th>\n",
       "      <td>0.118272</td>\n",
       "      <td>0.042514</td>\n",
       "      <td>1.000000</td>\n",
       "      <td>0.029927</td>\n",
       "      <td>-0.005289</td>\n",
       "      <td>0.160139</td>\n",
       "      <td>0.191523</td>\n",
       "    </tr>\n",
       "    <tr>\n",
       "      <th>children</th>\n",
       "      <td>0.058142</td>\n",
       "      <td>0.014774</td>\n",
       "      <td>0.029927</td>\n",
       "      <td>1.000000</td>\n",
       "      <td>0.028498</td>\n",
       "      <td>-0.003303</td>\n",
       "      <td>0.099814</td>\n",
       "    </tr>\n",
       "    <tr>\n",
       "      <th>smoker</th>\n",
       "      <td>-0.029671</td>\n",
       "      <td>0.079479</td>\n",
       "      <td>-0.005289</td>\n",
       "      <td>0.028498</td>\n",
       "      <td>1.000000</td>\n",
       "      <td>-0.003651</td>\n",
       "      <td>0.785115</td>\n",
       "    </tr>\n",
       "    <tr>\n",
       "      <th>region</th>\n",
       "      <td>0.002619</td>\n",
       "      <td>0.003434</td>\n",
       "      <td>0.160139</td>\n",
       "      <td>-0.003303</td>\n",
       "      <td>-0.003651</td>\n",
       "      <td>1.000000</td>\n",
       "      <td>-0.007978</td>\n",
       "    </tr>\n",
       "    <tr>\n",
       "      <th>charges</th>\n",
       "      <td>0.304541</td>\n",
       "      <td>0.060242</td>\n",
       "      <td>0.191523</td>\n",
       "      <td>0.099814</td>\n",
       "      <td>0.785115</td>\n",
       "      <td>-0.007978</td>\n",
       "      <td>1.000000</td>\n",
       "    </tr>\n",
       "  </tbody>\n",
       "</table>\n",
       "</div>"
      ],
      "text/plain": [
       "               age       sex       bmi  children    smoker    region   charges\n",
       "age       1.000000 -0.018180  0.118272  0.058142 -0.029671  0.002619  0.304541\n",
       "sex      -0.018180  1.000000  0.042514  0.014774  0.079479  0.003434  0.060242\n",
       "bmi       0.118272  0.042514  1.000000  0.029927 -0.005289  0.160139  0.191523\n",
       "children  0.058142  0.014774  0.029927  1.000000  0.028498 -0.003303  0.099814\n",
       "smoker   -0.029671  0.079479 -0.005289  0.028498  1.000000 -0.003651  0.785115\n",
       "region    0.002619  0.003434  0.160139 -0.003303 -0.003651  1.000000 -0.007978\n",
       "charges   0.304541  0.060242  0.191523  0.099814  0.785115 -0.007978  1.000000"
      ]
     },
     "execution_count": 26,
     "metadata": {},
     "output_type": "execute_result"
    }
   ],
   "source": [
    "df1.corr()"
   ]
  },
  {
   "cell_type": "markdown",
   "id": "d0484a92",
   "metadata": {},
   "source": [
    "This gives the correlation between dependent and independent variables.Let's visualize it using heatmap."
   ]
  },
  {
   "cell_type": "code",
   "execution_count": 27,
   "id": "3983d6ad",
   "metadata": {},
   "outputs": [
    {
     "data": {
      "text/plain": [
       "<AxesSubplot:>"
      ]
     },
     "execution_count": 27,
     "metadata": {},
     "output_type": "execute_result"
    },
    {
     "data": {
      "image/png": "[encoded data removed]",
      "text/plain": [
       "<Figure size 432x288 with 2 Axes>"
      ]
     },
     "metadata": {
      "needs_background": "light"
     },
     "output_type": "display_data"
    }
   ],
   "source": [
    "sns.heatmap(df1.corr(),annot=True,fmt=\"0.2f\",linecolor=\"black\",linewidth=0.2)"
   ]
  },
  {
   "cell_type": "code",
   "execution_count": 28,
   "id": "45d91ee7",
   "metadata": {},
   "outputs": [
    {
     "data": {
      "text/plain": [
       "<bound method Series.sort_values of age         0.304541\n",
       "sex         0.060242\n",
       "bmi         0.191523\n",
       "children    0.099814\n",
       "smoker      0.785115\n",
       "region     -0.007978\n",
       "charges     1.000000\n",
       "Name: charges, dtype: float64>"
      ]
     },
     "execution_count": 28,
     "metadata": {},
     "output_type": "execute_result"
    }
   ],
   "source": [
    "df1.corr().charges.sort_values"
   ]
  },
  {
   "cell_type": "markdown",
   "id": "a296400d",
   "metadata": {},
   "source": [
    "we can observe the positive correlated features with target except region column."
   ]
  },
  {
   "cell_type": "code",
   "execution_count": 29,
   "id": "65375918",
   "metadata": {},
   "outputs": [
    {
     "data": {
      "image/png": "[encoded data removed]",
      "text/plain": [
       "<Figure size 720x720 with 1 Axes>"
      ]
     },
     "metadata": {
      "needs_background": "light"
     },
     "output_type": "display_data"
    }
   ],
   "source": [
    "#visualizing the correlation between features and target\n",
    "plt.figure(figsize=(10,10))\n",
    "df1.corr()['charges'].sort_values(ascending=False).drop(['charges']).plot(kind=\"bar\",color=\"m\")\n",
    "plt.xlabel('feature',fontsize=15)\n",
    "plt.ylabel('Target',fontsize=15)\n",
    "plt.show()"
   ]
  },
  {
   "cell_type": "code",
   "execution_count": 30,
   "id": "a1d52ddc",
   "metadata": {},
   "outputs": [
    {
     "data": {
      "text/plain": [
       "age           int64\n",
       "sex         float64\n",
       "bmi         float64\n",
       "children      int64\n",
       "smoker      float64\n",
       "region      float64\n",
       "charges     float64\n",
       "dtype: object"
      ]
     },
     "execution_count": 30,
     "metadata": {},
     "output_type": "execute_result"
    }
   ],
   "source": [
    "df1.dtypes"
   ]
  },
  {
   "cell_type": "code",
   "execution_count": 31,
   "id": "082331ad",
   "metadata": {},
   "outputs": [
    {
     "data": {
      "text/plain": [
       "age         0.050421\n",
       "sex        -0.009185\n",
       "bmi         0.191361\n",
       "children    0.737050\n",
       "smoker      1.481539\n",
       "region     -0.024001\n",
       "charges     1.436653\n",
       "dtype: float64"
      ]
     },
     "execution_count": 31,
     "metadata": {},
     "output_type": "execute_result"
    }
   ],
   "source": [
    "df1.skew()"
   ]
  },
  {
   "cell_type": "markdown",
   "id": "ff5cf655",
   "metadata": {},
   "source": [
    "children, smoker and charges column have skewness.Let us remove skewness in children column and no need to remove skewness in target column and categorical column smoker."
   ]
  },
  {
   "cell_type": "code",
   "execution_count": 32,
   "id": "a32a775e",
   "metadata": {},
   "outputs": [
    {
     "data": {
      "text/plain": [
       "age         0.050421\n",
       "sex        -0.009185\n",
       "bmi         0.191361\n",
       "children    0.078697\n",
       "smoker      1.481539\n",
       "region     -0.024001\n",
       "charges     1.436653\n",
       "dtype: float64"
      ]
     },
     "execution_count": 32,
     "metadata": {},
     "output_type": "execute_result"
    }
   ],
   "source": [
    "df1['children']=np.sqrt(df1['children'])\n",
    "df1.skew()"
   ]
  },
  {
   "cell_type": "markdown",
   "id": "0f8794ea",
   "metadata": {},
   "source": [
    "now skewness is removed in children column."
   ]
  },
  {
   "cell_type": "markdown",
   "id": "2a82efd8",
   "metadata": {},
   "source": [
    "Seperating Features and label:"
   ]
  },
  {
   "cell_type": "code",
   "execution_count": 35,
   "id": "d9bad6b7",
   "metadata": {},
   "outputs": [],
   "source": [
    "#separating the features and target variables in to x and y.\n",
    "x2=df1.drop(\"charges\",axis=1)\n",
    "y2=df1['charges']"
   ]
  },
  {
   "cell_type": "code",
   "execution_count": 36,
   "id": "9a7307ea",
   "metadata": {},
   "outputs": [
    {
     "data": {
      "text/plain": [
       "age           int64\n",
       "sex         float64\n",
       "bmi         float64\n",
       "children    float64\n",
       "smoker      float64\n",
       "region      float64\n",
       "dtype: object"
      ]
     },
     "execution_count": 36,
     "metadata": {},
     "output_type": "execute_result"
    }
   ],
   "source": [
    "x2.dtypes"
   ]
  },
  {
   "cell_type": "code",
   "execution_count": 37,
   "id": "99f2c115",
   "metadata": {},
   "outputs": [
    {
     "name": "stdout",
     "output_type": "stream",
     "text": [
      "<class 'pandas.core.frame.DataFrame'>\n",
      "Int64Index: 1308 entries, 0 to 1337\n",
      "Data columns (total 6 columns):\n",
      " #   Column    Non-Null Count  Dtype  \n",
      "---  ------    --------------  -----  \n",
      " 0   age       1308 non-null   int64  \n",
      " 1   sex       1308 non-null   float64\n",
      " 2   bmi       1308 non-null   float64\n",
      " 3   children  1308 non-null   float64\n",
      " 4   smoker    1308 non-null   float64\n",
      " 5   region    1308 non-null   float64\n",
      "dtypes: float64(5), int64(1)\n",
      "memory usage: 71.5 KB\n"
     ]
    }
   ],
   "source": [
    "x2.info()"
   ]
  },
  {
   "cell_type": "code",
   "execution_count": 40,
   "id": "ea1f7d55",
   "metadata": {},
   "outputs": [
    {
     "data": {
      "text/plain": [
       "age  sex  bmi     children  smoker  region\n",
       "18   0.0  38.280  0.000000  0.0     2.0       2\n",
       "          30.115  0.000000  0.0     0.0       2\n",
       "47   1.0  38.940  1.414214  1.0     2.0       1\n",
       "48   0.0  28.900  0.000000  0.0     3.0       1\n",
       "          28.880  1.000000  0.0     1.0       1\n",
       "                                             ..\n",
       "31   0.0  25.800  1.414214  0.0     3.0       1\n",
       "          25.740  0.000000  0.0     2.0       1\n",
       "          23.600  1.414214  0.0     3.0       1\n",
       "          21.755  0.000000  0.0     1.0       1\n",
       "64   1.0  40.480  0.000000  0.0     2.0       1\n",
       "Length: 1306, dtype: int64"
      ]
     },
     "execution_count": 40,
     "metadata": {},
     "output_type": "execute_result"
    }
   ],
   "source": [
    "x2.value_counts()"
   ]
  },
  {
   "cell_type": "code",
   "execution_count": 122,
   "id": "c3488e50",
   "metadata": {},
   "outputs": [
    {
     "data": {
      "text/plain": [
       "16884.92400    1\n",
       "8891.13950     1\n",
       "44202.65360    1\n",
       "10422.91665    1\n",
       "7243.81360     1\n",
       "              ..\n",
       "1149.39590     1\n",
       "37079.37200    1\n",
       "4738.26820     1\n",
       "2897.32350     1\n",
       "29141.36030    1\n",
       "Name: charges, Length: 1308, dtype: int64"
      ]
     },
     "execution_count": 122,
     "metadata": {},
     "output_type": "execute_result"
    }
   ],
   "source": [
    "y2.value_counts()"
   ]
  },
  {
   "cell_type": "code",
   "execution_count": 143,
   "id": "7ad9a6eb",
   "metadata": {},
   "outputs": [
    {
     "data": {
      "text/plain": [
       "0       16884.92400\n",
       "1        1725.55230\n",
       "2        4449.46200\n",
       "3       21984.47061\n",
       "4        3866.85520\n",
       "           ...     \n",
       "1333    10600.54830\n",
       "1334     2205.98080\n",
       "1335     1629.83350\n",
       "1336     2007.94500\n",
       "1337    29141.36030\n",
       "Name: charges, Length: 1308, dtype: float64"
      ]
     },
     "execution_count": 143,
     "metadata": {},
     "output_type": "execute_result"
    }
   ],
   "source": [
    "y2"
   ]
  },
  {
   "cell_type": "code",
   "execution_count": 55,
   "id": "3c265cdc",
   "metadata": {},
   "outputs": [
    {
     "data": {
      "text/plain": [
       "dtype('float64')"
      ]
     },
     "execution_count": 55,
     "metadata": {},
     "output_type": "execute_result"
    }
   ],
   "source": [
    "y2.dtypes"
   ]
  },
  {
   "cell_type": "code",
   "execution_count": 43,
   "id": "0c78d470",
   "metadata": {},
   "outputs": [
    {
     "data": {
      "text/plain": [
       "(1308, 6)"
      ]
     },
     "execution_count": 43,
     "metadata": {},
     "output_type": "execute_result"
    }
   ],
   "source": [
    "x2.shape"
   ]
  },
  {
   "cell_type": "markdown",
   "id": "38f59d2f",
   "metadata": {},
   "source": [
    "In features x2 has 1308 rows and 6 columns are present."
   ]
  },
  {
   "cell_type": "markdown",
   "id": "e6999063",
   "metadata": {},
   "source": [
    "In label y2 has 1308 rows are present."
   ]
  },
  {
   "cell_type": "markdown",
   "id": "ccd37b1d",
   "metadata": {},
   "source": [
    "Feature scaling using Standard scaler:"
   ]
  },
  {
   "cell_type": "code",
   "execution_count": 142,
   "id": "628d2c58",
   "metadata": {},
   "outputs": [
    {
     "data": {
      "text/html": [
       "<div>\n",
       "<style scoped>\n",
       "    .dataframe tbody tr th:only-of-type {\n",
       "        vertical-align: middle;\n",
       "    }\n",
       "\n",
       "    .dataframe tbody tr th {\n",
       "        vertical-align: top;\n",
       "    }\n",
       "\n",
       "    .dataframe thead th {\n",
       "        text-align: right;\n",
       "    }\n",
       "</style>\n",
       "<table border=\"1\" class=\"dataframe\">\n",
       "  <thead>\n",
       "    <tr style=\"text-align: right;\">\n",
       "      <th></th>\n",
       "      <th>age</th>\n",
       "      <th>sex</th>\n",
       "      <th>bmi</th>\n",
       "      <th>children</th>\n",
       "      <th>smoker</th>\n",
       "      <th>region</th>\n",
       "    </tr>\n",
       "  </thead>\n",
       "  <tbody>\n",
       "    <tr>\n",
       "      <th>0</th>\n",
       "      <td>-1.440754</td>\n",
       "      <td>-1.004598</td>\n",
       "      <td>-0.449186</td>\n",
       "      <td>-1.075453</td>\n",
       "      <td>1.983897</td>\n",
       "      <td>1.351994</td>\n",
       "    </tr>\n",
       "    <tr>\n",
       "      <th>1</th>\n",
       "      <td>-1.511806</td>\n",
       "      <td>0.995423</td>\n",
       "      <td>0.533188</td>\n",
       "      <td>0.360517</td>\n",
       "      <td>-0.504058</td>\n",
       "      <td>0.446975</td>\n",
       "    </tr>\n",
       "    <tr>\n",
       "      <th>2</th>\n",
       "      <td>-0.801288</td>\n",
       "      <td>0.995423</td>\n",
       "      <td>0.404324</td>\n",
       "      <td>1.411721</td>\n",
       "      <td>-0.504058</td>\n",
       "      <td>0.446975</td>\n",
       "    </tr>\n",
       "    <tr>\n",
       "      <th>3</th>\n",
       "      <td>-0.446029</td>\n",
       "      <td>0.995423</td>\n",
       "      <td>-1.318596</td>\n",
       "      <td>-1.075453</td>\n",
       "      <td>-0.504058</td>\n",
       "      <td>-0.458045</td>\n",
       "    </tr>\n",
       "    <tr>\n",
       "      <th>4</th>\n",
       "      <td>-0.517081</td>\n",
       "      <td>0.995423</td>\n",
       "      <td>-0.285179</td>\n",
       "      <td>-1.075453</td>\n",
       "      <td>-0.504058</td>\n",
       "      <td>-0.458045</td>\n",
       "    </tr>\n",
       "    <tr>\n",
       "      <th>...</th>\n",
       "      <td>...</td>\n",
       "      <td>...</td>\n",
       "      <td>...</td>\n",
       "      <td>...</td>\n",
       "      <td>...</td>\n",
       "      <td>...</td>\n",
       "    </tr>\n",
       "    <tr>\n",
       "      <th>1303</th>\n",
       "      <td>0.761851</td>\n",
       "      <td>0.995423</td>\n",
       "      <td>0.064594</td>\n",
       "      <td>1.411721</td>\n",
       "      <td>-0.504058</td>\n",
       "      <td>-0.458045</td>\n",
       "    </tr>\n",
       "    <tr>\n",
       "      <th>1304</th>\n",
       "      <td>-1.511806</td>\n",
       "      <td>-1.004598</td>\n",
       "      <td>0.223581</td>\n",
       "      <td>-1.075453</td>\n",
       "      <td>-0.504058</td>\n",
       "      <td>-1.363065</td>\n",
       "    </tr>\n",
       "    <tr>\n",
       "      <th>1305</th>\n",
       "      <td>-1.511806</td>\n",
       "      <td>-1.004598</td>\n",
       "      <td>1.048641</td>\n",
       "      <td>-1.075453</td>\n",
       "      <td>-0.504058</td>\n",
       "      <td>0.446975</td>\n",
       "    </tr>\n",
       "    <tr>\n",
       "      <th>1306</th>\n",
       "      <td>-1.298651</td>\n",
       "      <td>-1.004598</td>\n",
       "      <td>-0.800632</td>\n",
       "      <td>-1.075453</td>\n",
       "      <td>-0.504058</td>\n",
       "      <td>1.351994</td>\n",
       "    </tr>\n",
       "    <tr>\n",
       "      <th>1307</th>\n",
       "      <td>1.543421</td>\n",
       "      <td>-1.004598</td>\n",
       "      <td>-0.253381</td>\n",
       "      <td>-1.075453</td>\n",
       "      <td>1.983897</td>\n",
       "      <td>-0.458045</td>\n",
       "    </tr>\n",
       "  </tbody>\n",
       "</table>\n",
       "<p>1308 rows × 6 columns</p>\n",
       "</div>"
      ],
      "text/plain": [
       "           age       sex       bmi  children    smoker    region\n",
       "0    -1.440754 -1.004598 -0.449186 -1.075453  1.983897  1.351994\n",
       "1    -1.511806  0.995423  0.533188  0.360517 -0.504058  0.446975\n",
       "2    -0.801288  0.995423  0.404324  1.411721 -0.504058  0.446975\n",
       "3    -0.446029  0.995423 -1.318596 -1.075453 -0.504058 -0.458045\n",
       "4    -0.517081  0.995423 -0.285179 -1.075453 -0.504058 -0.458045\n",
       "...        ...       ...       ...       ...       ...       ...\n",
       "1303  0.761851  0.995423  0.064594  1.411721 -0.504058 -0.458045\n",
       "1304 -1.511806 -1.004598  0.223581 -1.075453 -0.504058 -1.363065\n",
       "1305 -1.511806 -1.004598  1.048641 -1.075453 -0.504058  0.446975\n",
       "1306 -1.298651 -1.004598 -0.800632 -1.075453 -0.504058  1.351994\n",
       "1307  1.543421 -1.004598 -0.253381 -1.075453  1.983897 -0.458045\n",
       "\n",
       "[1308 rows x 6 columns]"
      ]
     },
     "execution_count": 142,
     "metadata": {},
     "output_type": "execute_result"
    }
   ],
   "source": [
    "from sklearn.preprocessing import StandardScaler\n",
    "scaler=StandardScaler()\n",
    "x3=pd.DataFrame(scaler.fit_transform(x2),columns=x2.columns)\n",
    "x3"
   ]
  },
  {
   "cell_type": "code",
   "execution_count": 57,
   "id": "9d023b8a",
   "metadata": {},
   "outputs": [
    {
     "data": {
      "text/plain": [
       "age         float64\n",
       "sex         float64\n",
       "bmi         float64\n",
       "children    float64\n",
       "smoker      float64\n",
       "region      float64\n",
       "dtype: object"
      ]
     },
     "execution_count": 57,
     "metadata": {},
     "output_type": "execute_result"
    }
   ],
   "source": [
    "x3.dtypes"
   ]
  },
  {
   "cell_type": "markdown",
   "id": "f82d78a8",
   "metadata": {},
   "source": [
    "we have scaled the data using standard scaler to overcome the issue of biasness."
   ]
  },
  {
   "cell_type": "markdown",
   "id": "6fc06e93",
   "metadata": {},
   "source": [
    "Checking Variance Inflation Factor:"
   ]
  },
  {
   "cell_type": "code",
   "execution_count": 46,
   "id": "fe6ca32a",
   "metadata": {},
   "outputs": [
    {
     "data": {
      "text/html": [
       "<div>\n",
       "<style scoped>\n",
       "    .dataframe tbody tr th:only-of-type {\n",
       "        vertical-align: middle;\n",
       "    }\n",
       "\n",
       "    .dataframe tbody tr th {\n",
       "        vertical-align: top;\n",
       "    }\n",
       "\n",
       "    .dataframe thead th {\n",
       "        text-align: right;\n",
       "    }\n",
       "</style>\n",
       "<table border=\"1\" class=\"dataframe\">\n",
       "  <thead>\n",
       "    <tr style=\"text-align: right;\">\n",
       "      <th></th>\n",
       "      <th>VIF values</th>\n",
       "      <th>features</th>\n",
       "    </tr>\n",
       "  </thead>\n",
       "  <tbody>\n",
       "    <tr>\n",
       "      <th>0</th>\n",
       "      <td>1.019101</td>\n",
       "      <td>age</td>\n",
       "    </tr>\n",
       "    <tr>\n",
       "      <th>1</th>\n",
       "      <td>1.008868</td>\n",
       "      <td>sex</td>\n",
       "    </tr>\n",
       "    <tr>\n",
       "      <th>2</th>\n",
       "      <td>1.043736</td>\n",
       "      <td>bmi</td>\n",
       "    </tr>\n",
       "    <tr>\n",
       "      <th>3</th>\n",
       "      <td>1.004819</td>\n",
       "      <td>children</td>\n",
       "    </tr>\n",
       "    <tr>\n",
       "      <th>4</th>\n",
       "      <td>1.007867</td>\n",
       "      <td>smoker</td>\n",
       "    </tr>\n",
       "    <tr>\n",
       "      <th>5</th>\n",
       "      <td>1.026629</td>\n",
       "      <td>region</td>\n",
       "    </tr>\n",
       "  </tbody>\n",
       "</table>\n",
       "</div>"
      ],
      "text/plain": [
       "   VIF values  features\n",
       "0    1.019101       age\n",
       "1    1.008868       sex\n",
       "2    1.043736       bmi\n",
       "3    1.004819  children\n",
       "4    1.007867    smoker\n",
       "5    1.026629    region"
      ]
     },
     "execution_count": 46,
     "metadata": {},
     "output_type": "execute_result"
    }
   ],
   "source": [
    "#Finding variance inflation factor in each scaled column.\n",
    "from statsmodels.stats.outliers_influence import variance_inflation_factor\n",
    "vif=pd.DataFrame()\n",
    "vif['VIF values']=[variance_inflation_factor(x3.values,i) for i in range(x3.shape[1])]\n",
    "vif[\"features\"]=x3.columns\n",
    "vif"
   ]
  },
  {
   "cell_type": "markdown",
   "id": "6d10712f",
   "metadata": {},
   "source": [
    "By checking the vif values , we can observe that the multi collinearity problem is not present.All values are less than 5."
   ]
  },
  {
   "cell_type": "markdown",
   "id": "2b81a52d",
   "metadata": {},
   "source": [
    "Modelling:"
   ]
  },
  {
   "cell_type": "code",
   "execution_count": 144,
   "id": "bbf1d67a",
   "metadata": {},
   "outputs": [],
   "source": [
    "#import necessary libraries\n",
    "from sklearn.model_selection import train_test_split\n",
    "from sklearn.metrics import mean_absolute_error\n",
    "from sklearn.metrics import mean_squared_error\n",
    "from sklearn.metrics import r2_score\n",
    "from sklearn.ensemble import GradientBoostingRegressor\n",
    "from sklearn.linear_model import LinearRegression"
   ]
  },
  {
   "cell_type": "code",
   "execution_count": 124,
   "id": "7b2f92d4",
   "metadata": {},
   "outputs": [
    {
     "name": "stdout",
     "output_type": "stream",
     "text": [
      "maximum r2_score is  0.8074193167116923 on Random state 60\n"
     ]
    }
   ],
   "source": [
    "#finding the best random state\n",
    "maxAccuracy=0\n",
    "maxRs=0\n",
    "for i in range(1,200):\n",
    "    x_train,x_test,y_train,y_test=train_test_split(x3,y2,test_size=0.30,random_state=i)\n",
    "    lr=LinearRegression()\n",
    "    lr.fit(x_train,y_train)\n",
    "    pred=lr.predict(x_test)\n",
    "    acc=r2_score(y_test,pred)\n",
    "    if acc>maxAccuracy:\n",
    "        maxAccuracy=acc\n",
    "        maxRs=i\n",
    "print(\"maximum r2_score is \",maxAccuracy,\"on Random state\",maxRs)        "
   ]
  },
  {
   "cell_type": "code",
   "execution_count": 145,
   "id": "1a08f852",
   "metadata": {},
   "outputs": [],
   "source": [
    "#creating train test split.\n",
    "x_train,x_test,y_train,y_test=train_test_split(x3,y2,test_size=0.30,random_state=200)"
   ]
  },
  {
   "cell_type": "code",
   "execution_count": 146,
   "id": "92e3edd4",
   "metadata": {},
   "outputs": [],
   "source": [
    "from sklearn.linear_model import LinearRegression\n",
    "from sklearn.ensemble import RandomForestRegressor\n",
    "from sklearn.tree import DecisionTreeRegressor\n",
    "from sklearn.neighbors import KNeighborsRegressor as KNN\n",
    "from sklearn.linear_model import Lasso,Ridge"
   ]
  },
  {
   "cell_type": "code",
   "execution_count": 147,
   "id": "84ed2a2b",
   "metadata": {},
   "outputs": [
    {
     "data": {
      "text/plain": [
       "LinearRegression()"
      ]
     },
     "execution_count": 147,
     "metadata": {},
     "output_type": "execute_result"
    }
   ],
   "source": [
    "#Model initiation for LinearRegression\n",
    "name=LinearRegression()\n",
    "name.fit(x_train,y_train)"
   ]
  },
  {
   "cell_type": "code",
   "execution_count": 162,
   "id": "69a65720",
   "metadata": {},
   "outputs": [],
   "source": [
    "from sklearn import metrics"
   ]
  },
  {
   "cell_type": "code",
   "execution_count": 198,
   "id": "c1f9aea1",
   "metadata": {},
   "outputs": [],
   "source": [
    "def r2_score(name,x_train,x_test,y_train,y_test,train=True):\n",
    "    if train:\n",
    "        y_pred=name.predict(x_train)\n",
    "        print(\"r2_score on training data\",metrics.r2_score(y_train,y_pred)*100)\n",
    "        y_pred_test=name.predict(x_test)\n",
    "        print(\"r2_score:\",metrics.r2_score(y_test,y_test_pred))\n",
    "    else:\n",
    "         if train==False:\n",
    "            \n",
    "            print(\"Mean absolute error:-\",mean_absolute_error(y_test,y_test_pred))\n",
    "            print(\"mean squared error:-\",mean_squared_error(y_test,y_test_pred))\n",
    "            print(\"Root mean squared error:-\",np.sqrt(mean_squared_error(y_test,y_test_pred)))  "
   ]
  },
  {
   "cell_type": "code",
   "execution_count": 167,
   "id": "a338b386",
   "metadata": {},
   "outputs": [
    {
     "name": "stdout",
     "output_type": "stream",
     "text": [
      "r2_score on training data 73.80013234729542\n",
      "r2_score: 0.7841526248539379\n",
      "Mean absolute error:- 4050.641884455124\n",
      "mean squared error:- 30750841.825003307\n",
      "Root mean squared error:- 5545.344157489534\n"
     ]
    }
   ],
   "source": [
    "r2_score(name,x_train,x_test,y_train,y_test,train=True)\n",
    "r2_score(name,x_train,x_test,y_train,y_test,train=False)   "
   ]
  },
  {
   "cell_type": "code",
   "execution_count": 157,
   "id": "4a607154",
   "metadata": {},
   "outputs": [
    {
     "data": {
      "text/plain": [
       "array([ 6414.65189197, 15092.04132247, 10519.82336535,  8300.6345537 ,\n",
       "       11258.44312084,  4407.91656861,  6186.827098  ,  9413.52587282,\n",
       "       31963.26965736,  5616.9331696 ,  6603.41313299,  2244.58475718,\n",
       "       36663.18234214,  6468.48307375,  2827.88183146, 11163.54187162,\n",
       "       27862.08868831, 36393.4881336 ,  3385.547425  ,  7037.74225419,\n",
       "        2099.82045932,  3169.85760731, 10160.17997948,  2651.34883919,\n",
       "       10320.24006905, 11064.8055736 , 26543.26136653,  5869.72050819,\n",
       "       12826.47104856,  5239.09618399,  6564.98163919,  5072.68886809,\n",
       "        5973.63298069,  7450.42732456, 10898.01354745, 13153.37937429,\n",
       "        2956.16830697,  5527.62049038, 15041.31935663, 28579.44552539,\n",
       "        1225.54407909,  1964.99248934,  1297.83120539,  2523.22818534,\n",
       "       26754.04143933, 37663.2090734 ,  9760.07049385, 14938.33867126,\n",
       "       10412.96658546,  6398.28404114, 12066.20111512,  1670.06577357,\n",
       "        9064.4340895 ,  2083.78723583,  5632.10940435, 30755.40116209,\n",
       "        5497.09193314,  4182.69870818, 12539.57951882,  9549.32219113,\n",
       "       12363.74067545,  3688.00067478,  4149.00924938, 15069.44046249,\n",
       "       14344.14574252,  6409.43045202, 13920.26417839, 16041.55900344,\n",
       "       14128.45933683, 35380.46892325, 13283.94673028, 38838.68071942,\n",
       "       26310.00039083, 10302.1197511 ,  9931.05443495, 15569.50497937,\n",
       "        5655.48057371, 12704.85556762, 14074.03703628, 13359.8914927 ,\n",
       "       29553.7692801 , 13326.5855031 ,  7583.37733098, 12219.487286  ,\n",
       "        3107.70803116, 17163.8063901 ,  3677.44632354, 12365.93539895,\n",
       "        8873.55150832,   962.87600035,  7404.86969965,  -236.49648337,\n",
       "       14077.82765446, 11253.39860347,  5459.89938961,  9684.49314422,\n",
       "       17586.12737473,  5866.62866555, 31323.74252565, 36060.97578055,\n",
       "        5095.752021  ,  9366.86981323,  8696.19526607, 12542.09285126,\n",
       "        6289.09341242,  2412.07872837, 11665.0422943 ,  2970.02166974,\n",
       "        3176.84452765, 11610.40113157, 13419.16391611, 33999.52352163,\n",
       "       36093.48356859,  6983.94214572,  9594.54171766, 12510.06414741,\n",
       "       11102.26138218, 33575.32025731,  5980.18350518,  1243.93179955,\n",
       "       10050.26103512, 14886.60494112, 11853.6350504 , 31242.82442092,\n",
       "         790.01780206,  7211.23920697, 39528.93682413,  9634.8346276 ,\n",
       "        9854.91674768, 15095.20378582, 15158.24626539,  6769.22912187,\n",
       "        1704.57333022, 29270.6206823 ,  3871.53547793,  8746.64760508,\n",
       "       29993.96331989,  6854.59315023,  6160.31408854, 13133.51838405,\n",
       "       10737.93232771, 11966.547567  ,  3801.0840387 ,  9355.39000888,\n",
       "       12059.58624446,  6981.36585737,  8188.90362959, 33392.01458739,\n",
       "       24021.61403913, 13049.46840944, 36044.06070759,  6188.37640723,\n",
       "       11522.6731152 ,  5748.67453517,  4688.99142926,  8844.28303153,\n",
       "       10078.91089621,  6946.04569066, 28877.17402734,  4289.74547133,\n",
       "        7383.17176449,  5214.10139213, 11877.35009188, 11102.22538922,\n",
       "        2884.49076635,  3748.33827118, 32215.31533233,  4809.89797677,\n",
       "       11444.67850128, 10493.36384362, 35107.22729375,  5424.73349153,\n",
       "        6690.6852171 ,  3877.60629595,  5256.7864838 , 38466.73322587,\n",
       "        3971.19168931,  5918.94951509, 13118.40268444, 29359.67068881,\n",
       "        5905.65805176,  6168.87311014, 10477.48203329, 39711.6083662 ,\n",
       "        6091.03332138, 34592.64212589, 13377.6426484 ,  7999.44947354,\n",
       "        4745.71743007,  8657.40540632,  6579.18473459, 32091.65339575,\n",
       "       34304.67789053, 12266.7672968 ,  6811.01951516, 34445.74516345,\n",
       "        7050.55753691, 26826.50530772, 33951.6610686 ,  4693.94587139,\n",
       "       17408.29001163, 31769.34558304, 12866.99942577,  8305.80069675,\n",
       "        8991.04792501, 11696.14054713, 11238.32279396,  -953.50654554,\n",
       "        4295.69780189, 15998.08998065, 26188.48382747,  6172.82051997,\n",
       "        7962.85974207, 16612.96941761,  8552.97033212,  8163.26311883,\n",
       "        7679.56438187, 10323.48088795,  6311.23193923, 26632.71306884,\n",
       "       32036.55828337,  8584.5591221 ,  1408.19089847,  5066.9515218 ,\n",
       "        4234.45499719, 11212.91823327,  2262.5243885 , 15783.02730244,\n",
       "       14261.10937675, 28067.51695992, 12304.315605  , 15910.92344969,\n",
       "        3412.63080285,  7911.20667085,  7487.84553029,  3976.84221598,\n",
       "       10112.03339784, 18575.64098813, 23556.22956033,  3890.65737455,\n",
       "       28999.28563217, 13531.84276678, 11810.53422715,  3598.75847601,\n",
       "       12886.63778979,  9945.47135902,  4216.2293066 , 10821.69852575,\n",
       "       12186.97363745,  2923.17383193, 11270.25639692,  6768.75063004,\n",
       "       11536.72976897, 32428.69343887, 15636.24829491, 35986.21512579,\n",
       "       11060.24164807,  8837.18966905, 11903.73706443,  9346.29844743,\n",
       "        3728.28508869, 11228.80635839, 38600.8847915 , 16847.56706076,\n",
       "       10705.57055114, 10728.18201079,  4150.3567418 ,   425.08158267,\n",
       "        8225.87174479,  2707.06630004, 27875.21924964,  6929.40420864,\n",
       "       11253.29331695, 28742.33764744,  9622.41243864,  4378.14764281,\n",
       "       10116.8161578 ,  6063.27055019,  4158.35730226, 14329.21054188,\n",
       "       30988.31025816,  8991.96544888,  6093.8223135 ,  9288.44238699,\n",
       "       15265.31971771, 12057.75063566, 11128.49529585,  4638.06350199,\n",
       "        9416.46944759, 28592.58167345, 11774.05449496,  9708.25003917,\n",
       "       10862.14331484,  3195.83151154, 10647.24084027,  5472.06944573,\n",
       "        4772.32311966, 15238.66709062,  6590.06424989,  2543.8867826 ,\n",
       "       12405.86446221,  8891.03552814, 11851.67119151, 11843.58666236,\n",
       "        8148.32616804,  4772.32311966,  5495.89302934,  7829.86982941,\n",
       "        4794.57779927,  9664.65536004,  4361.91085456,  7626.07846735,\n",
       "       33575.73572228, 30784.00605703, 10880.10899598, 11073.56609124,\n",
       "        2184.96904911,  9454.84591827,  6156.52347036,  5892.13783996,\n",
       "       10146.10218838,  5108.55703198,  2322.91582467,  6739.09131588,\n",
       "        4339.34525492, 12164.8232771 ,  6548.54523856,  8890.46892379,\n",
       "        6663.67116409,  7998.97571369,  5486.69845834, 14040.2669114 ,\n",
       "       12320.11077622, 13455.63726231,  4961.04896007, 12961.56710997,\n",
       "        8763.78503049,  8033.77015662,  9520.94199112,  4472.19950611,\n",
       "        6648.95320411, 11463.45050089, 34141.70018991,  7539.55002051,\n",
       "        4374.83785111, 38686.95090516, 10102.05847209,  8129.97107175,\n",
       "       29991.37536954,  3889.2278889 , 36559.4565029 ,  9996.71499731,\n",
       "        7565.97354928, 10692.61017006, 13540.59622985, 14062.58328176,\n",
       "       10969.34885225,  7795.23010941,  4844.09911902, 12335.21271383,\n",
       "        3262.81319792, 10812.53621006,   640.7822588 ,  4660.07037387,\n",
       "       38617.53687318,  7335.27415335, 33020.6222716 , 11565.49403271,\n",
       "       16737.53841865, 13721.4555407 , 11610.61206451, 35192.0410757 ,\n",
       "       32964.11797674, 14508.73521817, 11579.85504828,   222.22952115,\n",
       "       10595.24475102, 14530.61180707, 11189.23406801,  9531.28662406,\n",
       "        5647.71206474, 10328.58061611, 13818.15723277, 11884.89128176,\n",
       "        9488.20693099, 23031.71902525, 11810.75534572,  6286.68421089,\n",
       "       10969.54865297, 10286.97993232, 28067.7673448 ,  6264.87178765,\n",
       "        2913.42351502,  5549.95024218, 26964.51312683, 27083.35496722,\n",
       "        6457.2305415 , 10817.03143656,  7641.38235984,  5480.87912599,\n",
       "       14551.68347265,  3376.27210181, 30657.89677898,  4764.08671136,\n",
       "       11762.44518268,  5901.2953485 ,  5264.11733528, 12775.99171886,\n",
       "        1934.07876758, 32959.1326584 , 14515.19311667, 11984.88313584,\n",
       "        9355.70921734, 15367.26508068, 34346.12417218,  7683.17748511,\n",
       "       13371.60966788,  3340.38082513, 14104.57980981,  4280.18900852,\n",
       "       35722.30218574,  5671.54961862,  9172.39676663, 12242.43694938,\n",
       "       14388.88370997,  4332.01559032, 11590.804562  , 10815.92908861,\n",
       "       32848.42978291, 16495.08861145,  6182.17650925, 11743.78801588,\n",
       "        7932.30403422,  8865.5026464 , 10252.2768334 , 13001.66681231,\n",
       "       10118.72155028, 30057.74521385,  1275.19421219, 10266.00377948,\n",
       "        2608.09149092, 30203.4267618 , 33916.25629841, 12392.86171923,\n",
       "       10725.42947266, 29112.85125197,  6563.01584964,  2420.9056609 ,\n",
       "       34671.62414959, 11156.20515962,  9544.08228426, 12723.58753998,\n",
       "        7650.60824664, 11185.26102238, 10623.62638041,  3680.73998298,\n",
       "       10541.40967211,  8653.01963726,  6394.70633851, 13375.9882873 ,\n",
       "        6340.76959643, 10727.87664977, 11105.80327236,  7197.747615  ,\n",
       "        8972.7511929 , 15269.86154581, 40213.72622485, 14027.61274543,\n",
       "        4251.4660059 ,  4496.20912845,  8908.452237  ,  9511.28843696,\n",
       "        8381.0765091 , 12796.50788103,  7258.50949097, 29468.79051134,\n",
       "        2255.97972452,  3228.32820083, 13113.30295628,  8715.00564813,\n",
       "       33743.7207917 , 29991.87264904, 14872.64137217,  7246.87331798,\n",
       "        8068.30891522, 12405.50851702,  5981.82966326, 15990.93333435,\n",
       "       26677.33236832,  9906.55935949,  6354.26287656,  5904.94293705,\n",
       "        5006.70518399, 29743.73557845,  9643.8689167 , 10608.43936549,\n",
       "       14958.78003502, 35027.75068872, 31862.86132295,  6120.9065262 ,\n",
       "       11957.92860262, 38192.45400861, 12547.32840526,  5238.60697399,\n",
       "       10100.66154328,  2656.55834336,  6582.92619016, 12772.54126778,\n",
       "        5663.77660403, 33157.43336951, 31414.35288818,  5797.382876  ,\n",
       "        5038.77103642,  5478.71127932,  8295.78397655,  7302.13682918,\n",
       "       11753.76519086, 12370.09223406, 10597.17422685,  2491.10271089,\n",
       "        6250.23108175,  6457.96995588, 30966.80668622,  9327.13921458,\n",
       "        8771.9374701 ,  5830.509843  ,  7520.34221958, 27472.26306583,\n",
       "       36114.84470544,  7406.67943016,  1462.08353068,  2616.44469851,\n",
       "       15528.30683338, 10372.20406029, 33344.20562209,  9612.54279942,\n",
       "       36572.65350686, 15517.05636986,  3412.16631553,  4443.58937075,\n",
       "       12822.9658951 , 31189.40944569, 24520.7636954 , 13210.95816517,\n",
       "        1674.12667294,  9908.47068698, 26516.70126317,  4126.56269828,\n",
       "       31088.01264813,    99.67547228, 23306.11788558,  7250.94715167,\n",
       "        7305.68037224,  5597.32159699,  4849.85391686, 30022.23299514,\n",
       "       28569.95444287,   559.90369213,  9389.64021867, 12602.45966699,\n",
       "       28166.5880658 ,  4993.44971362,  7209.14390949, 14081.94148049,\n",
       "        2212.72219574, 14140.27930828, 31899.91143138, 31904.07373937,\n",
       "        7267.16579159, 26172.05452839,  4718.41086492,  6771.26479734,\n",
       "       11225.84031017, 35182.56246151,  2145.931546  ,  6157.14232856,\n",
       "       10729.82816888,  3180.54999026, 33815.82682668,  7840.77604103,\n",
       "       10074.20888845, 35696.47329376,  9548.70333292, 12024.92106917,\n",
       "        5876.89378802,  3530.87095904, 29724.21967496,  3549.32915996,\n",
       "        8671.16159947, 36709.43030493,  1058.11999381,  9604.20921434,\n",
       "       14153.31301358,  4468.83913025,  2649.89463085, 10197.40641596,\n",
       "        9207.74165603, 26945.18449594, 32743.20411782,  1912.46549788,\n",
       "       34619.35562502, 14256.02927827, 12148.88231075, 26065.32395695,\n",
       "       30002.48546669, 13456.58373174,  2174.3245949 , 26078.63445045,\n",
       "       10608.83379537,  4239.22340061, 14385.28827303, 11270.44676075,\n",
       "       38440.63624244, 12912.26462465, 29993.29314492, 31748.82942088,\n",
       "       11821.90608171,  3257.43026143,  1741.25079442, 12259.0175755 ,\n",
       "       11071.11071112, 38122.31316864,  7460.38019089,  4569.88960718,\n",
       "        6565.82131444,  5393.65711762,  3170.92834644,  9909.02794054,\n",
       "       11892.86708826, 33864.50143094, 13512.55711722,  9033.39104747,\n",
       "        3727.08287513, 25733.46328556,  7468.46421877, 11332.30427904,\n",
       "        1307.7745494 ,  5449.82852812,  2240.73535182,  3262.81572093,\n",
       "        5769.83444975, 25363.17695312, 13288.08100583, 10885.36674966,\n",
       "        6947.80948289, 33829.84418488,  2739.45269704, 31129.02043028,\n",
       "       29974.35041116,  2977.84187149, 11382.00016991, 31827.42390982,\n",
       "        9313.0272639 , 11052.83701352,  2200.79128551, 33620.70335628,\n",
       "       27385.48707788, 13604.00121999, 13377.59257267, 15037.11602216,\n",
       "        8689.17560838,  2607.43379598, 13958.17310178,  9009.0957799 ,\n",
       "       37540.24816876, 26505.49789354, 11757.93702902, -1448.41163397,\n",
       "        3467.10661888,  8082.08389604,  9810.17425584,  4474.61072153,\n",
       "        8644.83133821,  5832.61957529, 13183.62039808,  9977.79956338,\n",
       "       14285.98424279,   548.99541179,  7898.96341906, 13754.94070928,\n",
       "        6759.91046883, 12763.04509979,  3459.9445261 , 35420.25167352,\n",
       "       25560.87770311, 15148.00691898, 38346.75428561, 16391.73753712,\n",
       "       13424.15494574,  4012.46031575, 34185.39997506,  9926.62382839,\n",
       "       27393.63575344,  6059.31709935, 30963.55508715, 10582.55311572,\n",
       "       25766.0190806 , 11747.73891598, 13694.13021563,  3917.45469313,\n",
       "        8152.76169425, 13392.82984382, 29009.65631494,  5190.2929138 ,\n",
       "        1481.99252792, 14054.87479384, 11443.00780102, 15079.69150218,\n",
       "       15831.32843546, 38749.74151144, 14171.76253796, 13335.57283856,\n",
       "        3769.88834248, 32807.68434555,  5138.95318337,  5326.19016577,\n",
       "       13824.76068391, 16617.59689358,  8543.4200036 , 11262.72326979,\n",
       "        -681.00299431,  6187.26728565, 13711.61649184,  4576.77943617,\n",
       "        3039.67224633,  5829.61630023, 10203.89578303,  1505.98779372,\n",
       "       12774.66402947,  3440.08353586,  5366.77682172,  2368.53339236,\n",
       "       34407.63284683, 12322.864822  ,  3073.49037822, 10324.96169934,\n",
       "        6587.17753163, 37681.85000328, 34602.10606496,  1930.79973061,\n",
       "       15529.63346224, 35657.65722997,  6732.64842042,  8083.00141991,\n",
       "        4237.22280499,  8167.8057578 ,  4735.23911827, 14105.35412354,\n",
       "       37780.22860816, 11648.13772773,  7972.96549574, 37980.50395833,\n",
       "        7165.61459188, 12635.06255592, 10613.37684837,  7425.1949106 ,\n",
       "       32149.78793254, 26614.18930712,  5359.0036356 ,  4293.47495984,\n",
       "       -1128.18865935, 10881.11048853,  2197.02153088,  5022.96508503,\n",
       "        9659.95130279, 37858.25876075,  9028.19396919, 31504.6148659 ,\n",
       "       13108.43124896, 11244.03524603, 12946.87972422, 16445.21102575,\n",
       "        3246.73347509, 15444.72222793,  3445.32720676, 10430.2020225 ,\n",
       "       14076.69780958, 11449.68587007, 14820.8858582 ,  9435.73810442,\n",
       "        9446.0456749 , 35496.0875569 ,  2039.38550563, 32179.5563521 ,\n",
       "        4520.61068893,  5898.43335292, 29947.31761747,  7482.25714865,\n",
       "       27815.06410842,  7406.39305232,  9697.2211004 ,  7494.97515951,\n",
       "        6721.45241896, 10288.0665876 , 10969.39336898, 15318.22227688,\n",
       "       11107.41045346, 30390.91424647,  1252.03163326, 10798.66064762,\n",
       "       26537.36045497,  5371.83093237,  9805.58019786,  9791.84623566,\n",
       "       11782.44653929,  5648.14848835,  5227.96251977, 29593.92173756,\n",
       "        9217.86329003,  2228.23098912, 13814.8006487 , 11514.49774331,\n",
       "        1872.13869498,  6395.43763599,  2157.6107442 ,  5124.65871984,\n",
       "       14770.29256544,  7859.19700795, 11616.62092585, 35490.62623845,\n",
       "       15545.00990391,  4546.20544192,  7983.82370036,  3359.08674766,\n",
       "        9412.5755255 , 14815.18539387, 16522.606697  , 14722.36113961,\n",
       "        8775.35687344, 15055.58685722,  8779.97146924,  9514.18202211,\n",
       "        5921.35623386, 27394.93674651,  4076.49842736, 16167.93907111,\n",
       "        1509.12439559, 31694.02184195,  8553.93312146, 13667.91794056,\n",
       "       27927.64070854, 11162.80530101, 33004.70670858,  4337.02145146,\n",
       "        3529.22630861, 24908.96571152, 26887.50124555, 32815.23174311,\n",
       "        6966.91729674,  8610.95074053, 30421.67994068, 13301.52968381,\n",
       "       14217.67231626, 15902.56487532, 27334.11748878, 27768.87217514,\n",
       "       35899.48828121,  8100.63128682,  7144.99693498,  7789.3276902 ,\n",
       "       13583.16378064,  9855.55436581, 14176.01897959, 34352.13096479,\n",
       "       34237.43178348, 12824.96883322,  9245.8764461 ,  2841.27973693,\n",
       "        9041.69982444, 27052.01890462,  5160.14548326, 33218.55940981,\n",
       "        3495.95512509,  7964.1817792 , 30626.92569158, 32976.88441761,\n",
       "        8790.9206622 ,  7276.27295062, 13798.66039073, 11257.54814868,\n",
       "       13087.1035301 ,  7590.96942579, 10986.3092768 , 15302.44898457,\n",
       "       29338.18467066, 12767.83463337, 11753.5383328 ,  6781.4377481 ,\n",
       "        6063.52194146,  8443.30081255, 10299.04410737,  8292.52211359,\n",
       "        4332.62275524,  8680.26875851, 10664.846165  ,  6055.41912591,\n",
       "       13848.70361758, 14289.19374589, 24860.75900658, 15955.05246181,\n",
       "        4272.60193938, 11204.81407444, 12310.96762422, 16832.22532292,\n",
       "       11953.58718592,  6446.50799835, 13127.18897813, 29689.90049953,\n",
       "       16557.33619922,  9984.91166655, 10892.93362948, 10836.16790295,\n",
       "       10951.7865366 ,  4577.38810874, 34885.49244125])"
      ]
     },
     "execution_count": 157,
     "metadata": {},
     "output_type": "execute_result"
    }
   ],
   "source": [
    "y_pred=name.predict(x_train)\n",
    "y_pred"
   ]
  },
  {
   "cell_type": "code",
   "execution_count": 158,
   "id": "e4e0ca90",
   "metadata": {},
   "outputs": [
    {
     "data": {
      "text/plain": [
       "array([ 5871.0510691 ,  5934.84782584, 10072.27868001, 11713.03268781,\n",
       "        7443.36918218, 10294.71662421,  4373.37882537, 30807.97586753,\n",
       "        2117.16728226,  7965.86417274, 34535.00390066,   539.38903762,\n",
       "        7930.90976867, 29443.96054192, 12459.43953168,  7975.72797919,\n",
       "       12536.75576762, 35693.98366864,  8003.83913974,  -523.32922594,\n",
       "       28864.88133915, 29651.87751837, 15536.23691339,  9503.92831915,\n",
       "        3651.13660507,  5783.53566676, 26832.67760123,  4033.87002068,\n",
       "        2840.52862926,  6322.45173414, 32460.1508925 , 12291.20256973,\n",
       "       38375.13714887,  4227.94748179, 27460.71337557, 13939.95584886,\n",
       "        9961.1547716 , 28632.31166859, 33030.27316251,  8083.76628958,\n",
       "       11557.94696307,  1385.91310607, 23567.14429573,  7715.58022128,\n",
       "       27921.66724781, 39155.75250317, 11233.72228093,  5716.14887257,\n",
       "       13556.83168199,  8470.13817761,  7198.33097035,  8980.33707515,\n",
       "       33290.8865826 , 26102.16558095, 36939.86960532,  4749.07864077,\n",
       "       13165.88373699,  2827.88183146, 10928.67661055, 11117.85084163,\n",
       "        1144.0457411 , 29207.59543576,  9093.25429665, 32897.80388817,\n",
       "        9398.52830862,  4851.96912989, 25030.07840095, 30870.35026726,\n",
       "       10867.79999504,  8481.02713696, 14864.33507796,  8556.49887214,\n",
       "        9841.00610539, 30578.54389247,  2681.39387893, 10262.49862602,\n",
       "       37725.40450956,  5005.89905319, 10071.0134994 ,  3206.30982333,\n",
       "       10220.93870208,  8975.45846556, 34999.83438151, 26750.34423388,\n",
       "       29602.57145667, 33617.80687539,  6035.60114476, 28979.91367143,\n",
       "       11701.76828177, 14249.92654991,  2358.61918226,  6112.3955116 ,\n",
       "        5245.0065396 ,  9291.4394495 , 14482.81574969, 10875.94839683,\n",
       "        2885.41035894, 28403.79420209, 14992.62439723, 13381.42969021,\n",
       "       30488.96029273, 10672.7863284 ,    98.7441864 , 26917.7794179 ,\n",
       "       15315.70652367, 12982.37818092,  2540.23919405, 24737.75100805,\n",
       "       10976.15210412,  8442.85301642,  3898.94146908,  2143.53428025,\n",
       "       10312.87995125,  9030.18378463,  6083.52329807, 11107.61149522,\n",
       "        8085.12456217,  4739.01713006, 16313.51551304,  3661.87699503,\n",
       "       11784.74993802, 10249.88631353, 14189.8393384 ,  4995.54006371,\n",
       "        1316.77375865,  8304.55959232, 12665.19092502,  1201.71670368,\n",
       "         -75.14088146, 11272.79395078,  8638.39296714, 37333.10095524,\n",
       "       10327.07963465,  8976.15949749, 12440.92630764,  5200.17548018,\n",
       "        8480.14960544, 11720.61723394,  8869.20197472,  9626.93631768,\n",
       "       10028.13379472,  9143.39345925,  6738.31948492, -1206.1862551 ,\n",
       "       13312.10232145, 34794.10771801,  7941.08710358, 15053.3759232 ,\n",
       "        8362.76566293,   506.97567768,  6625.0009474 ,  9988.5361893 ,\n",
       "       15453.01825825, 12235.98029191, 13760.37248763, 39013.35934296,\n",
       "       11025.07574999, 14058.18458554,  -600.62280792, 11437.13143164,\n",
       "       36171.50280294, 13534.19293864,  3195.5931407 ,  1357.11109922,\n",
       "        7036.25966138, 25773.73014567,  7744.49888717, 13280.11997888,\n",
       "       11684.75727307,  2767.21670211,  6587.54723882, 27287.37819311,\n",
       "        5079.63606271, 29049.8087724 , 11086.60864606,  8563.66155947,\n",
       "        -802.11568374, 11988.30303148, 39841.99270021, 26515.74893324,\n",
       "        6839.5653236 , 11082.13863453,  2252.59655664, 24363.29174385,\n",
       "        7881.71675473,  9080.28579866,  6174.93140787, 10697.82308624,\n",
       "        2825.62850846,  2245.33586484, 24686.69725863, 10619.42304595,\n",
       "       36690.83780507, 11188.830522  ,  4856.37519427, 39653.50523063,\n",
       "        8020.94419597, 30804.11536343,  3162.89522914, 29380.51591933,\n",
       "        8568.70865398,  8368.40449632,  8212.58211485, 12551.48722299,\n",
       "       33198.70199595,  5800.17365851,  4766.45820106,  8654.02306544,\n",
       "       17269.10401202,  9510.16445259, 12199.75997462,  1962.09192365,\n",
       "        2826.52205122, 11948.33273484,  6917.54451147, 32914.22754215,\n",
       "       23427.72167324, 37073.02367778,  4115.5137308 , 35768.82856586,\n",
       "        8499.77287133,  2318.52731408,  7689.85215829, 15254.51755874,\n",
       "       33082.01055445, 35720.13567519,  9242.94172084, 16676.80772849,\n",
       "       31629.97437956, 12095.44271508,  4415.45716614, 11796.42822311,\n",
       "        9387.41821147,  9728.76620134,  8673.15050181, 25680.33345429,\n",
       "       11562.67821791, 39011.3739309 ,  7003.78920242, 33462.23230165,\n",
       "       15977.59362151, 25649.31586755, 11269.94754562,  2674.04577517,\n",
       "       33539.15286668, 36695.37921016,   825.67189479,  1303.37585318,\n",
       "       12335.47713449, 14044.46438535, 10964.64923397,  7657.23848919,\n",
       "        4330.08745778,   385.69541643, 10727.12121698, 30021.23357131,\n",
       "        1088.6660771 ,  3845.91958761,  3143.5232684 , 25591.08915906,\n",
       "       10066.39110746, 11640.64073382,  3488.82576965, 10590.13467286,\n",
       "       12892.24767762,  2615.42188812,  6016.35089581, 14656.47564765,\n",
       "        4561.37708493,  9467.73979119, 10477.05252357, 13495.64553453,\n",
       "       10708.70365491,  4902.47009819,  8692.12350827, 31580.69395366,\n",
       "       10043.94240937, 11404.51776254,  2573.62676284,  5595.99703685,\n",
       "        7853.50974456, 11288.31999642, 12425.34630121, 11562.54102104,\n",
       "       26992.23705413, 10488.66183586,  4529.66131718,  9516.38741638,\n",
       "       27070.08780357,  2007.11608843, 13889.85383483,  4137.81848614,\n",
       "        8071.062961  ,  1138.19224201, 15324.77621337,  4204.27276058,\n",
       "        4938.11365325,   166.203209  , 11358.09933222, 12034.43508397,\n",
       "       11426.70273675, 14989.54847075,  9650.86293143, 12556.03478161,\n",
       "       29657.13288256,  3889.44153705, 11376.50460647,  8077.44991306,\n",
       "       12945.84323008, 14533.36585286,  2129.52770221,  8149.2436919 ,\n",
       "       11603.1150706 , 37771.33675416, 16565.70485698, 33448.8688815 ,\n",
       "         588.66795587,  3396.0371563 , 11496.67431675,  6635.24029382,\n",
       "         831.1062503 ,  6657.98523681, 15035.00513425,  5367.42113522,\n",
       "       12000.20336749, 33357.37486738, 30604.0687667 ,  5691.95681564,\n",
       "       28390.78118737,  6649.31014852, 29943.79755424, 14309.10123548,\n",
       "       11644.23975429, 13024.3637483 , 27638.62719215,  6993.7801171 ,\n",
       "       28550.727761  , 15716.15289304,  7566.73620998,  9169.19425192,\n",
       "        5743.65547309,  1677.31128182,  7519.3755331 , 31749.63194756,\n",
       "       11179.35066678,  6220.94298244,  5111.08315918, 17977.70587121,\n",
       "       15780.0813069 , 31585.75785323, 11429.08455234,  6502.94762131,\n",
       "        8667.14402995,  6387.33482043,  9416.53030349,  3187.36727007,\n",
       "       33374.33804959,   638.18468389, 14843.26316988,  3123.59239224,\n",
       "       31048.92479552, 33239.01594995,  8019.83612776, 31987.03599636,\n",
       "       11148.38090653, 10133.5891214 , 27947.64789792, 14364.98360488,\n",
       "       -1568.65182471,  7293.35053549,  8600.02082159, 11919.04689192,\n",
       "        9619.13396274, 12050.89034676, 12321.32661371, 26926.05356931,\n",
       "       14756.99018169, 26483.69527536, 10795.74874069,  6994.2661576 ,\n",
       "        7346.14647201,  9530.71453899, 35221.55644711, 14591.93772637,\n",
       "       38025.62690262,  8597.73035001, 10503.56346431,  3319.77079594,\n",
       "        3374.40284254,  7973.7028414 , 35700.39175803,  7297.33077593,\n",
       "        4302.26125354])"
      ]
     },
     "execution_count": 158,
     "metadata": {},
     "output_type": "execute_result"
    }
   ],
   "source": [
    "y_test_pred=name.predict(x_test)\n",
    "y_test_pred"
   ]
  },
  {
   "cell_type": "code",
   "execution_count": 161,
   "id": "ee8f14d0",
   "metadata": {},
   "outputs": [
    {
     "name": "stdout",
     "output_type": "stream",
     "text": [
      "r2_score on training data 73.80013234729542\n"
     ]
    }
   ],
   "source": [
    "from sklearn import metrics\n",
    "print(\"r2_score on training data\",metrics.r2_score(y_train,y_pred)*100)"
   ]
  },
  {
   "cell_type": "code",
   "execution_count": 164,
   "id": "62b67be0",
   "metadata": {},
   "outputs": [
    {
     "name": "stdout",
     "output_type": "stream",
     "text": [
      "r2_score: 0.7841526248539379\n",
      "Mean absolute error:- 4050.641884455124\n",
      "mean squared error:- 30750841.825003307\n",
      "Root mean squared error:- 5545.344157489534\n"
     ]
    }
   ],
   "source": [
    "print(\"r2_score:\",metrics.r2_score(y_test,y_test_pred))\n",
    "print(\"Mean absolute error:-\",mean_absolute_error(y_test,pred))\n",
    "print(\"mean squared error:-\",mean_squared_error(y_test,pred))\n",
    "print(\"Root mean squared error:-\",np.sqrt(mean_squared_error(y_test,pred)))"
   ]
  },
  {
   "cell_type": "markdown",
   "id": "8fee4b95",
   "metadata": {},
   "source": [
    "r2_score using linear regression is 78.41%"
   ]
  },
  {
   "cell_type": "code",
   "execution_count": 169,
   "id": "ac5c64cb",
   "metadata": {},
   "outputs": [
    {
     "name": "stdout",
     "output_type": "stream",
     "text": [
      "[0.76293327 0.71210011 0.77993924 0.73116103 0.76514374]\n",
      "0.7502554764991546\n",
      "Difference between R2 score and cross validation score is : 3.38971483547833\n"
     ]
    }
   ],
   "source": [
    "#finding cv score\n",
    "from sklearn.model_selection import cross_val_score\n",
    "score=cross_val_score(name,x3,y2)\n",
    "print(score)\n",
    "print(score.mean())\n",
    "print(\"Difference between R2 score and cross validation score is :\",(metrics.r2_score(y_test,y_test_pred)-score.mean())*100)"
   ]
  },
  {
   "cell_type": "code",
   "execution_count": 201,
   "id": "217eab48",
   "metadata": {},
   "outputs": [
    {
     "name": "stdout",
     "output_type": "stream",
     "text": [
      "R2_score: 0.8919693435102484\n",
      "R2_score on training Data: 97.12802079118687\n",
      "Mean absolute error:- 2364.1757630603565\n",
      "mean squared error:- 15607937.442147734\n",
      "Root mean squared error:- 3950.6882238602093\n"
     ]
    }
   ],
   "source": [
    "#modelling with RandomForestRegressor\n",
    "x_train,x_test,y_train,y_test=train_test_split(x3,y2,test_size=0.30,random_state=maxRs)\n",
    "RFR=RandomForestRegressor()\n",
    "RFR.fit(x_train,y_train)\n",
    "pred_RFR=RFR.predict(x_test)\n",
    "pred_train=RFR.predict(x_train)\n",
    "print('R2_score:',metrics.r2_score(y_test,pred_RFR))\n",
    "print(\"R2_score on training Data:\",metrics.r2_score(y_train,pred_train)*100)\n",
    "print(\"Mean absolute error:-\",mean_absolute_error(y_test,pred_RFR))\n",
    "print(\"mean squared error:-\",mean_squared_error(y_test,pred_RFR))\n",
    "print(\"Root mean squared error:-\",np.sqrt(mean_squared_error(y_test,pred_RFR)))"
   ]
  },
  {
   "cell_type": "markdown",
   "id": "f11de1bc",
   "metadata": {},
   "source": [
    "The r2_score using RandomForestRegressor is 89.91%"
   ]
  },
  {
   "cell_type": "code",
   "execution_count": 203,
   "id": "a92c8033",
   "metadata": {},
   "outputs": [
    {
     "name": "stdout",
     "output_type": "stream",
     "text": [
      "[0.85012342 0.78617748 0.85504216 0.830394   0.85098772]\n",
      "0.8345449542233361\n",
      "Difference between R2 score and cross validation score is : 5.742438928691229\n"
     ]
    }
   ],
   "source": [
    "#finding cv score\n",
    "from sklearn.model_selection import cross_val_score\n",
    "score1=cross_val_score(RFR,x3,y2)\n",
    "print(score1)\n",
    "print(score1.mean())\n",
    "print(\"Difference between R2 score and cross validation score is :\",(metrics.r2_score(y_test,pred_RFR)-score1.mean())*100)"
   ]
  },
  {
   "cell_type": "code",
   "execution_count": 209,
   "id": "76753c1b",
   "metadata": {},
   "outputs": [
    {
     "name": "stdout",
     "output_type": "stream",
     "text": [
      "R2_score: 0.9099786139478835\n",
      "R2_score on training Data: 89.20359190274367\n",
      "Mean absolute error:- 2252.6989267157833\n",
      "mean squared error:- 13006013.363347055\n",
      "Root mean squared error:- 3606.3850825095005\n"
     ]
    }
   ],
   "source": [
    "#modelling with GradientBoostingRegressor\n",
    "x_train,x_test,y_train,y_test=train_test_split(x3,y2,test_size=0.30,random_state=maxRs)\n",
    "gbr=GradientBoostingRegressor()\n",
    "gbr.fit(x_train,y_train)\n",
    "pred_gbr=gbr.predict(x_test)\n",
    "pred_train=gbr.predict(x_train)\n",
    "print('R2_score:',metrics.r2_score(y_test,pred_gbr))\n",
    "print(\"R2_score on training Data:\",metrics.r2_score(y_train,pred_train)*100)\n",
    "print(\"Mean absolute error:-\",mean_absolute_error(y_test,pred_gbr))\n",
    "print(\"mean squared error:-\",mean_squared_error(y_test,pred_gbr))\n",
    "print(\"Root mean squared error:-\",np.sqrt(mean_squared_error(y_test,pred_gbr)))"
   ]
  },
  {
   "cell_type": "markdown",
   "id": "ca3450df",
   "metadata": {},
   "source": [
    "The r2_score using   GradientBoostingRegressor is 90.99%"
   ]
  },
  {
   "cell_type": "code",
   "execution_count": 234,
   "id": "abca286c",
   "metadata": {},
   "outputs": [
    {
     "name": "stdout",
     "output_type": "stream",
     "text": [
      "[0.99993822 0.99993792 0.99991214 0.99994397 0.99992789]\n",
      "0.9999320280512467\n",
      "Difference between R2 score and cross validation score is : 5.684043443698883e-05\n"
     ]
    }
   ],
   "source": [
    "#finding cv score\n",
    "from sklearn.model_selection import cross_val_score\n",
    "score3=cross_val_score(gbr,x3,y2)\n",
    "print(score3)\n",
    "print(score3.mean())\n",
    "print(\"Difference between R2 score and cross validation score is :\",(metrics.r2_score(y_test,pred_gbr)-score3.mean())*100)"
   ]
  },
  {
   "cell_type": "code",
   "execution_count": 212,
   "id": "391c7138",
   "metadata": {},
   "outputs": [
    {
     "name": "stdout",
     "output_type": "stream",
     "text": [
      "R2_score: 0.8074087465874074\n",
      "R2_score on training Data: 72.67659477424125\n",
      "Mean absolute error:- 3768.678581093416\n",
      "mean squared error:- 27824992.76447263\n",
      "Root mean squared error:- 5274.940072121448\n"
     ]
    }
   ],
   "source": [
    "#modelling with lasso\n",
    "x_train,x_test,y_train,y_test=train_test_split(x3,y2,test_size=0.30,random_state=maxRs)\n",
    "las=Lasso()\n",
    "las.fit(x_train,y_train)\n",
    "pred_las=las.predict(x_test)\n",
    "pred_train=las.predict(x_train)\n",
    "print('R2_score:',metrics.r2_score(y_test,pred_las))\n",
    "print(\"R2_score on training Data:\",metrics.r2_score(y_train,pred_train)*100)\n",
    "print(\"Mean absolute error:-\",mean_absolute_error(y_test,pred_las))\n",
    "print(\"mean squared error:-\",mean_squared_error(y_test,pred_las))\n",
    "print(\"Root mean squared error:-\",np.sqrt(mean_squared_error(y_test,pred_las)))"
   ]
  },
  {
   "cell_type": "markdown",
   "id": "a47de9da",
   "metadata": {},
   "source": [
    "The r2_score using lasso is 80.74%"
   ]
  },
  {
   "cell_type": "code",
   "execution_count": 213,
   "id": "264d5467",
   "metadata": {},
   "outputs": [
    {
     "name": "stdout",
     "output_type": "stream",
     "text": [
      "[0.76293545 0.71212641 0.77991407 0.73115666 0.76515068]\n",
      "0.7502566522043629\n",
      "Difference between R2 score and cross validation score is : 5.715209438304447\n"
     ]
    }
   ],
   "source": [
    "#finding cv score\n",
    "from sklearn.model_selection import cross_val_score\n",
    "score4=cross_val_score(las,x3,y2)\n",
    "print(score4)\n",
    "print(score4.mean())\n",
    "print(\"Difference between R2 score and cross validation score is :\",(metrics.r2_score(y_test,pred_las)-score4.mean())*100)"
   ]
  },
  {
   "cell_type": "code",
   "execution_count": 214,
   "id": "42d048a2",
   "metadata": {},
   "outputs": [
    {
     "name": "stdout",
     "output_type": "stream",
     "text": [
      "R2_score: 0.807302307649663\n",
      "R2_score on training Data: 72.67650957385598\n",
      "Mean absolute error:- 3771.1818614937165\n",
      "mean squared error:- 27840370.73527927\n",
      "Root mean squared error:- 5276.397514903447\n"
     ]
    }
   ],
   "source": [
    "#modelling with Ridge\n",
    "x_train,x_test,y_train,y_test=train_test_split(x3,y2,test_size=0.30,random_state=maxRs)\n",
    "rd=Ridge()\n",
    "rd.fit(x_train,y_train)\n",
    "pred_rd=rd.predict(x_test)\n",
    "pred_train=rd.predict(x_train)\n",
    "print('R2_score:',metrics.r2_score(y_test,pred_rd))\n",
    "print(\"R2_score on training Data:\",metrics.r2_score(y_train,pred_train)*100)\n",
    "print(\"Mean absolute error:-\",mean_absolute_error(y_test,pred_rd))\n",
    "print(\"mean squared error:-\",mean_squared_error(y_test,pred_rd))\n",
    "print(\"Root mean squared error:-\",np.sqrt(mean_squared_error(y_test,pred_rd)))"
   ]
  },
  {
   "cell_type": "markdown",
   "id": "dc61db21",
   "metadata": {},
   "source": [
    "The r2_score using ridge is 80.73%"
   ]
  },
  {
   "cell_type": "code",
   "execution_count": 215,
   "id": "5a4fa519",
   "metadata": {},
   "outputs": [
    {
     "name": "stdout",
     "output_type": "stream",
     "text": [
      "[0.76291284 0.71216153 0.77984365 0.73122976 0.76514333]\n",
      "0.7502582211838768\n",
      "Difference between R2 score and cross validation score is : 5.70440864657863\n"
     ]
    }
   ],
   "source": [
    "#finding cv score\n",
    "from sklearn.model_selection import cross_val_score\n",
    "score5=cross_val_score(rd,x3,y2)\n",
    "print(score5)\n",
    "print(score5.mean())\n",
    "print(\"Difference between R2 score and cross validation score is :\",(metrics.r2_score(y_test,pred_rd)-score5.mean())*100)"
   ]
  },
  {
   "cell_type": "code",
   "execution_count": 216,
   "id": "71e13de1",
   "metadata": {},
   "outputs": [
    {
     "name": "stdout",
     "output_type": "stream",
     "text": [
      "R2_score: 0.7873728716952558\n",
      "R2_score on training Data: 100.0\n",
      "Mean absolute error:- 2464.3796077608145\n",
      "mean squared error:- 30719714.43030891\n",
      "Root mean squared error:- 5542.536822638972\n"
     ]
    }
   ],
   "source": [
    "#modelling with DecisionTreeRegressor\n",
    "x_train,x_test,y_train,y_test=train_test_split(x3,y2,test_size=0.30,random_state=maxRs)\n",
    "dtr=DecisionTreeRegressor()\n",
    "dtr.fit(x_train,y_train)\n",
    "pred_dtr=dtr.predict(x_test)\n",
    "pred_train=dtr.predict(x_train)\n",
    "print('R2_score:',metrics.r2_score(y_test,pred_dtr))\n",
    "print(\"R2_score on training Data:\",metrics.r2_score(y_train,pred_train)*100)\n",
    "print(\"Mean absolute error:-\",mean_absolute_error(y_test,pred_dtr))\n",
    "print(\"mean squared error:-\",mean_squared_error(y_test,pred_dtr))\n",
    "print(\"Root mean squared error:-\",np.sqrt(mean_squared_error(y_test,pred_dtr)))"
   ]
  },
  {
   "cell_type": "markdown",
   "id": "bbf32720",
   "metadata": {},
   "source": [
    "The r2_score using DecisionTreeRegressor is  78.73%"
   ]
  },
  {
   "cell_type": "code",
   "execution_count": 217,
   "id": "21c21d85",
   "metadata": {},
   "outputs": [
    {
     "name": "stdout",
     "output_type": "stream",
     "text": [
      "[0.7787429  0.65746733 0.62900835 0.72382087 0.64784603]\n",
      "0.6873770954154763\n",
      "Difference between R2 score and cross validation score is : 9.999577627977951\n"
     ]
    }
   ],
   "source": [
    "#finding cv score\n",
    "from sklearn.model_selection import cross_val_score\n",
    "score6=cross_val_score(dtr,x3,y2)\n",
    "print(score6)\n",
    "print(score6.mean())\n",
    "print(\"Difference between R2 score and cross validation score is :\",(metrics.r2_score(y_test,pred_dtr)-score6.mean())*100)"
   ]
  },
  {
   "cell_type": "code",
   "execution_count": 218,
   "id": "80981c1c",
   "metadata": {},
   "outputs": [
    {
     "name": "stdout",
     "output_type": "stream",
     "text": [
      "R2_score: -0.06983437227520017\n",
      "R2_score on training Data: -9.320726714959825\n",
      "Mean absolute error:- 8209.928181202013\n",
      "mean squared error:- 154566384.19590434\n",
      "Root mean squared error:- 12432.47297185497\n"
     ]
    }
   ],
   "source": [
    "#modelling with SVR\n",
    "x_train,x_test,y_train,y_test=train_test_split(x3,y2,test_size=0.30,random_state=maxRs)\n",
    "svr=SVR()\n",
    "svr.fit(x_train,y_train)\n",
    "pred_svr=svr.predict(x_test)\n",
    "pred_train=svr.predict(x_train)\n",
    "print('R2_score:',metrics.r2_score(y_test,pred_svr))\n",
    "print(\"R2_score on training Data:\",metrics.r2_score(y_train,pred_train)*100)\n",
    "print(\"Mean absolute error:-\",mean_absolute_error(y_test,pred_svr))\n",
    "print(\"mean squared error:-\",mean_squared_error(y_test,pred_svr))\n",
    "print(\"Root mean squared error:-\",np.sqrt(mean_squared_error(y_test,pred_svr)))"
   ]
  },
  {
   "cell_type": "markdown",
   "id": "0c4de0d0",
   "metadata": {},
   "source": [
    "r2_score is very less using SVR"
   ]
  },
  {
   "cell_type": "code",
   "execution_count": 219,
   "id": "1fb953b0",
   "metadata": {},
   "outputs": [
    {
     "name": "stdout",
     "output_type": "stream",
     "text": [
      "[-0.10957894 -0.10838446 -0.06945799 -0.09771175 -0.1003427 ]\n",
      "-0.09709516957620452\n",
      "Difference between R2 score and cross validation score is : 2.726079730100435\n"
     ]
    }
   ],
   "source": [
    "#finding cv score\n",
    "from sklearn.model_selection import cross_val_score\n",
    "score7=cross_val_score(svr,x3,y2)\n",
    "print(score7)\n",
    "print(score7.mean())\n",
    "print(\"Difference between R2 score and cross validation score is :\",(metrics.r2_score(y_test,pred_svr)-score7.mean())*100)"
   ]
  },
  {
   "cell_type": "code",
   "execution_count": 220,
   "id": "bf84b3ad",
   "metadata": {},
   "outputs": [
    {
     "name": "stdout",
     "output_type": "stream",
     "text": [
      "R2_score: 0.8679435778097473\n",
      "R2_score on training Data: 100.0\n",
      "Mean absolute error:- 2306.6826212228507\n",
      "mean squared error:- 19079106.27734493\n",
      "Root mean squared error:- 4367.963630497045\n"
     ]
    }
   ],
   "source": [
    "#modelling with ExtraTreesRegressor\n",
    "x_train,x_test,y_train,y_test=train_test_split(x3,y2,test_size=0.30,random_state=maxRs)\n",
    "etr=ExtraTreesRegressor()\n",
    "etr.fit(x_train,y_train)\n",
    "pred_etr=etr.predict(x_test)\n",
    "pred_train=etr.predict(x_train)\n",
    "print('R2_score:',metrics.r2_score(y_test,pred_etr))\n",
    "print(\"R2_score on training Data:\",metrics.r2_score(y_train,pred_train)*100)\n",
    "print(\"Mean absolute error:-\",mean_absolute_error(y_test,pred_etr))\n",
    "print(\"mean squared error:-\",mean_squared_error(y_test,pred_etr))\n",
    "print(\"Root mean squared error:-\",np.sqrt(mean_squared_error(y_test,pred_etr)))"
   ]
  },
  {
   "cell_type": "markdown",
   "id": "f79136ed",
   "metadata": {},
   "source": [
    "The r2_score using ExtraTreesRegressor is 86.79%"
   ]
  },
  {
   "cell_type": "code",
   "execution_count": 221,
   "id": "ff4b4788",
   "metadata": {},
   "outputs": [
    {
     "name": "stdout",
     "output_type": "stream",
     "text": [
      "[0.83675597 0.75473052 0.83341817 0.81100562 0.84453189]\n",
      "0.816088432509963\n",
      "Difference between R2 score and cross validation score is : 5.18551452997843\n"
     ]
    }
   ],
   "source": [
    "#finding cv score\n",
    "from sklearn.model_selection import cross_val_score\n",
    "score8=cross_val_score(etr,x3,y2)\n",
    "print(score8)\n",
    "print(score8.mean())\n",
    "print(\"Difference between R2 score and cross validation score is :\",(metrics.r2_score(y_test,pred_etr)-score8.mean())*100)"
   ]
  },
  {
   "cell_type": "markdown",
   "id": "e5c38650",
   "metadata": {},
   "source": [
    "# still model is giving less performance"
   ]
  },
  {
   "cell_type": "markdown",
   "id": "11abae2f",
   "metadata": {},
   "source": [
    "we have to drop the bmi column, data is not normalized,outliers are present,correlation with target variable is less.After dropping the bmi column,we are building the model again."
   ]
  },
  {
   "cell_type": "code",
   "execution_count": 222,
   "id": "5f4edecb",
   "metadata": {},
   "outputs": [
    {
     "data": {
      "text/html": [
       "<div>\n",
       "<style scoped>\n",
       "    .dataframe tbody tr th:only-of-type {\n",
       "        vertical-align: middle;\n",
       "    }\n",
       "\n",
       "    .dataframe tbody tr th {\n",
       "        vertical-align: top;\n",
       "    }\n",
       "\n",
       "    .dataframe thead th {\n",
       "        text-align: right;\n",
       "    }\n",
       "</style>\n",
       "<table border=\"1\" class=\"dataframe\">\n",
       "  <thead>\n",
       "    <tr style=\"text-align: right;\">\n",
       "      <th></th>\n",
       "      <th>age</th>\n",
       "      <th>sex</th>\n",
       "      <th>bmi</th>\n",
       "      <th>children</th>\n",
       "      <th>smoker</th>\n",
       "      <th>region</th>\n",
       "    </tr>\n",
       "  </thead>\n",
       "  <tbody>\n",
       "    <tr>\n",
       "      <th>0</th>\n",
       "      <td>-1.440754</td>\n",
       "      <td>-1.004598</td>\n",
       "      <td>-0.449186</td>\n",
       "      <td>-1.075453</td>\n",
       "      <td>1.983897</td>\n",
       "      <td>1.351994</td>\n",
       "    </tr>\n",
       "    <tr>\n",
       "      <th>1</th>\n",
       "      <td>-1.511806</td>\n",
       "      <td>0.995423</td>\n",
       "      <td>0.533188</td>\n",
       "      <td>0.360517</td>\n",
       "      <td>-0.504058</td>\n",
       "      <td>0.446975</td>\n",
       "    </tr>\n",
       "    <tr>\n",
       "      <th>2</th>\n",
       "      <td>-0.801288</td>\n",
       "      <td>0.995423</td>\n",
       "      <td>0.404324</td>\n",
       "      <td>1.411721</td>\n",
       "      <td>-0.504058</td>\n",
       "      <td>0.446975</td>\n",
       "    </tr>\n",
       "    <tr>\n",
       "      <th>3</th>\n",
       "      <td>-0.446029</td>\n",
       "      <td>0.995423</td>\n",
       "      <td>-1.318596</td>\n",
       "      <td>-1.075453</td>\n",
       "      <td>-0.504058</td>\n",
       "      <td>-0.458045</td>\n",
       "    </tr>\n",
       "    <tr>\n",
       "      <th>4</th>\n",
       "      <td>-0.517081</td>\n",
       "      <td>0.995423</td>\n",
       "      <td>-0.285179</td>\n",
       "      <td>-1.075453</td>\n",
       "      <td>-0.504058</td>\n",
       "      <td>-0.458045</td>\n",
       "    </tr>\n",
       "    <tr>\n",
       "      <th>...</th>\n",
       "      <td>...</td>\n",
       "      <td>...</td>\n",
       "      <td>...</td>\n",
       "      <td>...</td>\n",
       "      <td>...</td>\n",
       "      <td>...</td>\n",
       "    </tr>\n",
       "    <tr>\n",
       "      <th>1303</th>\n",
       "      <td>0.761851</td>\n",
       "      <td>0.995423</td>\n",
       "      <td>0.064594</td>\n",
       "      <td>1.411721</td>\n",
       "      <td>-0.504058</td>\n",
       "      <td>-0.458045</td>\n",
       "    </tr>\n",
       "    <tr>\n",
       "      <th>1304</th>\n",
       "      <td>-1.511806</td>\n",
       "      <td>-1.004598</td>\n",
       "      <td>0.223581</td>\n",
       "      <td>-1.075453</td>\n",
       "      <td>-0.504058</td>\n",
       "      <td>-1.363065</td>\n",
       "    </tr>\n",
       "    <tr>\n",
       "      <th>1305</th>\n",
       "      <td>-1.511806</td>\n",
       "      <td>-1.004598</td>\n",
       "      <td>1.048641</td>\n",
       "      <td>-1.075453</td>\n",
       "      <td>-0.504058</td>\n",
       "      <td>0.446975</td>\n",
       "    </tr>\n",
       "    <tr>\n",
       "      <th>1306</th>\n",
       "      <td>-1.298651</td>\n",
       "      <td>-1.004598</td>\n",
       "      <td>-0.800632</td>\n",
       "      <td>-1.075453</td>\n",
       "      <td>-0.504058</td>\n",
       "      <td>1.351994</td>\n",
       "    </tr>\n",
       "    <tr>\n",
       "      <th>1307</th>\n",
       "      <td>1.543421</td>\n",
       "      <td>-1.004598</td>\n",
       "      <td>-0.253381</td>\n",
       "      <td>-1.075453</td>\n",
       "      <td>1.983897</td>\n",
       "      <td>-0.458045</td>\n",
       "    </tr>\n",
       "  </tbody>\n",
       "</table>\n",
       "<p>1308 rows × 6 columns</p>\n",
       "</div>"
      ],
      "text/plain": [
       "           age       sex       bmi  children    smoker    region\n",
       "0    -1.440754 -1.004598 -0.449186 -1.075453  1.983897  1.351994\n",
       "1    -1.511806  0.995423  0.533188  0.360517 -0.504058  0.446975\n",
       "2    -0.801288  0.995423  0.404324  1.411721 -0.504058  0.446975\n",
       "3    -0.446029  0.995423 -1.318596 -1.075453 -0.504058 -0.458045\n",
       "4    -0.517081  0.995423 -0.285179 -1.075453 -0.504058 -0.458045\n",
       "...        ...       ...       ...       ...       ...       ...\n",
       "1303  0.761851  0.995423  0.064594  1.411721 -0.504058 -0.458045\n",
       "1304 -1.511806 -1.004598  0.223581 -1.075453 -0.504058 -1.363065\n",
       "1305 -1.511806 -1.004598  1.048641 -1.075453 -0.504058  0.446975\n",
       "1306 -1.298651 -1.004598 -0.800632 -1.075453 -0.504058  1.351994\n",
       "1307  1.543421 -1.004598 -0.253381 -1.075453  1.983897 -0.458045\n",
       "\n",
       "[1308 rows x 6 columns]"
      ]
     },
     "execution_count": 222,
     "metadata": {},
     "output_type": "execute_result"
    }
   ],
   "source": [
    "x3"
   ]
  },
  {
   "cell_type": "code",
   "execution_count": 224,
   "id": "ab38044f",
   "metadata": {},
   "outputs": [
    {
     "data": {
      "text/plain": [
       "region     -0.007978\n",
       "sex         0.060242\n",
       "children    0.095170\n",
       "bmi         0.191523\n",
       "age         0.304541\n",
       "smoker      0.785115\n",
       "charges     1.000000\n",
       "Name: charges, dtype: float64"
      ]
     },
     "execution_count": 224,
     "metadata": {},
     "output_type": "execute_result"
    }
   ],
   "source": [
    "df1.corr().charges.sort_values()"
   ]
  },
  {
   "cell_type": "code",
   "execution_count": 229,
   "id": "50442153",
   "metadata": {},
   "outputs": [
    {
     "data": {
      "text/html": [
       "<div>\n",
       "<style scoped>\n",
       "    .dataframe tbody tr th:only-of-type {\n",
       "        vertical-align: middle;\n",
       "    }\n",
       "\n",
       "    .dataframe tbody tr th {\n",
       "        vertical-align: top;\n",
       "    }\n",
       "\n",
       "    .dataframe thead th {\n",
       "        text-align: right;\n",
       "    }\n",
       "</style>\n",
       "<table border=\"1\" class=\"dataframe\">\n",
       "  <thead>\n",
       "    <tr style=\"text-align: right;\">\n",
       "      <th></th>\n",
       "      <th>age</th>\n",
       "      <th>sex</th>\n",
       "      <th>children</th>\n",
       "      <th>smoker</th>\n",
       "      <th>region</th>\n",
       "      <th>charges</th>\n",
       "    </tr>\n",
       "  </thead>\n",
       "  <tbody>\n",
       "    <tr>\n",
       "      <th>0</th>\n",
       "      <td>19</td>\n",
       "      <td>0.0</td>\n",
       "      <td>0.000000</td>\n",
       "      <td>1.0</td>\n",
       "      <td>3.0</td>\n",
       "      <td>16884.92400</td>\n",
       "    </tr>\n",
       "    <tr>\n",
       "      <th>1</th>\n",
       "      <td>18</td>\n",
       "      <td>1.0</td>\n",
       "      <td>1.000000</td>\n",
       "      <td>0.0</td>\n",
       "      <td>2.0</td>\n",
       "      <td>1725.55230</td>\n",
       "    </tr>\n",
       "    <tr>\n",
       "      <th>2</th>\n",
       "      <td>28</td>\n",
       "      <td>1.0</td>\n",
       "      <td>1.732051</td>\n",
       "      <td>0.0</td>\n",
       "      <td>2.0</td>\n",
       "      <td>4449.46200</td>\n",
       "    </tr>\n",
       "    <tr>\n",
       "      <th>3</th>\n",
       "      <td>33</td>\n",
       "      <td>1.0</td>\n",
       "      <td>0.000000</td>\n",
       "      <td>0.0</td>\n",
       "      <td>1.0</td>\n",
       "      <td>21984.47061</td>\n",
       "    </tr>\n",
       "    <tr>\n",
       "      <th>4</th>\n",
       "      <td>32</td>\n",
       "      <td>1.0</td>\n",
       "      <td>0.000000</td>\n",
       "      <td>0.0</td>\n",
       "      <td>1.0</td>\n",
       "      <td>3866.85520</td>\n",
       "    </tr>\n",
       "    <tr>\n",
       "      <th>...</th>\n",
       "      <td>...</td>\n",
       "      <td>...</td>\n",
       "      <td>...</td>\n",
       "      <td>...</td>\n",
       "      <td>...</td>\n",
       "      <td>...</td>\n",
       "    </tr>\n",
       "    <tr>\n",
       "      <th>1333</th>\n",
       "      <td>50</td>\n",
       "      <td>1.0</td>\n",
       "      <td>1.732051</td>\n",
       "      <td>0.0</td>\n",
       "      <td>1.0</td>\n",
       "      <td>10600.54830</td>\n",
       "    </tr>\n",
       "    <tr>\n",
       "      <th>1334</th>\n",
       "      <td>18</td>\n",
       "      <td>0.0</td>\n",
       "      <td>0.000000</td>\n",
       "      <td>0.0</td>\n",
       "      <td>0.0</td>\n",
       "      <td>2205.98080</td>\n",
       "    </tr>\n",
       "    <tr>\n",
       "      <th>1335</th>\n",
       "      <td>18</td>\n",
       "      <td>0.0</td>\n",
       "      <td>0.000000</td>\n",
       "      <td>0.0</td>\n",
       "      <td>2.0</td>\n",
       "      <td>1629.83350</td>\n",
       "    </tr>\n",
       "    <tr>\n",
       "      <th>1336</th>\n",
       "      <td>21</td>\n",
       "      <td>0.0</td>\n",
       "      <td>0.000000</td>\n",
       "      <td>0.0</td>\n",
       "      <td>3.0</td>\n",
       "      <td>2007.94500</td>\n",
       "    </tr>\n",
       "    <tr>\n",
       "      <th>1337</th>\n",
       "      <td>61</td>\n",
       "      <td>0.0</td>\n",
       "      <td>0.000000</td>\n",
       "      <td>1.0</td>\n",
       "      <td>1.0</td>\n",
       "      <td>29141.36030</td>\n",
       "    </tr>\n",
       "  </tbody>\n",
       "</table>\n",
       "<p>1308 rows × 6 columns</p>\n",
       "</div>"
      ],
      "text/plain": [
       "      age  sex  children  smoker  region      charges\n",
       "0      19  0.0  0.000000     1.0     3.0  16884.92400\n",
       "1      18  1.0  1.000000     0.0     2.0   1725.55230\n",
       "2      28  1.0  1.732051     0.0     2.0   4449.46200\n",
       "3      33  1.0  0.000000     0.0     1.0  21984.47061\n",
       "4      32  1.0  0.000000     0.0     1.0   3866.85520\n",
       "...   ...  ...       ...     ...     ...          ...\n",
       "1333   50  1.0  1.732051     0.0     1.0  10600.54830\n",
       "1334   18  0.0  0.000000     0.0     0.0   2205.98080\n",
       "1335   18  0.0  0.000000     0.0     2.0   1629.83350\n",
       "1336   21  0.0  0.000000     0.0     3.0   2007.94500\n",
       "1337   61  0.0  0.000000     1.0     1.0  29141.36030\n",
       "\n",
       "[1308 rows x 6 columns]"
      ]
     },
     "execution_count": 229,
     "metadata": {},
     "output_type": "execute_result"
    }
   ],
   "source": [
    "x3=df1.drop(\"bmi\",axis=1)\n",
    "x3"
   ]
  },
  {
   "cell_type": "markdown",
   "id": "f14d24ca",
   "metadata": {},
   "source": [
    "Here we are dropping bmi column due to so many outliers, correlation with target variable is very less."
   ]
  },
  {
   "cell_type": "code",
   "execution_count": 230,
   "id": "29c85dc4",
   "metadata": {},
   "outputs": [
    {
     "data": {
      "text/plain": [
       "0       16884.92400\n",
       "1        1725.55230\n",
       "2        4449.46200\n",
       "3       21984.47061\n",
       "4        3866.85520\n",
       "           ...     \n",
       "1333    10600.54830\n",
       "1334     2205.98080\n",
       "1335     1629.83350\n",
       "1336     2007.94500\n",
       "1337    29141.36030\n",
       "Name: charges, Length: 1308, dtype: float64"
      ]
     },
     "execution_count": 230,
     "metadata": {},
     "output_type": "execute_result"
    }
   ],
   "source": [
    "y2"
   ]
  },
  {
   "cell_type": "code",
   "execution_count": 231,
   "id": "8f444590",
   "metadata": {},
   "outputs": [
    {
     "name": "stdout",
     "output_type": "stream",
     "text": [
      "R2_score: 0.9999325964555911\n",
      "R2_score on training Data: 99.99685860451524\n",
      "Mean absolute error:- 67.67079920453794\n",
      "mean squared error:- 9738.25707163186\n",
      "Root mean squared error:- 98.68260774641021\n"
     ]
    }
   ],
   "source": [
    "#modelling with GradientBoostingRegressor\n",
    "x_train,x_test,y_train,y_test=train_test_split(x3,y2,test_size=0.30,random_state=maxRs)\n",
    "gbr=GradientBoostingRegressor()\n",
    "gbr.fit(x_train,y_train)\n",
    "pred_gbr=gbr.predict(x_test)\n",
    "pred_train=gbr.predict(x_train)\n",
    "print('R2_score:',metrics.r2_score(y_test,pred_gbr))\n",
    "print(\"R2_score on training Data:\",metrics.r2_score(y_train,pred_train)*100)\n",
    "print(\"Mean absolute error:-\",mean_absolute_error(y_test,pred_gbr))\n",
    "print(\"mean squared error:-\",mean_squared_error(y_test,pred_gbr))\n",
    "print(\"Root mean squared error:-\",np.sqrt(mean_squared_error(y_test,pred_gbr)))"
   ]
  },
  {
   "cell_type": "markdown",
   "id": "3020b6bf",
   "metadata": {},
   "source": [
    "r2_score using GradientBoostingRegressor is 99.99%,before dropping bmi column,we got 90.99% r2_score."
   ]
  },
  {
   "cell_type": "code",
   "execution_count": 232,
   "id": "3525a8ab",
   "metadata": {},
   "outputs": [
    {
     "name": "stdout",
     "output_type": "stream",
     "text": [
      "[0.9999568  0.99997648 0.9999581  0.99998438 0.99996027]\n",
      "0.9999672078632423\n",
      "Difference between R2 score and cross validation score is : -0.0034611407651263804\n"
     ]
    }
   ],
   "source": [
    "#finding cv score\n",
    "from sklearn.model_selection import cross_val_score\n",
    "score3=cross_val_score(gbr,x3,y2)\n",
    "print(score3)\n",
    "print(score3.mean())\n",
    "print(\"Difference between R2 score and cross validation score is :\",(metrics.r2_score(y_test,pred_gbr)-score3.mean())*100)"
   ]
  },
  {
   "cell_type": "code",
   "execution_count": 233,
   "id": "4723bf1b",
   "metadata": {},
   "outputs": [
    {
     "name": "stdout",
     "output_type": "stream",
     "text": [
      "R2_score: 0.9999545098099235\n",
      "R2_score on training Data: 100.0\n",
      "Mean absolute error:- 29.89191553379014\n",
      "mean squared error:- 6572.282942785311\n",
      "Root mean squared error:- 81.06961787738555\n"
     ]
    }
   ],
   "source": [
    "#modelling with ExtraTreesRegressor\n",
    "x_train,x_test,y_train,y_test=train_test_split(x3,y2,test_size=0.30,random_state=maxRs)\n",
    "etr=ExtraTreesRegressor()\n",
    "etr.fit(x_train,y_train)\n",
    "pred_etr=etr.predict(x_test)\n",
    "pred_train=etr.predict(x_train)\n",
    "print('R2_score:',metrics.r2_score(y_test,pred_etr))\n",
    "print(\"R2_score on training Data:\",metrics.r2_score(y_train,pred_train)*100)\n",
    "print(\"Mean absolute error:-\",mean_absolute_error(y_test,pred_etr))\n",
    "print(\"mean squared error:-\",mean_squared_error(y_test,pred_etr))\n",
    "print(\"Root mean squared error:-\",np.sqrt(mean_squared_error(y_test,pred_etr)))"
   ]
  },
  {
   "cell_type": "code",
   "execution_count": 235,
   "id": "6f9e6757",
   "metadata": {},
   "outputs": [
    {
     "name": "stdout",
     "output_type": "stream",
     "text": [
      "[0.99996129 0.99997378 0.99998068 0.99997353 0.99996058]\n",
      "0.9999699711179957\n",
      "Difference between R2 score and cross validation score is : -0.0015461308072173274\n"
     ]
    }
   ],
   "source": [
    "#finding cv score\n",
    "from sklearn.model_selection import cross_val_score\n",
    "score3=cross_val_score(etr,x3,y2)\n",
    "print(score3)\n",
    "print(score3.mean())\n",
    "print(\"Difference between R2 score and cross validation score is :\",(metrics.r2_score(y_test,pred_etr)-score3.mean())*100)"
   ]
  },
  {
   "cell_type": "code",
   "execution_count": 236,
   "id": "3f22ed99",
   "metadata": {},
   "outputs": [
    {
     "name": "stdout",
     "output_type": "stream",
     "text": [
      "R2_score: -0.051686573840297845\n",
      "R2_score on training Data: -7.331000223266404\n",
      "Mean absolute error:- 8120.627650094046\n",
      "mean squared error:- 151944446.0175361\n",
      "Root mean squared error:- 12326.574788542683\n"
     ]
    }
   ],
   "source": [
    "#modelling with SVR\n",
    "x_train,x_test,y_train,y_test=train_test_split(x3,y2,test_size=0.30,random_state=maxRs)\n",
    "svr=SVR()\n",
    "svr.fit(x_train,y_train)\n",
    "pred_svr=svr.predict(x_test)\n",
    "pred_train=svr.predict(x_train)\n",
    "print('R2_score:',metrics.r2_score(y_test,pred_svr))\n",
    "print(\"R2_score on training Data:\",metrics.r2_score(y_train,pred_train)*100)\n",
    "print(\"Mean absolute error:-\",mean_absolute_error(y_test,pred_svr))\n",
    "print(\"mean squared error:-\",mean_squared_error(y_test,pred_svr))\n",
    "print(\"Root mean squared error:-\",np.sqrt(mean_squared_error(y_test,pred_svr)))"
   ]
  },
  {
   "cell_type": "code",
   "execution_count": 237,
   "id": "4429cd80",
   "metadata": {},
   "outputs": [
    {
     "name": "stdout",
     "output_type": "stream",
     "text": [
      "[-0.0874095  -0.08572508 -0.04746551 -0.07406464 -0.07703962]\n",
      "-0.07434087000750651\n",
      "Difference between R2 score and cross validation score is : 2.265429616720867\n"
     ]
    }
   ],
   "source": [
    "#finding cv score\n",
    "from sklearn.model_selection import cross_val_score\n",
    "score7=cross_val_score(svr,x3,y2)\n",
    "print(score7)\n",
    "print(score7.mean())\n",
    "print(\"Difference between R2 score and cross validation score is :\",(metrics.r2_score(y_test,pred_svr)-score7.mean())*100)"
   ]
  },
  {
   "cell_type": "code",
   "execution_count": 238,
   "id": "82b18e0e",
   "metadata": {},
   "outputs": [
    {
     "name": "stdout",
     "output_type": "stream",
     "text": [
      "R2_score: 0.9999419688234029\n",
      "R2_score on training Data: 100.0\n",
      "Mean absolute error:- 41.457866160305365\n",
      "mean squared error:- 8384.166156646548\n",
      "Root mean squared error:- 91.56509245693223\n"
     ]
    }
   ],
   "source": [
    "#modelling with DecisionTreeRegressor\n",
    "x_train,x_test,y_train,y_test=train_test_split(x3,y2,test_size=0.30,random_state=maxRs)\n",
    "dtr=DecisionTreeRegressor()\n",
    "dtr.fit(x_train,y_train)\n",
    "pred_dtr=dtr.predict(x_test)\n",
    "pred_train=dtr.predict(x_train)\n",
    "print('R2_score:',metrics.r2_score(y_test,pred_dtr))\n",
    "print(\"R2_score on training Data:\",metrics.r2_score(y_train,pred_train)*100)\n",
    "print(\"Mean absolute error:-\",mean_absolute_error(y_test,pred_dtr))\n",
    "print(\"mean squared error:-\",mean_squared_error(y_test,pred_dtr))\n",
    "print(\"Root mean squared error:-\",np.sqrt(mean_squared_error(y_test,pred_dtr)))"
   ]
  },
  {
   "cell_type": "code",
   "execution_count": 239,
   "id": "50b01be4",
   "metadata": {},
   "outputs": [
    {
     "name": "stdout",
     "output_type": "stream",
     "text": [
      "[0.9999628  0.9999255  0.99990177 0.99995798 0.99995123]\n",
      "0.9999398558132638\n",
      "Difference between R2 score and cross validation score is : 0.000211301013908205\n"
     ]
    }
   ],
   "source": [
    "#finding cv score\n",
    "from sklearn.model_selection import cross_val_score\n",
    "score6=cross_val_score(dtr,x3,y2)\n",
    "print(score6)\n",
    "print(score6.mean())\n",
    "print(\"Difference between R2 score and cross validation score is :\",(metrics.r2_score(y_test,pred_dtr)-score6.mean())*100)"
   ]
  },
  {
   "cell_type": "code",
   "execution_count": 240,
   "id": "b1a85e31",
   "metadata": {},
   "outputs": [
    {
     "name": "stdout",
     "output_type": "stream",
     "text": [
      "R2_score: 1.0\n",
      "R2_score on training Data: 100.0\n",
      "Mean absolute error:- 6.807047860349888e-05\n",
      "mean squared error:- 7.965992005441852e-09\n",
      "Root mean squared error:- 8.925240616051676e-05\n"
     ]
    }
   ],
   "source": [
    "#modelling with lasso\n",
    "x_train,x_test,y_train,y_test=train_test_split(x3,y2,test_size=0.30,random_state=maxRs)\n",
    "las=Lasso()\n",
    "las.fit(x_train,y_train)\n",
    "pred_las=las.predict(x_test)\n",
    "pred_train=las.predict(x_train)\n",
    "print('R2_score:',metrics.r2_score(y_test,pred_las))\n",
    "print(\"R2_score on training Data:\",metrics.r2_score(y_train,pred_train)*100)\n",
    "print(\"Mean absolute error:-\",mean_absolute_error(y_test,pred_las))\n",
    "print(\"mean squared error:-\",mean_squared_error(y_test,pred_las))\n",
    "print(\"Root mean squared error:-\",np.sqrt(mean_squared_error(y_test,pred_las)))"
   ]
  },
  {
   "cell_type": "code",
   "execution_count": 241,
   "id": "b934d6eb",
   "metadata": {},
   "outputs": [
    {
     "name": "stdout",
     "output_type": "stream",
     "text": [
      "[1. 1. 1. 1. 1.]\n",
      "1.0\n",
      "Difference between R2 score and cross validation score is : 0.0\n"
     ]
    }
   ],
   "source": [
    "#finding cv score\n",
    "from sklearn.model_selection import cross_val_score\n",
    "score4=cross_val_score(las,x3,y2)\n",
    "print(score4)\n",
    "print(score4.mean())\n",
    "print(\"Difference between R2 score and cross validation score is :\",(metrics.r2_score(y_test,pred_las)-score4.mean())*100)"
   ]
  },
  {
   "cell_type": "code",
   "execution_count": 242,
   "id": "ca69838b",
   "metadata": {},
   "outputs": [
    {
     "name": "stdout",
     "output_type": "stream",
     "text": [
      "R2_score: 1.0\n",
      "R2_score on training Data: 100.0\n",
      "Mean absolute error:- 1.027965695692689e-07\n",
      "mean squared error:- 2.2456742255728886e-14\n",
      "Root mean squared error:- 1.498557381474893e-07\n"
     ]
    }
   ],
   "source": [
    "#modelling with Ridge\n",
    "x_train,x_test,y_train,y_test=train_test_split(x3,y2,test_size=0.30,random_state=maxRs)\n",
    "rd=Ridge()\n",
    "rd.fit(x_train,y_train)\n",
    "pred_rd=rd.predict(x_test)\n",
    "pred_train=rd.predict(x_train)\n",
    "print('R2_score:',metrics.r2_score(y_test,pred_rd))\n",
    "print(\"R2_score on training Data:\",metrics.r2_score(y_train,pred_train)*100)\n",
    "print(\"Mean absolute error:-\",mean_absolute_error(y_test,pred_rd))\n",
    "print(\"mean squared error:-\",mean_squared_error(y_test,pred_rd))\n",
    "print(\"Root mean squared error:-\",np.sqrt(mean_squared_error(y_test,pred_rd)))"
   ]
  },
  {
   "cell_type": "code",
   "execution_count": 243,
   "id": "91da77bf",
   "metadata": {},
   "outputs": [
    {
     "name": "stdout",
     "output_type": "stream",
     "text": [
      "[1. 1. 1. 1. 1.]\n",
      "1.0\n",
      "Difference between R2 score and cross validation score is : 0.0\n"
     ]
    }
   ],
   "source": [
    "#finding cv score\n",
    "from sklearn.model_selection import cross_val_score\n",
    "score5=cross_val_score(rd,x3,y2)\n",
    "print(score5)\n",
    "print(score5.mean())\n",
    "print(\"Difference between R2 score and cross validation score is :\",(metrics.r2_score(y_test,pred_rd)-score5.mean())*100)"
   ]
  },
  {
   "cell_type": "markdown",
   "id": "0da70997",
   "metadata": {},
   "source": [
    "we can observe from the difference of both r2_score and cv_score computed on R2_score we can conclude that ExtraTreesRegressor as our best fitting and best performing model."
   ]
  },
  {
   "cell_type": "code",
   "execution_count": 250,
   "id": "8cb19787",
   "metadata": {},
   "outputs": [],
   "source": [
    "from sklearn.model_selection import GridSearchCV"
   ]
  },
  {
   "cell_type": "code",
   "execution_count": 254,
   "id": "cbce78af",
   "metadata": {},
   "outputs": [],
   "source": [
    "parameters={'criterion':[\"squared_error\",\"absolute_error\"],'n_estimators':[25,50,100],\n",
    "           'min_samples_split':[2,4],\n",
    "           'min_samples_leaf':[2,4],\n",
    "           }"
   ]
  },
  {
   "cell_type": "code",
   "execution_count": 255,
   "id": "e1aac563",
   "metadata": {},
   "outputs": [],
   "source": [
    "gsv=GridSearchCV(ExtraTreesRegressor(),parameters,cv=5)"
   ]
  },
  {
   "cell_type": "code",
   "execution_count": 256,
   "id": "969175f0",
   "metadata": {},
   "outputs": [
    {
     "data": {
      "text/plain": [
       "GridSearchCV(cv=5, estimator=ExtraTreesRegressor(),\n",
       "             param_grid={'criterion': ['squared_error', 'absolute_error'],\n",
       "                         'min_samples_leaf': [2, 4],\n",
       "                         'min_samples_split': [2, 4],\n",
       "                         'n_estimators': [25, 50, 100]})"
      ]
     },
     "execution_count": 256,
     "metadata": {},
     "output_type": "execute_result"
    }
   ],
   "source": [
    "gsv.fit(x_train,y_train)"
   ]
  },
  {
   "cell_type": "code",
   "execution_count": 259,
   "id": "5c53c7d0",
   "metadata": {},
   "outputs": [
    {
     "data": {
      "text/plain": [
       "{'criterion': 'squared_error',\n",
       " 'min_samples_leaf': 2,\n",
       " 'min_samples_split': 2,\n",
       " 'n_estimators': 100}"
      ]
     },
     "execution_count": 259,
     "metadata": {},
     "output_type": "execute_result"
    }
   ],
   "source": [
    "gsv.best_params_"
   ]
  },
  {
   "cell_type": "code",
   "execution_count": 260,
   "id": "1bffd8b9",
   "metadata": {},
   "outputs": [],
   "source": [
    "model=ExtraTreesRegressor(criterion='squared_error',min_samples_leaf=2,min_samples_split=2,n_estimators=100)"
   ]
  },
  {
   "cell_type": "code",
   "execution_count": 261,
   "id": "944c5cee",
   "metadata": {},
   "outputs": [
    {
     "data": {
      "text/plain": [
       "ExtraTreesRegressor(min_samples_leaf=2)"
      ]
     },
     "execution_count": 261,
     "metadata": {},
     "output_type": "execute_result"
    }
   ],
   "source": [
    "model.fit(x_train,y_train)"
   ]
  },
  {
   "cell_type": "code",
   "execution_count": 262,
   "id": "e8f252f8",
   "metadata": {},
   "outputs": [],
   "source": [
    "pred=model.predict(x_test)"
   ]
  },
  {
   "cell_type": "code",
   "execution_count": 264,
   "id": "c1c6173e",
   "metadata": {},
   "outputs": [
    {
     "name": "stdout",
     "output_type": "stream",
     "text": [
      "R2_score: 0.9999308334014683\n",
      "Mean Absolute error: 40.27439452250769\n",
      "mean squared error: 9992.977716201289\n",
      "Root mean squared error: 99.96488241478248\n"
     ]
    }
   ],
   "source": [
    "print(\"R2_score:\",metrics.r2_score(y_test,pred))\n",
    "print(\"Mean Absolute error:\",mean_absolute_error(y_test,pred))\n",
    "print(\"mean squared error:\",mean_squared_error(y_test,pred))\n",
    "print(\"Root mean squared error:\",np.sqrt(mean_squared_error(y_test,pred)))"
   ]
  },
  {
   "cell_type": "code",
   "execution_count": 269,
   "id": "361c6484",
   "metadata": {},
   "outputs": [],
   "source": [
    "import pickle     #to save the model\n",
    "file_name=\"medical_insurance_cost_project2.pkl\"\n",
    "pickle.dump(model,open(file_name,'wb'))"
   ]
  },
  {
   "cell_type": "code",
   "execution_count": 271,
   "id": "91ff36cb",
   "metadata": {},
   "outputs": [
    {
     "name": "stdout",
     "output_type": "stream",
     "text": [
      "99.99308334014682\n"
     ]
    }
   ],
   "source": [
    "import pickle #to load the model\n",
    "loaded_model=pickle.load(open(\"medical_insurance_cost_project2.pkl\",'rb'))\n",
    "result=loaded_model.score(x_test,y_test)\n",
    "print(result*100)"
   ]
  },
  {
   "cell_type": "code",
   "execution_count": null,
   "id": "8487b359",
   "metadata": {},
   "outputs": [],
   "source": []
  }
 ],
 "metadata": {
  "kernelspec": {
   "display_name": "Python 3 (ipykernel)",
   "language": "python",
   "name": "python3"
  },
  "language_info": {
   "codemirror_mode": {
    "name": "ipython",
    "version": 3
   },
   "file_extension": ".py",
   "mimetype": "text/x-python",
   "name": "python",
   "nbconvert_exporter": "python",
   "pygments_lexer": "ipython3",
   "version": "3.9.12"
  }
 },
 "nbformat": 4,
 "nbformat_minor": 5
}
